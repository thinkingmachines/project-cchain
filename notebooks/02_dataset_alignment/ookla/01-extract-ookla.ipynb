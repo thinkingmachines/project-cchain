{
 "cells": [
  {
   "cell_type": "code",
   "execution_count": 1,
   "metadata": {},
   "outputs": [],
   "source": [
    "%reload_ext autoreload\n",
    "%autoreload 2"
   ]
  },
  {
   "cell_type": "code",
   "execution_count": 2,
   "metadata": {},
   "outputs": [
    {
     "name": "stderr",
     "output_type": "stream",
     "text": [
      "/home/abbymoreno/miniconda3/envs/lacuna-fund2/lib/python3.9/site-packages/geopandas/_compat.py:111: UserWarning: The Shapely GEOS version (3.11.1-CAPI-1.17.1) is incompatible with the GEOS version PyGEOS was compiled with (3.10.1-CAPI-1.16.0). Conversions between both will be slow.\n",
      "  warnings.warn(\n"
     ]
    }
   ],
   "source": [
    "from geowrangler.datasets import ookla\n",
    "\n",
    "from pathlib import Path"
   ]
  },
  {
   "attachments": {},
   "cell_type": "markdown",
   "metadata": {},
   "source": [
    "# Extract Ookla Data"
   ]
  },
  {
   "cell_type": "code",
   "execution_count": 3,
   "metadata": {},
   "outputs": [],
   "source": [
    "ADMIN_FPATH = Path(\"../../../data/01-admin-bounds/\")\n",
    "OOKLA_DIR = Path(\"../../../data/02-raw/ookla/\")"
   ]
  },
  {
   "attachments": {},
   "cell_type": "markdown",
   "metadata": {},
   "source": [
    "## Fixed internet"
   ]
  },
  {
   "cell_type": "code",
   "execution_count": 5,
   "metadata": {},
   "outputs": [],
   "source": [
    "ookla_fixed_2022_q1 = ookla.download_ookla_file(\n",
    "    type_=\"fixed\", year=\"2022\", quarter=\"1\", directory=OOKLA_DIR\n",
    ")\n",
    "ookla_fixed_2022_q2 = ookla.download_ookla_file(\n",
    "    type_=\"fixed\", year=\"2022\", quarter=\"2\", directory=OOKLA_DIR\n",
    ")\n",
    "ookla_fixed_2022_q3 = ookla.download_ookla_file(\n",
    "    type_=\"fixed\", year=\"2022\", quarter=\"3\", directory=OOKLA_DIR\n",
    ")\n",
    "ookla_fixed_2022_q4 = ookla.download_ookla_file(\n",
    "    type_=\"fixed\", year=\"2022\", quarter=\"4\", directory=OOKLA_DIR\n",
    ")"
   ]
  },
  {
   "cell_type": "code",
   "execution_count": 4,
   "metadata": {},
   "outputs": [],
   "source": [
    "ookla_fixed_2021_q1 = ookla.download_ookla_file(\n",
    "    type_=\"fixed\", year=\"2021\", quarter=\"1\", directory=OOKLA_DIR\n",
    ")\n",
    "ookla_fixed_2021_q2 = ookla.download_ookla_file(\n",
    "    type_=\"fixed\", year=\"2021\", quarter=\"2\", directory=OOKLA_DIR\n",
    ")\n",
    "ookla_fixed_2021_q3 = ookla.download_ookla_file(\n",
    "    type_=\"fixed\", year=\"2021\", quarter=\"3\", directory=OOKLA_DIR\n",
    ")\n",
    "ookla_fixed_2021_q4 = ookla.download_ookla_file(\n",
    "    type_=\"fixed\", year=\"2021\", quarter=\"4\", directory=OOKLA_DIR\n",
    ")"
   ]
  },
  {
   "cell_type": "code",
   "execution_count": 5,
   "metadata": {},
   "outputs": [],
   "source": [
    "ookla_fixed_2020_q1 = ookla.download_ookla_file(\n",
    "    type_=\"fixed\", year=\"2020\", quarter=\"1\", directory=OOKLA_DIR\n",
    ")\n",
    "ookla_fixed_2020_q2 = ookla.download_ookla_file(\n",
    "    type_=\"fixed\", year=\"2020\", quarter=\"2\", directory=OOKLA_DIR\n",
    ")\n",
    "ookla_fixed_2020_q3 = ookla.download_ookla_file(\n",
    "    type_=\"fixed\", year=\"2020\", quarter=\"3\", directory=OOKLA_DIR\n",
    ")\n",
    "ookla_fixed_2020_q4 = ookla.download_ookla_file(\n",
    "    type_=\"fixed\", year=\"2020\", quarter=\"4\", directory=OOKLA_DIR\n",
    ")"
   ]
  },
  {
   "cell_type": "code",
   "execution_count": 6,
   "metadata": {},
   "outputs": [],
   "source": [
    "ookla_fixed_2019_q1 = ookla.download_ookla_file(\n",
    "    type_=\"fixed\", year=\"2019\", quarter=\"1\", directory=OOKLA_DIR\n",
    ")\n",
    "ookla_fixed_2019_q2 = ookla.download_ookla_file(\n",
    "    type_=\"fixed\", year=\"2019\", quarter=\"2\", directory=OOKLA_DIR\n",
    ")\n",
    "ookla_fixed_2019_q3 = ookla.download_ookla_file(\n",
    "    type_=\"fixed\", year=\"2019\", quarter=\"3\", directory=OOKLA_DIR\n",
    ")\n",
    "ookla_fixed_2019_q4 = ookla.download_ookla_file(\n",
    "    type_=\"fixed\", year=\"2019\", quarter=\"4\", directory=OOKLA_DIR\n",
    ")"
   ]
  },
  {
   "attachments": {},
   "cell_type": "markdown",
   "metadata": {},
   "source": [
    "## Mobile internet"
   ]
  },
  {
   "cell_type": "code",
   "execution_count": 9,
   "metadata": {},
   "outputs": [],
   "source": [
    "ookla_mobile_2022_q1 = ookla.download_ookla_file(\n",
    "    type_=\"mobile\", year=\"2022\", quarter=\"1\", directory=OOKLA_DIR\n",
    ")\n",
    "ookla_mobile_2022_q2 = ookla.download_ookla_file(\n",
    "    type_=\"mobile\", year=\"2022\", quarter=\"2\", directory=OOKLA_DIR\n",
    ")\n",
    "ookla_mobile_2022_q3 = ookla.download_ookla_file(\n",
    "    type_=\"mobile\", year=\"2022\", quarter=\"3\", directory=OOKLA_DIR\n",
    ")\n",
    "ookla_mobile_2022_q4 = ookla.download_ookla_file(\n",
    "    type_=\"mobile\", year=\"2022\", quarter=\"4\", directory=OOKLA_DIR\n",
    ")"
   ]
  },
  {
   "cell_type": "code",
   "execution_count": 7,
   "metadata": {},
   "outputs": [],
   "source": [
    "ookla_mobile_2021_q1 = ookla.download_ookla_file(\n",
    "    type_=\"mobile\", year=\"2021\", quarter=\"1\", directory=OOKLA_DIR\n",
    ")\n",
    "ookla_mobile_2021_q2 = ookla.download_ookla_file(\n",
    "    type_=\"mobile\", year=\"2021\", quarter=\"2\", directory=OOKLA_DIR\n",
    ")\n",
    "ookla_mobile_2021_q3 = ookla.download_ookla_file(\n",
    "    type_=\"mobile\", year=\"2021\", quarter=\"3\", directory=OOKLA_DIR\n",
    ")\n",
    "ookla_mobile_2021_q4 = ookla.download_ookla_file(\n",
    "    type_=\"mobile\", year=\"2021\", quarter=\"4\", directory=OOKLA_DIR\n",
    ")"
   ]
  },
  {
   "cell_type": "code",
   "execution_count": 9,
   "metadata": {},
   "outputs": [],
   "source": [
    "ookla_mobile_2020_q1 = ookla.download_ookla_file(\n",
    "    type_=\"mobile\", year=\"2020\", quarter=\"1\", directory=OOKLA_DIR\n",
    ")\n",
    "ookla_mobile_2020_q2 = ookla.download_ookla_file(\n",
    "    type_=\"mobile\", year=\"2020\", quarter=\"2\", directory=OOKLA_DIR\n",
    ")\n",
    "ookla_mobile_2020_q3 = ookla.download_ookla_file(\n",
    "    type_=\"mobile\", year=\"2020\", quarter=\"3\", directory=OOKLA_DIR\n",
    ")\n",
    "ookla_mobile_2020_q4 = ookla.download_ookla_file(\n",
    "    type_=\"mobile\", year=\"2020\", quarter=\"4\", directory=OOKLA_DIR\n",
    ")"
   ]
  },
  {
   "cell_type": "code",
   "execution_count": 8,
   "metadata": {},
   "outputs": [],
   "source": [
    "ookla_mobile_2019_q1 = ookla.download_ookla_file(\n",
    "    type_=\"mobile\", year=\"2019\", quarter=\"1\", directory=OOKLA_DIR\n",
    ")\n",
    "ookla_mobile_2019_q2 = ookla.download_ookla_file(\n",
    "    type_=\"mobile\", year=\"2019\", quarter=\"2\", directory=OOKLA_DIR\n",
    ")\n",
    "ookla_mobile_2019_q3 = ookla.download_ookla_file(\n",
    "    type_=\"mobile\", year=\"2019\", quarter=\"3\", directory=OOKLA_DIR\n",
    ")\n",
    "ookla_mobile_2019_q4 = ookla.download_ookla_file(\n",
    "    type_=\"mobile\", year=\"2019\", quarter=\"4\", directory=OOKLA_DIR\n",
    ")"
   ]
  }
 ],
 "metadata": {
  "kernelspec": {
   "display_name": "lacuna-fund2",
   "language": "python",
   "name": "python3"
  },
  "language_info": {
   "codemirror_mode": {
    "name": "ipython",
    "version": 3
   },
   "file_extension": ".py",
   "mimetype": "text/x-python",
   "name": "python",
   "nbconvert_exporter": "python",
   "pygments_lexer": "ipython3",
   "version": "3.9.16"
  },
  "orig_nbformat": 4
 },
 "nbformat": 4,
 "nbformat_minor": 2
}
