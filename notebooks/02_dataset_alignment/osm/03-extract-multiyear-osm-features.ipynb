{
 "cells": [
  {
   "cell_type": "code",
   "execution_count": 1,
   "metadata": {},
   "outputs": [],
   "source": [
    "%load_ext autoreload\n",
    "%autoreload 2"
   ]
  },
  {
   "cell_type": "code",
   "execution_count": 2,
   "metadata": {},
   "outputs": [
    {
     "name": "stderr",
     "output_type": "stream",
     "text": [
      "/home/abbymoreno/miniconda3/envs/lacuna-fund/lib/python3.9/site-packages/geopandas/_compat.py:111: UserWarning: The Shapely GEOS version (3.11.1-CAPI-1.17.1) is incompatible with the GEOS version PyGEOS was compiled with (3.10.4-CAPI-1.16.2). Conversions between both will be slow.\n",
      "  warnings.warn(\n"
     ]
    }
   ],
   "source": [
    "import geopandas as gpd\n",
    "import pandas as pd\n",
    "\n",
    "import json\n",
    "from pathlib import Path\n",
    "\n",
    "from geowrangler.datasets import geofabrik\n",
    "\n",
    "import sys\n",
    "\n",
    "sys.path.append(\"../../../\")  # include parent directory\n",
    "from src.vector_utils import *"
   ]
  },
  {
   "cell_type": "markdown",
   "metadata": {},
   "source": [
    "# Extract multiple years of OSM Data\n",
    "\n",
    "This notebook extracts both POI and water features from the available years for OSM Philippines.\n",
    "\n",
    "### Input\n",
    "\n",
    "- Administrative Boundaries\n",
    "- Raw OSM files from geofabrik (years 2014-2022)\n",
    "\n",
    "### Output for each OSM year\n",
    "\n",
    "- `CSV` file of features for each barangay\n",
    "  - POI features\n",
    "  - Water features\n",
    "  - Waterway features"
   ]
  },
  {
   "cell_type": "markdown",
   "metadata": {},
   "source": [
    "## Set-up parameters and directories"
   ]
  },
  {
   "cell_type": "code",
   "execution_count": 3,
   "metadata": {},
   "outputs": [],
   "source": [
    "# data directories\n",
    "DATA_DIR = Path(\"../../../data/\")\n",
    "SRC_DIR = Path(\"../../../src/\")\n",
    "ADMIN_FPATH = DATA_DIR / \"01-admin-bounds\"\n",
    "RAW_FPATH = DATA_DIR / \"02-raw\"\n",
    "PROCESSED_FPATH = DATA_DIR / \"03-processed\"\n",
    "OUTPUT_FPATH = DATA_DIR / \"04-output\" / \"osm\"\n",
    "GIS_FPATH = DATA_DIR / \"05-gis\""
   ]
  },
  {
   "cell_type": "code",
   "execution_count": 4,
   "metadata": {},
   "outputs": [],
   "source": [
    "# Parameters\n",
    "\n",
    "# POI types of OSM\n",
    "# tags taken from https://wiki.openstreetmap.org/wiki/Map_features\n",
    "poi_file = Path(SRC_DIR / \"osm_poi_categories.json\")\n",
    "\n",
    "with open(poi_file, \"r\") as f:\n",
    "    data = json.load(f)\n",
    "\n",
    "POI_TYPES_NEEDED = []\n",
    "for category in data:\n",
    "    POI_TYPES_NEEDED += data[category]\n",
    "\n",
    "# change this parameter to download for other years\n",
    "OSM_YEAR = \"2022\"\n",
    "OSM_COUNTRY = \"philippines\"\n",
    "\n",
    "OSM_YEARS = [\"2022\", \"2021\", \"2020\", \"2019\", \"2018\", \"2017\", \"2016\", \"2015\", \"2014\"]"
   ]
  },
  {
   "cell_type": "markdown",
   "metadata": {},
   "source": [
    "## Load Admin Bounds"
   ]
  },
  {
   "cell_type": "code",
   "execution_count": 5,
   "metadata": {},
   "outputs": [
    {
     "data": {
      "text/html": [
       "<div>\n",
       "<style scoped>\n",
       "    .dataframe tbody tr th:only-of-type {\n",
       "        vertical-align: middle;\n",
       "    }\n",
       "\n",
       "    .dataframe tbody tr th {\n",
       "        vertical-align: top;\n",
       "    }\n",
       "\n",
       "    .dataframe thead th {\n",
       "        text-align: right;\n",
       "    }\n",
       "</style>\n",
       "<table border=\"1\" class=\"dataframe\">\n",
       "  <thead>\n",
       "    <tr style=\"text-align: right;\">\n",
       "      <th></th>\n",
       "      <th>ADM1_EN</th>\n",
       "      <th>ADM1_PCODE</th>\n",
       "      <th>ADM2_EN</th>\n",
       "      <th>ADM2_PCODE</th>\n",
       "      <th>ADM3_EN</th>\n",
       "      <th>ADM3_PCODE</th>\n",
       "      <th>ADM4_EN</th>\n",
       "      <th>ADM4_PCODE</th>\n",
       "      <th>geometry</th>\n",
       "    </tr>\n",
       "  </thead>\n",
       "  <tbody>\n",
       "    <tr>\n",
       "      <th>0</th>\n",
       "      <td>Region I</td>\n",
       "      <td>PH010000000</td>\n",
       "      <td>Pangasinan</td>\n",
       "      <td>PH015500000</td>\n",
       "      <td>Dagupan City</td>\n",
       "      <td>PH015518000</td>\n",
       "      <td>Lomboy</td>\n",
       "      <td>PH015518016</td>\n",
       "      <td>POLYGON ((120.32742 16.05423, 120.32719 16.053...</td>\n",
       "    </tr>\n",
       "    <tr>\n",
       "      <th>1</th>\n",
       "      <td>Region I</td>\n",
       "      <td>PH010000000</td>\n",
       "      <td>Pangasinan</td>\n",
       "      <td>PH015500000</td>\n",
       "      <td>Dagupan City</td>\n",
       "      <td>PH015518000</td>\n",
       "      <td>Tapuac</td>\n",
       "      <td>PH015518031</td>\n",
       "      <td>POLYGON ((120.33380 16.03974, 120.33389 16.039...</td>\n",
       "    </tr>\n",
       "  </tbody>\n",
       "</table>\n",
       "</div>"
      ],
      "text/plain": [
       "    ADM1_EN   ADM1_PCODE     ADM2_EN   ADM2_PCODE       ADM3_EN   ADM3_PCODE  \\\n",
       "0  Region I  PH010000000  Pangasinan  PH015500000  Dagupan City  PH015518000   \n",
       "1  Region I  PH010000000  Pangasinan  PH015500000  Dagupan City  PH015518000   \n",
       "\n",
       "  ADM4_EN   ADM4_PCODE                                           geometry  \n",
       "0  Lomboy  PH015518016  POLYGON ((120.32742 16.05423, 120.32719 16.053...  \n",
       "1  Tapuac  PH015518031  POLYGON ((120.33380 16.03974, 120.33389 16.039...  "
      ]
     },
     "execution_count": 5,
     "metadata": {},
     "output_type": "execute_result"
    }
   ],
   "source": [
    "admin_bounds_gdf = gpd.read_file(ADMIN_FPATH / \"target_admin_bounds.shp\")\n",
    "admin_bounds_gdf.head(2)"
   ]
  },
  {
   "cell_type": "markdown",
   "metadata": {},
   "source": [
    "## Extract features"
   ]
  },
  {
   "cell_type": "code",
   "execution_count": 6,
   "metadata": {},
   "outputs": [],
   "source": [
    "osm = geofabrik.OsmDataManager(cache_dir=\"../../../data/02-raw/\")"
   ]
  },
  {
   "cell_type": "code",
   "execution_count": 7,
   "metadata": {},
   "outputs": [],
   "source": [
    "def extract_all_osm_feat(osm_year):\n",
    "    # extract POI features\n",
    "    osm_poi_feats_gdf = add_osm_poi_features(\n",
    "        admin_bounds_gdf,\n",
    "        OSM_COUNTRY,\n",
    "        osm_year,\n",
    "        osm,\n",
    "        use_cache=True,\n",
    "        poi_types=POI_TYPES_NEEDED,\n",
    "    )\n",
    "\n",
    "    # Save  POI features\n",
    "    drop_cols = [\n",
    "        \"ADM1_EN\",\n",
    "        \"ADM1_PCODE\",\n",
    "        \"ADM2_EN\",\n",
    "        \"ADM2_PCODE\",\n",
    "        \"ADM3_EN\",\n",
    "        \"ADM3_PCODE\",\n",
    "        \"ADM4_EN\",\n",
    "        \"geometry\",\n",
    "    ]\n",
    "    osm_poi_feats_df = osm_poi_feats_gdf.drop(columns=drop_cols)\n",
    "    osm_poi_feats_df = pd.DataFrame(osm_poi_feats_df)\n",
    "    osm_poi_feats_df.to_csv(\n",
    "        OUTPUT_FPATH / f\"osm_poi_features_{osm_year}.csv\", index=False\n",
    "    )\n",
    "\n",
    "    # extract water features\n",
    "    osm_water_feats_gdf = add_osm_water_features(\n",
    "        admin_bounds_gdf, \"philippines\", osm_year\n",
    "    )\n",
    "\n",
    "    # save water features\n",
    "    osm_water_feats_df = osm_water_feats_gdf.drop(columns=drop_cols)\n",
    "    osm_water_feats_df = pd.DataFrame(osm_water_feats_df)\n",
    "    osm_water_feats_df.to_csv(\n",
    "        OUTPUT_FPATH / f\"osm_features_water_{osm_year}.csv\", index=False\n",
    "    )\n",
    "\n",
    "    # extract waterway featuers\n",
    "    osm_waterways_feats_gdf = add_osm_water_features(\n",
    "        admin_bounds_gdf,\n",
    "        \"philippines\",\n",
    "        osm_year,\n",
    "        waterways=True,\n",
    "    )\n",
    "\n",
    "    # save waterway features\n",
    "    osm_waterways_feats_df = osm_waterways_feats_gdf.drop(columns=drop_cols)\n",
    "    osm_waterways_feats_df = pd.DataFrame(osm_waterways_feats_df)\n",
    "    osm_waterways_feats_df.to_csv(\n",
    "        OUTPUT_FPATH / f\"osm_features_waterways_{osm_year}.csv\", index=False\n",
    "    )"
   ]
  },
  {
   "cell_type": "code",
   "execution_count": 8,
   "metadata": {},
   "outputs": [
    {
     "name": "stderr",
     "output_type": "stream",
     "text": [
      "2023-12-13 22:46:44.226 | INFO     | geowrangler.datasets.geofabrik:download_osm_region_data:128 - OSM Data: Cached data available for philippines at ../../../data/02-raw/osm/philippines-220101-free.shp.zip? True\n",
      "2023-12-13 22:46:44.227 | DEBUG    | geowrangler.datasets.geofabrik:load_pois:222 - OSM POIs for philippines and year 2022 being loaded from ../../../data/02-raw/osm/philippines-220101-free.shp.zip\n",
      "2023-12-13 22:46:57.498 | DEBUG    | src.vector_utils:add_osm_water_features:184 - OSM Water for philippines and year 2022 being loaded from ../../../data/02-raw/osm/philippines-220101-free.shp.zip\n",
      "2023-12-13 22:47:09.462 | DEBUG    | src.vector_utils:add_osm_water_features:184 - OSM Water for philippines and year 2022 being loaded from ../../../data/02-raw/osm/philippines-220101-free.shp.zip\n",
      "2023-12-13 22:47:19.052 | INFO     | geowrangler.datasets.geofabrik:download_osm_region_data:128 - OSM Data: Cached data available for philippines at ../../../data/02-raw/osm/philippines-210101-free.shp.zip? True\n",
      "2023-12-13 22:47:19.053 | DEBUG    | geowrangler.datasets.geofabrik:load_pois:222 - OSM POIs for philippines and year 2021 being loaded from ../../../data/02-raw/osm/philippines-210101-free.shp.zip\n",
      "2023-12-13 22:47:32.069 | DEBUG    | src.vector_utils:add_osm_water_features:184 - OSM Water for philippines and year 2021 being loaded from ../../../data/02-raw/osm/philippines-220101-free.shp.zip\n",
      "2023-12-13 22:47:43.947 | DEBUG    | src.vector_utils:add_osm_water_features:184 - OSM Water for philippines and year 2021 being loaded from ../../../data/02-raw/osm/philippines-220101-free.shp.zip\n",
      "2023-12-13 22:47:53.632 | INFO     | geowrangler.datasets.geofabrik:download_osm_region_data:128 - OSM Data: Cached data available for philippines at ../../../data/02-raw/osm/philippines-200101-free.shp.zip? True\n",
      "2023-12-13 22:47:53.633 | DEBUG    | geowrangler.datasets.geofabrik:load_pois:222 - OSM POIs for philippines and year 2020 being loaded from ../../../data/02-raw/osm/philippines-200101-free.shp.zip\n",
      "2023-12-13 22:48:07.020 | DEBUG    | src.vector_utils:add_osm_water_features:184 - OSM Water for philippines and year 2020 being loaded from ../../../data/02-raw/osm/philippines-220101-free.shp.zip\n",
      "2023-12-13 22:48:18.929 | DEBUG    | src.vector_utils:add_osm_water_features:184 - OSM Water for philippines and year 2020 being loaded from ../../../data/02-raw/osm/philippines-220101-free.shp.zip\n",
      "2023-12-13 22:48:28.564 | INFO     | geowrangler.datasets.geofabrik:download_osm_region_data:128 - OSM Data: Cached data available for philippines at ../../../data/02-raw/osm/philippines-190101-free.shp.zip? True\n",
      "2023-12-13 22:48:28.565 | DEBUG    | geowrangler.datasets.geofabrik:load_pois:222 - OSM POIs for philippines and year 2019 being loaded from ../../../data/02-raw/osm/philippines-190101-free.shp.zip\n",
      "2023-12-13 22:48:41.170 | DEBUG    | src.vector_utils:add_osm_water_features:184 - OSM Water for philippines and year 2019 being loaded from ../../../data/02-raw/osm/philippines-220101-free.shp.zip\n",
      "2023-12-13 22:48:53.342 | DEBUG    | src.vector_utils:add_osm_water_features:184 - OSM Water for philippines and year 2019 being loaded from ../../../data/02-raw/osm/philippines-220101-free.shp.zip\n",
      "2023-12-13 22:49:02.974 | INFO     | geowrangler.datasets.geofabrik:download_osm_region_data:128 - OSM Data: Cached data available for philippines at ../../../data/02-raw/osm/philippines-180101-free.shp.zip? True\n",
      "2023-12-13 22:49:02.975 | DEBUG    | geowrangler.datasets.geofabrik:load_pois:222 - OSM POIs for philippines and year 2018 being loaded from ../../../data/02-raw/osm/philippines-180101-free.shp.zip\n",
      "2023-12-13 22:49:15.191 | DEBUG    | src.vector_utils:add_osm_water_features:184 - OSM Water for philippines and year 2018 being loaded from ../../../data/02-raw/osm/philippines-220101-free.shp.zip\n",
      "2023-12-13 22:49:27.271 | DEBUG    | src.vector_utils:add_osm_water_features:184 - OSM Water for philippines and year 2018 being loaded from ../../../data/02-raw/osm/philippines-220101-free.shp.zip\n",
      "2023-12-13 22:49:36.915 | INFO     | geowrangler.datasets.geofabrik:download_osm_region_data:128 - OSM Data: Cached data available for philippines at ../../../data/02-raw/osm/philippines-170101-free.shp.zip? True\n",
      "2023-12-13 22:49:36.915 | DEBUG    | geowrangler.datasets.geofabrik:load_pois:222 - OSM POIs for philippines and year 2017 being loaded from ../../../data/02-raw/osm/philippines-170101-free.shp.zip\n",
      "2023-12-13 22:49:48.617 | DEBUG    | src.vector_utils:add_osm_water_features:184 - OSM Water for philippines and year 2017 being loaded from ../../../data/02-raw/osm/philippines-220101-free.shp.zip\n",
      "2023-12-13 22:50:00.923 | DEBUG    | src.vector_utils:add_osm_water_features:184 - OSM Water for philippines and year 2017 being loaded from ../../../data/02-raw/osm/philippines-220101-free.shp.zip\n",
      "2023-12-13 22:50:11.089 | INFO     | geowrangler.datasets.geofabrik:download_osm_region_data:128 - OSM Data: Cached data available for philippines at ../../../data/02-raw/osm/philippines-160101-free.shp.zip? True\n",
      "2023-12-13 22:50:11.091 | DEBUG    | geowrangler.datasets.geofabrik:load_pois:222 - OSM POIs for philippines and year 2016 being loaded from ../../../data/02-raw/osm/philippines-160101-free.shp.zip\n",
      "2023-12-13 22:50:22.407 | DEBUG    | src.vector_utils:add_osm_water_features:184 - OSM Water for philippines and year 2016 being loaded from ../../../data/02-raw/osm/philippines-220101-free.shp.zip\n",
      "2023-12-13 22:50:34.624 | DEBUG    | src.vector_utils:add_osm_water_features:184 - OSM Water for philippines and year 2016 being loaded from ../../../data/02-raw/osm/philippines-220101-free.shp.zip\n",
      "2023-12-13 22:50:44.737 | INFO     | geowrangler.datasets.geofabrik:download_osm_region_data:128 - OSM Data: Cached data available for philippines at ../../../data/02-raw/osm/philippines-150101-free.shp.zip? True\n",
      "2023-12-13 22:50:44.738 | DEBUG    | geowrangler.datasets.geofabrik:load_pois:222 - OSM POIs for philippines and year 2015 being loaded from ../../../data/02-raw/osm/philippines-150101-free.shp.zip\n",
      "2023-12-13 22:50:55.701 | DEBUG    | src.vector_utils:add_osm_water_features:184 - OSM Water for philippines and year 2015 being loaded from ../../../data/02-raw/osm/philippines-220101-free.shp.zip\n",
      "2023-12-13 22:51:07.793 | DEBUG    | src.vector_utils:add_osm_water_features:184 - OSM Water for philippines and year 2015 being loaded from ../../../data/02-raw/osm/philippines-220101-free.shp.zip\n",
      "2023-12-13 22:51:18.140 | INFO     | geowrangler.datasets.geofabrik:download_osm_region_data:128 - OSM Data: Cached data available for philippines at ../../../data/02-raw/osm/philippines-140101-free.shp.zip? True\n",
      "2023-12-13 22:51:18.141 | DEBUG    | geowrangler.datasets.geofabrik:load_pois:222 - OSM POIs for philippines and year 2014 being loaded from ../../../data/02-raw/osm/philippines-140101-free.shp.zip\n",
      "2023-12-13 22:51:28.121 | DEBUG    | src.vector_utils:add_osm_water_features:184 - OSM Water for philippines and year 2014 being loaded from ../../../data/02-raw/osm/philippines-220101-free.shp.zip\n",
      "2023-12-13 22:51:40.918 | DEBUG    | src.vector_utils:add_osm_water_features:184 - OSM Water for philippines and year 2014 being loaded from ../../../data/02-raw/osm/philippines-220101-free.shp.zip\n"
     ]
    },
    {
     "name": "stdout",
     "output_type": "stream",
     "text": [
      "CPU times: user 5min 4s, sys: 1.57 s, total: 5min 6s\n",
      "Wall time: 5min 20s\n"
     ]
    }
   ],
   "source": [
    "%%time\n",
    "for osm_year in OSM_YEARS:\n",
    "    extract_all_osm_feat(osm_year)"
   ]
  },
  {
   "cell_type": "code",
   "execution_count": null,
   "metadata": {},
   "outputs": [],
   "source": []
  }
 ],
 "metadata": {
  "kernelspec": {
   "display_name": "lacuna-fund",
   "language": "python",
   "name": "python3"
  },
  "language_info": {
   "codemirror_mode": {
    "name": "ipython",
    "version": 3
   },
   "file_extension": ".py",
   "mimetype": "text/x-python",
   "name": "python",
   "nbconvert_exporter": "python",
   "pygments_lexer": "ipython3",
   "version": "3.9.18"
  },
  "orig_nbformat": 4
 },
 "nbformat": 4,
 "nbformat_minor": 2
}
