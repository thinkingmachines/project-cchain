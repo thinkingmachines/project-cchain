{
 "cells": [
  {
   "cell_type": "code",
   "execution_count": 12,
   "metadata": {},
   "outputs": [],
   "source": [
    "import numpy as np\n",
    "import pandas as pd\n",
    "from shapely import wkt\n",
    "import geopandas as gpd\n",
    "from pathlib import Path\n",
    "import matplotlib.pyplot as plt\n",
    "from shapely import wkt\n",
    "from shapely.geometry import Polygon\n",
    "import json\n",
    "from tqdm import tqdm\n",
    "import os"
   ]
  },
  {
   "cell_type": "code",
   "execution_count": null,
   "metadata": {},
   "outputs": [],
   "source": [
    "RAW_DIR = \"../../../data/tm/1-raw/\"\n",
    "PROCESSED_DIR = \"../../../data/tm/2-processed/\""
   ]
  },
  {
   "cell_type": "markdown",
   "metadata": {},
   "source": [
    "# Crop buildings from quadkey files\n",
    "\n",
    "This notebook does the following steps: \n",
    "\n",
    "(1) determines which batch files contain project-included cities (link [here](https://sites.research.google/open-buildings/))\n",
    "\n",
    "(2) extracts buildings from parts intersecting with city boundaries\n",
    "\n",
    "(3) combines all city building extracts to a single file."
   ]
  },
  {
   "cell_type": "markdown",
   "metadata": {},
   "source": [
    "For Google Open Bldgs:\n",
    "\n",
    "1. 339_buildings.csv.gz \n",
    "Navotas City\n",
    "Mandaluyong City\n",
    "Muntinlupa City\n",
    "Dagupan City\n",
    "Palayan City\n",
    "\n",
    "\n",
    "2. 33b_buildings.csv.gz \n",
    "Legazpi City\n",
    "Iloilo City\n",
    "Mandaue City\n",
    "\n",
    "3. 331_buildings.csv.gz \n",
    "Tacloban City\n",
    "\n",
    "4. 325_buildings.csv.gz \n",
    "Zamboanga City\n",
    "\n",
    "5. 32f_buildings.csv.gz \n",
    "Cagayan de Oro City\n",
    "Davao City"
   ]
  },
  {
   "cell_type": "code",
   "execution_count": null,
   "metadata": {},
   "outputs": [],
   "source": [
    "filepath = f\"{RAW_DIR}google-open-buildings/raw/\"\n",
    "fn_list = os.listdir(filepath)\n",
    "len(fn_list)"
   ]
  },
  {
   "cell_type": "markdown",
   "metadata": {},
   "source": [
    "## 1. Extract buildings from parts intersecting with city boundaries\n"
   ]
  },
  {
   "cell_type": "code",
   "execution_count": 46,
   "metadata": {},
   "outputs": [
    {
     "data": {
      "text/html": [
       "<div>\n",
       "<style scoped>\n",
       "    .dataframe tbody tr th:only-of-type {\n",
       "        vertical-align: middle;\n",
       "    }\n",
       "\n",
       "    .dataframe tbody tr th {\n",
       "        vertical-align: top;\n",
       "    }\n",
       "\n",
       "    .dataframe thead th {\n",
       "        text-align: right;\n",
       "    }\n",
       "</style>\n",
       "<table border=\"1\" class=\"dataframe\">\n",
       "  <thead>\n",
       "    <tr style=\"text-align: right;\">\n",
       "      <th></th>\n",
       "      <th>ADM1_EN</th>\n",
       "      <th>ADM1_PCODE</th>\n",
       "      <th>ADM2_EN</th>\n",
       "      <th>ADM2_PCODE</th>\n",
       "      <th>ADM3_EN</th>\n",
       "      <th>ADM3_PCODE</th>\n",
       "      <th>ADM4_EN</th>\n",
       "      <th>ADM4_PCODE</th>\n",
       "      <th>geometry</th>\n",
       "    </tr>\n",
       "  </thead>\n",
       "  <tbody>\n",
       "    <tr>\n",
       "      <th>0</th>\n",
       "      <td>Region I</td>\n",
       "      <td>PH010000000</td>\n",
       "      <td>Pangasinan</td>\n",
       "      <td>PH015500000</td>\n",
       "      <td>Dagupan City</td>\n",
       "      <td>PH015518000</td>\n",
       "      <td>Lomboy</td>\n",
       "      <td>PH015518016</td>\n",
       "      <td>POLYGON ((120.32742 16.05423, 120.32719 16.053...</td>\n",
       "    </tr>\n",
       "    <tr>\n",
       "      <th>1</th>\n",
       "      <td>Region I</td>\n",
       "      <td>PH010000000</td>\n",
       "      <td>Pangasinan</td>\n",
       "      <td>PH015500000</td>\n",
       "      <td>Dagupan City</td>\n",
       "      <td>PH015518000</td>\n",
       "      <td>Tapuac</td>\n",
       "      <td>PH015518031</td>\n",
       "      <td>POLYGON ((120.33380 16.03974, 120.33389 16.039...</td>\n",
       "    </tr>\n",
       "    <tr>\n",
       "      <th>2</th>\n",
       "      <td>Region I</td>\n",
       "      <td>PH010000000</td>\n",
       "      <td>Pangasinan</td>\n",
       "      <td>PH015500000</td>\n",
       "      <td>Dagupan City</td>\n",
       "      <td>PH015518000</td>\n",
       "      <td>Pantal</td>\n",
       "      <td>PH015518022</td>\n",
       "      <td>POLYGON ((120.34737 16.06009, 120.34761 16.060...</td>\n",
       "    </tr>\n",
       "    <tr>\n",
       "      <th>3</th>\n",
       "      <td>Region I</td>\n",
       "      <td>PH010000000</td>\n",
       "      <td>Pangasinan</td>\n",
       "      <td>PH015500000</td>\n",
       "      <td>Dagupan City</td>\n",
       "      <td>PH015518000</td>\n",
       "      <td>Barangay I (T. Bugallon)</td>\n",
       "      <td>PH015518024</td>\n",
       "      <td>POLYGON ((120.34054 16.04489, 120.34054 16.044...</td>\n",
       "    </tr>\n",
       "    <tr>\n",
       "      <th>4</th>\n",
       "      <td>Region III</td>\n",
       "      <td>PH030000000</td>\n",
       "      <td>Nueva Ecija</td>\n",
       "      <td>PH034900000</td>\n",
       "      <td>Palayan City</td>\n",
       "      <td>PH034919000</td>\n",
       "      <td>Imelda Valley</td>\n",
       "      <td>PH034919017</td>\n",
       "      <td>POLYGON ((121.12250 15.58028, 121.12687 15.579...</td>\n",
       "    </tr>\n",
       "  </tbody>\n",
       "</table>\n",
       "</div>"
      ],
      "text/plain": [
       "      ADM1_EN   ADM1_PCODE      ADM2_EN   ADM2_PCODE       ADM3_EN  \\\n",
       "0    Region I  PH010000000   Pangasinan  PH015500000  Dagupan City   \n",
       "1    Region I  PH010000000   Pangasinan  PH015500000  Dagupan City   \n",
       "2    Region I  PH010000000   Pangasinan  PH015500000  Dagupan City   \n",
       "3    Region I  PH010000000   Pangasinan  PH015500000  Dagupan City   \n",
       "4  Region III  PH030000000  Nueva Ecija  PH034900000  Palayan City   \n",
       "\n",
       "    ADM3_PCODE                   ADM4_EN   ADM4_PCODE  \\\n",
       "0  PH015518000                    Lomboy  PH015518016   \n",
       "1  PH015518000                    Tapuac  PH015518031   \n",
       "2  PH015518000                    Pantal  PH015518022   \n",
       "3  PH015518000  Barangay I (T. Bugallon)  PH015518024   \n",
       "4  PH034919000             Imelda Valley  PH034919017   \n",
       "\n",
       "                                            geometry  \n",
       "0  POLYGON ((120.32742 16.05423, 120.32719 16.053...  \n",
       "1  POLYGON ((120.33380 16.03974, 120.33389 16.039...  \n",
       "2  POLYGON ((120.34737 16.06009, 120.34761 16.060...  \n",
       "3  POLYGON ((120.34054 16.04489, 120.34054 16.044...  \n",
       "4  POLYGON ((121.12250 15.58028, 121.12687 15.579...  "
      ]
     },
     "execution_count": 46,
     "metadata": {},
     "output_type": "execute_result"
    }
   ],
   "source": [
    "# Read cities bounds\n",
    "bounds_gdf = gpd.read_file(\n",
    "    \"../../../data/1-admin-bounds/target_admin_bounds.shp\"\n",
    ").set_crs(4326)"
   ]
  },
  {
   "cell_type": "code",
   "execution_count": 44,
   "metadata": {},
   "outputs": [
    {
     "data": {
      "text/html": [
       "<div>\n",
       "<style scoped>\n",
       "    .dataframe tbody tr th:only-of-type {\n",
       "        vertical-align: middle;\n",
       "    }\n",
       "\n",
       "    .dataframe tbody tr th {\n",
       "        vertical-align: top;\n",
       "    }\n",
       "\n",
       "    .dataframe thead th {\n",
       "        text-align: right;\n",
       "    }\n",
       "</style>\n",
       "<table border=\"1\" class=\"dataframe\">\n",
       "  <thead>\n",
       "    <tr style=\"text-align: right;\">\n",
       "      <th></th>\n",
       "      <th>latitude</th>\n",
       "      <th>longitude</th>\n",
       "      <th>area_in_meters</th>\n",
       "      <th>confidence</th>\n",
       "      <th>geometry</th>\n",
       "      <th>full_plus_code</th>\n",
       "    </tr>\n",
       "  </thead>\n",
       "  <tbody>\n",
       "    <tr>\n",
       "      <th>0</th>\n",
       "      <td>6.174536</td>\n",
       "      <td>125.151687</td>\n",
       "      <td>86.3767</td>\n",
       "      <td>0.8381</td>\n",
       "      <td>POLYGON((125.151728732943 6.17449456203432, 12...</td>\n",
       "      <td>6QR755F2+RM7H</td>\n",
       "    </tr>\n",
       "    <tr>\n",
       "      <th>1</th>\n",
       "      <td>6.637727</td>\n",
       "      <td>125.340554</td>\n",
       "      <td>105.2245</td>\n",
       "      <td>0.8311</td>\n",
       "      <td>POLYGON((125.340603340237 6.63768720794224, 12...</td>\n",
       "      <td>6QR7J8QR+36V4</td>\n",
       "    </tr>\n",
       "    <tr>\n",
       "      <th>2</th>\n",
       "      <td>7.852184</td>\n",
       "      <td>125.053792</td>\n",
       "      <td>65.4915</td>\n",
       "      <td>0.7008</td>\n",
       "      <td>POLYGON((125.053839696371 7.85220414855485, 12...</td>\n",
       "      <td>6QV7V323+VGF7</td>\n",
       "    </tr>\n",
       "    <tr>\n",
       "      <th>3</th>\n",
       "      <td>7.107919</td>\n",
       "      <td>125.627632</td>\n",
       "      <td>28.9986</td>\n",
       "      <td>0.7041</td>\n",
       "      <td>POLYGON((125.627670623458 7.10792916199382, 12...</td>\n",
       "      <td>6QV74J5H+536J</td>\n",
       "    </tr>\n",
       "    <tr>\n",
       "      <th>4</th>\n",
       "      <td>6.944953</td>\n",
       "      <td>124.877060</td>\n",
       "      <td>79.0381</td>\n",
       "      <td>0.7258</td>\n",
       "      <td>POLYGON((124.877107790642 6.94497167814368, 12...</td>\n",
       "      <td>6QR6WVVG+XRM5</td>\n",
       "    </tr>\n",
       "  </tbody>\n",
       "</table>\n",
       "</div>"
      ],
      "text/plain": [
       "   latitude   longitude  area_in_meters  confidence  \\\n",
       "0  6.174536  125.151687         86.3767      0.8381   \n",
       "1  6.637727  125.340554        105.2245      0.8311   \n",
       "2  7.852184  125.053792         65.4915      0.7008   \n",
       "3  7.107919  125.627632         28.9986      0.7041   \n",
       "4  6.944953  124.877060         79.0381      0.7258   \n",
       "\n",
       "                                            geometry full_plus_code  \n",
       "0  POLYGON((125.151728732943 6.17449456203432, 12...  6QR755F2+RM7H  \n",
       "1  POLYGON((125.340603340237 6.63768720794224, 12...  6QR7J8QR+36V4  \n",
       "2  POLYGON((125.053839696371 7.85220414855485, 12...  6QV7V323+VGF7  \n",
       "3  POLYGON((125.627670623458 7.10792916199382, 12...  6QV74J5H+536J  \n",
       "4  POLYGON((124.877107790642 6.94497167814368, 12...  6QR6WVVG+XRM5  "
      ]
     },
     "execution_count": 44,
     "metadata": {},
     "output_type": "execute_result"
    }
   ],
   "source": [
    "# Loop over all quadkey files, append and save part of batches within a city\n",
    "google_gdf_list = []\n",
    "for fn in tqdm(fn_list):\n",
    "    google_gdf = gpd.read_file(f\"{filepath}{fn}\")\n",
    "    google_gdf[\"geometry\"] = google_gdf[\"geometry\"].apply(wkt.loads)\n",
    "    google_gdf = google_gdf.set_geometry(\"geometry\")\n",
    "    google_gdf = google_gdf.set_crs(4326)\n",
    "\n",
    "    bldgs_gdf = gpd.sjoin(google_gdf, bounds_gdf, predicate=\"intersects\")\n",
    "    bldgs_gdf = bldgs_gdf[\n",
    "        [\"ADM3_EN\", \"ADM4_PCODE\", \"area_in_meters\", \"confidence\", \"geometry\"]\n",
    "    ]\n",
    "\n",
    "    if len(bldgs_gdf) > 0:\n",
    "        print(f\"Quadkey file {fn} building count: {len(bldgs_gdf)}\")\n",
    "        google_gdf_list.append(bldgs_gdf)"
   ]
  },
  {
   "cell_type": "markdown",
   "metadata": {},
   "source": [
    "## 2. Combine all city building extracts to a single file"
   ]
  },
  {
   "cell_type": "code",
   "execution_count": null,
   "metadata": {},
   "outputs": [],
   "source": [
    "all_google_gdf = pd.concat(google_gdf_list)\n",
    "all_google_gdf.info()"
   ]
  },
  {
   "cell_type": "code",
   "execution_count": 48,
   "metadata": {},
   "outputs": [
    {
     "data": {
      "text/plain": [
       "(array(['Davao City', 'Cagayan de Oro City'], dtype=object), ['davao', 'cdo'])"
      ]
     },
     "execution_count": 48,
     "metadata": {},
     "output_type": "execute_result"
    }
   ],
   "source": [
    "city_names = bldgs_gdf[\"ADM3_EN\"].unique()\n",
    "short_city_names = [\n",
    "    \"\".join([s.lower() for s in c.split(\" \") if len(s) > 4]) for c in city_names\n",
    "]\n",
    "short_city_names = [\"cdo\" if s == \"cagayan\" else s for s in short_city_names]\n",
    "city_names, short_city_names"
   ]
  },
  {
   "cell_type": "markdown",
   "metadata": {},
   "source": [
    "## 3. Save"
   ]
  },
  {
   "cell_type": "code",
   "execution_count": 37,
   "metadata": {},
   "outputs": [
    {
     "name": "stderr",
     "output_type": "stream",
     "text": [
      "0it [00:00, ?it/s]"
     ]
    },
    {
     "name": "stdout",
     "output_type": "stream",
     "text": [
      "Number of bldgs for muntinlupa: 104383\n"
     ]
    },
    {
     "name": "stderr",
     "output_type": "stream",
     "text": [
      "1it [00:13, 13.30s/it]"
     ]
    },
    {
     "name": "stdout",
     "output_type": "stream",
     "text": [
      "Number of bldgs for palayan: 18772\n"
     ]
    },
    {
     "name": "stderr",
     "output_type": "stream",
     "text": [
      "2it [00:15,  6.97s/it]"
     ]
    },
    {
     "name": "stdout",
     "output_type": "stream",
     "text": [
      "Number of bldgs for mandaluyong: 33089\n"
     ]
    },
    {
     "name": "stderr",
     "output_type": "stream",
     "text": [
      "3it [00:19,  5.66s/it]"
     ]
    },
    {
     "name": "stdout",
     "output_type": "stream",
     "text": [
      "Number of bldgs for navotas: 29995\n"
     ]
    },
    {
     "name": "stderr",
     "output_type": "stream",
     "text": [
      "4it [00:23,  4.93s/it]"
     ]
    },
    {
     "name": "stdout",
     "output_type": "stream",
     "text": [
      "Number of bldgs for dagupan: 63044\n"
     ]
    },
    {
     "name": "stderr",
     "output_type": "stream",
     "text": [
      "5it [00:31,  6.28s/it]\n"
     ]
    }
   ],
   "source": [
    "for short_city_name, city_name in tqdm(zip(short_city_names, city_names)):\n",
    "    save_gdf = bldgs_gdf[bldgs_gdf[\"ADM3_EN\"] == city_name]\n",
    "    print(f\"Number of bldgs for {short_city_name}: {len(save_gdf)}\")\n",
    "    save_gdf.to_file(\n",
    "        f\"../../../data/tm/2-processed/google-open-buildings/google_lacuna_cities_bldgs_{short_city_name}.csv\",\n",
    "        driver=\"GeoJSON\",\n",
    "        index=False,\n",
    "    )"
   ]
  }
 ],
 "metadata": {
  "kernelspec": {
   "display_name": "Python 3 (ipykernel)",
   "language": "python",
   "name": "python3"
  },
  "language_info": {
   "codemirror_mode": {
    "name": "ipython",
    "version": 3
   },
   "file_extension": ".py",
   "mimetype": "text/x-python",
   "name": "python",
   "nbconvert_exporter": "python",
   "pygments_lexer": "ipython3",
   "version": "3.9.16"
  }
 },
 "nbformat": 4,
 "nbformat_minor": 4
}
