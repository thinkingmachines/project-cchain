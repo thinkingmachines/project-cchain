{
 "cells": [
  {
   "cell_type": "code",
   "execution_count": 14,
   "metadata": {},
   "outputs": [],
   "source": [
    "import geopandas as gpd\n",
    "import pandas as pd\n",
    "import geowrangler.vector_zonal_stats as vzs\n",
    "\n",
    "from pathlib import Path\n",
    "import os"
   ]
  },
  {
   "cell_type": "markdown",
   "metadata": {},
   "source": [
    "# Extract infrastructure features from building footprints\n",
    "\n",
    "### Input \n",
    "\n",
    "- Administrative Boundaries\n",
    "- Cropped Google Open Buildings files\n",
    "\n",
    "### Output\n",
    "\n",
    "- Barangay-level dataframe with building features"
   ]
  },
  {
   "cell_type": "markdown",
   "metadata": {},
   "source": [
    "## Set-up paramaters and directories"
   ]
  },
  {
   "cell_type": "code",
   "execution_count": 15,
   "metadata": {},
   "outputs": [],
   "source": [
    "OUTPUT_DIR = Path(\"../../../data/04-output/\")\n",
    "RAW_DIR = Path(\"../../../data/02-raw/\")\n",
    "\n",
    "ADMIN_BOUNDS = Path(\"../../../data/01-admin-bounds/target_admin_bounds.shp\")\n",
    "GOOGLE_BLDGS_DIR = RAW_DIR / \"google_open_buildings_v3\""
   ]
  },
  {
   "cell_type": "markdown",
   "metadata": {},
   "source": [
    "## Load Admin Bounds"
   ]
  },
  {
   "cell_type": "code",
   "execution_count": 16,
   "metadata": {},
   "outputs": [
    {
     "data": {
      "text/html": [
       "<div>\n",
       "<style scoped>\n",
       "    .dataframe tbody tr th:only-of-type {\n",
       "        vertical-align: middle;\n",
       "    }\n",
       "\n",
       "    .dataframe tbody tr th {\n",
       "        vertical-align: top;\n",
       "    }\n",
       "\n",
       "    .dataframe thead th {\n",
       "        text-align: right;\n",
       "    }\n",
       "</style>\n",
       "<table border=\"1\" class=\"dataframe\">\n",
       "  <thead>\n",
       "    <tr style=\"text-align: right;\">\n",
       "      <th></th>\n",
       "      <th>ADM1_EN</th>\n",
       "      <th>ADM1_PCODE</th>\n",
       "      <th>ADM2_EN</th>\n",
       "      <th>ADM2_PCODE</th>\n",
       "      <th>ADM3_EN</th>\n",
       "      <th>ADM3_PCODE</th>\n",
       "      <th>ADM4_EN</th>\n",
       "      <th>ADM4_PCODE</th>\n",
       "      <th>geometry</th>\n",
       "    </tr>\n",
       "  </thead>\n",
       "  <tbody>\n",
       "    <tr>\n",
       "      <th>0</th>\n",
       "      <td>Region I</td>\n",
       "      <td>PH010000000</td>\n",
       "      <td>Pangasinan</td>\n",
       "      <td>PH015500000</td>\n",
       "      <td>Dagupan City</td>\n",
       "      <td>PH015518000</td>\n",
       "      <td>Lomboy</td>\n",
       "      <td>PH015518016</td>\n",
       "      <td>POLYGON ((120.32742 16.05423, 120.32719 16.053...</td>\n",
       "    </tr>\n",
       "    <tr>\n",
       "      <th>1</th>\n",
       "      <td>Region I</td>\n",
       "      <td>PH010000000</td>\n",
       "      <td>Pangasinan</td>\n",
       "      <td>PH015500000</td>\n",
       "      <td>Dagupan City</td>\n",
       "      <td>PH015518000</td>\n",
       "      <td>Tapuac</td>\n",
       "      <td>PH015518031</td>\n",
       "      <td>POLYGON ((120.33380 16.03974, 120.33389 16.039...</td>\n",
       "    </tr>\n",
       "  </tbody>\n",
       "</table>\n",
       "</div>"
      ],
      "text/plain": [
       "    ADM1_EN   ADM1_PCODE     ADM2_EN   ADM2_PCODE       ADM3_EN   ADM3_PCODE  \\\n",
       "0  Region I  PH010000000  Pangasinan  PH015500000  Dagupan City  PH015518000   \n",
       "1  Region I  PH010000000  Pangasinan  PH015500000  Dagupan City  PH015518000   \n",
       "\n",
       "  ADM4_EN   ADM4_PCODE                                           geometry  \n",
       "0  Lomboy  PH015518016  POLYGON ((120.32742 16.05423, 120.32719 16.053...  \n",
       "1  Tapuac  PH015518031  POLYGON ((120.33380 16.03974, 120.33389 16.039...  "
      ]
     },
     "execution_count": 16,
     "metadata": {},
     "output_type": "execute_result"
    }
   ],
   "source": [
    "admin_gdf = gpd.read_file(ADMIN_BOUNDS)\n",
    "admin_gdf.head(2)"
   ]
  },
  {
   "cell_type": "code",
   "execution_count": 17,
   "metadata": {},
   "outputs": [],
   "source": [
    "## add brgy area\n",
    "admin_gdf = admin_gdf.to_crs(\"epsg:3123\")\n",
    "admin_gdf[\"brgy_area_m2\"] = admin_gdf.area"
   ]
  },
  {
   "cell_type": "markdown",
   "metadata": {},
   "source": [
    "## Load Cropped Google Bldgs "
   ]
  },
  {
   "cell_type": "code",
   "execution_count": 18,
   "metadata": {},
   "outputs": [
    {
     "data": {
      "text/plain": [
       "['google_lacuna_cities_bldgs_muntinlupa.geojson',\n",
       " 'google_lacuna_cities_bldgs_dagupan.geojson',\n",
       " 'google_lacuna_cities_bldgs_davao.geojson',\n",
       " 'google_lacuna_cities_bldgs_cdo.geojson',\n",
       " 'google_lacuna_cities_bldgs_palayan.geojson',\n",
       " 'google_lacuna_cities_bldgs_iloilo.geojson',\n",
       " 'google_lacuna_cities_bldgs_mandaue.geojson',\n",
       " 'google_lacuna_cities_bldgs_zamboanga.geojson',\n",
       " 'google_lacuna_cities_bldgs_navotas.geojson',\n",
       " 'google_lacuna_cities_bldgs_legazpi.geojson',\n",
       " 'google_lacuna_cities_bldgs_tacloban.geojson',\n",
       " 'google_lacuna_cities_bldgs_mandaluyong.geojson']"
      ]
     },
     "execution_count": 18,
     "metadata": {},
     "output_type": "execute_result"
    }
   ],
   "source": [
    "google_bldg_files = os.listdir(GOOGLE_BLDGS_DIR)\n",
    "google_bldg_files"
   ]
  },
  {
   "cell_type": "code",
   "execution_count": 19,
   "metadata": {},
   "outputs": [],
   "source": [
    "google_gdfs = []\n",
    "for bldg_file in google_bldg_files:\n",
    "    gdf = gpd.read_file(GOOGLE_BLDGS_DIR / bldg_file, driver=\"GeoJSON\")\n",
    "    google_gdfs.append(gdf)\n",
    "\n",
    "google_gdf = gpd.GeoDataFrame(pd.concat(google_gdfs, ignore_index=True))"
   ]
  },
  {
   "cell_type": "code",
   "execution_count": 20,
   "metadata": {},
   "outputs": [
    {
     "data": {
      "text/html": [
       "<div>\n",
       "<style scoped>\n",
       "    .dataframe tbody tr th:only-of-type {\n",
       "        vertical-align: middle;\n",
       "    }\n",
       "\n",
       "    .dataframe tbody tr th {\n",
       "        vertical-align: top;\n",
       "    }\n",
       "\n",
       "    .dataframe thead th {\n",
       "        text-align: right;\n",
       "    }\n",
       "</style>\n",
       "<table border=\"1\" class=\"dataframe\">\n",
       "  <thead>\n",
       "    <tr style=\"text-align: right;\">\n",
       "      <th></th>\n",
       "      <th>city_name</th>\n",
       "      <th>barangay_psgc_code</th>\n",
       "      <th>area_in_meters</th>\n",
       "      <th>confidence</th>\n",
       "      <th>geometry</th>\n",
       "    </tr>\n",
       "  </thead>\n",
       "  <tbody>\n",
       "    <tr>\n",
       "      <th>0</th>\n",
       "      <td>City of Muntinlupa</td>\n",
       "      <td>PH137603005</td>\n",
       "      <td>29.1533</td>\n",
       "      <td>0.6901</td>\n",
       "      <td>POLYGON ((121.02198 14.36817, 121.02192 14.368...</td>\n",
       "    </tr>\n",
       "    <tr>\n",
       "      <th>1</th>\n",
       "      <td>City of Muntinlupa</td>\n",
       "      <td>PH137603005</td>\n",
       "      <td>97.5825</td>\n",
       "      <td>0.7559</td>\n",
       "      <td>POLYGON ((121.05054 14.39108, 121.05053 14.391...</td>\n",
       "    </tr>\n",
       "  </tbody>\n",
       "</table>\n",
       "</div>"
      ],
      "text/plain": [
       "            city_name barangay_psgc_code  area_in_meters  confidence  \\\n",
       "0  City of Muntinlupa        PH137603005         29.1533      0.6901   \n",
       "1  City of Muntinlupa        PH137603005         97.5825      0.7559   \n",
       "\n",
       "                                            geometry  \n",
       "0  POLYGON ((121.02198 14.36817, 121.02192 14.368...  \n",
       "1  POLYGON ((121.05054 14.39108, 121.05053 14.391...  "
      ]
     },
     "execution_count": 20,
     "metadata": {},
     "output_type": "execute_result"
    }
   ],
   "source": [
    "google_gdf.head(2)"
   ]
  },
  {
   "cell_type": "markdown",
   "metadata": {},
   "source": [
    "### Add binnings for different building sizes at a building level"
   ]
  },
  {
   "cell_type": "code",
   "execution_count": 21,
   "metadata": {},
   "outputs": [],
   "source": [
    "# less than 100\n",
    "is_less_100sqm = google_gdf[\"area_in_meters\"] < 100\n",
    "# 100 - 200 sqm\n",
    "is_100_200sqm = (google_gdf[\"area_in_meters\"] >= 100) & (\n",
    "    google_gdf[\"area_in_meters\"] <= 200\n",
    ")\n",
    "# greater than 200 sqm\n",
    "is_gt_200sqm = google_gdf[\"area_in_meters\"] > 200\n",
    "\n",
    "google_gdf.loc[is_less_100sqm, \"is_less_100sqm\"] = 1\n",
    "google_gdf.loc[~is_less_100sqm, \"is_less_100sqm\"] = 0\n",
    "\n",
    "google_gdf.loc[is_100_200sqm, \"is_100_200sqm\"] = 1\n",
    "google_gdf.loc[~is_100_200sqm, \"is_100_200sqm\"] = 0\n",
    "\n",
    "google_gdf.loc[is_gt_200sqm, \"is_gt_200sqm\"] = 1\n",
    "google_gdf.loc[~is_gt_200sqm, \"is_gt_200sqm\"] = 0"
   ]
  },
  {
   "cell_type": "markdown",
   "metadata": {},
   "source": [
    "## Extract buildings features per barangay"
   ]
  },
  {
   "cell_type": "code",
   "execution_count": 22,
   "metadata": {},
   "outputs": [],
   "source": [
    "admin_gdf = admin_gdf.to_crs(\"epsg:4326\")\n",
    "google_gdf = google_gdf.set_crs(\"epsg:4326\")"
   ]
  },
  {
   "cell_type": "code",
   "execution_count": 23,
   "metadata": {},
   "outputs": [
    {
     "name": "stdout",
     "output_type": "stream",
     "text": [
      "CPU times: user 4.98 s, sys: 622 ms, total: 5.6 s\n",
      "Wall time: 5.59 s\n"
     ]
    }
   ],
   "source": [
    "%%time\n",
    "aligned_google = vzs.create_zonal_stats(\n",
    "    admin_gdf,\n",
    "    google_gdf,\n",
    "    aggregations=[\n",
    "        {\"func\": \"count\", \"output\": \"google_bldgs_count\"},\n",
    "        {\n",
    "            \"column\": \"area_in_meters\",\n",
    "            \"func\": [\"sum\", \"mean\"],\n",
    "            \"output\": [\"google_bldgs_area_total\", \"google_bldgs_area_mean\"],\n",
    "        },\n",
    "        {\n",
    "            \"column\": \"is_less_100sqm\",\n",
    "            \"func\": \"sum\",\n",
    "            \"output\": \"google_bldgs_count_lt100_sqm\",\n",
    "        },\n",
    "        {\n",
    "            \"column\": \"is_100_200sqm\",\n",
    "            \"func\": \"sum\",\n",
    "            \"output\": \"google_bldgs_count_100_200_sqm\",\n",
    "        },\n",
    "        {\n",
    "            \"column\": \"is_gt_200sqm\",\n",
    "            \"func\": \"sum\",\n",
    "            \"output\": \"google_bldgs_count_gt_200_sqm\",\n",
    "        },\n",
    "    ],\n",
    ")"
   ]
  },
  {
   "cell_type": "code",
   "execution_count": 25,
   "metadata": {},
   "outputs": [],
   "source": [
    "# convert counts to integers\n",
    "count_cols = [\n",
    "    \"google_bldgs_count_lt100_sqm\",\n",
    "    \"google_bldgs_count_100_200_sqm\",\n",
    "    \"google_bldgs_count_gt_200_sqm\",\n",
    "]\n",
    "aligned_google[count_cols] = aligned_google[count_cols].astype(int)"
   ]
  },
  {
   "cell_type": "code",
   "execution_count": 28,
   "metadata": {},
   "outputs": [],
   "source": [
    "# add building density (number of buildings per m2)\n",
    "aligned_google[\"google_bldgs_density\"] = (\n",
    "    aligned_google[\"google_bldgs_count\"] / aligned_google[\"brgy_area_m2\"]\n",
    ")\n",
    "\n",
    "# add total builtup area in percent\n",
    "aligned_google[\"google_bldgs_pct_built_up_area\"] = 100 * (\n",
    "    aligned_google[\"google_bldgs_area_total\"] / aligned_google[\"brgy_area_m2\"]\n",
    ")"
   ]
  },
  {
   "cell_type": "markdown",
   "metadata": {},
   "source": [
    "## Add descriptor columns and organize table"
   ]
  },
  {
   "cell_type": "code",
   "execution_count": 29,
   "metadata": {},
   "outputs": [],
   "source": [
    "aligned_google[\"date\"] = \"2023-01-01\"\n",
    "aligned_google[\"freq\"] = \"Y\""
   ]
  },
  {
   "cell_type": "code",
   "execution_count": 30,
   "metadata": {},
   "outputs": [
    {
     "data": {
      "text/plain": [
       "Index(['ADM1_EN', 'ADM1_PCODE', 'ADM2_EN', 'ADM2_PCODE', 'ADM3_EN',\n",
       "       'ADM3_PCODE', 'ADM4_EN', 'ADM4_PCODE', 'geometry', 'brgy_area_m2',\n",
       "       'google_bldgs_count', 'google_bldgs_area_total',\n",
       "       'google_bldgs_area_mean', 'google_bldgs_count_lt100_sqm',\n",
       "       'google_bldgs_count_100_200_sqm', 'google_bldgs_count_gt_200_sqm',\n",
       "       'google_bldgs_density', 'google_bldgs_pct_built_up_area', 'date',\n",
       "       'freq'],\n",
       "      dtype='object')"
      ]
     },
     "execution_count": 30,
     "metadata": {},
     "output_type": "execute_result"
    }
   ],
   "source": [
    "aligned_google.columns"
   ]
  },
  {
   "cell_type": "code",
   "execution_count": 31,
   "metadata": {},
   "outputs": [
    {
     "data": {
      "text/html": [
       "<div>\n",
       "<style scoped>\n",
       "    .dataframe tbody tr th:only-of-type {\n",
       "        vertical-align: middle;\n",
       "    }\n",
       "\n",
       "    .dataframe tbody tr th {\n",
       "        vertical-align: top;\n",
       "    }\n",
       "\n",
       "    .dataframe thead th {\n",
       "        text-align: right;\n",
       "    }\n",
       "</style>\n",
       "<table border=\"1\" class=\"dataframe\">\n",
       "  <thead>\n",
       "    <tr style=\"text-align: right;\">\n",
       "      <th></th>\n",
       "      <th>ADM4_PCODE</th>\n",
       "      <th>date</th>\n",
       "      <th>freq</th>\n",
       "      <th>google_bldgs_count</th>\n",
       "      <th>google_bldgs_area_total</th>\n",
       "      <th>google_bldgs_area_mean</th>\n",
       "      <th>google_bldgs_count_lt100_sqm</th>\n",
       "      <th>google_bldgs_count_100_200_sqm</th>\n",
       "      <th>google_bldgs_count_gt_200_sqm</th>\n",
       "      <th>google_bldgs_density</th>\n",
       "      <th>google_bldgs_pct_built_up_area</th>\n",
       "    </tr>\n",
       "  </thead>\n",
       "  <tbody>\n",
       "    <tr>\n",
       "      <th>0</th>\n",
       "      <td>PH015518016</td>\n",
       "      <td>2023-01-01</td>\n",
       "      <td>Y</td>\n",
       "      <td>469</td>\n",
       "      <td>18878.5810</td>\n",
       "      <td>40.252838</td>\n",
       "      <td>442</td>\n",
       "      <td>20</td>\n",
       "      <td>7</td>\n",
       "      <td>0.000460</td>\n",
       "      <td>1.850054</td>\n",
       "    </tr>\n",
       "    <tr>\n",
       "      <th>1</th>\n",
       "      <td>PH015518031</td>\n",
       "      <td>2023-01-01</td>\n",
       "      <td>Y</td>\n",
       "      <td>2209</td>\n",
       "      <td>234899.6797</td>\n",
       "      <td>106.337564</td>\n",
       "      <td>1535</td>\n",
       "      <td>449</td>\n",
       "      <td>225</td>\n",
       "      <td>0.002118</td>\n",
       "      <td>22.526707</td>\n",
       "    </tr>\n",
       "    <tr>\n",
       "      <th>2</th>\n",
       "      <td>PH015518022</td>\n",
       "      <td>2023-01-01</td>\n",
       "      <td>Y</td>\n",
       "      <td>6530</td>\n",
       "      <td>479063.8388</td>\n",
       "      <td>73.363528</td>\n",
       "      <td>5245</td>\n",
       "      <td>889</td>\n",
       "      <td>396</td>\n",
       "      <td>0.002004</td>\n",
       "      <td>14.701164</td>\n",
       "    </tr>\n",
       "  </tbody>\n",
       "</table>\n",
       "</div>"
      ],
      "text/plain": [
       "    ADM4_PCODE        date freq  google_bldgs_count  google_bldgs_area_total  \\\n",
       "0  PH015518016  2023-01-01    Y                 469               18878.5810   \n",
       "1  PH015518031  2023-01-01    Y                2209              234899.6797   \n",
       "2  PH015518022  2023-01-01    Y                6530              479063.8388   \n",
       "\n",
       "   google_bldgs_area_mean  google_bldgs_count_lt100_sqm  \\\n",
       "0               40.252838                           442   \n",
       "1              106.337564                          1535   \n",
       "2               73.363528                          5245   \n",
       "\n",
       "   google_bldgs_count_100_200_sqm  google_bldgs_count_gt_200_sqm  \\\n",
       "0                              20                              7   \n",
       "1                             449                            225   \n",
       "2                             889                            396   \n",
       "\n",
       "   google_bldgs_density  google_bldgs_pct_built_up_area  \n",
       "0              0.000460                        1.850054  \n",
       "1              0.002118                       22.526707  \n",
       "2              0.002004                       14.701164  "
      ]
     },
     "execution_count": 31,
     "metadata": {},
     "output_type": "execute_result"
    }
   ],
   "source": [
    "aligned_google = aligned_google[\n",
    "    [\n",
    "        \"ADM4_PCODE\",\n",
    "        \"date\",\n",
    "        \"freq\",\n",
    "        \"google_bldgs_count\",\n",
    "        \"google_bldgs_area_total\",\n",
    "        \"google_bldgs_area_mean\",\n",
    "        \"google_bldgs_count_lt100_sqm\",\n",
    "        \"google_bldgs_count_100_200_sqm\",\n",
    "        \"google_bldgs_count_gt_200_sqm\",\n",
    "        \"google_bldgs_density\",\n",
    "        \"google_bldgs_pct_built_up_area\",\n",
    "    ]\n",
    "]\n",
    "aligned_google.head(3)"
   ]
  },
  {
   "cell_type": "code",
   "execution_count": 32,
   "metadata": {},
   "outputs": [],
   "source": [
    "google_bldg_extract_df = pd.DataFrame(aligned_google)\n",
    "google_bldg_extract_df.to_csv(OUTPUT_DIR / \"google_bldgs_v3_features.csv\")"
   ]
  }
 ],
 "metadata": {
  "kernelspec": {
   "display_name": "lacuna-fund",
   "language": "python",
   "name": "python3"
  },
  "language_info": {
   "codemirror_mode": {
    "name": "ipython",
    "version": 3
   },
   "file_extension": ".py",
   "mimetype": "text/x-python",
   "name": "python",
   "nbconvert_exporter": "python",
   "pygments_lexer": "ipython3",
   "version": "3.9.18"
  },
  "orig_nbformat": 4
 },
 "nbformat": 4,
 "nbformat_minor": 2
}
