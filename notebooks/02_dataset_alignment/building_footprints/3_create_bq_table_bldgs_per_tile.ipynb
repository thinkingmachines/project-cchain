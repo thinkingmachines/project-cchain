{
 "cells": [
  {
   "cell_type": "code",
   "execution_count": 1,
   "metadata": {},
   "outputs": [
    {
     "name": "stderr",
     "output_type": "stream",
     "text": [
      "/mnt/c/Users/JCPeralta/Documents/GitHub/geoml-starter-test/env/lib/python3.9/site-packages/geopandas/_compat.py:111: UserWarning: The Shapely GEOS version (3.10.3-CAPI-1.16.1) is incompatible with the GEOS version PyGEOS was compiled with (3.10.1-CAPI-1.16.0). Conversions between both will be slow.\n",
      "  warnings.warn(\n"
     ]
    }
   ],
   "source": [
    "import numpy as np\n",
    "import pandas as pd\n",
    "import geopandas as gpd\n",
    "\n",
    "from shapely.geometry import box\n",
    "from geowrangler import vector_zonal_stats as vzs\n",
    "import os"
   ]
  },
  {
   "cell_type": "code",
   "execution_count": null,
   "metadata": {},
   "outputs": [],
   "source": [
    "RAW_DIR = \"../../../data/tm/1-raw/\"\n",
    "PROCESSED_DIR = \"../../../data/tm/2-processed/\""
   ]
  },
  {
   "cell_type": "markdown",
   "metadata": {},
   "source": [
    "# Create BQ Table of buildings per tile\n",
    "This notebook adds a `tile_id` and `building_id` column to construct the building table used as starting point in annotations"
   ]
  },
  {
   "cell_type": "markdown",
   "metadata": {},
   "source": [
    "## 1. Read tiles"
   ]
  },
  {
   "cell_type": "code",
   "execution_count": 2,
   "metadata": {},
   "outputs": [
    {
     "data": {
      "text/html": [
       "<div>\n",
       "<style scoped>\n",
       "    .dataframe tbody tr th:only-of-type {\n",
       "        vertical-align: middle;\n",
       "    }\n",
       "\n",
       "    .dataframe tbody tr th {\n",
       "        vertical-align: top;\n",
       "    }\n",
       "\n",
       "    .dataframe thead th {\n",
       "        text-align: right;\n",
       "    }\n",
       "</style>\n",
       "<table border=\"1\" class=\"dataframe\">\n",
       "  <thead>\n",
       "    <tr style=\"text-align: right;\">\n",
       "      <th></th>\n",
       "      <th>tile_id</th>\n",
       "      <th>city</th>\n",
       "      <th>n_footprints_estimate</th>\n",
       "      <th>geometry</th>\n",
       "    </tr>\n",
       "  </thead>\n",
       "  <tbody>\n",
       "    <tr>\n",
       "      <th>0</th>\n",
       "      <td>T00001</td>\n",
       "      <td>Dagupan</td>\n",
       "      <td>50-100</td>\n",
       "      <td>POLYGON ((120.35530 16.07866, 120.35754 16.078...</td>\n",
       "    </tr>\n",
       "    <tr>\n",
       "      <th>1</th>\n",
       "      <td>T00002</td>\n",
       "      <td>Dagupan</td>\n",
       "      <td>50-100</td>\n",
       "      <td>POLYGON ((120.33560 16.06329, 120.33784 16.063...</td>\n",
       "    </tr>\n",
       "    <tr>\n",
       "      <th>2</th>\n",
       "      <td>T00003</td>\n",
       "      <td>Dagupan</td>\n",
       "      <td>50-100</td>\n",
       "      <td>POLYGON ((120.33290 16.04601, 120.33516 16.046...</td>\n",
       "    </tr>\n",
       "    <tr>\n",
       "      <th>3</th>\n",
       "      <td>T00004</td>\n",
       "      <td>Dagupan</td>\n",
       "      <td>100-200</td>\n",
       "      <td>POLYGON ((120.36347 16.04528, 120.36586 16.045...</td>\n",
       "    </tr>\n",
       "    <tr>\n",
       "      <th>4</th>\n",
       "      <td>T00005</td>\n",
       "      <td>Dagupan</td>\n",
       "      <td>50-100</td>\n",
       "      <td>POLYGON ((120.32903 16.04524, 120.33128 16.045...</td>\n",
       "    </tr>\n",
       "  </tbody>\n",
       "</table>\n",
       "</div>"
      ],
      "text/plain": [
       "  tile_id     city n_footprints_estimate  \\\n",
       "0  T00001  Dagupan                50-100   \n",
       "1  T00002  Dagupan                50-100   \n",
       "2  T00003  Dagupan                50-100   \n",
       "3  T00004  Dagupan               100-200   \n",
       "4  T00005  Dagupan                50-100   \n",
       "\n",
       "                                            geometry  \n",
       "0  POLYGON ((120.35530 16.07866, 120.35754 16.078...  \n",
       "1  POLYGON ((120.33560 16.06329, 120.33784 16.063...  \n",
       "2  POLYGON ((120.33290 16.04601, 120.33516 16.046...  \n",
       "3  POLYGON ((120.36347 16.04528, 120.36586 16.045...  \n",
       "4  POLYGON ((120.32903 16.04524, 120.33128 16.045...  "
      ]
     },
     "execution_count": 2,
     "metadata": {},
     "output_type": "execute_result"
    }
   ],
   "source": [
    "tile_bounds_fn = f\"{PROCESSED_DIR}ctt-tiles/tile_bounds_revised_raw.geojson\"\n",
    "tile_gdf = gpd.read_file(tile_bounds_fn)\n",
    "tile_gdf.head()"
   ]
  },
  {
   "cell_type": "markdown",
   "metadata": {},
   "source": [
    "## 2. Merge city files and add building id"
   ]
  },
  {
   "cell_type": "code",
   "execution_count": 3,
   "metadata": {},
   "outputs": [
    {
     "name": "stdout",
     "output_type": "stream",
     "text": [
      "Processing Cagayan de Oro City...Done!\n",
      "Processing Dagupan City...Done!\n",
      "Processing Davao City...Done!\n",
      "Processing Iloilo City...Done!\n",
      "Processing Legazpi City...Done!\n",
      "Processing City of Mandaluyong...Done!\n",
      "Processing Mandaue City...Done!\n",
      "Processing City of Muntinlupa...Done!\n",
      "Processing City of Navotas...Done!\n",
      "Processing Palayan City...Done!\n",
      "Processing Tacloban City...Done!\n",
      "Processing Zamboanga City...Done!\n"
     ]
    }
   ],
   "source": [
    "bldg_bounds_fdir = f\"{PROCESSED_DIR}ms-open-buildings/within_city/\"\n",
    "data_gdf_list = []\n",
    "fn_list = [fn for fn in os.listdir(bldg_bounds_fdir) if \"geojson\" in fn]\n",
    "for fn in fn_list:\n",
    "    bldg_gdf = gpd.read_file(bldg_bounds_fdir + fn)\n",
    "    bldg_gdf.columns = bldg_gdf.columns.str.lower()\n",
    "    region = bldg_gdf[\"adm3_en\"].values[0]\n",
    "    print(f\"Processing {region}...\", end=\"\")\n",
    "    # join with tiles\n",
    "    filtered_gdf = gpd.sjoin(bldg_gdf, tile_gdf, how=\"inner\", predicate=\"intersects\")\n",
    "    filtered_gdf = filtered_gdf.reset_index(drop=True)\n",
    "    # add bldg id2\n",
    "    filtered_gdf[\"bldg_id\"] = (\n",
    "        filtered_gdf[\"tile_id\"]\n",
    "        + \"-\"\n",
    "        + (filtered_gdf.index + 1).astype(str).str.zfill(8)\n",
    "    )\n",
    "    if len(filtered_gdf):\n",
    "        data_gdf_list.append(filtered_gdf)\n",
    "    print(\"Done!\")"
   ]
  },
  {
   "cell_type": "code",
   "execution_count": 4,
   "metadata": {},
   "outputs": [
    {
     "data": {
      "text/html": [
       "<div>\n",
       "<style scoped>\n",
       "    .dataframe tbody tr th:only-of-type {\n",
       "        vertical-align: middle;\n",
       "    }\n",
       "\n",
       "    .dataframe tbody tr th {\n",
       "        vertical-align: top;\n",
       "    }\n",
       "\n",
       "    .dataframe thead th {\n",
       "        text-align: right;\n",
       "    }\n",
       "</style>\n",
       "<table border=\"1\" class=\"dataframe\">\n",
       "  <thead>\n",
       "    <tr style=\"text-align: right;\">\n",
       "      <th></th>\n",
       "      <th>tile_id</th>\n",
       "      <th>bldg_id</th>\n",
       "      <th>geometry</th>\n",
       "    </tr>\n",
       "  </thead>\n",
       "  <tbody>\n",
       "    <tr>\n",
       "      <th>0</th>\n",
       "      <td>T00095</td>\n",
       "      <td>T00095-00000001</td>\n",
       "      <td>POLYGON ((124.60154 8.49409, 124.60161 8.49409...</td>\n",
       "    </tr>\n",
       "    <tr>\n",
       "      <th>1</th>\n",
       "      <td>T00095</td>\n",
       "      <td>T00095-00000002</td>\n",
       "      <td>POLYGON ((124.60186 8.49409, 124.60198 8.49409...</td>\n",
       "    </tr>\n",
       "    <tr>\n",
       "      <th>2</th>\n",
       "      <td>T00095</td>\n",
       "      <td>T00095-00000003</td>\n",
       "      <td>POLYGON ((124.60210 8.49420, 124.60210 8.49406...</td>\n",
       "    </tr>\n",
       "    <tr>\n",
       "      <th>3</th>\n",
       "      <td>T00095</td>\n",
       "      <td>T00095-00000004</td>\n",
       "      <td>POLYGON ((124.60248 8.49414, 124.60247 8.49423...</td>\n",
       "    </tr>\n",
       "    <tr>\n",
       "      <th>4</th>\n",
       "      <td>T00095</td>\n",
       "      <td>T00095-00000005</td>\n",
       "      <td>POLYGON ((124.60179 8.49424, 124.60179 8.49418...</td>\n",
       "    </tr>\n",
       "  </tbody>\n",
       "</table>\n",
       "</div>"
      ],
      "text/plain": [
       "  tile_id          bldg_id                                           geometry\n",
       "0  T00095  T00095-00000001  POLYGON ((124.60154 8.49409, 124.60161 8.49409...\n",
       "1  T00095  T00095-00000002  POLYGON ((124.60186 8.49409, 124.60198 8.49409...\n",
       "2  T00095  T00095-00000003  POLYGON ((124.60210 8.49420, 124.60210 8.49406...\n",
       "3  T00095  T00095-00000004  POLYGON ((124.60248 8.49414, 124.60247 8.49423...\n",
       "4  T00095  T00095-00000005  POLYGON ((124.60179 8.49424, 124.60179 8.49418..."
      ]
     },
     "execution_count": 4,
     "metadata": {},
     "output_type": "execute_result"
    }
   ],
   "source": [
    "data_gdf = pd.concat(data_gdf_list)\n",
    "data_gdf = data_gdf[[\"tile_id\", \"bldg_id\", \"geometry\"]]\n",
    "data_gdf.head()"
   ]
  },
  {
   "cell_type": "code",
   "execution_count": 5,
   "metadata": {},
   "outputs": [
    {
     "name": "stdout",
     "output_type": "stream",
     "text": [
      "<class 'geopandas.geodataframe.GeoDataFrame'>\n",
      "Int64Index: 14541 entries, 0 to 1519\n",
      "Data columns (total 3 columns):\n",
      " #   Column    Non-Null Count  Dtype   \n",
      "---  ------    --------------  -----   \n",
      " 0   tile_id   14541 non-null  object  \n",
      " 1   bldg_id   14541 non-null  object  \n",
      " 2   geometry  14541 non-null  geometry\n",
      "dtypes: geometry(1), object(2)\n",
      "memory usage: 454.4+ KB\n"
     ]
    }
   ],
   "source": [
    "data_gdf.info()"
   ]
  },
  {
   "cell_type": "markdown",
   "metadata": {},
   "source": [
    "## 3. Save"
   ]
  },
  {
   "cell_type": "code",
   "execution_count": 6,
   "metadata": {},
   "outputs": [],
   "source": [
    "data_gdf.to_file(\n",
    "    f\"{PROCESSED_DIR}ctt-tiles/tile_bldgs_ms.geojson\", index=False, driver=\"GeoJSON\"\n",
    ")"
   ]
  },
  {
   "cell_type": "code",
   "execution_count": null,
   "metadata": {},
   "outputs": [],
   "source": [
    "data_gdf.to_csv(f\"{PROCESSED_DIR}ctt-tiles/tile_bldgs_ms.csv\", index=False)"
   ]
  }
 ],
 "metadata": {
  "kernelspec": {
   "display_name": "Python 3 (ipykernel)",
   "language": "python",
   "name": "python3"
  },
  "language_info": {
   "codemirror_mode": {
    "name": "ipython",
    "version": 3
   },
   "file_extension": ".py",
   "mimetype": "text/x-python",
   "name": "python",
   "nbconvert_exporter": "python",
   "pygments_lexer": "ipython3",
   "version": "3.9.13"
  }
 },
 "nbformat": 4,
 "nbformat_minor": 4
}
