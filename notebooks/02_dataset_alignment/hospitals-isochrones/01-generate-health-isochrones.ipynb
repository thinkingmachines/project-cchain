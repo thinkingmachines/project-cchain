{
 "cells": [
  {
   "cell_type": "code",
   "execution_count": 1,
   "metadata": {},
   "outputs": [
    {
     "name": "stderr",
     "output_type": "stream",
     "text": [
      "/home/abbymoreno/miniconda3/envs/lacuna-fund/lib/python3.9/site-packages/geopandas/_compat.py:111: UserWarning: The Shapely GEOS version (3.11.1-CAPI-1.17.1) is incompatible with the GEOS version PyGEOS was compiled with (3.10.4-CAPI-1.16.2). Conversions between both will be slow.\n",
      "  warnings.warn(\n"
     ]
    }
   ],
   "source": [
    "import geopandas as gpd\n",
    "import pandas as pd\n",
    "\n",
    "from pathlib import Path\n",
    "\n",
    "# Standard imports\n",
    "import json\n",
    "import yaml\n",
    "\n",
    "import requests\n",
    "from tqdm import tqdm"
   ]
  },
  {
   "cell_type": "markdown",
   "metadata": {},
   "source": [
    "# Generate Isochrones around Health Facilities\n",
    "\n",
    "This notebook requests isochrone contours around certain health facility points sourced from Geoportal. Isochrones are generated separately for each type of health facility. To generate the isochrones, we made use of Mapbox's API.\n",
    "\n",
    "### Input\n",
    "- Health Facility Points (health facility types: hospital, barangay health centers, regional health units)\n",
    "\n",
    "### Output\n",
    "- Each contour for each type saved to a GeoJSON"
   ]
  },
  {
   "cell_type": "markdown",
   "metadata": {},
   "source": [
    "## Set-up input parameters and directories"
   ]
  },
  {
   "cell_type": "code",
   "execution_count": 2,
   "metadata": {},
   "outputs": [],
   "source": [
    "HOSPITALS_FPATH = Path(\"../../../data/02-raw/philippines_healthfacilities.gpkg\")\n",
    "\n",
    "PROCSSED_DIR = Path(\"../../../data/03-processed/\")\n",
    "OUTPUT_DIR = Path(\"../../../data/04-output/\")\n",
    "ISOCHRONES_DIR = PROCSSED_DIR / \"isochrones\""
   ]
  },
  {
   "cell_type": "markdown",
   "metadata": {},
   "source": [
    "## Define Mapbox API functions"
   ]
  },
  {
   "cell_type": "code",
   "execution_count": 3,
   "metadata": {},
   "outputs": [],
   "source": [
    "def get_mapbox_iso(df, profile, mins):\n",
    "    \"\"\"\n",
    "    Gets isochrone via mapbox API.\n",
    "\n",
    "    df: dataframe with separate columns for lat and lng.\n",
    "    profile: mobility profiles, check API docs for more information.\n",
    "    mins: number of minutes\n",
    "\n",
    "    \"\"\"\n",
    "    id_processed = []\n",
    "    _out = []\n",
    "    _no_data = []\n",
    "\n",
    "    with tqdm(total=df.shape[0]) as pbar:\n",
    "        for uid, lat, lng in df.values:\n",
    "\n",
    "            if not uid in id_processed:\n",
    "                # mapbox URL\n",
    "                iso_url = f\"https://api.mapbox.com/isochrone/v1/mapbox/{profile}/{lng}%2C{lat}?contours_minutes={mins}&polygons=true&denoise=1&access_token={api_key}\"\n",
    "                r = requests.get(iso_url)\n",
    "\n",
    "                if r.status_code == 200:\n",
    "\n",
    "                    poly_gdf = gpd.read_file(json.dumps(r.json()), driver=\"GeoJSON\")\n",
    "                    poly_gdf[\"uid\"] = uid\n",
    "\n",
    "                    _out.append(poly_gdf)\n",
    "\n",
    "                else:\n",
    "                    print(f\"{r.status_code} was returned for uid {uid}.\")\n",
    "                    _no_data.append(uid)\n",
    "\n",
    "            pbar.update(1)\n",
    "\n",
    "    # return gdf of contours\n",
    "    if len(_out) != 0:\n",
    "        out = pd.concat(_out)\n",
    "        out.drop(\n",
    "            columns=[\n",
    "                \"fill\",\n",
    "                \"fillOpacity\",\n",
    "                \"fill-opacity\",\n",
    "                \"fillColor\",\n",
    "                \"color\",\n",
    "                \"opacity\",\n",
    "                \"metric\",\n",
    "            ],\n",
    "            inplace=True,\n",
    "        )\n",
    "\n",
    "    # return list of pois with no contour\n",
    "    if len(_no_data) != 0:\n",
    "        no_data = pd.concat(_no_data)\n",
    "    else:\n",
    "        no_data = []\n",
    "\n",
    "    return out, no_data\n",
    "\n",
    "\n",
    "def get_multi_iso(iso_minutes, health_gdf, type=\"hospital\"):\n",
    "    \"\"\"\n",
    "    Run Mapbox API and export contour to geojson.\n",
    "\n",
    "    health_gdf: geodataframe for one health facility type\n",
    "    type: health facility type\n",
    "\n",
    "    \"\"\"\n",
    "    facility_iso_df, no_data = get_mapbox_iso(\n",
    "        health_gdf[[\"id\", \"lat\", \"lng\"]], \"driving-traffic\", iso_minutes\n",
    "    )\n",
    "    facility_iso_df.to_file(\n",
    "        ISOCHRONES_DIR / f\"iso_{type}_drivetraffic_{iso_minutes}.geojson\",\n",
    "        driver=\"GeoJSON\",\n",
    "    )"
   ]
  },
  {
   "cell_type": "markdown",
   "metadata": {},
   "source": [
    "## Load hospital points"
   ]
  },
  {
   "cell_type": "code",
   "execution_count": 4,
   "metadata": {},
   "outputs": [
    {
     "data": {
      "text/html": [
       "<div>\n",
       "<style scoped>\n",
       "    .dataframe tbody tr th:only-of-type {\n",
       "        vertical-align: middle;\n",
       "    }\n",
       "\n",
       "    .dataframe tbody tr th {\n",
       "        vertical-align: top;\n",
       "    }\n",
       "\n",
       "    .dataframe thead th {\n",
       "        text-align: right;\n",
       "    }\n",
       "</style>\n",
       "<table border=\"1\" class=\"dataframe\">\n",
       "  <thead>\n",
       "    <tr style=\"text-align: right;\">\n",
       "      <th></th>\n",
       "      <th>id</th>\n",
       "      <th>facilityco</th>\n",
       "      <th>healthfaci</th>\n",
       "      <th>typeofheal</th>\n",
       "      <th>barangay</th>\n",
       "      <th>municipali</th>\n",
       "      <th>province</th>\n",
       "      <th>region</th>\n",
       "      <th>status</th>\n",
       "      <th>address</th>\n",
       "      <th>style</th>\n",
       "      <th>geometry</th>\n",
       "    </tr>\n",
       "  </thead>\n",
       "  <tbody>\n",
       "    <tr>\n",
       "      <th>0</th>\n",
       "      <td>1.0</td>\n",
       "      <td>DOH000000000002277</td>\n",
       "      <td>Calvario Barangay Health Station</td>\n",
       "      <td>Barangay Health Station</td>\n",
       "      <td>Calvario</td>\n",
       "      <td>City Of Isabela</td>\n",
       "      <td>City Of Isabela (not A Province)</td>\n",
       "      <td>REGION IX (ZAMBOANGA PENINSULA)</td>\n",
       "      <td>None</td>\n",
       "      <td>None</td>\n",
       "      <td>Barangay Health Station</td>\n",
       "      <td>POINT (121.98987 6.65182)</td>\n",
       "    </tr>\n",
       "    <tr>\n",
       "      <th>1</th>\n",
       "      <td>2.0</td>\n",
       "      <td>DOH000000000010319</td>\n",
       "      <td>Cabunbata Barangay Health Station</td>\n",
       "      <td>Barangay Health Station</td>\n",
       "      <td>Cabunbata</td>\n",
       "      <td>City Of Isabela</td>\n",
       "      <td>City Of Isabela (not A Province)</td>\n",
       "      <td>REGION IX (ZAMBOANGA PENINSULA)</td>\n",
       "      <td>None</td>\n",
       "      <td>None</td>\n",
       "      <td>Barangay Health Station</td>\n",
       "      <td>POINT (121.96630 6.67152)</td>\n",
       "    </tr>\n",
       "  </tbody>\n",
       "</table>\n",
       "</div>"
      ],
      "text/plain": [
       "    id          facilityco                         healthfaci  \\\n",
       "0  1.0  DOH000000000002277   Calvario Barangay Health Station   \n",
       "1  2.0  DOH000000000010319  Cabunbata Barangay Health Station   \n",
       "\n",
       "                typeofheal   barangay       municipali  \\\n",
       "0  Barangay Health Station   Calvario  City Of Isabela   \n",
       "1  Barangay Health Station  Cabunbata  City Of Isabela   \n",
       "\n",
       "                           province                           region status  \\\n",
       "0  City Of Isabela (not A Province)  REGION IX (ZAMBOANGA PENINSULA)   None   \n",
       "1  City Of Isabela (not A Province)  REGION IX (ZAMBOANGA PENINSULA)   None   \n",
       "\n",
       "  address                    style                   geometry  \n",
       "0    None  Barangay Health Station  POINT (121.98987 6.65182)  \n",
       "1    None  Barangay Health Station  POINT (121.96630 6.67152)  "
      ]
     },
     "execution_count": 4,
     "metadata": {},
     "output_type": "execute_result"
    }
   ],
   "source": [
    "doh_gdf = gpd.read_file(HOSPITALS_FPATH, driver=\"GPKG\")\n",
    "doh_gdf.head(2)"
   ]
  },
  {
   "cell_type": "code",
   "execution_count": 5,
   "metadata": {},
   "outputs": [
    {
     "data": {
      "text/plain": [
       "(23676, 12)"
      ]
     },
     "execution_count": 5,
     "metadata": {},
     "output_type": "execute_result"
    }
   ],
   "source": [
    "doh_gdf.shape"
   ]
  },
  {
   "cell_type": "code",
   "execution_count": 6,
   "metadata": {},
   "outputs": [],
   "source": [
    "doh_gdf = doh_gdf.to_crs(\"epsg:4326\")"
   ]
  },
  {
   "cell_type": "code",
   "execution_count": 7,
   "metadata": {},
   "outputs": [],
   "source": [
    "doh_gdf[\"lng\"] = doh_gdf[\"geometry\"].x\n",
    "doh_gdf[\"lat\"] = doh_gdf[\"geometry\"].y"
   ]
  },
  {
   "cell_type": "markdown",
   "metadata": {},
   "source": [
    "## Filter to target cities"
   ]
  },
  {
   "cell_type": "code",
   "execution_count": 8,
   "metadata": {},
   "outputs": [],
   "source": [
    "target_cities = [\n",
    "    \"Navotas\",\n",
    "    \"Mandaluyong\",\n",
    "    \"Muntinlupa\",\n",
    "    \"Dagupan City\",\n",
    "    \"Palayan City\",\n",
    "    \"Legazpi City\",\n",
    "    \"Iloilo City\",\n",
    "    \"Mandaue City\",\n",
    "    \"Tacloban City\",\n",
    "    \"Zamboanga City\",\n",
    "    \"Cagayan de Oro City\",\n",
    "    \"Davao City\",\n",
    "]\n",
    "filtered_doh = doh_gdf[\n",
    "    doh_gdf[\"municipali\"].str.contains(\"|\".join(target_cities), case=False)\n",
    "]"
   ]
  },
  {
   "cell_type": "code",
   "execution_count": 9,
   "metadata": {},
   "outputs": [
    {
     "data": {
      "text/plain": [
       "array(['Zamboanga City', 'Cagayan De Oro City (Capital)', 'MANDAUE CITY',\n",
       "       'ILOILO CITY (CAPITAL)', 'ILOILO CITY (CAPITAL)*', 'DAGUPAN CITY',\n",
       "       'MANDALUYONG', 'NAVOTAS', 'MUNTINLUPA CITY', 'PALAYAN CITY',\n",
       "       'DAVAO CITY', 'TACLOBAN CITY (CAPITAL)', 'LEGAZPI CITY (CAPITAL)'],\n",
       "      dtype=object)"
      ]
     },
     "execution_count": 9,
     "metadata": {},
     "output_type": "execute_result"
    }
   ],
   "source": [
    "# check if all cities are covered\n",
    "filtered_doh[\"municipali\"].unique()"
   ]
  },
  {
   "cell_type": "code",
   "execution_count": 11,
   "metadata": {},
   "outputs": [
    {
     "data": {
      "text/plain": [
       "Barangay Health Station                           417\n",
       "Rural Health Unit                                 119\n",
       "Hospital                                          110\n",
       "Birthing Home/Lying-in Clinic                      68\n",
       "Medical Clinic                                      5\n",
       "Infirmary                                           4\n",
       "Social Hygiene Clinic                               3\n",
       "Drug Abuse Treatment and Rehabilitation Center      1\n",
       "Name: typeofheal, dtype: int64"
      ]
     },
     "execution_count": 11,
     "metadata": {},
     "output_type": "execute_result"
    }
   ],
   "source": [
    "filtered_doh[\"typeofheal\"].value_counts()"
   ]
  },
  {
   "cell_type": "code",
   "execution_count": 12,
   "metadata": {},
   "outputs": [],
   "source": [
    "# filter to hospitals\n",
    "hospitals_gdf = filtered_doh[filtered_doh[\"typeofheal\"] == \"Hospital\"]\n",
    "\n",
    "# filter to barangay health centers\n",
    "health_centers_gdf = filtered_doh[\n",
    "    filtered_doh[\"typeofheal\"] == \"Barangay Health Station\"\n",
    "]\n",
    "\n",
    "# filter to Rural Health Units (RHU)\n",
    "rhu_gdf = filtered_doh[filtered_doh[\"typeofheal\"] == \"Rural Health Unit\"]"
   ]
  },
  {
   "cell_type": "markdown",
   "metadata": {},
   "source": [
    "## Generate Isochrones"
   ]
  },
  {
   "cell_type": "markdown",
   "metadata": {},
   "source": [
    "### Get Mapbox API Key\n",
    "\n",
    "Generate and use your own token from your Mapbox account. The `secrets/mapbox.yaml` file should NOT be commited to the repo. <br>\n",
    "Instead, create your own file by following this format:\n",
    "\n",
    "`api-key: <YOUR API KEY HERE>` <br>\n",
    "`mapbox-style-xyz-url: <YOUR XYZ URL HERE>`"
   ]
  },
  {
   "cell_type": "code",
   "execution_count": 20,
   "metadata": {},
   "outputs": [],
   "source": [
    "SECRETS_YAML = Path(\"../../../secrets/mapbox.yaml\")\n",
    "with open(SECRETS_YAML, \"r\") as f:\n",
    "    secrets = yaml.safe_load(f)\n",
    "    api_key = secrets[\"api-key\"]"
   ]
  },
  {
   "cell_type": "markdown",
   "metadata": {},
   "source": [
    "### Get 1min. intervals of isochrones\n",
    "\n",
    "Take note that the API has a request limit of 300 requests per minute. Number of points to generate isochrones on directly translate to the number of requests. Each request can take a max of 4 contours."
   ]
  },
  {
   "cell_type": "code",
   "execution_count": 23,
   "metadata": {},
   "outputs": [
    {
     "name": "stderr",
     "output_type": "stream",
     "text": [
      "100%|██████████| 110/110 [00:24<00:00,  4.56it/s]\n",
      "/home/abbymoreno/miniconda3/envs/lacuna-fund/lib/python3.9/site-packages/geopandas/io/file.py:362: FutureWarning: pandas.Int64Index is deprecated and will be removed from pandas in a future version. Use pandas.Index with the appropriate dtype instead.\n",
      "  pd.Int64Index,\n"
     ]
    }
   ],
   "source": [
    "# generate isochrones around hospitals\n",
    "get_multi_iso(\"28, 29\", health_gdf=hospitals_gdf)"
   ]
  },
  {
   "cell_type": "code",
   "execution_count": 23,
   "metadata": {},
   "outputs": [
    {
     "name": "stderr",
     "output_type": "stream",
     "text": [
      "  0%|          | 0/417 [00:00<?, ?it/s]"
     ]
    },
    {
     "name": "stderr",
     "output_type": "stream",
     "text": [
      "100%|██████████| 417/417 [01:20<00:00,  5.15it/s]\n",
      "/home/abbymoreno/miniconda3/envs/lacuna-fund/lib/python3.9/site-packages/geopandas/io/file.py:362: FutureWarning: pandas.Int64Index is deprecated and will be removed from pandas in a future version. Use pandas.Index with the appropriate dtype instead.\n",
      "  pd.Int64Index,\n"
     ]
    }
   ],
   "source": [
    "# generate isochrones around the barangay health centers\n",
    "get_multi_iso(\"29, 30\", health_gdf=health_centers_gdf, type=\"brgy_healthcenters\")"
   ]
  },
  {
   "cell_type": "code",
   "execution_count": 30,
   "metadata": {},
   "outputs": [
    {
     "name": "stderr",
     "output_type": "stream",
     "text": [
      "100%|██████████| 119/119 [00:30<00:00,  3.92it/s]\n",
      "/home/abbymoreno/miniconda3/envs/lacuna-fund/lib/python3.9/site-packages/geopandas/io/file.py:362: FutureWarning: pandas.Int64Index is deprecated and will be removed from pandas in a future version. Use pandas.Index with the appropriate dtype instead.\n",
      "  pd.Int64Index,\n"
     ]
    }
   ],
   "source": [
    "# generate isochrones around the regional health units\n",
    "get_multi_iso(\"29, 30\", health_gdf=rhu_gdf, type=\"rhu\")"
   ]
  }
 ],
 "metadata": {
  "kernelspec": {
   "display_name": "lacuna-fund",
   "language": "python",
   "name": "python3"
  },
  "language_info": {
   "codemirror_mode": {
    "name": "ipython",
    "version": 3
   },
   "file_extension": ".py",
   "mimetype": "text/x-python",
   "name": "python",
   "nbconvert_exporter": "python",
   "pygments_lexer": "ipython3",
   "version": "3.9.18"
  },
  "orig_nbformat": 4
 },
 "nbformat": 4,
 "nbformat_minor": 2
}
