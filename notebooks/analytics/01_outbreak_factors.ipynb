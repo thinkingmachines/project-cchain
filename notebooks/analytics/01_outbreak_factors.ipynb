{
 "cells": [
  {
   "cell_type": "markdown",
   "metadata": {},
   "source": [
    "# Conduct EDA on linked dataset and baseline model results"
   ]
  },
  {
   "cell_type": "code",
   "execution_count": null,
   "metadata": {},
   "outputs": [],
   "source": [
    "import pandas as pd\n",
    "import geopandas as gpd\n",
    "from shapely import wkt\n",
    "\n",
    "import seaborn as sns\n",
    "import matplotlib.pyplot as plt\n",
    "from matplotlib.colors import Normalize\n",
    "from matplotlib.colorbar import ColorbarBase\n",
    "from matplotlib.cm import ScalarMappable, get_cmap\n",
    "\n",
    "from pathlib import Path"
   ]
  },
  {
   "cell_type": "markdown",
   "metadata": {},
   "source": [
    "## Load data directory"
   ]
  },
  {
   "cell_type": "code",
   "execution_count": null,
   "metadata": {},
   "outputs": [],
   "source": [
    "# linked data\n",
    "DATA_DIR = Path(\"../../data/linked_data\")"
   ]
  },
  {
   "cell_type": "code",
   "execution_count": null,
   "metadata": {},
   "outputs": [],
   "source": [
    "GEOG_HEALTH = DATA_DIR / \"geog_health_city_merged.csv\"\n",
    "\n",
    "MODEL_DF = DATA_DIR / \"city_merged_w_outbreak_tag.csv\"\n",
    "ANALYZE_DF = DATA_DIR / \"analyze_city_merged_w_outbreak_preds.csv\"\n",
    "\n",
    "DAGUPAN_DENGUE = DATA_DIR / \"dagupan_dengue_city_merged_w_outbreak_tag.csv\"\n",
    "DAGUPAN_ROTAVIRUS = DATA_DIR / \"dagupan_rotavirus_city_merged_w_outbreak_tag.csv\"\n",
    "MUNTI_DENGUE = DATA_DIR / \"muntinlupa_dengue_city_merged_w_outbreak_tag.csv\"\n",
    "MUNTI_ROTAVIRUS = DATA_DIR / \"muntinlupa_rotavirus_city_merged.csv\""
   ]
  },
  {
   "cell_type": "markdown",
   "metadata": {},
   "source": [
    "## 1. What are the Top CDs cases /NCDs deaths? One bar graph CD, One bar graph NCD\n",
    "\n",
    "**Type**: Bar graphs/Pie Charts for Rankings, lists, percentages"
   ]
  },
  {
   "cell_type": "markdown",
   "metadata": {},
   "source": [
    "### Load city information and health cases"
   ]
  },
  {
   "cell_type": "code",
   "execution_count": null,
   "metadata": {},
   "outputs": [],
   "source": [
    "geog_health_df = pd.read_csv(GEOG_HEALTH)\n",
    "geog_health_df.head(3)"
   ]
  },
  {
   "cell_type": "code",
   "execution_count": null,
   "metadata": {},
   "outputs": [],
   "source": [
    "geog_health_df[\"date\"] = pd.to_datetime(geog_health_df[\"date\"])"
   ]
  },
  {
   "cell_type": "code",
   "execution_count": null,
   "metadata": {},
   "outputs": [],
   "source": [
    "geog_health_df = geog_health_df[geog_health_df[\"date\"].dt.year >= 2020]"
   ]
  },
  {
   "cell_type": "code",
   "execution_count": null,
   "metadata": {},
   "outputs": [],
   "source": [
    "AREA_DATE_COLS = [\n",
    "    \"adm3_en\",\n",
    "    \"adm3_pcode\",\n",
    "    \"date\",\n",
    "    \"year\",\n",
    "    \"week\",\n",
    "    \"brgy_distance_to_coast\",\n",
    "    \"brgy_is_coastal\",\n",
    "]\n",
    "CASE_COLS = geog_health_df.columns[\n",
    "    geog_health_df.columns.str.startswith(\"case\")\n",
    "].tolist()\n",
    "DEATH_COLS = geog_health_df.columns[\n",
    "    geog_health_df.columns.str.startswith(\"death\")\n",
    "].tolist()"
   ]
  },
  {
   "cell_type": "markdown",
   "metadata": {},
   "source": [
    "### Disease utils"
   ]
  },
  {
   "cell_type": "code",
   "execution_count": null,
   "metadata": {},
   "outputs": [],
   "source": [
    "def plot_diseases_bar(df, cols_list=CASE_COLS, category=\"CD\", city=\"\"):\n",
    "    count_df = df[cols_list].sum().sort_values(ascending=True)\n",
    "    count_df.plot(kind=\"barh\")\n",
    "\n",
    "    if city == \"\":\n",
    "        # Set the title and labels\n",
    "        plt.title(f\"Total historical sum of {category}s\")\n",
    "        plt.xlabel(\"Diseases\")\n",
    "        plt.ylabel(\"Sum of Cases\")\n",
    "\n",
    "        plt.show()\n",
    "    else:\n",
    "        # Set the title and labels\n",
    "        plt.title(f\"Total historical sum of {category}s - {city}\")\n",
    "        plt.xlabel(\"Diseases\")\n",
    "        plt.ylabel(\"Sum of Cases\")\n",
    "\n",
    "        plt.show()"
   ]
  },
  {
   "cell_type": "markdown",
   "metadata": {},
   "source": [
    "### Historical plot of CDs "
   ]
  },
  {
   "cell_type": "code",
   "execution_count": null,
   "metadata": {},
   "outputs": [],
   "source": [
    "# historically from 2003 to 2022\n",
    "plot_diseases_bar(geog_health_df, cols_list=CASE_COLS, category=\"CD\")"
   ]
  },
  {
   "cell_type": "markdown",
   "metadata": {},
   "source": [
    "### Historical Plot of NCDs"
   ]
  },
  {
   "cell_type": "code",
   "execution_count": null,
   "metadata": {},
   "outputs": [],
   "source": [
    "# historically from 2003 to 2022\n",
    "plot_diseases_bar(geog_health_df, cols_list=DEATH_COLS, category=\"NCD\")"
   ]
  },
  {
   "cell_type": "markdown",
   "metadata": {},
   "source": [
    "### Check all historical CDs and NCDs across the 12 cities"
   ]
  },
  {
   "cell_type": "code",
   "execution_count": null,
   "metadata": {},
   "outputs": [],
   "source": [
    "city_names = geog_health_df[\"adm3_en\"].unique().tolist()\n",
    "print(city_names)"
   ]
  },
  {
   "cell_type": "code",
   "execution_count": null,
   "metadata": {},
   "outputs": [],
   "source": [
    "CASE_COLS"
   ]
  },
  {
   "cell_type": "code",
   "execution_count": null,
   "metadata": {},
   "outputs": [],
   "source": [
    "for city in city_names:\n",
    "    print(f\"Plot overall diseases count for {city}\")\n",
    "    city_df = geog_health_df[geog_health_df[\"adm3_en\"] == city]\n",
    "    # city_df = city_df.drop(columns=['case_total_dengue'])\n",
    "    plot_diseases_bar(city_df, cols_list=CASE_COLS, category=\"CD\", city=city)\n",
    "    plot_diseases_bar(city_df, cols_list=DEATH_COLS, category=\"NCD\", city=city)"
   ]
  },
  {
   "cell_type": "code",
   "execution_count": null,
   "metadata": {},
   "outputs": [],
   "source": [
    "geog_health_df.groupby(\"adm3_en\")[CASE_COLS].sum()"
   ]
  },
  {
   "cell_type": "code",
   "execution_count": null,
   "metadata": {},
   "outputs": [],
   "source": [
    "geog_health_df.groupby(\"adm3_en\")[DEATH_COLS].sum()"
   ]
  },
  {
   "cell_type": "markdown",
   "metadata": {},
   "source": [
    "### Year on year growth"
   ]
  },
  {
   "cell_type": "code",
   "execution_count": null,
   "metadata": {},
   "outputs": [],
   "source": []
  },
  {
   "cell_type": "markdown",
   "metadata": {},
   "source": [
    "## 2. What diseases are coastal communities most susceptible to?\n",
    "\n",
    "> Removing this question as there are no unique diseases to the communities."
   ]
  },
  {
   "cell_type": "code",
   "execution_count": null,
   "metadata": {},
   "outputs": [],
   "source": [
    "geog_health_df[\"brgy_distance_to_coast\"].describe()"
   ]
  },
  {
   "cell_type": "code",
   "execution_count": null,
   "metadata": {},
   "outputs": [],
   "source": [
    "# coastal brgy\n",
    "coastal_areas = geog_health_df[geog_health_df[\"brgy_distance_to_coast\"] <= 1631]\n",
    "coastal_areas[\"adm3_en\"].unique()"
   ]
  },
  {
   "cell_type": "markdown",
   "metadata": {},
   "source": [
    "Plot seems to be the same as the overall diseases.\n",
    "\n",
    "> Can omit this plot"
   ]
  },
  {
   "cell_type": "code",
   "execution_count": null,
   "metadata": {},
   "outputs": [],
   "source": [
    "coastal_cd_sum = coastal_areas[CASE_COLS].sum().sort_values(ascending=False)\n",
    "coastal_cd_sum.plot(kind=\"bar\")\n",
    "\n",
    "# Set the title and labels\n",
    "plt.title(\"Total historical sum of CDs\")\n",
    "plt.xlabel(\"Diseases\")\n",
    "plt.ylabel(\"Sum of Cases\")"
   ]
  },
  {
   "cell_type": "markdown",
   "metadata": {},
   "source": [
    "## Prepare barangay tables with geometries"
   ]
  },
  {
   "cell_type": "code",
   "execution_count": null,
   "metadata": {},
   "outputs": [],
   "source": [
    "# open barangay geometries\n",
    "brgy_df = pd.read_csv(DATA_DIR / \"tables/brgy_geography.csv\")\n",
    "brgy_df = brgy_df.drop(\n",
    "    columns=[\"Unnamed: 0\", \"freq\", \"date\", \"uuid\", \"brgy_total_area\"]\n",
    ")\n",
    "brgy_df[\"geometry\"] = brgy_df[\"geometry\"].apply(wkt.loads)\n",
    "\n",
    "brgy_gdf = gpd.GeoDataFrame(brgy_df, geometry=\"geometry\")\n",
    "brgy_gdf.head(3)"
   ]
  },
  {
   "cell_type": "code",
   "execution_count": null,
   "metadata": {},
   "outputs": [],
   "source": [
    "# open full admin boundary table\n",
    "loc_df = pd.read_csv(DATA_DIR / \"tables/location.csv\")\n",
    "loc_df = loc_df.drop(columns=[\"Unnamed: 0\", \"uuid\"])\n",
    "loc_df.head(3)"
   ]
  },
  {
   "cell_type": "code",
   "execution_count": null,
   "metadata": {},
   "outputs": [],
   "source": [
    "# merge location and geometry tables\n",
    "brgy_gdf = loc_df.merge(brgy_gdf, how=\"left\", on=\"adm4_pcode\")\n",
    "brgy_gdf = gpd.GeoDataFrame(brgy_gdf)\n",
    "brgy_gdf.head(2)"
   ]
  },
  {
   "cell_type": "markdown",
   "metadata": {},
   "source": [
    "# What other variables contribute to the cases?\n",
    "\n",
    "-  Population, and other environment variables (hazard, land use, built up areas)\n",
    "-  Plot isochrones, access to healthcare facilities (choropleth)\n",
    "-  Plot wealth index\n"
   ]
  },
  {
   "cell_type": "markdown",
   "metadata": {},
   "source": [
    "# 4. How is each city's access to healthcare facilities relative to their area?"
   ]
  },
  {
   "cell_type": "markdown",
   "metadata": {},
   "source": [
    "## % reached in health facilities"
   ]
  },
  {
   "cell_type": "code",
   "execution_count": null,
   "metadata": {},
   "outputs": [],
   "source": [
    "# open health access files\n",
    "brgy_iso = pd.read_csv(DATA_DIR / \"tables/mapbox_health_facility_brgy_isochrones.csv\")\n",
    "brgy_iso = brgy_iso.drop(columns=[\"Unnamed: 0\", \"uuid\", \"date\", \"freq\"])\n",
    "brgy_iso.head(3)"
   ]
  },
  {
   "cell_type": "code",
   "execution_count": null,
   "metadata": {},
   "outputs": [],
   "source": [
    "# keep only necessary cols\n",
    "pct_cols = [col for col in brgy_iso.columns if col.__contains__(\"_pct\")]\n",
    "brgy_iso = brgy_iso[[\"adm4_pcode\"] + pct_cols]\n",
    "brgy_iso.head(3)"
   ]
  },
  {
   "cell_type": "code",
   "execution_count": null,
   "metadata": {},
   "outputs": [],
   "source": [
    "brgy_iso = brgy_iso.merge(\n",
    "    brgy_gdf[[\"adm3_en\", \"adm4_pcode\", \"geometry\"]], on=\"adm4_pcode\", how=\"left\"\n",
    ")"
   ]
  },
  {
   "cell_type": "code",
   "execution_count": null,
   "metadata": {},
   "outputs": [],
   "source": [
    "brgy_iso = gpd.GeoDataFrame(brgy_iso)"
   ]
  },
  {
   "cell_type": "code",
   "execution_count": null,
   "metadata": {},
   "outputs": [],
   "source": [
    "health_facility_type = [\"brgy_healthcenter\", \"hospital\", \"rhu\"]\n",
    "pct_5min = [col for col in brgy_iso.columns if col.endswith(\"_5min\")]\n",
    "pct_15min = [col for col in brgy_iso.columns if col.endswith(\"_15min\")]\n",
    "pct_30min = [col for col in brgy_iso.columns if col.endswith(\"_30min\")]"
   ]
  },
  {
   "cell_type": "code",
   "execution_count": null,
   "metadata": {},
   "outputs": [],
   "source": [
    "cities = brgy_gdf[\"adm3_en\"].unique().tolist()\n",
    "print(cities)"
   ]
  },
  {
   "cell_type": "code",
   "execution_count": null,
   "metadata": {},
   "outputs": [],
   "source": [
    "def plot_health_access(iso_gdf, city, pct_cols):\n",
    "    fig, axs = plt.subplots(1, 3, figsize=(14, 6))\n",
    "    # Define the number of rows and columns for subplots\n",
    "\n",
    "    city_data = iso_gdf[iso_gdf[\"adm3_en\"] == city]\n",
    "\n",
    "    # Define colormap and normalization\n",
    "    cmap = get_cmap(\"YlGnBu\")\n",
    "    norm = Normalize(\n",
    "        vmin=city_data[pct_cols].min().min(), vmax=city_data[pct_cols].max().max()\n",
    "    )\n",
    "\n",
    "    # Iterate over the columns and plot each one\n",
    "    for ax, column in zip(axs, pct_cols):\n",
    "        city_data.plot(column=column, ax=ax, legend=False, cmap=cmap, norm=norm)\n",
    "        ax.set_title(f\"{column}\")\n",
    "        ax.axis(\"off\")  # Turn off the axis\n",
    "\n",
    "    # Create a color bar at the bottom of the plots\n",
    "    cax = fig.add_axes(\n",
    "        [0.1, 0.08, 0.8, 0.03]\n",
    "    )  # Position for the color bar [left, bottom, width, height]\n",
    "    sm = ScalarMappable(norm=norm, cmap=cmap)\n",
    "    sm._A = []  # This is necessary for ScalarMappable\n",
    "    cb = ColorbarBase(cax, cmap=cmap, norm=norm, orientation=\"horizontal\")\n",
    "    cb.set_label(\"Data Scale\")  # You can customize this label\n",
    "\n",
    "    plt.tight_layout(\n",
    "        rect=[0, 0.15, 1, 1]\n",
    "    )  # Adjust the rect to leave space for the color bar\n",
    "    plt.title(city)\n",
    "    plt.show()"
   ]
  },
  {
   "cell_type": "code",
   "execution_count": null,
   "metadata": {},
   "outputs": [],
   "source": [
    "for city in cities:\n",
    "    plot_health_access(brgy_iso, city=city, pct_cols=pct_5min)"
   ]
  },
  {
   "cell_type": "markdown",
   "metadata": {},
   "source": [
    "## Population Density"
   ]
  },
  {
   "cell_type": "code",
   "execution_count": null,
   "metadata": {},
   "outputs": [],
   "source": [
    "def plot_pop_density(\n",
    "    pop_df, pop_col, vmin, vmax, cmap=\"Reds\", label=\"Population Density\"\n",
    "):\n",
    "    # Ensure the data is grouped by the 'city' column\n",
    "    # max_val = pop_df[pop_col].max()\n",
    "    grouped = pop_df.groupby(\"adm3_en\")\n",
    "\n",
    "    # Number of cities\n",
    "    num_cities = len(grouped)\n",
    "\n",
    "    # Create subplots - adjust the number of rows and columns as needed\n",
    "    fig, axs = plt.subplots(\n",
    "        nrows=int(num_cities**0.5) + 1,\n",
    "        ncols=int(num_cities**0.5) + 1,\n",
    "        figsize=(15, 18),\n",
    "    )\n",
    "    axs = axs.flatten()  # Flatten the array of axes\n",
    "\n",
    "    # Define colormap and normalization\n",
    "    cmap = get_cmap(cmap)\n",
    "    # norm = Normalize(vmin=pop_df[pop_col].min().min(), vmax=pop_df[pop_col].max())\n",
    "\n",
    "    # Loop through each city and plot it\n",
    "    for i, (city_name, data) in enumerate(grouped):\n",
    "        ax = axs[i]\n",
    "        data.plot(\n",
    "            ax=ax,\n",
    "            legend=True,\n",
    "            column=pop_col,\n",
    "            cmap=cmap,\n",
    "            legend_kwds={\n",
    "                \"label\": label,\n",
    "                \"orientation\": \"horizontal\",\n",
    "                \"shrink\": 0.8,\n",
    "                \"anchor\": (0.5, 1),\n",
    "            },\n",
    "            vmin=vmin,\n",
    "            vmax=vmax\n",
    "            # vmax=pop_df[pop_col].describe(percentiles=[0.75, 0.9, 0.95])['95%']\n",
    "        )  # Plot the data\n",
    "        ax.set_title(f\"{city_name}\")\n",
    "        ax.axis(\"off\")  # Turn off axis\n",
    "\n",
    "    # Hide any unused axes if there are any\n",
    "    for j in range(i + 1, len(axs)):\n",
    "        axs[j].set_visible(False)\n",
    "\n",
    "    # Create a color bar at the bottom of the plots\n",
    "    # cax = fig.add_axes([0.1, 0.08, 0.8, 0.03])  # Position for the color bar [left, bottom, width, height]\n",
    "    # sm = ScalarMappable(norm=norm, cmap=cmap)\n",
    "    # sm._A = []  # This is necessary for ScalarMappable\n",
    "    # cb = ColorbarBase(cax, cmap=cmap, norm=norm, orientation='horizontal')\n",
    "    # cb.set_label('Data Scale')  # You can customize this label\n",
    "\n",
    "    plt.tight_layout()  # Adjust the rect to leave space for the color bar\n",
    "    # Show the plot\n",
    "    plt.show()"
   ]
  },
  {
   "cell_type": "code",
   "execution_count": null,
   "metadata": {},
   "outputs": [],
   "source": [
    "population_df = pd.read_csv(DATA_DIR / \"tables/worldpop_population.csv\")\n",
    "population_df = population_df.drop(columns=[\"Unnamed: 0\", \"uuid\"])\n",
    "population_df = population_df[\n",
    "    [\"adm4_pcode\", \"date\", \"pop_count_total\", \"pop_count_mean\"]\n",
    "]\n",
    "population_df.head()"
   ]
  },
  {
   "cell_type": "code",
   "execution_count": null,
   "metadata": {},
   "outputs": [],
   "source": [
    "population_df[\"date\"] = pd.to_datetime(population_df[\"date\"])\n",
    "population_df = population_df[population_df[\"date\"].dt.year == 2020]\n",
    "population_df = population_df.merge(\n",
    "    brgy_gdf[[\"adm3_en\", \"adm4_pcode\", \"geometry\"]], on=\"adm4_pcode\", how=\"left\"\n",
    ")\n",
    "population_gdf = gpd.GeoDataFrame(population_df)\n",
    "population_gdf"
   ]
  },
  {
   "cell_type": "code",
   "execution_count": null,
   "metadata": {},
   "outputs": [],
   "source": [
    "plot_pop_density(population_gdf, \"pop_count_mean\", vmin=0, vmax=None)"
   ]
  },
  {
   "cell_type": "markdown",
   "metadata": {},
   "source": [
    "## Plot Wealth Index"
   ]
  },
  {
   "cell_type": "code",
   "execution_count": null,
   "metadata": {},
   "outputs": [],
   "source": [
    "rwi_df = pd.read_csv(DATA_DIR / \"tables/tm_relative_wealth_index.csv\")\n",
    "rwi_df = rwi_df.drop(columns=[\"Unnamed: 0\", \"uuid\", \"date\", \"freq\"])\n",
    "# hazards_df = hazards_df[['adm4_pcode', 'date', 'pop_count_total', 'pop_count_mean']]\n",
    "rwi_df.head()"
   ]
  },
  {
   "cell_type": "code",
   "execution_count": null,
   "metadata": {},
   "outputs": [],
   "source": [
    "rwi_df = rwi_df.merge(\n",
    "    brgy_gdf[[\"adm3_en\", \"adm4_pcode\", \"geometry\"]], on=\"adm4_pcode\", how=\"left\"\n",
    ")\n",
    "rwi_gdf = gpd.GeoDataFrame(rwi_df)"
   ]
  },
  {
   "cell_type": "code",
   "execution_count": null,
   "metadata": {},
   "outputs": [],
   "source": [
    "plot_pop_density(rwi_gdf, \"rwi_mean\", vmin=0, vmax=1, cmap=\"viridis\", label=\"RWI\")"
   ]
  },
  {
   "cell_type": "markdown",
   "metadata": {},
   "source": [
    "## Plot health care facilities"
   ]
  },
  {
   "cell_type": "code",
   "execution_count": null,
   "metadata": {},
   "outputs": [],
   "source": [
    "doh_poi_health = pd.read_csv(DATA_DIR / \"tables/geoportal_doh_poi_health.csv\")\n",
    "doh_poi_health = doh_poi_health.drop(columns=[\"Unnamed: 0\", \"uuid\"])\n",
    "doh_poi_health.head(2)"
   ]
  },
  {
   "cell_type": "code",
   "execution_count": null,
   "metadata": {},
   "outputs": [],
   "source": [
    "doh_poi_health = doh_poi_health[\n",
    "    doh_poi_health[\"adm4_pcode\"].isin(dagupan_brgys_list + munti_brgys_list)\n",
    "]\n",
    "doh_poi_health = doh_poi_health.merge(\n",
    "    loc_df[[\"adm3_en\", \"adm4_pcode\"]], how=\"left\", on=\"adm4_pcode\"\n",
    ")\n",
    "doh_poi_health = doh_poi_health.merge(\n",
    "    brgy_gdf[[\"adm4_pcode\", \"geometry\"]], how=\"left\", on=\"adm4_pcode\"\n",
    ")\n",
    "doh_poi_health.head(2)"
   ]
  },
  {
   "cell_type": "code",
   "execution_count": null,
   "metadata": {},
   "outputs": [],
   "source": [
    "doh_poi_gdf = gpd.GeoDataFrame(doh_poi_health)\n",
    "dagupan_doh_gdf = doh_poi_gdf[doh_poi_gdf[\"adm3_en\"] == \"Dagupan City\"]\n",
    "munti_doh_gdf = doh_poi_gdf[doh_poi_gdf[\"adm3_en\"] == \"City of Muntinlupa\"]"
   ]
  },
  {
   "cell_type": "code",
   "execution_count": null,
   "metadata": {},
   "outputs": [],
   "source": [
    "ax = dagupan_doh_gdf.plot(column=\"doh_pois_count\", legend=True, cmap=\"OrRd\", vmax=8)\n",
    "ax.set_title(\"Dagupan Health POIs\")\n",
    "plt.show()"
   ]
  },
  {
   "cell_type": "code",
   "execution_count": null,
   "metadata": {},
   "outputs": [],
   "source": [
    "ax = munti_doh_gdf.plot(column=\"doh_pois_count\", legend=True, cmap=\"OrRd\")\n",
    "ax.set_title(\"Muntinlupa Health POIs\")\n",
    "plt.show()"
   ]
  }
 ],
 "metadata": {
  "kernelspec": {
   "display_name": "lacuna-fund",
   "language": "python",
   "name": "python3"
  },
  "language_info": {
   "codemirror_mode": {
    "name": "ipython",
    "version": 3
   },
   "file_extension": ".py",
   "mimetype": "text/x-python",
   "name": "python",
   "nbconvert_exporter": "python",
   "pygments_lexer": "ipython3",
   "version": "3.9.18"
  },
  "orig_nbformat": 4
 },
 "nbformat": 4,
 "nbformat_minor": 2
}
