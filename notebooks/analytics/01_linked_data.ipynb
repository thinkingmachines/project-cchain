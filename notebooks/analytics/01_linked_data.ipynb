{
 "cells": [
  {
   "cell_type": "markdown",
   "metadata": {},
   "source": [
    "# EDA on linked dataset and baseline model results\n",
    "This notebook generates charts to analyze key findings on trends and patterns seen in the linked dataset, and the results of the baseline outbreak model"
   ]
  },
  {
   "cell_type": "markdown",
   "metadata": {},
   "source": [
    "## Imports and set-up"
   ]
  },
  {
   "cell_type": "code",
   "execution_count": null,
   "metadata": {},
   "outputs": [],
   "source": [
    "%load_ext autoreload\n",
    "%autoreload 2"
   ]
  },
  {
   "cell_type": "code",
   "execution_count": null,
   "metadata": {},
   "outputs": [],
   "source": [
    "import pandas as pd\n",
    "import geopandas as gpd\n",
    "from shapely import wkt\n",
    "import matplotlib.pyplot as plt\n",
    "import numpy as np\n",
    "\n",
    "from pathlib import Path\n",
    "import os\n",
    "\n",
    "import pandas as pd\n",
    "import geopandas as gpd\n",
    "from shapely import wkt"
   ]
  },
  {
   "cell_type": "code",
   "execution_count": null,
   "metadata": {},
   "outputs": [],
   "source": [
    "import sys\n",
    "\n",
    "sys.path.append(\"../../\")\n",
    "from src.settings import DATA_DIR\n",
    "from src.linked_data_viz import *"
   ]
  },
  {
   "cell_type": "markdown",
   "metadata": {},
   "source": [
    "## Set directories\n",
    "\n",
    "Access input files in [this folder](https://drive.google.com/drive/u/0/folders/1JRpfEZS17gBlh84RcCwVppsaNqCyV1bb)\n",
    "\n",
    "- For informal settlement data, public users are asked to submit a request [here](https://forms.gle/vwgjJ32hqHCWMpTBA) and wait for approval. \n",
    "- For TM and other members of the project team, kindly inform the repo owner."
   ]
  },
  {
   "cell_type": "code",
   "execution_count": null,
   "metadata": {},
   "outputs": [],
   "source": [
    "# linked data\n",
    "LINKED_DATA_FPATH = DATA_DIR / \"linked_data\"\n",
    "\n",
    "GEOG_HEALTH = LINKED_DATA_FPATH / \"processed/geog_health_city_merged.csv\"\n",
    "\n",
    "# cases with outbreak tags\n",
    "LABELED_CASES_DIR = LINKED_DATA_FPATH / \"tagged_outbreaks\"\n",
    "DAGUPAN_DENGUE = LABELED_CASES_DIR / \"dagupan_dengue_city_merged_w_outbreak_tag.csv\"\n",
    "DAGUPAN_ROTAVIRUS = (\n",
    "    LABELED_CASES_DIR / \"dagupan_rotavirus_city_merged_w_outbreak_tag.csv\"\n",
    ")\n",
    "\n",
    "# informal settlements\n",
    "PACSII_FPATH = LINKED_DATA_FPATH / \"pacsii/informal_settlement_community_surveys_v1.csv\"\n",
    "PACSII_FPATH_V2 = (\n",
    "    LINKED_DATA_FPATH / \"pacsii/informal_settlement_community_surveys_v2.csv\"\n",
    ")\n",
    "\n",
    "# muntinlupa consolidated table (climate + environment)\n",
    "LINKED_MUNTINLUPA = LINKED_DATA_FPATH / \"processed/linked_muntinlupa.csv\"\n",
    "\n",
    "# cleaned up muntinlupa lgu disease data\n",
    "MUNTI1_FPATH = LINKED_DATA_FPATH / \"processed/lgu-level/Muntinlupa_1.csv\"\n",
    "MUNTI2_FPATH = LINKED_DATA_FPATH / \"processed/lgu-level/Muntinlupa_2.csv\"\n",
    "MUNTI3_FPATH = LINKED_DATA_FPATH / \"processed/lgu-level/Muntinlupa_3.csv\"\n",
    "MUNTI4_FPATH = LINKED_DATA_FPATH / \"processed/lgu-level/Muntinlupa_4.csv\"\n",
    "\n",
    "# location and geom tables\n",
    "LINKED_DATA_TABLES_DIR = LINKED_DATA_FPATH / \"tables\"\n",
    "LOC_FPATH = LINKED_DATA_TABLES_DIR / \"location.csv\"\n",
    "GEOG_FPATH = LINKED_DATA_TABLES_DIR / \"brgy_geography.csv\"\n",
    "HEALTH_ISOCHRONES = (\n",
    "    LINKED_DATA_TABLES_DIR / \"mapbox_health_facility_brgy_isochrones.csv\"\n",
    ")\n",
    "POPULATION = LINKED_DATA_TABLES_DIR / \"worldpop_population.csv\"\n",
    "RWI = LINKED_DATA_TABLES_DIR / \"tm_relative_wealth_index.csv\""
   ]
  },
  {
   "cell_type": "markdown",
   "metadata": {},
   "source": [
    "## Read tables"
   ]
  },
  {
   "cell_type": "code",
   "execution_count": null,
   "metadata": {},
   "outputs": [],
   "source": [
    "# informal settlements\n",
    "pacsii_v1 = pd.read_csv(PACSII_FPATH)\n",
    "\n",
    "# from linked dataset notebook\n",
    "muntinlupa_linked = pd.read_csv(LINKED_MUNTINLUPA)\n",
    "\n",
    "# from outbreak model notebook\n",
    "dagupan_dengue = pd.read_csv(DAGUPAN_DENGUE)\n",
    "\n",
    "# from cleaned up lgu data\n",
    "muntinlupa1 = pd.read_csv(MUNTI1_FPATH)\n",
    "muntinlupa2 = pd.read_csv(MUNTI2_FPATH)\n",
    "muntinlupa3 = pd.read_csv(MUNTI3_FPATH)\n",
    "muntinlupa4 = pd.read_csv(MUNTI4_FPATH)"
   ]
  },
  {
   "cell_type": "markdown",
   "metadata": {},
   "source": [
    "## Prepare location tables with geometries"
   ]
  },
  {
   "cell_type": "code",
   "execution_count": null,
   "metadata": {},
   "outputs": [],
   "source": [
    "# open barangay geometries\n",
    "brgy_geography = pd.read_csv(GEOG_FPATH)\n",
    "brgy_geography = brgy_geography.drop(\n",
    "    columns=[\"Unnamed: 0\", \"freq\", \"date\", \"uuid\", \"brgy_total_area\"]\n",
    ")\n",
    "brgy_geography[\"geometry\"] = brgy_geography[\"geometry\"].apply(wkt.loads)\n",
    "\n",
    "brgy_gdf = gpd.GeoDataFrame(brgy_geography, geometry=\"geometry\")\n",
    "brgy_gdf.head(3)"
   ]
  },
  {
   "cell_type": "code",
   "execution_count": null,
   "metadata": {},
   "outputs": [],
   "source": [
    "# open full admin boundary table\n",
    "loc_df = pd.read_csv(LOC_FPATH)\n",
    "loc_df = loc_df.drop(columns=[\"Unnamed: 0\", \"uuid\"])\n",
    "loc_df.head(3)"
   ]
  },
  {
   "cell_type": "code",
   "execution_count": null,
   "metadata": {},
   "outputs": [],
   "source": [
    "# merge location and geometry tables\n",
    "brgy_gdf = loc_df.merge(brgy_gdf, how=\"left\", on=\"adm4_pcode\")\n",
    "brgy_gdf = gpd.GeoDataFrame(brgy_gdf)\n",
    "brgy_gdf.head(2)"
   ]
  },
  {
   "cell_type": "markdown",
   "metadata": {},
   "source": [
    "# General analysis for 12 lacuna cities"
   ]
  },
  {
   "cell_type": "markdown",
   "metadata": {},
   "source": [
    "## Top CDs cases /NCDs deaths"
   ]
  },
  {
   "cell_type": "code",
   "execution_count": null,
   "metadata": {},
   "outputs": [],
   "source": [
    "geog_health_df = pd.read_csv(GEOG_HEALTH)\n",
    "geog_health_df[\"date\"] = pd.to_datetime(geog_health_df[\"date\"])\n",
    "geog_health_df = geog_health_df[geog_health_df[\"date\"].dt.year >= 2020]\n",
    "geog_health_df.head(3)"
   ]
  },
  {
   "cell_type": "code",
   "execution_count": null,
   "metadata": {},
   "outputs": [],
   "source": [
    "AREA_DATE_COLS = [\n",
    "    \"adm3_en\",\n",
    "    \"adm3_pcode\",\n",
    "    \"date\",\n",
    "    \"year\",\n",
    "    \"week\",\n",
    "    \"brgy_distance_to_coast\",\n",
    "    \"brgy_is_coastal\",\n",
    "]\n",
    "CASE_COLS = geog_health_df.columns[\n",
    "    geog_health_df.columns.str.startswith(\"case\")\n",
    "].tolist()\n",
    "DEATH_COLS = geog_health_df.columns[\n",
    "    geog_health_df.columns.str.startswith(\"death\")\n",
    "].tolist()"
   ]
  },
  {
   "cell_type": "code",
   "execution_count": null,
   "metadata": {},
   "outputs": [],
   "source": [
    "# historically from 2003 to 2022\n",
    "plot_diseases_bar(geog_health_df, cols_list=CASE_COLS, category=\"CD\")"
   ]
  },
  {
   "cell_type": "code",
   "execution_count": null,
   "metadata": {},
   "outputs": [],
   "source": [
    "# historically from 2003 to 2022\n",
    "plot_diseases_bar(geog_health_df, cols_list=DEATH_COLS, category=\"NCD\")"
   ]
  },
  {
   "cell_type": "code",
   "execution_count": null,
   "metadata": {},
   "outputs": [],
   "source": [
    "city_names = geog_health_df[\"adm3_en\"].unique().tolist()\n",
    "for city in city_names:\n",
    "    print(f\"Plot overall diseases count for {city}\")\n",
    "    city_df = geog_health_df[geog_health_df[\"adm3_en\"] == city]\n",
    "    # city_df = city_df.drop(columns=['case_total_dengue'])\n",
    "    plot_diseases_bar(city_df, cols_list=CASE_COLS, category=\"CD\", city=city)\n",
    "    plot_diseases_bar(city_df, cols_list=DEATH_COLS, category=\"NCD\", city=city)"
   ]
  },
  {
   "cell_type": "code",
   "execution_count": null,
   "metadata": {},
   "outputs": [],
   "source": [
    "geog_health_df.groupby(\"adm3_en\")[CASE_COLS].sum()"
   ]
  },
  {
   "cell_type": "code",
   "execution_count": null,
   "metadata": {},
   "outputs": [],
   "source": [
    "geog_health_df.groupby(\"adm3_en\")[DEATH_COLS].sum()"
   ]
  },
  {
   "cell_type": "markdown",
   "metadata": {},
   "source": [
    "## Health Access"
   ]
  },
  {
   "cell_type": "code",
   "execution_count": null,
   "metadata": {},
   "outputs": [],
   "source": [
    "# open health access files\n",
    "brgy_iso = pd.read_csv(HEALTH_ISOCHRONES)\n",
    "brgy_iso = brgy_iso.drop(columns=[\"Unnamed: 0\", \"uuid\", \"date\", \"freq\"])\n",
    "\n",
    "# keep only necessary cols\n",
    "pct_cols = [col for col in brgy_iso.columns if col.__contains__(\"_pct\")]\n",
    "brgy_iso = brgy_iso[[\"adm4_pcode\"] + pct_cols]\n",
    "brgy_iso.head(3)"
   ]
  },
  {
   "cell_type": "code",
   "execution_count": null,
   "metadata": {},
   "outputs": [],
   "source": [
    "brgy_iso = brgy_iso.merge(\n",
    "    brgy_gdf[[\"adm3_en\", \"adm4_pcode\", \"geometry\"]], on=\"adm4_pcode\", how=\"left\"\n",
    ")\n",
    "brgy_iso = gpd.GeoDataFrame(brgy_iso)"
   ]
  },
  {
   "cell_type": "code",
   "execution_count": null,
   "metadata": {},
   "outputs": [],
   "source": [
    "health_facility_type = [\"brgy_healthcenter\", \"hospital\", \"rhu\"]\n",
    "pct_5min = [col for col in brgy_iso.columns if col.endswith(\"_5min\")]\n",
    "pct_15min = [col for col in brgy_iso.columns if col.endswith(\"_15min\")]\n",
    "pct_30min = [col for col in brgy_iso.columns if col.endswith(\"_30min\")]"
   ]
  },
  {
   "cell_type": "code",
   "execution_count": null,
   "metadata": {},
   "outputs": [],
   "source": [
    "cities = brgy_gdf[\"adm3_en\"].unique().tolist()\n",
    "\n",
    "for city in cities:\n",
    "    if city == \"Iloilo City\" or city == \"Davao City\":\n",
    "        plot_health_access(brgy_iso, city=city, pct_cols=pct_5min, save_df=True)"
   ]
  },
  {
   "cell_type": "code",
   "execution_count": null,
   "metadata": {},
   "outputs": [],
   "source": [
    "plot_choropleth_all_cities(\n",
    "    brgy_iso,\n",
    "    \"rhu_pop_reached_pct_5min\",\n",
    "    vmin=0,\n",
    "    vmax=100,\n",
    "    cmap=\"viridis\",\n",
    "    label=\"% population reached in 5 mins \\n for RHUs\",\n",
    ")"
   ]
  },
  {
   "cell_type": "markdown",
   "metadata": {},
   "source": [
    "## Population Density"
   ]
  },
  {
   "cell_type": "code",
   "execution_count": null,
   "metadata": {},
   "outputs": [],
   "source": [
    "population_df = pd.read_csv(POPULATION)\n",
    "population_df = population_df.drop(columns=[\"Unnamed: 0\", \"uuid\"])\n",
    "population_df = population_df[\n",
    "    [\"adm4_pcode\", \"date\", \"pop_count_total\", \"pop_count_mean\"]\n",
    "]\n",
    "population_df.head()"
   ]
  },
  {
   "cell_type": "code",
   "execution_count": null,
   "metadata": {},
   "outputs": [],
   "source": [
    "population_df[\"date\"] = pd.to_datetime(population_df[\"date\"])\n",
    "population_df = population_df[population_df[\"date\"].dt.year == 2020]\n",
    "population_df = population_df.merge(\n",
    "    brgy_gdf[[\"adm3_en\", \"adm4_pcode\", \"geometry\"]], on=\"adm4_pcode\", how=\"left\"\n",
    ")\n",
    "population_gdf = gpd.GeoDataFrame(population_df)\n",
    "population_gdf"
   ]
  },
  {
   "cell_type": "code",
   "execution_count": null,
   "metadata": {},
   "outputs": [],
   "source": [
    "plot_choropleth_all_cities(population_gdf, \"pop_count_mean\", vmin=0, vmax=None)"
   ]
  },
  {
   "cell_type": "markdown",
   "metadata": {},
   "source": [
    "## Wealth Index"
   ]
  },
  {
   "cell_type": "code",
   "execution_count": null,
   "metadata": {},
   "outputs": [],
   "source": [
    "rwi_df = pd.read_csv(RWI)\n",
    "rwi_df = rwi_df.drop(columns=[\"Unnamed: 0\", \"uuid\", \"date\", \"freq\"])\n",
    "rwi_df.head()"
   ]
  },
  {
   "cell_type": "code",
   "execution_count": null,
   "metadata": {},
   "outputs": [],
   "source": [
    "rwi_df = rwi_df.merge(\n",
    "    brgy_gdf[[\"adm3_en\", \"adm4_pcode\", \"geometry\"]], on=\"adm4_pcode\", how=\"left\"\n",
    ")\n",
    "rwi_gdf = gpd.GeoDataFrame(rwi_df)"
   ]
  },
  {
   "cell_type": "code",
   "execution_count": null,
   "metadata": {},
   "outputs": [],
   "source": [
    "plot_choropleth_all_cities(\n",
    "    rwi_gdf, \"rwi_mean\", vmin=0, vmax=1, cmap=\"viridis\", label=\"RWI\"\n",
    ")"
   ]
  },
  {
   "cell_type": "markdown",
   "metadata": {},
   "source": [
    "# PACSII Surveys"
   ]
  },
  {
   "cell_type": "code",
   "execution_count": null,
   "metadata": {},
   "outputs": [],
   "source": [
    "# informal settlements\n",
    "pacsii_v1 = pd.read_csv(PACSII_FPATH)\n",
    "pacsii_v2 = pd.read_csv(PACSII_FPATH_V2)\n",
    "pacsii_v2.info(verbose=True)"
   ]
  },
  {
   "cell_type": "code",
   "execution_count": null,
   "metadata": {},
   "outputs": [],
   "source": [
    "# drop columns\n",
    "pacsii_v1.drop(columns=[\"Unnamed: 0\"], inplace=True)\n",
    "location = loc_df[[\"adm3_en\", \"adm4_pcode\"]]\n",
    "\n",
    "# merged dataframes to extract adm3_en\n",
    "merged_df = pd.merge(location, pacsii_v1, on=\"adm4_pcode\")\n",
    "\n",
    "# reorder columns\n",
    "merged_df = merged_df[\n",
    "    [\"adm3_en\", \"adm4_pcode\"]\n",
    "    + [col for col in merged_df.columns if col not in [\"adm3_en\", \"adm4_pcode\"]]\n",
    "]\n",
    "merged_df.head(3)"
   ]
  },
  {
   "cell_type": "markdown",
   "metadata": {},
   "source": [
    "## Muntinlupa vs. Iloilo\n",
    "\n",
    "Use `batch_df` so that dataframe is already filtered to `batches_of_interest`."
   ]
  },
  {
   "cell_type": "code",
   "execution_count": null,
   "metadata": {},
   "outputs": [],
   "source": [
    "# filter to batches of interest\n",
    "batches_of_interest = [\n",
    "    \"muntinlupa_2015\",\n",
    "    \"muntinlupa_2016\",\n",
    "    \"iloilo_2020\",\n",
    "    \"iloilo_2021\",\n",
    "    \"iloilo_2022\",\n",
    "]\n",
    "batch_df = merged_df[(merged_df[\"batch\"].isin(batches_of_interest))]\n",
    "\n",
    "# show number of rows per survey batch and barangay\n",
    "rows_per_batch_and_adm4_pcode = batch_df.groupby([\"batch\", \"adm4_pcode\"]).size()\n",
    "print(rows_per_batch_and_adm4_pcode.to_string())"
   ]
  },
  {
   "cell_type": "markdown",
   "metadata": {},
   "source": [
    "### Water Supply"
   ]
  },
  {
   "cell_type": "code",
   "execution_count": null,
   "metadata": {},
   "outputs": [],
   "source": [
    "# fix values\n",
    "batch_df_edit = batch_df.copy()\n",
    "batch_df_edit.loc[\"water_supply_type_1\"] = batch_df_edit[\"water_supply_type_1\"].fillna(\n",
    "    \"Unknown\"\n",
    ")\n",
    "\n",
    "plot_pacsii_batch_data(\n",
    "    batch_df_edit,\n",
    "    var_to_plot=\"water_supply_type_1\",\n",
    "    plot_title=\"Primary Water Supply Type\",\n",
    "    legend_title=\"Water Supply Type\",\n",
    ")"
   ]
  },
  {
   "cell_type": "markdown",
   "metadata": {},
   "source": [
    "### Toilets"
   ]
  },
  {
   "cell_type": "code",
   "execution_count": null,
   "metadata": {},
   "outputs": [],
   "source": [
    "# fix values\n",
    "batch_df_edit = batch_df.copy()\n",
    "batch_df_edit[\"has_toilets_functioning\"] = (\n",
    "    batch_df_edit[\"has_toilets_functioning\"]\n",
    "    .fillna(\"Unknown\")\n",
    "    .replace({0: \"No\", 1: \"Yes\"})\n",
    ")\n",
    "\n",
    "plot_pacsii_batch_data(\n",
    "    batch_df_edit,\n",
    "    var_to_plot=\"has_toilets_functioning\",\n",
    "    plot_title=\"Functioning Toilets Inside the House\",\n",
    "    legend_title=\"Functioning Toilet\",\n",
    "    bbox_anchor=(0.60, -0.1),\n",
    ")"
   ]
  },
  {
   "cell_type": "markdown",
   "metadata": {},
   "source": [
    "### Income Bracket"
   ]
  },
  {
   "cell_type": "code",
   "execution_count": null,
   "metadata": {},
   "outputs": [],
   "source": [
    "# fix values\n",
    "batch_df_edit = batch_df.copy()\n",
    "batch_df_edit[\"income_bracket\"] = (\n",
    "    batch_df_edit[\"income_bracket\"]\n",
    "    .replace(\n",
    "        {\n",
    "            \"Below 10,957\": \"00 Poor: Below PHP 10,957\",\n",
    "            \"10,957-21,914\": \"01 Low income: PHP 10,957-21,914\",\n",
    "            \"21,914-43,828\": \"02 Lower middle income: PHP 21,914-43,828\",\n",
    "            \"43,828-76,699\": \"03 Middle middle income: PHP 43,828-76,699\",\n",
    "            \"76,699-131,483\": \"04 Upper middle income: PHP 76,699-131,483\",\n",
    "            \"131,483-219,140\": \"05 Upper income: PHP 131,483-219,140\",\n",
    "            \"Above 219,140\": \"06 Rich: Above 219,140\",\n",
    "        }\n",
    "    )\n",
    "    .fillna(\"Unknown\")\n",
    ")\n",
    "\n",
    "plot_pacsii_batch_data(\n",
    "    batch_df_edit,\n",
    "    var_to_plot=\"income_bracket\",\n",
    "    plot_title=\"Income Bracket\",\n",
    "    legend_title=\"Income Bracket\",\n",
    "    bbox_anchor=(0.8, -0.1),\n",
    ")"
   ]
  },
  {
   "cell_type": "markdown",
   "metadata": {},
   "source": [
    "## Davao- Matina Aplaya"
   ]
  },
  {
   "cell_type": "markdown",
   "metadata": {},
   "source": [
    "### Toilets"
   ]
  },
  {
   "cell_type": "code",
   "execution_count": null,
   "metadata": {},
   "outputs": [],
   "source": [
    "dataframe = merged_df.copy()\n",
    "\n",
    "plot_pacsii_stacked_area_comparison(\n",
    "    dataframe,\n",
    "    variable_of_interest=\"has_toilets_functioning\",\n",
    "    barangays_of_interest=[\"PH112402074\"],\n",
    "    title_label=\"Functioning Toilets Inside the House\",\n",
    "    legend_label=\"Functioning toilet\",\n",
    ")"
   ]
  },
  {
   "cell_type": "markdown",
   "metadata": {},
   "source": [
    "### Water Supply"
   ]
  },
  {
   "cell_type": "code",
   "execution_count": null,
   "metadata": {},
   "outputs": [],
   "source": [
    "# variables\n",
    "# variable_of_interest = 'water_supply_type_1'\n",
    "# title_label = 'Primary Water Supply Type Over Time'\n",
    "# legend_label = 'Water Supply Type'\n",
    "# barangays_of_interest = ['PH112402074']\n",
    "dataframe = merged_df.copy()\n",
    "\n",
    "plot_pacsii_stacked_area_comparison(\n",
    "    dataframe,\n",
    "    variable_of_interest=\"water_supply_type_1\",\n",
    "    barangays_of_interest=[\"PH112402074\"],\n",
    "    title_label=\"Primary Water Supply Type Over Time\",\n",
    "    legend_label=\"Water Supply Type\",\n",
    ")"
   ]
  },
  {
   "cell_type": "markdown",
   "metadata": {},
   "source": [
    "### Income bracket"
   ]
  },
  {
   "cell_type": "code",
   "execution_count": null,
   "metadata": {},
   "outputs": [],
   "source": [
    "dataframe = merged_df.copy()\n",
    "\n",
    "plot_pacsii_stacked_area_comparison(\n",
    "    dataframe,\n",
    "    variable_of_interest=\"income_bracket\",\n",
    "    barangays_of_interest=[\"PH112402074\"],\n",
    "    title_label=\"Income Over Time\",\n",
    "    legend_label=\"Income bracket\",\n",
    ")"
   ]
  },
  {
   "cell_type": "markdown",
   "metadata": {},
   "source": [
    "## All sites"
   ]
  },
  {
   "cell_type": "markdown",
   "metadata": {},
   "source": [
    "### Family members"
   ]
  },
  {
   "cell_type": "code",
   "execution_count": null,
   "metadata": {},
   "outputs": [],
   "source": [
    "# define categories\n",
    "categories = pd.CategoricalDtype(\n",
    "    categories=[\n",
    "        \"0_solo\",\n",
    "        \"1_small family (2-4 members)\",\n",
    "        \"2_medium family (5-6 members)\",\n",
    "        \"3_large family (7-10 members)\",\n",
    "        \"4_very large family (>10 members)\",\n",
    "        \"5_unknown\",\n",
    "    ],\n",
    "    ordered=True,\n",
    ")\n",
    "\n",
    "# create dataframe copy\n",
    "batch_df_edit = merged_df.copy()\n",
    "\n",
    "# assign categories\n",
    "batch_df_edit[\"family_type\"] = pd.cut(\n",
    "    batch_df_edit[\"n_family_members\"],\n",
    "    bins=[-np.inf, 1, 4, 6, 10, np.inf],\n",
    "    labels=[\n",
    "        \"0_solo\",\n",
    "        \"1_small family (2-4 members)\",\n",
    "        \"2_medium family (5-6 members)\",\n",
    "        \"3_large family (7-10 members)\",\n",
    "        \"4_very large family (>10 members)\",\n",
    "    ],\n",
    ")\n",
    "\n",
    "batch_df_edit[\"family_type\"] = batch_df_edit[\"family_type\"].astype(categories)\n",
    "batch_df_edit[\"family_type\"] = batch_df_edit[\"family_type\"].fillna(\"5_unknown\")\n",
    "\n",
    "plot_all_pacsii_sites(\n",
    "    batch_df_edit,\n",
    "    variable_of_interest=\"family_type\",\n",
    "    title_label=\"Family Members\",\n",
    "    legend_label=\"# of family members\",\n",
    "    bbox_anchor=(1.43, 1),\n",
    ")"
   ]
  },
  {
   "cell_type": "markdown",
   "metadata": {},
   "source": [
    "### Occupation"
   ]
  },
  {
   "cell_type": "code",
   "execution_count": null,
   "metadata": {},
   "outputs": [],
   "source": [
    "# variables\n",
    "variable_of_interest = \"occupation1\"\n",
    "title_label = \"Primary Occupation\"\n",
    "legend_label = \"Occupation\"\n",
    "dataframe = merged_df\n",
    "\n",
    "# create dataframe copy\n",
    "batch_df_edit = merged_df.copy()\n",
    "\n",
    "# edit occupations\n",
    "occupation_mapping = {\n",
    "    \"0 Armed forces occupations\": \"00_armed forces occupations\",\n",
    "    \"1 Managers\": \"01_managers\",\n",
    "    \"2 Professionals\": \"02_professionals\",\n",
    "    \"3 Technicians and associate professionals\": \"03_technicians and associate professionals\",\n",
    "    \"4 Clerical support workers\": \"04_clerical support workers\",\n",
    "    \"5 Service and sales workers\": \"05_service and sales workers\",\n",
    "    \"6 Skilled agricultural, forestry and fishery workers\": \"06_skilled agricultural, forestry, and fishery workers\",\n",
    "    \"7 Craft and related trades workers\": \"07_craft and related trades workers\",\n",
    "    \"8 Plant and machine operators and assemblers\": \"08_plant and machine operators and assemblers\",\n",
    "    \"9 Elementary occupations\": \"09_elementary occupations\",\n",
    "}\n",
    "\n",
    "batch_df_edit[variable_of_interest] = batch_df_edit[variable_of_interest].map(\n",
    "    occupation_mapping\n",
    ")\n",
    "batch_df_edit[variable_of_interest] = batch_df_edit[variable_of_interest].fillna(\n",
    "    \"10_unknown\"\n",
    ")\n",
    "\n",
    "plot_all_pacsii_sites(\n",
    "    batch_df_edit,\n",
    "    variable_of_interest=\"occupation1\",\n",
    "    title_label=\"Primary Occupation\",\n",
    "    legend_label=\"Occupation\",\n",
    "    bbox_anchor=(1.55, 1),\n",
    "    fig_text_x=0.92,\n",
    "    fig_text_y=0.5,\n",
    ")"
   ]
  },
  {
   "cell_type": "code",
   "execution_count": null,
   "metadata": {},
   "outputs": [],
   "source": [
    "# variables\n",
    "variable_of_interest = \"occupation1\"\n",
    "city = [\"City of Muntinlupa\", \"Iloilo City\", \"Davao City\", \"Mandaue City\"]\n",
    "dataframe = merged_df.copy()\n",
    "\n",
    "occupation_mapping = {\n",
    "    \"0 Armed forces occupations\": \"armed forces occupations\",\n",
    "    \"1 Managers\": \"managers\",\n",
    "    \"2 Professionals\": \"professionals\",\n",
    "    \"3 Technicians and associate professionals\": \"technicians and associate professionals\",\n",
    "    \"4 Clerical support workers\": \"clerical support workers\",\n",
    "    \"5 Service and sales workers\": \"service and sales workers\",\n",
    "    \"6 Skilled agricultural, forestry and fishery workers\": \"skilled agricultural, forestry, and fishery workers\",\n",
    "    \"7 Craft and related trades workers\": \"craft and related trades workers\",\n",
    "    \"8 Plant and machine operators and assemblers\": \"plant and machine operators and assemblers\",\n",
    "    \"9 Elementary occupations\": \"elementary occupations\",\n",
    "}\n",
    "\n",
    "dataframe[variable_of_interest] = dataframe[variable_of_interest].map(\n",
    "    occupation_mapping\n",
    ")\n",
    "\n",
    "plot_employment_treemap(dataframe, variable_of_interest)"
   ]
  },
  {
   "cell_type": "markdown",
   "metadata": {},
   "source": [
    "### Vulnerable subpopulations"
   ]
  },
  {
   "cell_type": "code",
   "execution_count": null,
   "metadata": {},
   "outputs": [],
   "source": [
    "# dataframe\n",
    "df = dataframe\n",
    "\n",
    "# plot males and females\n",
    "plot_avg_males_females(df, \"viridis\")\n",
    "\n",
    "# plot other vulnerable populations\n",
    "columns_labels = [\n",
    "    (\"n_family_members_student\", \"Students\"),\n",
    "    (\"n_family_members_sc\", \"Senior Citizens\"),\n",
    "    (\"n_family_members_pwd\", \"Persons with disabilities\"),\n",
    "]\n",
    "\n",
    "avg_percentages = {}\n",
    "for column, label in columns_labels:\n",
    "    avg_percentages[label] = calculate_and_plot_percentage(df, column, label)\n",
    "\n",
    "avg_combined = pd.DataFrame(avg_percentages)\n",
    "\n",
    "colors = get_colorscheme(len(avg_combined.columns))\n",
    "\n",
    "# Adjust size of the chart\n",
    "fig, ax = plt.subplots(figsize=(12, 6))\n",
    "\n",
    "avg_combined.plot(kind=\"bar\", color=colors, ax=ax)\n",
    "plt.title(\"Average % of Households with Vulnerable Populations\")\n",
    "plt.xlabel(\"\")\n",
    "plt.ylabel(\"Percentage\")\n",
    "plt.legend(title=\"Categories\", labels=avg_combined.columns)\n",
    "for p in ax.patches:\n",
    "    width = p.get_width()\n",
    "    height = p.get_height()\n",
    "    x, y = p.get_xy()\n",
    "    if height > 0.99:\n",
    "        text = ax.annotate(\n",
    "            f\"{height:.1f}%\",\n",
    "            (x + width / 2, y + height / 2),\n",
    "            ha=\"center\",\n",
    "            va=\"center\",\n",
    "            color=\"black\",\n",
    "            size=7,\n",
    "        )\n",
    "        text.set_path_effects(\n",
    "            [\n",
    "                path_effects.Stroke(linewidth=3, foreground=\"white\"),\n",
    "                path_effects.Normal(),\n",
    "            ]\n",
    "        )\n",
    "\n",
    "plt.xticks(rotation=0)\n",
    "plt.show()"
   ]
  },
  {
   "cell_type": "markdown",
   "metadata": {},
   "source": [
    "### Income bracket"
   ]
  },
  {
   "cell_type": "code",
   "execution_count": null,
   "metadata": {},
   "outputs": [],
   "source": [
    "# variables\n",
    "variable_of_interest = \"income_bracket\"\n",
    "title_label = \"Income Bracket\"\n",
    "legend_label = \"Income Bracket\"\n",
    "\n",
    "\n",
    "# create dataframe copy\n",
    "batch_df_edit = merged_df.copy()\n",
    "batch_df_edit[variable_of_interest] = (\n",
    "    batch_df_edit[variable_of_interest]\n",
    "    .replace(\n",
    "        {\n",
    "            \"Below 10,957\": \"00 Poor: Below PHP 10,957\",\n",
    "            \"10,957-21,914\": \"01 Low income: PHP 10,957-21,914\",\n",
    "            \"21,914-43,828\": \"02 Lower middle income: PHP 21,914-43,828\",\n",
    "            \"43,828-76,699\": \"03 Middle middle income: PHP 43,828-76,699\",\n",
    "            \"76,699-131,483\": \"04 Upper middle income: PHP 76,699-131,483\",\n",
    "            \"131,483-219,140\": \"05 Upper income: PHP 131,483-219,140\",\n",
    "            \"Above 219,140\": \"06 Rich: Above 219,140\",\n",
    "        }\n",
    "    )\n",
    "    .fillna(\"Unknown\")\n",
    ")\n",
    "\n",
    "\n",
    "plot_all_pacsii_sites(\n",
    "    batch_df_edit,\n",
    "    variable_of_interest=\"income_bracket\",\n",
    "    title_label=\"Income Bracket\",\n",
    "    legend_label=\"Income Bracket\",\n",
    "    bbox_anchor=(1.55, 1),\n",
    "    fig_text_x=0.93,\n",
    "    fig_text_y=0.6,\n",
    ")"
   ]
  },
  {
   "cell_type": "markdown",
   "metadata": {},
   "source": [
    "### Power source"
   ]
  },
  {
   "cell_type": "code",
   "execution_count": null,
   "metadata": {},
   "outputs": [],
   "source": [
    "# variables\n",
    "variable_of_interest = \"power_source_type\"\n",
    "title_label = \"Power source\"\n",
    "legend_label = \"Power source\"\n",
    "dataframe = merged_df\n",
    "\n",
    "# create dataframe copy\n",
    "batch_df_edit = dataframe.copy()\n",
    "\n",
    "# edit occupations\n",
    "batch_df_edit[variable_of_interest] = batch_df_edit[variable_of_interest].fillna(\n",
    "    \"Unknown\"\n",
    ")\n",
    "\n",
    "plot_all_pacsii_sites(\n",
    "    batch_df_edit,\n",
    "    variable_of_interest=\"power_source_type\",\n",
    "    title_label=\"Power source\",\n",
    "    legend_label=\"Power source\",\n",
    "    bbox_anchor=(1.55, 1),\n",
    "    fig_text_x=0.93,\n",
    "    fig_text_y=0.65,\n",
    ")"
   ]
  },
  {
   "cell_type": "markdown",
   "metadata": {},
   "source": [
    "### Water supply"
   ]
  },
  {
   "cell_type": "code",
   "execution_count": null,
   "metadata": {},
   "outputs": [],
   "source": [
    "# variables\n",
    "variable_of_interest = \"water_supply_type_1\"\n",
    "title_label = \"Primary Water Supply Type\"\n",
    "legend_label = \"Water Supply Type\"\n",
    "\n",
    "# replace nulls with placeholder value\n",
    "batch_df_edit = merged_df.copy()\n",
    "batch_df_edit[variable_of_interest] = batch_df_edit[variable_of_interest].fillna(\n",
    "    \"Unknown\"\n",
    ")\n",
    "\n",
    "plot_all_pacsii_sites(\n",
    "    batch_df_edit,\n",
    "    variable_of_interest=\"water_supply_type_1\",\n",
    "    title_label=\"Primary Water Supply Type\",\n",
    "    legend_label=\"Water Supply Type\",\n",
    "    bbox_anchor=(1.45, 1),\n",
    "    fig_text_x=0.93,\n",
    "    fig_text_y=0.6,\n",
    ")"
   ]
  },
  {
   "cell_type": "markdown",
   "metadata": {},
   "source": [
    "### Toilets"
   ]
  },
  {
   "cell_type": "code",
   "execution_count": null,
   "metadata": {},
   "outputs": [],
   "source": [
    "# variables\n",
    "variable_of_interest = \"has_toilets_functioning\"\n",
    "title_label = \"Toilet Access\"\n",
    "legend_label = \"Toilet Present in Structure\"\n",
    "dataframe = merged_df\n",
    "\n",
    "# replace nulls with placeholder value\n",
    "batch_df_edit = merged_df.copy()\n",
    "batch_df_edit[\"has_toilets_functioning\"] = (\n",
    "    batch_df_edit[\"has_toilets_functioning\"]\n",
    "    .fillna(\"Unknown\")\n",
    "    .replace({0: \"No\", 1: \"Yes\"})\n",
    ")\n",
    "batch_df_edit[variable_of_interest] = batch_df_edit[variable_of_interest].fillna(\n",
    "    \"Unknown\"\n",
    ")\n",
    "\n",
    "plot_all_pacsii_sites(\n",
    "    batch_df_edit,\n",
    "    variable_of_interest=\"has_toilets_functioning\",\n",
    "    title_label=\"Toilet Access\",\n",
    "    legend_label=\"Toilet Present in Structure\",\n",
    "    bbox_anchor=(1.33, 1),\n",
    "    fig_text_x=0.92,\n",
    "    fig_text_y=0.73,\n",
    ")"
   ]
  },
  {
   "cell_type": "markdown",
   "metadata": {},
   "source": [
    "# Outbreaks"
   ]
  },
  {
   "cell_type": "code",
   "execution_count": null,
   "metadata": {},
   "outputs": [],
   "source": [
    "# drop columns\n",
    "title = \"Dagupan\"\n",
    "location = \"Dagupan\"\n",
    "dengue_copy = dagupan_dengue.copy()\n",
    "dengue_copy[\"date\"] = pd.to_datetime(dengue_copy[\"date\"])\n",
    "dengue_copy = dengue_copy[\n",
    "    (dengue_copy[\"date\"].dt.year >= 2014) & (dengue_copy[\"date\"].dt.year <= 2023)\n",
    "]\n",
    "\n",
    "\n",
    "dengue_outbreak = detect_outbreak_periods(dengue_copy, \"outbreak\")\n",
    "dengue_outbreak = dengue_outbreak.nlargest(5, \"actual_length_weeks\")\n",
    "dengue_outbreak"
   ]
  },
  {
   "cell_type": "code",
   "execution_count": null,
   "metadata": {},
   "outputs": [],
   "source": [
    "# variables\n",
    "colors = getattr(cm, \"viridis\")\n",
    "args = {\n",
    "    \"dataframe\": dengue_copy,\n",
    "    \"outbreak_markers\": dengue_outbreak,\n",
    "    \"casetype\": \"case_total_dengue\",\n",
    "    \"axis1_label\": \"Dengue Cases\",\n",
    "    \"axis1_color\": colors(0.2),\n",
    "    \"variable_of_interest\": \"pr\",\n",
    "    \"axis2_label\": \"Precipitation (mm)\",\n",
    "    \"axis2_color\": \"cadetblue\",  # colors(0.5),\n",
    "    \"outbreak_color\": colors(0.9),\n",
    "    \"major_outbreak_color\": colors(0.7),\n",
    "    \"title\": \"Dagupan\",\n",
    "}\n",
    "\n",
    "plot_outbreaks_precip(**args)"
   ]
  },
  {
   "cell_type": "code",
   "execution_count": null,
   "metadata": {},
   "outputs": [],
   "source": [
    "args = {\n",
    "    \"dataframe\": dengue_copy,\n",
    "    \"outbreak_markers\": dengue_outbreak,\n",
    "    \"disease\": \"Dengue\",\n",
    "    \"casetype\": \"case_total_dengue\",\n",
    "    \"case_color\": colors(0.2),\n",
    "    \"major_outbreak_color\": colors(0.7),\n",
    "    \"location\": \"Dagupan\",\n",
    "}\n",
    "plot_all_clim_subplots(**args)"
   ]
  },
  {
   "cell_type": "markdown",
   "metadata": {},
   "source": [
    "## Linking PACSII socioeconomic data to other variables in Muntinlupa"
   ]
  },
  {
   "cell_type": "code",
   "execution_count": null,
   "metadata": {},
   "outputs": [],
   "source": [
    "muntinlupa_socioecon = agg_munti_socioecon(batch_df)"
   ]
  },
  {
   "cell_type": "code",
   "execution_count": null,
   "metadata": {},
   "outputs": [],
   "source": [
    "# append muntinlupa data\n",
    "muntinlupa_health = pd.concat(\n",
    "    [muntinlupa1, muntinlupa2, muntinlupa3, muntinlupa4], ignore_index=True\n",
    ")\n",
    "muntinlupa_health[\"date\"] = pd.to_datetime(muntinlupa_health[\"date\"], format=\"%Y-%m-%d\")\n",
    "\n",
    "# variables for filtering\n",
    "start_date = \"2011-01-01\"\n",
    "end_date = \"2017-12-31\"\n",
    "disease = \"typhoid fever\"\n",
    "disease_simple_name = \"typhoid\"\n",
    "\n",
    "# filter\n",
    "muntinlupa_health = muntinlupa_health[\n",
    "    (muntinlupa_health[\"date\"] >= start_date) & (muntinlupa_health[\"date\"] <= end_date)\n",
    "]\n",
    "muntinlupa_disease = muntinlupa_health[\n",
    "    (muntinlupa_health[\"disease_standard_name\"] == disease)\n",
    "]\n",
    "\n",
    "# aggregate\n",
    "muntinlupa_disease = muntinlupa_disease.drop(\n",
    "    columns=[\"freq\", \"source_name\", \"disease_standard_code\", \"sex\", \"age_group\", \"date\"]\n",
    ")\n",
    "muntinlupa_disease = (\n",
    "    muntinlupa_disease.groupby([\"adm4_pcode\", \"disease_standard_name\"])\n",
    "    .sum()\n",
    "    .reset_index()\n",
    ")\n",
    "muntinlupa_disease = muntinlupa_disease.rename(\n",
    "    columns={\"case_total\": disease_simple_name + \"_cases\"}\n",
    ")\n",
    "muntinlupa_disease = muntinlupa_disease.drop(columns=[\"disease_standard_name\"])"
   ]
  },
  {
   "cell_type": "code",
   "execution_count": null,
   "metadata": {},
   "outputs": [],
   "source": [
    "# merge\n",
    "dfs = [muntinlupa_linked, muntinlupa_socioecon, muntinlupa_disease]\n",
    "muntinlupa_combined = dfs[0]\n",
    "for df in dfs[1:]:\n",
    "    muntinlupa_combined = pd.merge(muntinlupa_combined, df, on=\"adm4_pcode\", how=\"left\")\n",
    "\n",
    "# merge with geo info\n",
    "geo_info_copy = brgy_gdf.copy()\n",
    "geo_info_copy.drop(columns=[\"adm3_en\", \"adm4_en\"], inplace=True)\n",
    "muntinlupa = gpd.GeoDataFrame(\n",
    "    pd.merge(muntinlupa_combined, geo_info_copy, on=\"adm4_pcode\", how=\"left\")\n",
    ")\n",
    "muntinlupa.drop(columns=[\"adm4_pcode\"], inplace=True)\n",
    "muntinlupa = muntinlupa[muntinlupa[\"adm4_en\"] != \"New Alabang Village\"]\n",
    "muntinlupa[\"typhoid_cases_per_population\"] = (\n",
    "    muntinlupa[\"typhoid_cases\"] / muntinlupa[\"pop_count_total\"]\n",
    ") * 100\n",
    "muntinlupa.info()"
   ]
  },
  {
   "cell_type": "markdown",
   "metadata": {},
   "source": [
    "## Generate choropleth maps for all other socioeconomic features"
   ]
  },
  {
   "cell_type": "code",
   "execution_count": null,
   "metadata": {},
   "outputs": [],
   "source": [
    "exc_columns = [\n",
    "    \"adm1_en\",\n",
    "    \"adm1_pcode\",\n",
    "    \"adm2_en\",\n",
    "    \"adm2_pcode\",\n",
    "    \"adm3_pcode\",\n",
    "    \"brgy_total_area\",\n",
    "    \"brgy_distance_to_coast\",\n",
    "    \"brgy_is_coastal\",\n",
    "    \"adm4_en\",\n",
    "    \"geometry\",\n",
    "    \"water_none_percentage\",\n",
    "    \"typhoid_cases\",\n",
    "]\n",
    "columns_to_plot = [column for column in muntinlupa.columns if column not in exc_columns]\n",
    "columns_to_compare = [\n",
    "    column for column in columns_to_plot if column != \"typhoid_cases_per_population\"\n",
    "]\n",
    "\n",
    "fig, axs = plt.subplots(\n",
    "    len(columns_to_compare), 2, figsize=(10, 5 * len(columns_to_compare))\n",
    ")\n",
    "if len(columns_to_compare) == 1:\n",
    "    axs = [axs]\n",
    "\n",
    "for i, column in enumerate(columns_to_compare):\n",
    "\n",
    "    # first column - typhoid cases\n",
    "    muntinlupa.plot(\n",
    "        column=\"typhoid_cases_per_population\", cmap=\"viridis\", ax=axs[i, 0], legend=True\n",
    "    )\n",
    "    axs[i, 0].set_title(\"typhoid_cases_%_population\")\n",
    "    axs[i, 0].set_axis_off()\n",
    "    for idx, row in muntinlupa.iterrows():\n",
    "        text = axs[i, 0].annotate(\n",
    "            text=row[\"adm4_en\"],\n",
    "            xy=(row.geometry.centroid.x, row.geometry.centroid.y),\n",
    "            color=\"black\",\n",
    "        )\n",
    "        text.set_path_effects(\n",
    "            [\n",
    "                path_effects.Stroke(linewidth=3, foreground=\"white\"),\n",
    "                path_effects.Normal(),\n",
    "            ]\n",
    "        )\n",
    "\n",
    "    # second column - other variables\n",
    "    muntinlupa.plot(column=column, cmap=\"viridis\", ax=axs[i, 1], legend=True)\n",
    "    axs[i, 1].set_title(column)\n",
    "    axs[i, 1].set_axis_off()\n",
    "    for idx, row in muntinlupa.iterrows():\n",
    "        text = axs[i, 1].annotate(\n",
    "            text=row[\"adm4_en\"],\n",
    "            xy=(row.geometry.centroid.x, row.geometry.centroid.y),\n",
    "            color=\"black\",\n",
    "        )\n",
    "        text.set_path_effects(\n",
    "            [\n",
    "                path_effects.Stroke(linewidth=3, foreground=\"white\"),\n",
    "                path_effects.Normal(),\n",
    "            ]\n",
    "        )\n",
    "\n",
    "    # third column - correlation coefficient\n",
    "    correlation = np.corrcoef(\n",
    "        muntinlupa[\"typhoid_cases_per_population\"], muntinlupa[column]\n",
    "    )[0, 1]\n",
    "    axs[i, 1].text(\n",
    "        0.5,\n",
    "        0.95,\n",
    "        f\"Corr: {correlation:.2f}\",\n",
    "        ha=\"center\",\n",
    "        va=\"top\",\n",
    "        transform=axs[i, 1].transAxes,\n",
    "        fontsize=12,\n",
    "        bbox=dict(facecolor=\"white\", alpha=0.8),\n",
    "    )\n",
    "\n",
    "plt.tight_layout()\n",
    "plt.show()"
   ]
  },
  {
   "cell_type": "code",
   "execution_count": null,
   "metadata": {},
   "outputs": [],
   "source": []
  }
 ],
 "metadata": {
  "kernelspec": {
   "display_name": "lacuna-fund",
   "language": "python",
   "name": "python3"
  },
  "language_info": {
   "codemirror_mode": {
    "name": "ipython",
    "version": 3
   },
   "file_extension": ".py",
   "mimetype": "text/x-python",
   "name": "python",
   "nbconvert_exporter": "python",
   "pygments_lexer": "ipython3",
   "version": "3.9.18"
  },
  "orig_nbformat": 4
 },
 "nbformat": 4,
 "nbformat_minor": 2
}
