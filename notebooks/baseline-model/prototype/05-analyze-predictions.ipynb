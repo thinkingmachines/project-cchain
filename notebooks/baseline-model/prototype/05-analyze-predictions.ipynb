{
 "cells": [
  {
   "cell_type": "code",
   "execution_count": 60,
   "metadata": {},
   "outputs": [],
   "source": [
    "%reload_ext autoreload\n",
    "%autoreload 2"
   ]
  },
  {
   "cell_type": "code",
   "execution_count": 61,
   "metadata": {},
   "outputs": [],
   "source": [
    "from pathlib import Path\n",
    "\n",
    "import pandas as pd\n",
    "\n",
    "import matplotlib.pyplot as plt\n",
    "import seaborn as sns\n",
    "import plotly.graph_objects as go\n",
    "import plotly.express as px\n",
    "from plotly.subplots import make_subplots\n",
    "\n",
    "import sys\n",
    "\n",
    "sys.path.append(\"../../\")\n",
    "from src.model_data_prep import create_outbreak_summary"
   ]
  },
  {
   "cell_type": "markdown",
   "metadata": {},
   "source": [
    "# Analyze Predictions"
   ]
  },
  {
   "cell_type": "code",
   "execution_count": 62,
   "metadata": {},
   "outputs": [],
   "source": [
    "PROCESSED_DIR = Path(\"../../data/03-processed/\")\n",
    "PRED_TESTS = PROCESSED_DIR / \"test_dataset_for_analysis.csv\""
   ]
  },
  {
   "cell_type": "markdown",
   "metadata": {},
   "source": [
    "## Load dataset to analyze"
   ]
  },
  {
   "cell_type": "code",
   "execution_count": 63,
   "metadata": {},
   "outputs": [
    {
     "data": {
      "text/html": [
       "<div>\n",
       "<style scoped>\n",
       "    .dataframe tbody tr th:only-of-type {\n",
       "        vertical-align: middle;\n",
       "    }\n",
       "\n",
       "    .dataframe tbody tr th {\n",
       "        vertical-align: top;\n",
       "    }\n",
       "\n",
       "    .dataframe thead th {\n",
       "        text-align: right;\n",
       "    }\n",
       "</style>\n",
       "<table border=\"1\" class=\"dataframe\">\n",
       "  <thead>\n",
       "    <tr style=\"text-align: right;\">\n",
       "      <th></th>\n",
       "      <th>Date</th>\n",
       "      <th>CO_AVG_mean</th>\n",
       "      <th>CO_MIN_mean</th>\n",
       "      <th>CO_MAX_mean</th>\n",
       "      <th>CO_STD_mean</th>\n",
       "      <th>WEIGHTED_AVG_CO_mean</th>\n",
       "      <th>HI_AVG_mean</th>\n",
       "      <th>HI_MIN_mean</th>\n",
       "      <th>HI_MAX_mean</th>\n",
       "      <th>HI_STD_mean</th>\n",
       "      <th>...</th>\n",
       "      <th>avg_rad_median_mean</th>\n",
       "      <th>prev_1_wk_numcases</th>\n",
       "      <th>prev_2_wk_numcases</th>\n",
       "      <th>prev_3_wk_numcases</th>\n",
       "      <th>prev_1_mo_numcases</th>\n",
       "      <th>ADM3_PCODE</th>\n",
       "      <th>Cases</th>\n",
       "      <th>actual_class</th>\n",
       "      <th>predicted_class</th>\n",
       "      <th>predicted_proba_outbreak</th>\n",
       "    </tr>\n",
       "  </thead>\n",
       "  <tbody>\n",
       "    <tr>\n",
       "      <th>0</th>\n",
       "      <td>2019-04-01</td>\n",
       "      <td>0.071345</td>\n",
       "      <td>0.067695</td>\n",
       "      <td>0.075829</td>\n",
       "      <td>0.002896</td>\n",
       "      <td>0.071345</td>\n",
       "      <td>29.361429</td>\n",
       "      <td>28.829109</td>\n",
       "      <td>29.965644</td>\n",
       "      <td>0.453012</td>\n",
       "      <td>...</td>\n",
       "      <td>3.300401</td>\n",
       "      <td>0.0</td>\n",
       "      <td>0.0</td>\n",
       "      <td>0.0</td>\n",
       "      <td>0.0</td>\n",
       "      <td>PH097332000</td>\n",
       "      <td>0.0</td>\n",
       "      <td>0</td>\n",
       "      <td>0</td>\n",
       "      <td>0.06</td>\n",
       "    </tr>\n",
       "    <tr>\n",
       "      <th>1</th>\n",
       "      <td>2019-04-08</td>\n",
       "      <td>0.064336</td>\n",
       "      <td>0.060724</td>\n",
       "      <td>0.073297</td>\n",
       "      <td>0.004427</td>\n",
       "      <td>0.064336</td>\n",
       "      <td>30.238642</td>\n",
       "      <td>29.598911</td>\n",
       "      <td>30.781683</td>\n",
       "      <td>0.383098</td>\n",
       "      <td>...</td>\n",
       "      <td>3.300401</td>\n",
       "      <td>0.0</td>\n",
       "      <td>0.0</td>\n",
       "      <td>0.0</td>\n",
       "      <td>0.0</td>\n",
       "      <td>PH097332000</td>\n",
       "      <td>0.0</td>\n",
       "      <td>0</td>\n",
       "      <td>0</td>\n",
       "      <td>0.16</td>\n",
       "    </tr>\n",
       "    <tr>\n",
       "      <th>2</th>\n",
       "      <td>2019-04-15</td>\n",
       "      <td>0.065662</td>\n",
       "      <td>0.062378</td>\n",
       "      <td>0.067407</td>\n",
       "      <td>0.002146</td>\n",
       "      <td>0.065662</td>\n",
       "      <td>29.963437</td>\n",
       "      <td>29.539703</td>\n",
       "      <td>30.323762</td>\n",
       "      <td>0.292563</td>\n",
       "      <td>...</td>\n",
       "      <td>3.300401</td>\n",
       "      <td>0.0</td>\n",
       "      <td>0.0</td>\n",
       "      <td>0.0</td>\n",
       "      <td>0.0</td>\n",
       "      <td>PH097332000</td>\n",
       "      <td>0.0</td>\n",
       "      <td>0</td>\n",
       "      <td>0</td>\n",
       "      <td>0.18</td>\n",
       "    </tr>\n",
       "    <tr>\n",
       "      <th>3</th>\n",
       "      <td>2019-04-22</td>\n",
       "      <td>0.066490</td>\n",
       "      <td>0.064849</td>\n",
       "      <td>0.068458</td>\n",
       "      <td>0.001283</td>\n",
       "      <td>0.066490</td>\n",
       "      <td>31.557666</td>\n",
       "      <td>30.813267</td>\n",
       "      <td>31.924257</td>\n",
       "      <td>0.419398</td>\n",
       "      <td>...</td>\n",
       "      <td>3.300401</td>\n",
       "      <td>0.0</td>\n",
       "      <td>0.0</td>\n",
       "      <td>0.0</td>\n",
       "      <td>0.0</td>\n",
       "      <td>PH097332000</td>\n",
       "      <td>90.0</td>\n",
       "      <td>1</td>\n",
       "      <td>0</td>\n",
       "      <td>0.20</td>\n",
       "    </tr>\n",
       "    <tr>\n",
       "      <th>4</th>\n",
       "      <td>2019-04-29</td>\n",
       "      <td>0.062058</td>\n",
       "      <td>0.060388</td>\n",
       "      <td>0.065372</td>\n",
       "      <td>0.001782</td>\n",
       "      <td>0.062058</td>\n",
       "      <td>30.214356</td>\n",
       "      <td>29.596832</td>\n",
       "      <td>30.998020</td>\n",
       "      <td>0.536040</td>\n",
       "      <td>...</td>\n",
       "      <td>3.300401</td>\n",
       "      <td>90.0</td>\n",
       "      <td>0.0</td>\n",
       "      <td>0.0</td>\n",
       "      <td>0.0</td>\n",
       "      <td>PH097332000</td>\n",
       "      <td>0.0</td>\n",
       "      <td>1</td>\n",
       "      <td>1</td>\n",
       "      <td>0.52</td>\n",
       "    </tr>\n",
       "  </tbody>\n",
       "</table>\n",
       "<p>5 rows × 161 columns</p>\n",
       "</div>"
      ],
      "text/plain": [
       "         Date  CO_AVG_mean  CO_MIN_mean  CO_MAX_mean  CO_STD_mean  \\\n",
       "0  2019-04-01     0.071345     0.067695     0.075829     0.002896   \n",
       "1  2019-04-08     0.064336     0.060724     0.073297     0.004427   \n",
       "2  2019-04-15     0.065662     0.062378     0.067407     0.002146   \n",
       "3  2019-04-22     0.066490     0.064849     0.068458     0.001283   \n",
       "4  2019-04-29     0.062058     0.060388     0.065372     0.001782   \n",
       "\n",
       "   WEIGHTED_AVG_CO_mean  HI_AVG_mean  HI_MIN_mean  HI_MAX_mean  HI_STD_mean  \\\n",
       "0              0.071345    29.361429    28.829109    29.965644     0.453012   \n",
       "1              0.064336    30.238642    29.598911    30.781683     0.383098   \n",
       "2              0.065662    29.963437    29.539703    30.323762     0.292563   \n",
       "3              0.066490    31.557666    30.813267    31.924257     0.419398   \n",
       "4              0.062058    30.214356    29.596832    30.998020     0.536040   \n",
       "\n",
       "   ...  avg_rad_median_mean  prev_1_wk_numcases  prev_2_wk_numcases  \\\n",
       "0  ...             3.300401                 0.0                 0.0   \n",
       "1  ...             3.300401                 0.0                 0.0   \n",
       "2  ...             3.300401                 0.0                 0.0   \n",
       "3  ...             3.300401                 0.0                 0.0   \n",
       "4  ...             3.300401                90.0                 0.0   \n",
       "\n",
       "   prev_3_wk_numcases  prev_1_mo_numcases   ADM3_PCODE  Cases  actual_class  \\\n",
       "0                 0.0                 0.0  PH097332000    0.0             0   \n",
       "1                 0.0                 0.0  PH097332000    0.0             0   \n",
       "2                 0.0                 0.0  PH097332000    0.0             0   \n",
       "3                 0.0                 0.0  PH097332000   90.0             1   \n",
       "4                 0.0                 0.0  PH097332000    0.0             1   \n",
       "\n",
       "   predicted_class  predicted_proba_outbreak  \n",
       "0                0                      0.06  \n",
       "1                0                      0.16  \n",
       "2                0                      0.18  \n",
       "3                0                      0.20  \n",
       "4                1                      0.52  \n",
       "\n",
       "[5 rows x 161 columns]"
      ]
     },
     "execution_count": 63,
     "metadata": {},
     "output_type": "execute_result"
    }
   ],
   "source": [
    "analyze_df = pd.read_csv(PRED_TESTS)\n",
    "analyze_df = analyze_df.rename(columns={\"start_of_week\": \"Date\"})\n",
    "analyze_df.head()"
   ]
  },
  {
   "cell_type": "code",
   "execution_count": 64,
   "metadata": {},
   "outputs": [],
   "source": [
    "analyze_df[\"Date\"] = pd.to_datetime(analyze_df[\"Date\"])"
   ]
  },
  {
   "cell_type": "markdown",
   "metadata": {},
   "source": [
    "## Visualizing Actual vs. Predicted Outbreaks Periods"
   ]
  },
  {
   "cell_type": "code",
   "execution_count": 65,
   "metadata": {},
   "outputs": [],
   "source": [
    "actual_outbreaks_summary = create_outbreak_summary(analyze_df, \"actual_class\")\n",
    "actual_outbreaks_summary[\"category\"] = \"actual\"\n",
    "predicted_outbreaks_summary = create_outbreak_summary(analyze_df, \"predicted_class\")\n",
    "predicted_outbreaks_summary[\"category\"] = \"predicted\""
   ]
  },
  {
   "cell_type": "code",
   "execution_count": 66,
   "metadata": {},
   "outputs": [
    {
     "data": {
      "text/html": [
       "<div>\n",
       "<style scoped>\n",
       "    .dataframe tbody tr th:only-of-type {\n",
       "        vertical-align: middle;\n",
       "    }\n",
       "\n",
       "    .dataframe tbody tr th {\n",
       "        vertical-align: top;\n",
       "    }\n",
       "\n",
       "    .dataframe thead th {\n",
       "        text-align: right;\n",
       "    }\n",
       "</style>\n",
       "<table border=\"1\" class=\"dataframe\">\n",
       "  <thead>\n",
       "    <tr style=\"text-align: right;\">\n",
       "      <th></th>\n",
       "      <th>outbreak_group</th>\n",
       "      <th>start_date</th>\n",
       "      <th>end_date</th>\n",
       "      <th>actual_length_weeks</th>\n",
       "      <th>category</th>\n",
       "    </tr>\n",
       "  </thead>\n",
       "  <tbody>\n",
       "    <tr>\n",
       "      <th>0</th>\n",
       "      <td>1</td>\n",
       "      <td>2019-04-22</td>\n",
       "      <td>2019-05-06</td>\n",
       "      <td>3</td>\n",
       "      <td>actual</td>\n",
       "    </tr>\n",
       "    <tr>\n",
       "      <th>1</th>\n",
       "      <td>3</td>\n",
       "      <td>2019-08-19</td>\n",
       "      <td>2019-09-16</td>\n",
       "      <td>5</td>\n",
       "      <td>actual</td>\n",
       "    </tr>\n",
       "    <tr>\n",
       "      <th>2</th>\n",
       "      <td>5</td>\n",
       "      <td>2019-10-21</td>\n",
       "      <td>2019-11-04</td>\n",
       "      <td>3</td>\n",
       "      <td>actual</td>\n",
       "    </tr>\n",
       "    <tr>\n",
       "      <th>3</th>\n",
       "      <td>7</td>\n",
       "      <td>2019-11-25</td>\n",
       "      <td>2019-12-09</td>\n",
       "      <td>3</td>\n",
       "      <td>actual</td>\n",
       "    </tr>\n",
       "    <tr>\n",
       "      <th>0</th>\n",
       "      <td>1</td>\n",
       "      <td>2019-04-29</td>\n",
       "      <td>2019-04-29</td>\n",
       "      <td>1</td>\n",
       "      <td>predicted</td>\n",
       "    </tr>\n",
       "    <tr>\n",
       "      <th>1</th>\n",
       "      <td>3</td>\n",
       "      <td>2019-06-17</td>\n",
       "      <td>2019-06-24</td>\n",
       "      <td>2</td>\n",
       "      <td>predicted</td>\n",
       "    </tr>\n",
       "    <tr>\n",
       "      <th>2</th>\n",
       "      <td>5</td>\n",
       "      <td>2019-07-08</td>\n",
       "      <td>2019-07-08</td>\n",
       "      <td>1</td>\n",
       "      <td>predicted</td>\n",
       "    </tr>\n",
       "    <tr>\n",
       "      <th>3</th>\n",
       "      <td>7</td>\n",
       "      <td>2019-07-22</td>\n",
       "      <td>2019-07-29</td>\n",
       "      <td>2</td>\n",
       "      <td>predicted</td>\n",
       "    </tr>\n",
       "    <tr>\n",
       "      <th>4</th>\n",
       "      <td>9</td>\n",
       "      <td>2019-08-19</td>\n",
       "      <td>2019-09-09</td>\n",
       "      <td>4</td>\n",
       "      <td>predicted</td>\n",
       "    </tr>\n",
       "    <tr>\n",
       "      <th>5</th>\n",
       "      <td>11</td>\n",
       "      <td>2019-10-28</td>\n",
       "      <td>2019-11-04</td>\n",
       "      <td>2</td>\n",
       "      <td>predicted</td>\n",
       "    </tr>\n",
       "    <tr>\n",
       "      <th>6</th>\n",
       "      <td>13</td>\n",
       "      <td>2019-12-02</td>\n",
       "      <td>2019-12-16</td>\n",
       "      <td>3</td>\n",
       "      <td>predicted</td>\n",
       "    </tr>\n",
       "    <tr>\n",
       "      <th>7</th>\n",
       "      <td>15</td>\n",
       "      <td>2020-01-06</td>\n",
       "      <td>2020-01-06</td>\n",
       "      <td>2</td>\n",
       "      <td>predicted</td>\n",
       "    </tr>\n",
       "    <tr>\n",
       "      <th>8</th>\n",
       "      <td>17</td>\n",
       "      <td>2020-01-27</td>\n",
       "      <td>2020-02-03</td>\n",
       "      <td>2</td>\n",
       "      <td>predicted</td>\n",
       "    </tr>\n",
       "    <tr>\n",
       "      <th>9</th>\n",
       "      <td>19</td>\n",
       "      <td>2020-02-17</td>\n",
       "      <td>2020-02-24</td>\n",
       "      <td>2</td>\n",
       "      <td>predicted</td>\n",
       "    </tr>\n",
       "    <tr>\n",
       "      <th>10</th>\n",
       "      <td>21</td>\n",
       "      <td>2020-06-29</td>\n",
       "      <td>2020-06-29</td>\n",
       "      <td>1</td>\n",
       "      <td>predicted</td>\n",
       "    </tr>\n",
       "    <tr>\n",
       "      <th>11</th>\n",
       "      <td>23</td>\n",
       "      <td>2020-08-17</td>\n",
       "      <td>2020-08-17</td>\n",
       "      <td>1</td>\n",
       "      <td>predicted</td>\n",
       "    </tr>\n",
       "    <tr>\n",
       "      <th>12</th>\n",
       "      <td>25</td>\n",
       "      <td>2020-10-19</td>\n",
       "      <td>2020-10-19</td>\n",
       "      <td>1</td>\n",
       "      <td>predicted</td>\n",
       "    </tr>\n",
       "  </tbody>\n",
       "</table>\n",
       "</div>"
      ],
      "text/plain": [
       "    outbreak_group start_date   end_date  actual_length_weeks   category\n",
       "0                1 2019-04-22 2019-05-06                    3     actual\n",
       "1                3 2019-08-19 2019-09-16                    5     actual\n",
       "2                5 2019-10-21 2019-11-04                    3     actual\n",
       "3                7 2019-11-25 2019-12-09                    3     actual\n",
       "0                1 2019-04-29 2019-04-29                    1  predicted\n",
       "1                3 2019-06-17 2019-06-24                    2  predicted\n",
       "2                5 2019-07-08 2019-07-08                    1  predicted\n",
       "3                7 2019-07-22 2019-07-29                    2  predicted\n",
       "4                9 2019-08-19 2019-09-09                    4  predicted\n",
       "5               11 2019-10-28 2019-11-04                    2  predicted\n",
       "6               13 2019-12-02 2019-12-16                    3  predicted\n",
       "7               15 2020-01-06 2020-01-06                    2  predicted\n",
       "8               17 2020-01-27 2020-02-03                    2  predicted\n",
       "9               19 2020-02-17 2020-02-24                    2  predicted\n",
       "10              21 2020-06-29 2020-06-29                    1  predicted\n",
       "11              23 2020-08-17 2020-08-17                    1  predicted\n",
       "12              25 2020-10-19 2020-10-19                    1  predicted"
      ]
     },
     "execution_count": 66,
     "metadata": {},
     "output_type": "execute_result"
    }
   ],
   "source": [
    "outbreak_lengths_results = pd.concat(\n",
    "    [actual_outbreaks_summary, predicted_outbreaks_summary]\n",
    ")\n",
    "outbreak_lengths_results"
   ]
  },
  {
   "cell_type": "code",
   "execution_count": 67,
   "metadata": {},
   "outputs": [
    {
     "data": {
      "application/vnd.plotly.v1+json": {
       "config": {
        "plotlyServerURL": "https://plot.ly"
       },
       "data": [
        {
         "hovertemplate": "category=%{y}<br>value=%{x}<br>actual_length_weeks=%{marker.size}<extra></extra>",
         "legendgroup": "actual",
         "marker": {
          "color": "#53bed0",
          "size": [
           3,
           5,
           3,
           3,
           3,
           5,
           3,
           3
          ],
          "sizemode": "area",
          "sizeref": 0.0125,
          "symbol": "circle"
         },
         "mode": "markers",
         "name": "actual",
         "orientation": "v",
         "showlegend": true,
         "type": "scatter",
         "x": [
          "2019-04-22T00:00:00",
          "2019-08-19T00:00:00",
          "2019-10-21T00:00:00",
          "2019-11-25T00:00:00",
          "2019-05-06T00:00:00",
          "2019-09-16T00:00:00",
          "2019-11-04T00:00:00",
          "2019-12-09T00:00:00"
         ],
         "xaxis": "x",
         "y": [
          "actual",
          "actual",
          "actual",
          "actual",
          "actual",
          "actual",
          "actual",
          "actual"
         ],
         "yaxis": "y"
        },
        {
         "hovertemplate": "category=%{y}<br>value=%{x}<br>actual_length_weeks=%{marker.size}<extra></extra>",
         "legendgroup": "predicted",
         "marker": {
          "color": "#ee472f",
          "size": [
           1,
           2,
           1,
           2,
           4,
           2,
           3,
           2,
           2,
           2,
           1,
           1,
           1,
           1,
           2,
           1,
           2,
           4,
           2,
           3,
           2,
           2,
           2,
           1,
           1,
           1
          ],
          "sizemode": "area",
          "sizeref": 0.0125,
          "symbol": "circle"
         },
         "mode": "markers",
         "name": "predicted",
         "orientation": "v",
         "showlegend": true,
         "type": "scatter",
         "x": [
          "2019-04-29T00:00:00",
          "2019-06-17T00:00:00",
          "2019-07-08T00:00:00",
          "2019-07-22T00:00:00",
          "2019-08-19T00:00:00",
          "2019-10-28T00:00:00",
          "2019-12-02T00:00:00",
          "2020-01-06T00:00:00",
          "2020-01-27T00:00:00",
          "2020-02-17T00:00:00",
          "2020-06-29T00:00:00",
          "2020-08-17T00:00:00",
          "2020-10-19T00:00:00",
          "2019-04-29T00:00:00",
          "2019-06-24T00:00:00",
          "2019-07-08T00:00:00",
          "2019-07-29T00:00:00",
          "2019-09-09T00:00:00",
          "2019-11-04T00:00:00",
          "2019-12-16T00:00:00",
          "2020-01-06T00:00:00",
          "2020-02-03T00:00:00",
          "2020-02-24T00:00:00",
          "2020-06-29T00:00:00",
          "2020-08-17T00:00:00",
          "2020-10-19T00:00:00"
         ],
         "xaxis": "x",
         "y": [
          "predicted",
          "predicted",
          "predicted",
          "predicted",
          "predicted",
          "predicted",
          "predicted",
          "predicted",
          "predicted",
          "predicted",
          "predicted",
          "predicted",
          "predicted",
          "predicted",
          "predicted",
          "predicted",
          "predicted",
          "predicted",
          "predicted",
          "predicted",
          "predicted",
          "predicted",
          "predicted",
          "predicted",
          "predicted",
          "predicted"
         ],
         "yaxis": "y"
        },
        {
         "line": {
          "color": "#53bed0",
          "dash": "solid",
          "width": 3
         },
         "mode": "lines",
         "showlegend": false,
         "type": "scatter",
         "x": [
          "2019-04-22T00:00:00",
          "2019-05-06T00:00:00"
         ],
         "y": [
          "actual",
          "actual"
         ]
        },
        {
         "line": {
          "color": "#53bed0",
          "dash": "solid",
          "width": 3
         },
         "mode": "lines",
         "showlegend": false,
         "type": "scatter",
         "x": [
          "2019-08-19T00:00:00",
          "2019-09-16T00:00:00"
         ],
         "y": [
          "actual",
          "actual"
         ]
        },
        {
         "line": {
          "color": "#53bed0",
          "dash": "solid",
          "width": 3
         },
         "mode": "lines",
         "showlegend": false,
         "type": "scatter",
         "x": [
          "2019-10-21T00:00:00",
          "2019-11-04T00:00:00"
         ],
         "y": [
          "actual",
          "actual"
         ]
        },
        {
         "line": {
          "color": "#53bed0",
          "dash": "solid",
          "width": 3
         },
         "mode": "lines",
         "showlegend": false,
         "type": "scatter",
         "x": [
          "2019-11-25T00:00:00",
          "2019-12-09T00:00:00"
         ],
         "y": [
          "actual",
          "actual"
         ]
        },
        {
         "line": {
          "color": "#ee472f",
          "dash": "solid",
          "width": 3
         },
         "mode": "lines",
         "showlegend": false,
         "type": "scatter",
         "x": [
          "2019-04-29T00:00:00",
          "2019-04-29T00:00:00"
         ],
         "y": [
          "predicted",
          "predicted"
         ]
        },
        {
         "line": {
          "color": "#ee472f",
          "dash": "solid",
          "width": 3
         },
         "mode": "lines",
         "showlegend": false,
         "type": "scatter",
         "x": [
          "2019-06-17T00:00:00",
          "2019-06-24T00:00:00"
         ],
         "y": [
          "predicted",
          "predicted"
         ]
        },
        {
         "line": {
          "color": "#ee472f",
          "dash": "solid",
          "width": 3
         },
         "mode": "lines",
         "showlegend": false,
         "type": "scatter",
         "x": [
          "2019-07-08T00:00:00",
          "2019-07-08T00:00:00"
         ],
         "y": [
          "predicted",
          "predicted"
         ]
        },
        {
         "line": {
          "color": "#ee472f",
          "dash": "solid",
          "width": 3
         },
         "mode": "lines",
         "showlegend": false,
         "type": "scatter",
         "x": [
          "2019-07-22T00:00:00",
          "2019-07-29T00:00:00"
         ],
         "y": [
          "predicted",
          "predicted"
         ]
        },
        {
         "line": {
          "color": "#ee472f",
          "dash": "solid",
          "width": 3
         },
         "mode": "lines",
         "showlegend": false,
         "type": "scatter",
         "x": [
          "2019-08-19T00:00:00",
          "2019-09-09T00:00:00"
         ],
         "y": [
          "predicted",
          "predicted"
         ]
        },
        {
         "line": {
          "color": "#ee472f",
          "dash": "solid",
          "width": 3
         },
         "mode": "lines",
         "showlegend": false,
         "type": "scatter",
         "x": [
          "2019-10-28T00:00:00",
          "2019-11-04T00:00:00"
         ],
         "y": [
          "predicted",
          "predicted"
         ]
        },
        {
         "line": {
          "color": "#ee472f",
          "dash": "solid",
          "width": 3
         },
         "mode": "lines",
         "showlegend": false,
         "type": "scatter",
         "x": [
          "2019-12-02T00:00:00",
          "2019-12-16T00:00:00"
         ],
         "y": [
          "predicted",
          "predicted"
         ]
        },
        {
         "line": {
          "color": "#ee472f",
          "dash": "solid",
          "width": 3
         },
         "mode": "lines",
         "showlegend": false,
         "type": "scatter",
         "x": [
          "2020-01-06T00:00:00",
          "2020-01-06T00:00:00"
         ],
         "y": [
          "predicted",
          "predicted"
         ]
        },
        {
         "line": {
          "color": "#ee472f",
          "dash": "solid",
          "width": 3
         },
         "mode": "lines",
         "showlegend": false,
         "type": "scatter",
         "x": [
          "2020-01-27T00:00:00",
          "2020-02-03T00:00:00"
         ],
         "y": [
          "predicted",
          "predicted"
         ]
        },
        {
         "line": {
          "color": "#ee472f",
          "dash": "solid",
          "width": 3
         },
         "mode": "lines",
         "showlegend": false,
         "type": "scatter",
         "x": [
          "2020-02-17T00:00:00",
          "2020-02-24T00:00:00"
         ],
         "y": [
          "predicted",
          "predicted"
         ]
        },
        {
         "line": {
          "color": "#ee472f",
          "dash": "solid",
          "width": 3
         },
         "mode": "lines",
         "showlegend": false,
         "type": "scatter",
         "x": [
          "2020-06-29T00:00:00",
          "2020-06-29T00:00:00"
         ],
         "y": [
          "predicted",
          "predicted"
         ]
        },
        {
         "line": {
          "color": "#ee472f",
          "dash": "solid",
          "width": 3
         },
         "mode": "lines",
         "showlegend": false,
         "type": "scatter",
         "x": [
          "2020-08-17T00:00:00",
          "2020-08-17T00:00:00"
         ],
         "y": [
          "predicted",
          "predicted"
         ]
        },
        {
         "line": {
          "color": "#ee472f",
          "dash": "solid",
          "width": 3
         },
         "mode": "lines",
         "showlegend": false,
         "type": "scatter",
         "x": [
          "2020-10-19T00:00:00",
          "2020-10-19T00:00:00"
         ],
         "y": [
          "predicted",
          "predicted"
         ]
        }
       ],
       "layout": {
        "legend": {
         "itemsizing": "constant",
         "title": {
          "text": "category"
         },
         "tracegroupgap": 0
        },
        "margin": {
         "t": 60
        },
        "template": {
         "data": {
          "bar": [
           {
            "error_x": {
             "color": "#2a3f5f"
            },
            "error_y": {
             "color": "#2a3f5f"
            },
            "marker": {
             "line": {
              "color": "#E5ECF6",
              "width": 0.5
             },
             "pattern": {
              "fillmode": "overlay",
              "size": 10,
              "solidity": 0.2
             }
            },
            "type": "bar"
           }
          ],
          "barpolar": [
           {
            "marker": {
             "line": {
              "color": "#E5ECF6",
              "width": 0.5
             },
             "pattern": {
              "fillmode": "overlay",
              "size": 10,
              "solidity": 0.2
             }
            },
            "type": "barpolar"
           }
          ],
          "carpet": [
           {
            "aaxis": {
             "endlinecolor": "#2a3f5f",
             "gridcolor": "white",
             "linecolor": "white",
             "minorgridcolor": "white",
             "startlinecolor": "#2a3f5f"
            },
            "baxis": {
             "endlinecolor": "#2a3f5f",
             "gridcolor": "white",
             "linecolor": "white",
             "minorgridcolor": "white",
             "startlinecolor": "#2a3f5f"
            },
            "type": "carpet"
           }
          ],
          "choropleth": [
           {
            "colorbar": {
             "outlinewidth": 0,
             "ticks": ""
            },
            "type": "choropleth"
           }
          ],
          "contour": [
           {
            "colorbar": {
             "outlinewidth": 0,
             "ticks": ""
            },
            "colorscale": [
             [
              0,
              "#0d0887"
             ],
             [
              0.1111111111111111,
              "#46039f"
             ],
             [
              0.2222222222222222,
              "#7201a8"
             ],
             [
              0.3333333333333333,
              "#9c179e"
             ],
             [
              0.4444444444444444,
              "#bd3786"
             ],
             [
              0.5555555555555556,
              "#d8576b"
             ],
             [
              0.6666666666666666,
              "#ed7953"
             ],
             [
              0.7777777777777778,
              "#fb9f3a"
             ],
             [
              0.8888888888888888,
              "#fdca26"
             ],
             [
              1,
              "#f0f921"
             ]
            ],
            "type": "contour"
           }
          ],
          "contourcarpet": [
           {
            "colorbar": {
             "outlinewidth": 0,
             "ticks": ""
            },
            "type": "contourcarpet"
           }
          ],
          "heatmap": [
           {
            "colorbar": {
             "outlinewidth": 0,
             "ticks": ""
            },
            "colorscale": [
             [
              0,
              "#0d0887"
             ],
             [
              0.1111111111111111,
              "#46039f"
             ],
             [
              0.2222222222222222,
              "#7201a8"
             ],
             [
              0.3333333333333333,
              "#9c179e"
             ],
             [
              0.4444444444444444,
              "#bd3786"
             ],
             [
              0.5555555555555556,
              "#d8576b"
             ],
             [
              0.6666666666666666,
              "#ed7953"
             ],
             [
              0.7777777777777778,
              "#fb9f3a"
             ],
             [
              0.8888888888888888,
              "#fdca26"
             ],
             [
              1,
              "#f0f921"
             ]
            ],
            "type": "heatmap"
           }
          ],
          "heatmapgl": [
           {
            "colorbar": {
             "outlinewidth": 0,
             "ticks": ""
            },
            "colorscale": [
             [
              0,
              "#0d0887"
             ],
             [
              0.1111111111111111,
              "#46039f"
             ],
             [
              0.2222222222222222,
              "#7201a8"
             ],
             [
              0.3333333333333333,
              "#9c179e"
             ],
             [
              0.4444444444444444,
              "#bd3786"
             ],
             [
              0.5555555555555556,
              "#d8576b"
             ],
             [
              0.6666666666666666,
              "#ed7953"
             ],
             [
              0.7777777777777778,
              "#fb9f3a"
             ],
             [
              0.8888888888888888,
              "#fdca26"
             ],
             [
              1,
              "#f0f921"
             ]
            ],
            "type": "heatmapgl"
           }
          ],
          "histogram": [
           {
            "marker": {
             "pattern": {
              "fillmode": "overlay",
              "size": 10,
              "solidity": 0.2
             }
            },
            "type": "histogram"
           }
          ],
          "histogram2d": [
           {
            "colorbar": {
             "outlinewidth": 0,
             "ticks": ""
            },
            "colorscale": [
             [
              0,
              "#0d0887"
             ],
             [
              0.1111111111111111,
              "#46039f"
             ],
             [
              0.2222222222222222,
              "#7201a8"
             ],
             [
              0.3333333333333333,
              "#9c179e"
             ],
             [
              0.4444444444444444,
              "#bd3786"
             ],
             [
              0.5555555555555556,
              "#d8576b"
             ],
             [
              0.6666666666666666,
              "#ed7953"
             ],
             [
              0.7777777777777778,
              "#fb9f3a"
             ],
             [
              0.8888888888888888,
              "#fdca26"
             ],
             [
              1,
              "#f0f921"
             ]
            ],
            "type": "histogram2d"
           }
          ],
          "histogram2dcontour": [
           {
            "colorbar": {
             "outlinewidth": 0,
             "ticks": ""
            },
            "colorscale": [
             [
              0,
              "#0d0887"
             ],
             [
              0.1111111111111111,
              "#46039f"
             ],
             [
              0.2222222222222222,
              "#7201a8"
             ],
             [
              0.3333333333333333,
              "#9c179e"
             ],
             [
              0.4444444444444444,
              "#bd3786"
             ],
             [
              0.5555555555555556,
              "#d8576b"
             ],
             [
              0.6666666666666666,
              "#ed7953"
             ],
             [
              0.7777777777777778,
              "#fb9f3a"
             ],
             [
              0.8888888888888888,
              "#fdca26"
             ],
             [
              1,
              "#f0f921"
             ]
            ],
            "type": "histogram2dcontour"
           }
          ],
          "mesh3d": [
           {
            "colorbar": {
             "outlinewidth": 0,
             "ticks": ""
            },
            "type": "mesh3d"
           }
          ],
          "parcoords": [
           {
            "line": {
             "colorbar": {
              "outlinewidth": 0,
              "ticks": ""
             }
            },
            "type": "parcoords"
           }
          ],
          "pie": [
           {
            "automargin": true,
            "type": "pie"
           }
          ],
          "scatter": [
           {
            "fillpattern": {
             "fillmode": "overlay",
             "size": 10,
             "solidity": 0.2
            },
            "type": "scatter"
           }
          ],
          "scatter3d": [
           {
            "line": {
             "colorbar": {
              "outlinewidth": 0,
              "ticks": ""
             }
            },
            "marker": {
             "colorbar": {
              "outlinewidth": 0,
              "ticks": ""
             }
            },
            "type": "scatter3d"
           }
          ],
          "scattercarpet": [
           {
            "marker": {
             "colorbar": {
              "outlinewidth": 0,
              "ticks": ""
             }
            },
            "type": "scattercarpet"
           }
          ],
          "scattergeo": [
           {
            "marker": {
             "colorbar": {
              "outlinewidth": 0,
              "ticks": ""
             }
            },
            "type": "scattergeo"
           }
          ],
          "scattergl": [
           {
            "marker": {
             "colorbar": {
              "outlinewidth": 0,
              "ticks": ""
             }
            },
            "type": "scattergl"
           }
          ],
          "scattermapbox": [
           {
            "marker": {
             "colorbar": {
              "outlinewidth": 0,
              "ticks": ""
             }
            },
            "type": "scattermapbox"
           }
          ],
          "scatterpolar": [
           {
            "marker": {
             "colorbar": {
              "outlinewidth": 0,
              "ticks": ""
             }
            },
            "type": "scatterpolar"
           }
          ],
          "scatterpolargl": [
           {
            "marker": {
             "colorbar": {
              "outlinewidth": 0,
              "ticks": ""
             }
            },
            "type": "scatterpolargl"
           }
          ],
          "scatterternary": [
           {
            "marker": {
             "colorbar": {
              "outlinewidth": 0,
              "ticks": ""
             }
            },
            "type": "scatterternary"
           }
          ],
          "surface": [
           {
            "colorbar": {
             "outlinewidth": 0,
             "ticks": ""
            },
            "colorscale": [
             [
              0,
              "#0d0887"
             ],
             [
              0.1111111111111111,
              "#46039f"
             ],
             [
              0.2222222222222222,
              "#7201a8"
             ],
             [
              0.3333333333333333,
              "#9c179e"
             ],
             [
              0.4444444444444444,
              "#bd3786"
             ],
             [
              0.5555555555555556,
              "#d8576b"
             ],
             [
              0.6666666666666666,
              "#ed7953"
             ],
             [
              0.7777777777777778,
              "#fb9f3a"
             ],
             [
              0.8888888888888888,
              "#fdca26"
             ],
             [
              1,
              "#f0f921"
             ]
            ],
            "type": "surface"
           }
          ],
          "table": [
           {
            "cells": {
             "fill": {
              "color": "#EBF0F8"
             },
             "line": {
              "color": "white"
             }
            },
            "header": {
             "fill": {
              "color": "#C8D4E3"
             },
             "line": {
              "color": "white"
             }
            },
            "type": "table"
           }
          ]
         },
         "layout": {
          "annotationdefaults": {
           "arrowcolor": "#2a3f5f",
           "arrowhead": 0,
           "arrowwidth": 1
          },
          "autotypenumbers": "strict",
          "coloraxis": {
           "colorbar": {
            "outlinewidth": 0,
            "ticks": ""
           }
          },
          "colorscale": {
           "diverging": [
            [
             0,
             "#8e0152"
            ],
            [
             0.1,
             "#c51b7d"
            ],
            [
             0.2,
             "#de77ae"
            ],
            [
             0.3,
             "#f1b6da"
            ],
            [
             0.4,
             "#fde0ef"
            ],
            [
             0.5,
             "#f7f7f7"
            ],
            [
             0.6,
             "#e6f5d0"
            ],
            [
             0.7,
             "#b8e186"
            ],
            [
             0.8,
             "#7fbc41"
            ],
            [
             0.9,
             "#4d9221"
            ],
            [
             1,
             "#276419"
            ]
           ],
           "sequential": [
            [
             0,
             "#0d0887"
            ],
            [
             0.1111111111111111,
             "#46039f"
            ],
            [
             0.2222222222222222,
             "#7201a8"
            ],
            [
             0.3333333333333333,
             "#9c179e"
            ],
            [
             0.4444444444444444,
             "#bd3786"
            ],
            [
             0.5555555555555556,
             "#d8576b"
            ],
            [
             0.6666666666666666,
             "#ed7953"
            ],
            [
             0.7777777777777778,
             "#fb9f3a"
            ],
            [
             0.8888888888888888,
             "#fdca26"
            ],
            [
             1,
             "#f0f921"
            ]
           ],
           "sequentialminus": [
            [
             0,
             "#0d0887"
            ],
            [
             0.1111111111111111,
             "#46039f"
            ],
            [
             0.2222222222222222,
             "#7201a8"
            ],
            [
             0.3333333333333333,
             "#9c179e"
            ],
            [
             0.4444444444444444,
             "#bd3786"
            ],
            [
             0.5555555555555556,
             "#d8576b"
            ],
            [
             0.6666666666666666,
             "#ed7953"
            ],
            [
             0.7777777777777778,
             "#fb9f3a"
            ],
            [
             0.8888888888888888,
             "#fdca26"
            ],
            [
             1,
             "#f0f921"
            ]
           ]
          },
          "colorway": [
           "#636efa",
           "#EF553B",
           "#00cc96",
           "#ab63fa",
           "#FFA15A",
           "#19d3f3",
           "#FF6692",
           "#B6E880",
           "#FF97FF",
           "#FECB52"
          ],
          "font": {
           "color": "#2a3f5f"
          },
          "geo": {
           "bgcolor": "white",
           "lakecolor": "white",
           "landcolor": "#E5ECF6",
           "showlakes": true,
           "showland": true,
           "subunitcolor": "white"
          },
          "hoverlabel": {
           "align": "left"
          },
          "hovermode": "closest",
          "mapbox": {
           "style": "light"
          },
          "paper_bgcolor": "white",
          "plot_bgcolor": "#E5ECF6",
          "polar": {
           "angularaxis": {
            "gridcolor": "white",
            "linecolor": "white",
            "ticks": ""
           },
           "bgcolor": "#E5ECF6",
           "radialaxis": {
            "gridcolor": "white",
            "linecolor": "white",
            "ticks": ""
           }
          },
          "scene": {
           "xaxis": {
            "backgroundcolor": "#E5ECF6",
            "gridcolor": "white",
            "gridwidth": 2,
            "linecolor": "white",
            "showbackground": true,
            "ticks": "",
            "zerolinecolor": "white"
           },
           "yaxis": {
            "backgroundcolor": "#E5ECF6",
            "gridcolor": "white",
            "gridwidth": 2,
            "linecolor": "white",
            "showbackground": true,
            "ticks": "",
            "zerolinecolor": "white"
           },
           "zaxis": {
            "backgroundcolor": "#E5ECF6",
            "gridcolor": "white",
            "gridwidth": 2,
            "linecolor": "white",
            "showbackground": true,
            "ticks": "",
            "zerolinecolor": "white"
           }
          },
          "shapedefaults": {
           "line": {
            "color": "#2a3f5f"
           }
          },
          "ternary": {
           "aaxis": {
            "gridcolor": "white",
            "linecolor": "white",
            "ticks": ""
           },
           "baxis": {
            "gridcolor": "white",
            "linecolor": "white",
            "ticks": ""
           },
           "bgcolor": "#E5ECF6",
           "caxis": {
            "gridcolor": "white",
            "linecolor": "white",
            "ticks": ""
           }
          },
          "title": {
           "x": 0.05
          },
          "xaxis": {
           "automargin": true,
           "gridcolor": "white",
           "linecolor": "white",
           "ticks": "",
           "title": {
            "standoff": 15
           },
           "zerolinecolor": "white",
           "zerolinewidth": 2
          },
          "yaxis": {
           "automargin": true,
           "gridcolor": "white",
           "linecolor": "white",
           "ticks": "",
           "title": {
            "standoff": 15
           },
           "zerolinecolor": "white",
           "zerolinewidth": 2
          }
         }
        },
        "title": {
         "text": "Dengue Outbreak Periods for Zamboanga City"
        },
        "xaxis": {
         "anchor": "y",
         "domain": [
          0,
          1
         ],
         "title": {
          "text": "Date"
         }
        },
        "yaxis": {
         "anchor": "x",
         "categoryarray": [
          "predicted",
          "actual"
         ],
         "categoryorder": "array",
         "domain": [
          0,
          1
         ],
         "title": {
          "text": "Category"
         }
        }
       }
      },
      "text/html": [
       "<div>                            <div id=\"32de4f7c-f726-4ec6-8cff-267ccc520233\" class=\"plotly-graph-div\" style=\"height:525px; width:100%;\"></div>            <script type=\"text/javascript\">                require([\"plotly\"], function(Plotly) {                    window.PLOTLYENV=window.PLOTLYENV || {};                                    if (document.getElementById(\"32de4f7c-f726-4ec6-8cff-267ccc520233\")) {                    Plotly.newPlot(                        \"32de4f7c-f726-4ec6-8cff-267ccc520233\",                        [{\"hovertemplate\":\"category=%{y}\\u003cbr\\u003evalue=%{x}\\u003cbr\\u003eactual_length_weeks=%{marker.size}\\u003cextra\\u003e\\u003c\\u002fextra\\u003e\",\"legendgroup\":\"actual\",\"marker\":{\"color\":\"#53bed0\",\"size\":[3,5,3,3,3,5,3,3],\"sizemode\":\"area\",\"sizeref\":0.0125,\"symbol\":\"circle\"},\"mode\":\"markers\",\"name\":\"actual\",\"orientation\":\"v\",\"showlegend\":true,\"x\":[\"2019-04-22T00:00:00\",\"2019-08-19T00:00:00\",\"2019-10-21T00:00:00\",\"2019-11-25T00:00:00\",\"2019-05-06T00:00:00\",\"2019-09-16T00:00:00\",\"2019-11-04T00:00:00\",\"2019-12-09T00:00:00\"],\"xaxis\":\"x\",\"y\":[\"actual\",\"actual\",\"actual\",\"actual\",\"actual\",\"actual\",\"actual\",\"actual\"],\"yaxis\":\"y\",\"type\":\"scatter\"},{\"hovertemplate\":\"category=%{y}\\u003cbr\\u003evalue=%{x}\\u003cbr\\u003eactual_length_weeks=%{marker.size}\\u003cextra\\u003e\\u003c\\u002fextra\\u003e\",\"legendgroup\":\"predicted\",\"marker\":{\"color\":\"#ee472f\",\"size\":[1,2,1,2,4,2,3,2,2,2,1,1,1,1,2,1,2,4,2,3,2,2,2,1,1,1],\"sizemode\":\"area\",\"sizeref\":0.0125,\"symbol\":\"circle\"},\"mode\":\"markers\",\"name\":\"predicted\",\"orientation\":\"v\",\"showlegend\":true,\"x\":[\"2019-04-29T00:00:00\",\"2019-06-17T00:00:00\",\"2019-07-08T00:00:00\",\"2019-07-22T00:00:00\",\"2019-08-19T00:00:00\",\"2019-10-28T00:00:00\",\"2019-12-02T00:00:00\",\"2020-01-06T00:00:00\",\"2020-01-27T00:00:00\",\"2020-02-17T00:00:00\",\"2020-06-29T00:00:00\",\"2020-08-17T00:00:00\",\"2020-10-19T00:00:00\",\"2019-04-29T00:00:00\",\"2019-06-24T00:00:00\",\"2019-07-08T00:00:00\",\"2019-07-29T00:00:00\",\"2019-09-09T00:00:00\",\"2019-11-04T00:00:00\",\"2019-12-16T00:00:00\",\"2020-01-06T00:00:00\",\"2020-02-03T00:00:00\",\"2020-02-24T00:00:00\",\"2020-06-29T00:00:00\",\"2020-08-17T00:00:00\",\"2020-10-19T00:00:00\"],\"xaxis\":\"x\",\"y\":[\"predicted\",\"predicted\",\"predicted\",\"predicted\",\"predicted\",\"predicted\",\"predicted\",\"predicted\",\"predicted\",\"predicted\",\"predicted\",\"predicted\",\"predicted\",\"predicted\",\"predicted\",\"predicted\",\"predicted\",\"predicted\",\"predicted\",\"predicted\",\"predicted\",\"predicted\",\"predicted\",\"predicted\",\"predicted\",\"predicted\"],\"yaxis\":\"y\",\"type\":\"scatter\"},{\"line\":{\"color\":\"#53bed0\",\"dash\":\"solid\",\"width\":3},\"mode\":\"lines\",\"showlegend\":false,\"x\":[\"2019-04-22T00:00:00\",\"2019-05-06T00:00:00\"],\"y\":[\"actual\",\"actual\"],\"type\":\"scatter\"},{\"line\":{\"color\":\"#53bed0\",\"dash\":\"solid\",\"width\":3},\"mode\":\"lines\",\"showlegend\":false,\"x\":[\"2019-08-19T00:00:00\",\"2019-09-16T00:00:00\"],\"y\":[\"actual\",\"actual\"],\"type\":\"scatter\"},{\"line\":{\"color\":\"#53bed0\",\"dash\":\"solid\",\"width\":3},\"mode\":\"lines\",\"showlegend\":false,\"x\":[\"2019-10-21T00:00:00\",\"2019-11-04T00:00:00\"],\"y\":[\"actual\",\"actual\"],\"type\":\"scatter\"},{\"line\":{\"color\":\"#53bed0\",\"dash\":\"solid\",\"width\":3},\"mode\":\"lines\",\"showlegend\":false,\"x\":[\"2019-11-25T00:00:00\",\"2019-12-09T00:00:00\"],\"y\":[\"actual\",\"actual\"],\"type\":\"scatter\"},{\"line\":{\"color\":\"#ee472f\",\"dash\":\"solid\",\"width\":3},\"mode\":\"lines\",\"showlegend\":false,\"x\":[\"2019-04-29T00:00:00\",\"2019-04-29T00:00:00\"],\"y\":[\"predicted\",\"predicted\"],\"type\":\"scatter\"},{\"line\":{\"color\":\"#ee472f\",\"dash\":\"solid\",\"width\":3},\"mode\":\"lines\",\"showlegend\":false,\"x\":[\"2019-06-17T00:00:00\",\"2019-06-24T00:00:00\"],\"y\":[\"predicted\",\"predicted\"],\"type\":\"scatter\"},{\"line\":{\"color\":\"#ee472f\",\"dash\":\"solid\",\"width\":3},\"mode\":\"lines\",\"showlegend\":false,\"x\":[\"2019-07-08T00:00:00\",\"2019-07-08T00:00:00\"],\"y\":[\"predicted\",\"predicted\"],\"type\":\"scatter\"},{\"line\":{\"color\":\"#ee472f\",\"dash\":\"solid\",\"width\":3},\"mode\":\"lines\",\"showlegend\":false,\"x\":[\"2019-07-22T00:00:00\",\"2019-07-29T00:00:00\"],\"y\":[\"predicted\",\"predicted\"],\"type\":\"scatter\"},{\"line\":{\"color\":\"#ee472f\",\"dash\":\"solid\",\"width\":3},\"mode\":\"lines\",\"showlegend\":false,\"x\":[\"2019-08-19T00:00:00\",\"2019-09-09T00:00:00\"],\"y\":[\"predicted\",\"predicted\"],\"type\":\"scatter\"},{\"line\":{\"color\":\"#ee472f\",\"dash\":\"solid\",\"width\":3},\"mode\":\"lines\",\"showlegend\":false,\"x\":[\"2019-10-28T00:00:00\",\"2019-11-04T00:00:00\"],\"y\":[\"predicted\",\"predicted\"],\"type\":\"scatter\"},{\"line\":{\"color\":\"#ee472f\",\"dash\":\"solid\",\"width\":3},\"mode\":\"lines\",\"showlegend\":false,\"x\":[\"2019-12-02T00:00:00\",\"2019-12-16T00:00:00\"],\"y\":[\"predicted\",\"predicted\"],\"type\":\"scatter\"},{\"line\":{\"color\":\"#ee472f\",\"dash\":\"solid\",\"width\":3},\"mode\":\"lines\",\"showlegend\":false,\"x\":[\"2020-01-06T00:00:00\",\"2020-01-06T00:00:00\"],\"y\":[\"predicted\",\"predicted\"],\"type\":\"scatter\"},{\"line\":{\"color\":\"#ee472f\",\"dash\":\"solid\",\"width\":3},\"mode\":\"lines\",\"showlegend\":false,\"x\":[\"2020-01-27T00:00:00\",\"2020-02-03T00:00:00\"],\"y\":[\"predicted\",\"predicted\"],\"type\":\"scatter\"},{\"line\":{\"color\":\"#ee472f\",\"dash\":\"solid\",\"width\":3},\"mode\":\"lines\",\"showlegend\":false,\"x\":[\"2020-02-17T00:00:00\",\"2020-02-24T00:00:00\"],\"y\":[\"predicted\",\"predicted\"],\"type\":\"scatter\"},{\"line\":{\"color\":\"#ee472f\",\"dash\":\"solid\",\"width\":3},\"mode\":\"lines\",\"showlegend\":false,\"x\":[\"2020-06-29T00:00:00\",\"2020-06-29T00:00:00\"],\"y\":[\"predicted\",\"predicted\"],\"type\":\"scatter\"},{\"line\":{\"color\":\"#ee472f\",\"dash\":\"solid\",\"width\":3},\"mode\":\"lines\",\"showlegend\":false,\"x\":[\"2020-08-17T00:00:00\",\"2020-08-17T00:00:00\"],\"y\":[\"predicted\",\"predicted\"],\"type\":\"scatter\"},{\"line\":{\"color\":\"#ee472f\",\"dash\":\"solid\",\"width\":3},\"mode\":\"lines\",\"showlegend\":false,\"x\":[\"2020-10-19T00:00:00\",\"2020-10-19T00:00:00\"],\"y\":[\"predicted\",\"predicted\"],\"type\":\"scatter\"}],                        {\"template\":{\"data\":{\"histogram2dcontour\":[{\"type\":\"histogram2dcontour\",\"colorbar\":{\"outlinewidth\":0,\"ticks\":\"\"},\"colorscale\":[[0.0,\"#0d0887\"],[0.1111111111111111,\"#46039f\"],[0.2222222222222222,\"#7201a8\"],[0.3333333333333333,\"#9c179e\"],[0.4444444444444444,\"#bd3786\"],[0.5555555555555556,\"#d8576b\"],[0.6666666666666666,\"#ed7953\"],[0.7777777777777778,\"#fb9f3a\"],[0.8888888888888888,\"#fdca26\"],[1.0,\"#f0f921\"]]}],\"choropleth\":[{\"type\":\"choropleth\",\"colorbar\":{\"outlinewidth\":0,\"ticks\":\"\"}}],\"histogram2d\":[{\"type\":\"histogram2d\",\"colorbar\":{\"outlinewidth\":0,\"ticks\":\"\"},\"colorscale\":[[0.0,\"#0d0887\"],[0.1111111111111111,\"#46039f\"],[0.2222222222222222,\"#7201a8\"],[0.3333333333333333,\"#9c179e\"],[0.4444444444444444,\"#bd3786\"],[0.5555555555555556,\"#d8576b\"],[0.6666666666666666,\"#ed7953\"],[0.7777777777777778,\"#fb9f3a\"],[0.8888888888888888,\"#fdca26\"],[1.0,\"#f0f921\"]]}],\"heatmap\":[{\"type\":\"heatmap\",\"colorbar\":{\"outlinewidth\":0,\"ticks\":\"\"},\"colorscale\":[[0.0,\"#0d0887\"],[0.1111111111111111,\"#46039f\"],[0.2222222222222222,\"#7201a8\"],[0.3333333333333333,\"#9c179e\"],[0.4444444444444444,\"#bd3786\"],[0.5555555555555556,\"#d8576b\"],[0.6666666666666666,\"#ed7953\"],[0.7777777777777778,\"#fb9f3a\"],[0.8888888888888888,\"#fdca26\"],[1.0,\"#f0f921\"]]}],\"heatmapgl\":[{\"type\":\"heatmapgl\",\"colorbar\":{\"outlinewidth\":0,\"ticks\":\"\"},\"colorscale\":[[0.0,\"#0d0887\"],[0.1111111111111111,\"#46039f\"],[0.2222222222222222,\"#7201a8\"],[0.3333333333333333,\"#9c179e\"],[0.4444444444444444,\"#bd3786\"],[0.5555555555555556,\"#d8576b\"],[0.6666666666666666,\"#ed7953\"],[0.7777777777777778,\"#fb9f3a\"],[0.8888888888888888,\"#fdca26\"],[1.0,\"#f0f921\"]]}],\"contourcarpet\":[{\"type\":\"contourcarpet\",\"colorbar\":{\"outlinewidth\":0,\"ticks\":\"\"}}],\"contour\":[{\"type\":\"contour\",\"colorbar\":{\"outlinewidth\":0,\"ticks\":\"\"},\"colorscale\":[[0.0,\"#0d0887\"],[0.1111111111111111,\"#46039f\"],[0.2222222222222222,\"#7201a8\"],[0.3333333333333333,\"#9c179e\"],[0.4444444444444444,\"#bd3786\"],[0.5555555555555556,\"#d8576b\"],[0.6666666666666666,\"#ed7953\"],[0.7777777777777778,\"#fb9f3a\"],[0.8888888888888888,\"#fdca26\"],[1.0,\"#f0f921\"]]}],\"surface\":[{\"type\":\"surface\",\"colorbar\":{\"outlinewidth\":0,\"ticks\":\"\"},\"colorscale\":[[0.0,\"#0d0887\"],[0.1111111111111111,\"#46039f\"],[0.2222222222222222,\"#7201a8\"],[0.3333333333333333,\"#9c179e\"],[0.4444444444444444,\"#bd3786\"],[0.5555555555555556,\"#d8576b\"],[0.6666666666666666,\"#ed7953\"],[0.7777777777777778,\"#fb9f3a\"],[0.8888888888888888,\"#fdca26\"],[1.0,\"#f0f921\"]]}],\"mesh3d\":[{\"type\":\"mesh3d\",\"colorbar\":{\"outlinewidth\":0,\"ticks\":\"\"}}],\"scatter\":[{\"fillpattern\":{\"fillmode\":\"overlay\",\"size\":10,\"solidity\":0.2},\"type\":\"scatter\"}],\"parcoords\":[{\"type\":\"parcoords\",\"line\":{\"colorbar\":{\"outlinewidth\":0,\"ticks\":\"\"}}}],\"scatterpolargl\":[{\"type\":\"scatterpolargl\",\"marker\":{\"colorbar\":{\"outlinewidth\":0,\"ticks\":\"\"}}}],\"bar\":[{\"error_x\":{\"color\":\"#2a3f5f\"},\"error_y\":{\"color\":\"#2a3f5f\"},\"marker\":{\"line\":{\"color\":\"#E5ECF6\",\"width\":0.5},\"pattern\":{\"fillmode\":\"overlay\",\"size\":10,\"solidity\":0.2}},\"type\":\"bar\"}],\"scattergeo\":[{\"type\":\"scattergeo\",\"marker\":{\"colorbar\":{\"outlinewidth\":0,\"ticks\":\"\"}}}],\"scatterpolar\":[{\"type\":\"scatterpolar\",\"marker\":{\"colorbar\":{\"outlinewidth\":0,\"ticks\":\"\"}}}],\"histogram\":[{\"marker\":{\"pattern\":{\"fillmode\":\"overlay\",\"size\":10,\"solidity\":0.2}},\"type\":\"histogram\"}],\"scattergl\":[{\"type\":\"scattergl\",\"marker\":{\"colorbar\":{\"outlinewidth\":0,\"ticks\":\"\"}}}],\"scatter3d\":[{\"type\":\"scatter3d\",\"line\":{\"colorbar\":{\"outlinewidth\":0,\"ticks\":\"\"}},\"marker\":{\"colorbar\":{\"outlinewidth\":0,\"ticks\":\"\"}}}],\"scattermapbox\":[{\"type\":\"scattermapbox\",\"marker\":{\"colorbar\":{\"outlinewidth\":0,\"ticks\":\"\"}}}],\"scatterternary\":[{\"type\":\"scatterternary\",\"marker\":{\"colorbar\":{\"outlinewidth\":0,\"ticks\":\"\"}}}],\"scattercarpet\":[{\"type\":\"scattercarpet\",\"marker\":{\"colorbar\":{\"outlinewidth\":0,\"ticks\":\"\"}}}],\"carpet\":[{\"aaxis\":{\"endlinecolor\":\"#2a3f5f\",\"gridcolor\":\"white\",\"linecolor\":\"white\",\"minorgridcolor\":\"white\",\"startlinecolor\":\"#2a3f5f\"},\"baxis\":{\"endlinecolor\":\"#2a3f5f\",\"gridcolor\":\"white\",\"linecolor\":\"white\",\"minorgridcolor\":\"white\",\"startlinecolor\":\"#2a3f5f\"},\"type\":\"carpet\"}],\"table\":[{\"cells\":{\"fill\":{\"color\":\"#EBF0F8\"},\"line\":{\"color\":\"white\"}},\"header\":{\"fill\":{\"color\":\"#C8D4E3\"},\"line\":{\"color\":\"white\"}},\"type\":\"table\"}],\"barpolar\":[{\"marker\":{\"line\":{\"color\":\"#E5ECF6\",\"width\":0.5},\"pattern\":{\"fillmode\":\"overlay\",\"size\":10,\"solidity\":0.2}},\"type\":\"barpolar\"}],\"pie\":[{\"automargin\":true,\"type\":\"pie\"}]},\"layout\":{\"autotypenumbers\":\"strict\",\"colorway\":[\"#636efa\",\"#EF553B\",\"#00cc96\",\"#ab63fa\",\"#FFA15A\",\"#19d3f3\",\"#FF6692\",\"#B6E880\",\"#FF97FF\",\"#FECB52\"],\"font\":{\"color\":\"#2a3f5f\"},\"hovermode\":\"closest\",\"hoverlabel\":{\"align\":\"left\"},\"paper_bgcolor\":\"white\",\"plot_bgcolor\":\"#E5ECF6\",\"polar\":{\"bgcolor\":\"#E5ECF6\",\"angularaxis\":{\"gridcolor\":\"white\",\"linecolor\":\"white\",\"ticks\":\"\"},\"radialaxis\":{\"gridcolor\":\"white\",\"linecolor\":\"white\",\"ticks\":\"\"}},\"ternary\":{\"bgcolor\":\"#E5ECF6\",\"aaxis\":{\"gridcolor\":\"white\",\"linecolor\":\"white\",\"ticks\":\"\"},\"baxis\":{\"gridcolor\":\"white\",\"linecolor\":\"white\",\"ticks\":\"\"},\"caxis\":{\"gridcolor\":\"white\",\"linecolor\":\"white\",\"ticks\":\"\"}},\"coloraxis\":{\"colorbar\":{\"outlinewidth\":0,\"ticks\":\"\"}},\"colorscale\":{\"sequential\":[[0.0,\"#0d0887\"],[0.1111111111111111,\"#46039f\"],[0.2222222222222222,\"#7201a8\"],[0.3333333333333333,\"#9c179e\"],[0.4444444444444444,\"#bd3786\"],[0.5555555555555556,\"#d8576b\"],[0.6666666666666666,\"#ed7953\"],[0.7777777777777778,\"#fb9f3a\"],[0.8888888888888888,\"#fdca26\"],[1.0,\"#f0f921\"]],\"sequentialminus\":[[0.0,\"#0d0887\"],[0.1111111111111111,\"#46039f\"],[0.2222222222222222,\"#7201a8\"],[0.3333333333333333,\"#9c179e\"],[0.4444444444444444,\"#bd3786\"],[0.5555555555555556,\"#d8576b\"],[0.6666666666666666,\"#ed7953\"],[0.7777777777777778,\"#fb9f3a\"],[0.8888888888888888,\"#fdca26\"],[1.0,\"#f0f921\"]],\"diverging\":[[0,\"#8e0152\"],[0.1,\"#c51b7d\"],[0.2,\"#de77ae\"],[0.3,\"#f1b6da\"],[0.4,\"#fde0ef\"],[0.5,\"#f7f7f7\"],[0.6,\"#e6f5d0\"],[0.7,\"#b8e186\"],[0.8,\"#7fbc41\"],[0.9,\"#4d9221\"],[1,\"#276419\"]]},\"xaxis\":{\"gridcolor\":\"white\",\"linecolor\":\"white\",\"ticks\":\"\",\"title\":{\"standoff\":15},\"zerolinecolor\":\"white\",\"automargin\":true,\"zerolinewidth\":2},\"yaxis\":{\"gridcolor\":\"white\",\"linecolor\":\"white\",\"ticks\":\"\",\"title\":{\"standoff\":15},\"zerolinecolor\":\"white\",\"automargin\":true,\"zerolinewidth\":2},\"scene\":{\"xaxis\":{\"backgroundcolor\":\"#E5ECF6\",\"gridcolor\":\"white\",\"linecolor\":\"white\",\"showbackground\":true,\"ticks\":\"\",\"zerolinecolor\":\"white\",\"gridwidth\":2},\"yaxis\":{\"backgroundcolor\":\"#E5ECF6\",\"gridcolor\":\"white\",\"linecolor\":\"white\",\"showbackground\":true,\"ticks\":\"\",\"zerolinecolor\":\"white\",\"gridwidth\":2},\"zaxis\":{\"backgroundcolor\":\"#E5ECF6\",\"gridcolor\":\"white\",\"linecolor\":\"white\",\"showbackground\":true,\"ticks\":\"\",\"zerolinecolor\":\"white\",\"gridwidth\":2}},\"shapedefaults\":{\"line\":{\"color\":\"#2a3f5f\"}},\"annotationdefaults\":{\"arrowcolor\":\"#2a3f5f\",\"arrowhead\":0,\"arrowwidth\":1},\"geo\":{\"bgcolor\":\"white\",\"landcolor\":\"#E5ECF6\",\"subunitcolor\":\"white\",\"showland\":true,\"showlakes\":true,\"lakecolor\":\"white\"},\"title\":{\"x\":0.05},\"mapbox\":{\"style\":\"light\"}}},\"xaxis\":{\"anchor\":\"y\",\"domain\":[0.0,1.0],\"title\":{\"text\":\"Date\"}},\"yaxis\":{\"anchor\":\"x\",\"domain\":[0.0,1.0],\"title\":{\"text\":\"Category\"},\"categoryorder\":\"array\",\"categoryarray\":[\"predicted\",\"actual\"]},\"legend\":{\"title\":{\"text\":\"category\"},\"tracegroupgap\":0,\"itemsizing\":\"constant\"},\"margin\":{\"t\":60},\"title\":{\"text\":\"Dengue Outbreak Periods for Zamboanga City\"}},                        {\"responsive\": true}                    ).then(function(){\n",
       "                            \n",
       "var gd = document.getElementById('32de4f7c-f726-4ec6-8cff-267ccc520233');\n",
       "var x = new MutationObserver(function (mutations, observer) {{\n",
       "        var display = window.getComputedStyle(gd).display;\n",
       "        if (!display || display === 'none') {{\n",
       "            console.log([gd, 'removed!']);\n",
       "            Plotly.purge(gd);\n",
       "            observer.disconnect();\n",
       "        }}\n",
       "}});\n",
       "\n",
       "// Listen for the removal of the full notebook cells\n",
       "var notebookContainer = gd.closest('#notebook-container');\n",
       "if (notebookContainer) {{\n",
       "    x.observe(notebookContainer, {childList: true});\n",
       "}}\n",
       "\n",
       "// Listen for the clearing of the current output cell\n",
       "var outputEl = gd.closest('.output');\n",
       "if (outputEl) {{\n",
       "    x.observe(outputEl, {childList: true});\n",
       "}}\n",
       "\n",
       "                        })                };                });            </script>        </div>"
      ]
     },
     "metadata": {},
     "output_type": "display_data"
    }
   ],
   "source": [
    "# Set custom colors\n",
    "class_colors = {\"predicted\": \"#ee472f\", \"actual\": \"#53bed0\"}\n",
    "\n",
    "# Plot start and end outbreak points\n",
    "fig = px.scatter(\n",
    "    outbreak_lengths_results,\n",
    "    x=[\"start_date\", \"end_date\"],\n",
    "    y=\"category\",\n",
    "    color=\"category\",\n",
    "    size=\"actual_length_weeks\",\n",
    "    labels={\"x\": \"Date\"},\n",
    "    category_orders={\"category\": [\"actual\", \"predicted\"]},\n",
    "    color_discrete_map=class_colors,\n",
    ")\n",
    "\n",
    "for i, row in outbreak_lengths_results.iterrows():\n",
    "    fig.add_trace(\n",
    "        go.Scatter(\n",
    "            mode=\"lines\",\n",
    "            # layer=\"below\",\n",
    "            line=dict(\n",
    "                color=class_colors[row[\"category\"]],\n",
    "                width=3,\n",
    "                dash=\"solid\",\n",
    "            ),\n",
    "            # connect the two markers\n",
    "            x=[row[\"start_date\"], row[\"end_date\"]],\n",
    "            y=[row[\"category\"], row[\"category\"]],\n",
    "            showlegend=False,\n",
    "        )\n",
    "    )\n",
    "\n",
    "# Update layout with title and axis titles\n",
    "fig.update_layout(\n",
    "    title=\"Dengue Outbreak Periods for Zamboanga City\",\n",
    "    xaxis_title=\"Date\",\n",
    "    yaxis_title=\"Category\",\n",
    ")\n",
    "fig.show()"
   ]
  },
  {
   "cell_type": "markdown",
   "metadata": {},
   "source": [
    "## Visualize actual Number of Cases with Predicted label"
   ]
  },
  {
   "cell_type": "code",
   "execution_count": 68,
   "metadata": {},
   "outputs": [
    {
     "data": {
      "image/png": "[encoded data removed]",
      "text/plain": [
       "<Figure size 1600x600 with 1 Axes>"
      ]
     },
     "metadata": {},
     "output_type": "display_data"
    }
   ],
   "source": [
    "fig, ax = plt.subplots(figsize=(16, 6))\n",
    "\n",
    "\n",
    "# Define colors for each class\n",
    "class_colors = {0: \"#53bed0\", 1: \"#ee472f\"}\n",
    "\n",
    "# Plot the bar plot\n",
    "ax.bar(\n",
    "    analyze_df[\"Date\"],\n",
    "    analyze_df[\"Cases\"],\n",
    "    alpha=0.5,\n",
    "    label=\"Bar Plot\",\n",
    "    width=8,\n",
    "    color=[class_colors[c] for c in analyze_df[\"predicted_class\"]],\n",
    ")\n",
    "\n",
    "# # Plot the line plot\n",
    "# ax.plot(\n",
    "#     analyze_df[\"Date\"],\n",
    "#     analyze_df[\"Cases\"],\n",
    "#     marker=\"o\",\n",
    "#     color=\"red\",\n",
    "#     label=\"Line Plot\",\n",
    "# )\n",
    "\n",
    "# Rotate x-axis labels\n",
    "plt.xticks(rotation=30)\n",
    "\n",
    "# Create legend handles and labels for bar plot\n",
    "legend_handles = [\n",
    "    plt.Rectangle((0, 0), 1, 1, color=color) for color in class_colors.values()\n",
    "]\n",
    "legend_labels = list(class_colors.keys())\n",
    "\n",
    "# Add legend for bar plot\n",
    "ax.legend(legend_handles, legend_labels, fontsize=\"large\", title=\"Predicted Outbreak\")\n",
    "# Add title and axis labels\n",
    "ax.set_title(\"Dengue Outbreak Periods for Brgy. Tetuan in Zamboanga\")\n",
    "ax.set_xlabel(\"Date\")\n",
    "ax.set_ylabel(\"Number of Cases\")\n",
    "plt.show()"
   ]
  },
  {
   "cell_type": "code",
   "execution_count": 69,
   "metadata": {},
   "outputs": [
    {
     "data": {
      "text/plain": [
       "Date                        datetime64[ns]\n",
       "CO_AVG_mean                        float64\n",
       "CO_MIN_mean                        float64\n",
       "CO_MAX_mean                        float64\n",
       "CO_STD_mean                        float64\n",
       "                                 ...      \n",
       "Cases                              float64\n",
       "actual_class                         int64\n",
       "predicted_class                      int64\n",
       "predicted_proba_outbreak           float64\n",
       "outbreak_group                       int64\n",
       "Length: 162, dtype: object"
      ]
     },
     "execution_count": 69,
     "metadata": {},
     "output_type": "execute_result"
    }
   ],
   "source": [
    "analyze_df.dtypes"
   ]
  },
  {
   "cell_type": "code",
   "execution_count": 70,
   "metadata": {},
   "outputs": [
    {
     "data": {
      "text/plain": [
       "range(0, 91)"
      ]
     },
     "execution_count": 70,
     "metadata": {},
     "output_type": "execute_result"
    }
   ],
   "source": [
    "range(len(analyze_df))"
   ]
  },
  {
   "cell_type": "code",
   "execution_count": 71,
   "metadata": {},
   "outputs": [
    {
     "data": {
      "text/plain": [
       "Date                        2020-12-21 00:00:00\n",
       "CO_AVG_mean                            0.082631\n",
       "CO_MIN_mean                            0.078115\n",
       "CO_MAX_mean                            0.124572\n",
       "CO_STD_mean                            0.024249\n",
       "                                   ...         \n",
       "Cases                                     343.0\n",
       "actual_class                                  1\n",
       "predicted_class                               1\n",
       "predicted_proba_outbreak                   0.88\n",
       "outbreak_group                               26\n",
       "Length: 162, dtype: object"
      ]
     },
     "execution_count": 71,
     "metadata": {},
     "output_type": "execute_result"
    }
   ],
   "source": [
    "analyze_df.max()"
   ]
  },
  {
   "cell_type": "code",
   "execution_count": 120,
   "metadata": {},
   "outputs": [
    {
     "data": {
      "image/png": "[encoded data removed]",
      "text/plain": [
       "<Figure size 1000x600 with 1 Axes>"
      ]
     },
     "metadata": {},
     "output_type": "display_data"
    }
   ],
   "source": [
    "import matplotlib.pyplot as plt\n",
    "import numpy as np\n",
    "\n",
    "plt.figure(figsize=(10, 6))\n",
    "\n",
    "# Plotting the line plot for actual cases\n",
    "plt.plot(\n",
    "    analyze_df[\"Date\"],\n",
    "    analyze_df[\"Cases\"],\n",
    "    color=\"#53bed0\",\n",
    "    label=\"Actual Cases\",\n",
    ")\n",
    "\n",
    "# Define your own gradient color\n",
    "gradient_color = \"#ee472f\"  # Hot pink color\n",
    "\n",
    "# Creating a background gradient for predicted probabilities\n",
    "for i in range(len(analyze_df) - 1):\n",
    "    start_date = analyze_df[\"Date\"].iloc[i]\n",
    "    end_date = analyze_df[\"Date\"].iloc[i + 1]\n",
    "    alpha = analyze_df[\"predicted_proba_outbreak\"].iloc[\n",
    "        i\n",
    "    ]  # Use predicted probability as alpha\n",
    "    plt.fill_betweenx(\n",
    "        analyze_df[\"Cases\"],  # y-values (actual cases)\n",
    "        start_date,\n",
    "        end_date,  # x-values (dates)\n",
    "        color=gradient_color,  # Gradient color\n",
    "        alpha=alpha,  # Set alpha based on predicted probability\n",
    "        label=None,  # Exclude from legend\n",
    "    )\n",
    "\n",
    "# Setting labels and legend\n",
    "plt.xlabel(\"Time\")\n",
    "plt.ylabel(\"Cases\")\n",
    "plt.title(\"Actual Cases with Predicted Probabilities\")\n",
    "\n",
    "# Displaying the plot\n",
    "plt.grid(True)\n",
    "plt.tight_layout()\n",
    "plt.show()"
   ]
  },
  {
   "cell_type": "code",
   "execution_count": 135,
   "metadata": {},
   "outputs": [
    {
     "data": {
      "image/png": "[encoded data removed]",
      "text/plain": [
       "<Figure size 1000x600 with 1 Axes>"
      ]
     },
     "metadata": {},
     "output_type": "display_data"
    }
   ],
   "source": [
    "import matplotlib.pyplot as plt\n",
    "import numpy as np\n",
    "from matplotlib.colors import LinearSegmentedColormap\n",
    "\n",
    "plt.figure(figsize=(10, 6))\n",
    "\n",
    "# Plotting the line plot for actual cases with a different color\n",
    "plt.plot(\n",
    "    analyze_df[\"Date\"],\n",
    "    analyze_df[\"Cases\"],\n",
    "    color=\"#ff5733\",  # Reddish color for better visibility\n",
    "    label=\"Actual Cases\",\n",
    ")\n",
    "\n",
    "# Define your own gradient color\n",
    "gradient_color = \"#53bed0\"  # Blueish color for the gradient\n",
    "\n",
    "# Define the number of points for the gradient\n",
    "num_points = len(analyze_df)\n",
    "\n",
    "# Create a custom colormap with the gradient color\n",
    "colors = [(0, gradient_color), (1, gradient_color)]\n",
    "cmap = LinearSegmentedColormap.from_list(\"custom_gradient\", colors)\n",
    "\n",
    "# Creating a background gradient for predicted probabilities\n",
    "for i in range(len(analyze_df) - 1):\n",
    "    start_date = analyze_df[\"Date\"].iloc[i]\n",
    "    end_date = analyze_df[\"Date\"].iloc[i + 1]\n",
    "    alpha = analyze_df[\"predicted_proba_outbreak\"].iloc[\n",
    "        i\n",
    "    ]  # Use predicted probability as alpha\n",
    "    plt.fill_between(\n",
    "        analyze_df[\"Date\"],  # x-values (dates)\n",
    "        analyze_df[\"Cases\"].min(),  # Bottom y-value (minimum of actual cases)\n",
    "        analyze_df[\"Cases\"].max(),  # Top y-value (maximum of actual cases)\n",
    "        where=(\n",
    "            (analyze_df[\"Date\"] >= start_date) & (analyze_df[\"Date\"] <= end_date)\n",
    "        ),  # Condition for filling the area\n",
    "        color=cmap(i / num_points),  # Use colormap to set gradient color\n",
    "        alpha=alpha,  # Set alpha based on predicted probability\n",
    "        label=\"Predicted Probabilities\"\n",
    "        if i == 0\n",
    "        else None,  # Include legend only for the first fill_between\n",
    "    )\n",
    "\n",
    "# Add legend for the line plot and the gradient\n",
    "plt.legend()\n",
    "\n",
    "# Setting labels and title\n",
    "plt.xlabel(\"Time\")\n",
    "plt.ylabel(\"Cases\")\n",
    "plt.title(\"Actual Cases with Predicted Probabilities\")\n",
    "\n",
    "# Displaying the plot\n",
    "plt.grid(True)\n",
    "plt.tight_layout()\n",
    "plt.show()"
   ]
  },
  {
   "cell_type": "markdown",
   "metadata": {},
   "source": [
    "## Visualizing length of outbreaks + Predicted probability of an outbreak"
   ]
  },
  {
   "cell_type": "code",
   "execution_count": 137,
   "metadata": {},
   "outputs": [
    {
     "data": {
      "application/vnd.plotly.v1+json": {
       "config": {
        "plotlyServerURL": "https://plot.ly"
       },
       "data": [
        {
         "hovertemplate": "category=actual<br>value=%{x}<br>y=%{y}<br>actual_length_weeks=%{marker.size}<extra></extra>",
         "legendgroup": "actual",
         "marker": {
          "color": "#53bed0",
          "size": [
           3,
           5,
           3,
           3,
           3,
           5,
           3,
           3
          ],
          "sizemode": "area",
          "sizeref": 0.0125,
          "symbol": "circle"
         },
         "mode": "markers",
         "name": "actual",
         "orientation": "v",
         "showlegend": true,
         "type": "scatter",
         "x": [
          "2019-04-22T00:00:00",
          "2019-08-19T00:00:00",
          "2019-10-21T00:00:00",
          "2019-11-25T00:00:00",
          "2019-05-06T00:00:00",
          "2019-09-16T00:00:00",
          "2019-11-04T00:00:00",
          "2019-12-09T00:00:00"
         ],
         "xaxis": "x",
         "y": [
          2019,
          2019,
          2019,
          2019,
          2019,
          2019,
          2019,
          2019
         ],
         "yaxis": "y"
        },
        {
         "line": {
          "color": "#53bed0",
          "dash": "solid",
          "width": 3
         },
         "mode": "lines",
         "showlegend": false,
         "type": "scatter",
         "x": [
          "2019-04-22T00:00:00",
          "2019-05-06T00:00:00"
         ],
         "y": [
          2019,
          2019
         ]
        },
        {
         "line": {
          "color": "#53bed0",
          "dash": "solid",
          "width": 3
         },
         "mode": "lines",
         "showlegend": false,
         "type": "scatter",
         "x": [
          "2019-08-19T00:00:00",
          "2019-09-16T00:00:00"
         ],
         "y": [
          2019,
          2019
         ]
        },
        {
         "line": {
          "color": "#53bed0",
          "dash": "solid",
          "width": 3
         },
         "mode": "lines",
         "showlegend": false,
         "type": "scatter",
         "x": [
          "2019-10-21T00:00:00",
          "2019-11-04T00:00:00"
         ],
         "y": [
          2019,
          2019
         ]
        },
        {
         "line": {
          "color": "#53bed0",
          "dash": "solid",
          "width": 3
         },
         "mode": "lines",
         "showlegend": false,
         "type": "scatter",
         "x": [
          "2019-11-25T00:00:00",
          "2019-12-09T00:00:00"
         ],
         "y": [
          2019,
          2019
         ]
        },
        {
         "hoverinfo": "text",
         "marker": {
          "color": "pink",
          "line": {
           "color": "rgba(0,0,0,0.2)",
           "width": 0.5
          },
          "opacity": [
           0.14200000000000002,
           0.212,
           0.226,
           0.24,
           0.46399999999999997,
           0.43599999999999994,
           0.32399999999999995,
           0.394,
           0.254,
           0.254,
           0.40800000000000003,
           0.478,
           0.492,
           0.43599999999999994,
           0.478,
           0.366,
           0.46399999999999997,
           0.478,
           0.394,
           0.38,
           0.492,
           0.59,
           0.46399999999999997,
           0.506,
           0.44999999999999996,
           0.268,
           0.32399999999999995,
           0.268,
           0.24,
           0.29600000000000004,
           0.52,
           0.506,
           0.32399999999999995,
           0.28200000000000003,
           0.366,
           0.506,
           0.6599999999999999,
           0.716,
           0.40800000000000003,
           0.5619999999999999,
           0.59,
           0.40800000000000003,
           0.43599999999999994,
           0.576,
           0.492,
           0.43599999999999994,
           0.59,
           0.478,
           0.40800000000000003,
           0.268,
           0.24,
           0.268,
           0.226,
           0.268,
           0.226,
           0.184,
           0.212,
           0.29600000000000004,
           0.198,
           0.226,
           0.198,
           0.226,
           0.352,
           0.254,
           0.44999999999999996,
           0.46399999999999997,
           0.38,
           0.268,
           0.352,
           0.394,
           0.40800000000000003,
           0.33799999999999997,
           0.506,
           0.254,
           0.212,
           0.29600000000000004,
           0.38,
           0.32399999999999995,
           0.42200000000000004,
           0.38,
           0.40800000000000003,
           0.52,
           0.40800000000000003,
           0.268,
           0.198,
           0.198,
           0.394,
           0.366,
           0.198,
           0.42200000000000004,
           0.43599999999999994
          ]
         },
         "showlegend": false,
         "text": [
          "0.06",
          "0.16",
          "0.18",
          "0.20",
          "0.52",
          "0.48",
          "0.32",
          "0.42",
          "0.22",
          "0.22",
          "0.44",
          "0.54",
          "0.56",
          "0.48",
          "0.54",
          "0.38",
          "0.52",
          "0.54",
          "0.42",
          "0.40",
          "0.56",
          "0.70",
          "0.52",
          "0.58",
          "0.50",
          "0.24",
          "0.32",
          "0.24",
          "0.20",
          "0.28",
          "0.60",
          "0.58",
          "0.32",
          "0.26",
          "0.38",
          "0.58",
          "0.80",
          "0.88",
          "0.44",
          "0.66",
          "0.70",
          "0.44",
          "0.48",
          "0.68",
          "0.56",
          "0.48",
          "0.70",
          "0.54",
          "0.44",
          "0.24",
          "0.20",
          "0.24",
          "0.18",
          "0.24",
          "0.18",
          "0.12",
          "0.16",
          "0.28",
          "0.14",
          "0.18",
          "0.14",
          "0.18",
          "0.36",
          "0.22",
          "0.50",
          "0.52",
          "0.40",
          "0.24",
          "0.36",
          "0.42",
          "0.44",
          "0.34",
          "0.58",
          "0.22",
          "0.16",
          "0.28",
          "0.40",
          "0.32",
          "0.46",
          "0.40",
          "0.44",
          "0.60",
          "0.44",
          "0.24",
          "0.14",
          "0.14",
          "0.42",
          "0.38",
          "0.14",
          "0.46",
          "0.48"
         ],
         "type": "bar",
         "x": [
          "2019-04-01T00:00:00",
          "2019-04-08T00:00:00",
          "2019-04-15T00:00:00",
          "2019-04-22T00:00:00",
          "2019-04-29T00:00:00",
          "2019-05-06T00:00:00",
          "2019-05-13T00:00:00",
          "2019-05-20T00:00:00",
          "2019-05-27T00:00:00",
          "2019-06-03T00:00:00",
          "2019-06-10T00:00:00",
          "2019-06-17T00:00:00",
          "2019-06-24T00:00:00",
          "2019-07-01T00:00:00",
          "2019-07-08T00:00:00",
          "2019-07-15T00:00:00",
          "2019-07-22T00:00:00",
          "2019-07-29T00:00:00",
          "2019-08-05T00:00:00",
          "2019-08-12T00:00:00",
          "2019-08-19T00:00:00",
          "2019-08-26T00:00:00",
          "2019-09-02T00:00:00",
          "2019-09-09T00:00:00",
          "2019-09-16T00:00:00",
          "2019-09-23T00:00:00",
          "2019-09-30T00:00:00",
          "2019-10-07T00:00:00",
          "2019-10-14T00:00:00",
          "2019-10-21T00:00:00",
          "2019-10-28T00:00:00",
          "2019-11-04T00:00:00",
          "2019-11-11T00:00:00",
          "2019-11-18T00:00:00",
          "2019-11-25T00:00:00",
          "2019-12-02T00:00:00",
          "2019-12-09T00:00:00",
          "2019-12-16T00:00:00",
          "2019-12-23T00:00:00",
          "2020-01-06T00:00:00",
          "2020-01-06T00:00:00",
          "2020-01-13T00:00:00",
          "2020-01-20T00:00:00",
          "2020-01-27T00:00:00",
          "2020-02-03T00:00:00",
          "2020-02-10T00:00:00",
          "2020-02-17T00:00:00",
          "2020-02-24T00:00:00",
          "2020-03-02T00:00:00",
          "2020-03-09T00:00:00",
          "2020-03-16T00:00:00",
          "2020-03-23T00:00:00",
          "2020-03-30T00:00:00",
          "2020-04-06T00:00:00",
          "2020-04-13T00:00:00",
          "2020-04-20T00:00:00",
          "2020-04-27T00:00:00",
          "2020-05-04T00:00:00",
          "2020-05-11T00:00:00",
          "2020-05-18T00:00:00",
          "2020-05-25T00:00:00",
          "2020-06-01T00:00:00",
          "2020-06-08T00:00:00",
          "2020-06-15T00:00:00",
          "2020-06-22T00:00:00",
          "2020-06-29T00:00:00",
          "2020-07-06T00:00:00",
          "2020-07-13T00:00:00",
          "2020-07-20T00:00:00",
          "2020-07-27T00:00:00",
          "2020-08-03T00:00:00",
          "2020-08-10T00:00:00",
          "2020-08-17T00:00:00",
          "2020-08-24T00:00:00",
          "2020-08-31T00:00:00",
          "2020-09-07T00:00:00",
          "2020-09-14T00:00:00",
          "2020-09-21T00:00:00",
          "2020-09-28T00:00:00",
          "2020-10-05T00:00:00",
          "2020-10-12T00:00:00",
          "2020-10-19T00:00:00",
          "2020-10-26T00:00:00",
          "2020-11-02T00:00:00",
          "2020-11-09T00:00:00",
          "2020-11-16T00:00:00",
          "2020-11-23T00:00:00",
          "2020-11-30T00:00:00",
          "2020-12-07T00:00:00",
          "2020-12-14T00:00:00",
          "2020-12-21T00:00:00"
         ],
         "y": [
          4038,
          4038,
          4038,
          4038,
          4038,
          4038,
          4038,
          4038,
          4038,
          4038,
          4038,
          4038,
          4038,
          4038,
          4038,
          4038,
          4038,
          4038,
          4038,
          4038,
          4038,
          4038,
          4038,
          4038,
          4038,
          4038,
          4038,
          4038,
          4038,
          4038,
          4038,
          4038,
          4038,
          4038,
          4038,
          4038,
          4038,
          4038,
          4038,
          4038,
          4038,
          4038,
          4038,
          4038,
          4038,
          4038,
          4038,
          4038,
          4038,
          4038,
          4038,
          4038,
          4038,
          4038,
          4038,
          4038,
          4038,
          4038,
          4038,
          4038,
          4038,
          4038,
          4038,
          4038,
          4038,
          4038,
          4038,
          4038,
          4038,
          4038,
          4038,
          4038,
          4038,
          4038,
          4038,
          4038,
          4038,
          4038,
          4038,
          4038,
          4038,
          4038,
          4038,
          4038,
          4038,
          4038,
          4038,
          4038,
          4038,
          4038,
          4038
         ]
        }
       ],
       "layout": {
        "bargap": 0,
        "barmode": "overlay",
        "legend": {
         "itemsizing": "constant",
         "title": {
          "text": "category"
         },
         "tracegroupgap": 0
        },
        "margin": {
         "t": 60
        },
        "template": {
         "data": {
          "bar": [
           {
            "error_x": {
             "color": "#2a3f5f"
            },
            "error_y": {
             "color": "#2a3f5f"
            },
            "marker": {
             "line": {
              "color": "#E5ECF6",
              "width": 0.5
             },
             "pattern": {
              "fillmode": "overlay",
              "size": 10,
              "solidity": 0.2
             }
            },
            "type": "bar"
           }
          ],
          "barpolar": [
           {
            "marker": {
             "line": {
              "color": "#E5ECF6",
              "width": 0.5
             },
             "pattern": {
              "fillmode": "overlay",
              "size": 10,
              "solidity": 0.2
             }
            },
            "type": "barpolar"
           }
          ],
          "carpet": [
           {
            "aaxis": {
             "endlinecolor": "#2a3f5f",
             "gridcolor": "white",
             "linecolor": "white",
             "minorgridcolor": "white",
             "startlinecolor": "#2a3f5f"
            },
            "baxis": {
             "endlinecolor": "#2a3f5f",
             "gridcolor": "white",
             "linecolor": "white",
             "minorgridcolor": "white",
             "startlinecolor": "#2a3f5f"
            },
            "type": "carpet"
           }
          ],
          "choropleth": [
           {
            "colorbar": {
             "outlinewidth": 0,
             "ticks": ""
            },
            "type": "choropleth"
           }
          ],
          "contour": [
           {
            "colorbar": {
             "outlinewidth": 0,
             "ticks": ""
            },
            "colorscale": [
             [
              0,
              "#0d0887"
             ],
             [
              0.1111111111111111,
              "#46039f"
             ],
             [
              0.2222222222222222,
              "#7201a8"
             ],
             [
              0.3333333333333333,
              "#9c179e"
             ],
             [
              0.4444444444444444,
              "#bd3786"
             ],
             [
              0.5555555555555556,
              "#d8576b"
             ],
             [
              0.6666666666666666,
              "#ed7953"
             ],
             [
              0.7777777777777778,
              "#fb9f3a"
             ],
             [
              0.8888888888888888,
              "#fdca26"
             ],
             [
              1,
              "#f0f921"
             ]
            ],
            "type": "contour"
           }
          ],
          "contourcarpet": [
           {
            "colorbar": {
             "outlinewidth": 0,
             "ticks": ""
            },
            "type": "contourcarpet"
           }
          ],
          "heatmap": [
           {
            "colorbar": {
             "outlinewidth": 0,
             "ticks": ""
            },
            "colorscale": [
             [
              0,
              "#0d0887"
             ],
             [
              0.1111111111111111,
              "#46039f"
             ],
             [
              0.2222222222222222,
              "#7201a8"
             ],
             [
              0.3333333333333333,
              "#9c179e"
             ],
             [
              0.4444444444444444,
              "#bd3786"
             ],
             [
              0.5555555555555556,
              "#d8576b"
             ],
             [
              0.6666666666666666,
              "#ed7953"
             ],
             [
              0.7777777777777778,
              "#fb9f3a"
             ],
             [
              0.8888888888888888,
              "#fdca26"
             ],
             [
              1,
              "#f0f921"
             ]
            ],
            "type": "heatmap"
           }
          ],
          "heatmapgl": [
           {
            "colorbar": {
             "outlinewidth": 0,
             "ticks": ""
            },
            "colorscale": [
             [
              0,
              "#0d0887"
             ],
             [
              0.1111111111111111,
              "#46039f"
             ],
             [
              0.2222222222222222,
              "#7201a8"
             ],
             [
              0.3333333333333333,
              "#9c179e"
             ],
             [
              0.4444444444444444,
              "#bd3786"
             ],
             [
              0.5555555555555556,
              "#d8576b"
             ],
             [
              0.6666666666666666,
              "#ed7953"
             ],
             [
              0.7777777777777778,
              "#fb9f3a"
             ],
             [
              0.8888888888888888,
              "#fdca26"
             ],
             [
              1,
              "#f0f921"
             ]
            ],
            "type": "heatmapgl"
           }
          ],
          "histogram": [
           {
            "marker": {
             "pattern": {
              "fillmode": "overlay",
              "size": 10,
              "solidity": 0.2
             }
            },
            "type": "histogram"
           }
          ],
          "histogram2d": [
           {
            "colorbar": {
             "outlinewidth": 0,
             "ticks": ""
            },
            "colorscale": [
             [
              0,
              "#0d0887"
             ],
             [
              0.1111111111111111,
              "#46039f"
             ],
             [
              0.2222222222222222,
              "#7201a8"
             ],
             [
              0.3333333333333333,
              "#9c179e"
             ],
             [
              0.4444444444444444,
              "#bd3786"
             ],
             [
              0.5555555555555556,
              "#d8576b"
             ],
             [
              0.6666666666666666,
              "#ed7953"
             ],
             [
              0.7777777777777778,
              "#fb9f3a"
             ],
             [
              0.8888888888888888,
              "#fdca26"
             ],
             [
              1,
              "#f0f921"
             ]
            ],
            "type": "histogram2d"
           }
          ],
          "histogram2dcontour": [
           {
            "colorbar": {
             "outlinewidth": 0,
             "ticks": ""
            },
            "colorscale": [
             [
              0,
              "#0d0887"
             ],
             [
              0.1111111111111111,
              "#46039f"
             ],
             [
              0.2222222222222222,
              "#7201a8"
             ],
             [
              0.3333333333333333,
              "#9c179e"
             ],
             [
              0.4444444444444444,
              "#bd3786"
             ],
             [
              0.5555555555555556,
              "#d8576b"
             ],
             [
              0.6666666666666666,
              "#ed7953"
             ],
             [
              0.7777777777777778,
              "#fb9f3a"
             ],
             [
              0.8888888888888888,
              "#fdca26"
             ],
             [
              1,
              "#f0f921"
             ]
            ],
            "type": "histogram2dcontour"
           }
          ],
          "mesh3d": [
           {
            "colorbar": {
             "outlinewidth": 0,
             "ticks": ""
            },
            "type": "mesh3d"
           }
          ],
          "parcoords": [
           {
            "line": {
             "colorbar": {
              "outlinewidth": 0,
              "ticks": ""
             }
            },
            "type": "parcoords"
           }
          ],
          "pie": [
           {
            "automargin": true,
            "type": "pie"
           }
          ],
          "scatter": [
           {
            "fillpattern": {
             "fillmode": "overlay",
             "size": 10,
             "solidity": 0.2
            },
            "type": "scatter"
           }
          ],
          "scatter3d": [
           {
            "line": {
             "colorbar": {
              "outlinewidth": 0,
              "ticks": ""
             }
            },
            "marker": {
             "colorbar": {
              "outlinewidth": 0,
              "ticks": ""
             }
            },
            "type": "scatter3d"
           }
          ],
          "scattercarpet": [
           {
            "marker": {
             "colorbar": {
              "outlinewidth": 0,
              "ticks": ""
             }
            },
            "type": "scattercarpet"
           }
          ],
          "scattergeo": [
           {
            "marker": {
             "colorbar": {
              "outlinewidth": 0,
              "ticks": ""
             }
            },
            "type": "scattergeo"
           }
          ],
          "scattergl": [
           {
            "marker": {
             "colorbar": {
              "outlinewidth": 0,
              "ticks": ""
             }
            },
            "type": "scattergl"
           }
          ],
          "scattermapbox": [
           {
            "marker": {
             "colorbar": {
              "outlinewidth": 0,
              "ticks": ""
             }
            },
            "type": "scattermapbox"
           }
          ],
          "scatterpolar": [
           {
            "marker": {
             "colorbar": {
              "outlinewidth": 0,
              "ticks": ""
             }
            },
            "type": "scatterpolar"
           }
          ],
          "scatterpolargl": [
           {
            "marker": {
             "colorbar": {
              "outlinewidth": 0,
              "ticks": ""
             }
            },
            "type": "scatterpolargl"
           }
          ],
          "scatterternary": [
           {
            "marker": {
             "colorbar": {
              "outlinewidth": 0,
              "ticks": ""
             }
            },
            "type": "scatterternary"
           }
          ],
          "surface": [
           {
            "colorbar": {
             "outlinewidth": 0,
             "ticks": ""
            },
            "colorscale": [
             [
              0,
              "#0d0887"
             ],
             [
              0.1111111111111111,
              "#46039f"
             ],
             [
              0.2222222222222222,
              "#7201a8"
             ],
             [
              0.3333333333333333,
              "#9c179e"
             ],
             [
              0.4444444444444444,
              "#bd3786"
             ],
             [
              0.5555555555555556,
              "#d8576b"
             ],
             [
              0.6666666666666666,
              "#ed7953"
             ],
             [
              0.7777777777777778,
              "#fb9f3a"
             ],
             [
              0.8888888888888888,
              "#fdca26"
             ],
             [
              1,
              "#f0f921"
             ]
            ],
            "type": "surface"
           }
          ],
          "table": [
           {
            "cells": {
             "fill": {
              "color": "#EBF0F8"
             },
             "line": {
              "color": "white"
             }
            },
            "header": {
             "fill": {
              "color": "#C8D4E3"
             },
             "line": {
              "color": "white"
             }
            },
            "type": "table"
           }
          ]
         },
         "layout": {
          "annotationdefaults": {
           "arrowcolor": "#2a3f5f",
           "arrowhead": 0,
           "arrowwidth": 1
          },
          "autotypenumbers": "strict",
          "coloraxis": {
           "colorbar": {
            "outlinewidth": 0,
            "ticks": ""
           }
          },
          "colorscale": {
           "diverging": [
            [
             0,
             "#8e0152"
            ],
            [
             0.1,
             "#c51b7d"
            ],
            [
             0.2,
             "#de77ae"
            ],
            [
             0.3,
             "#f1b6da"
            ],
            [
             0.4,
             "#fde0ef"
            ],
            [
             0.5,
             "#f7f7f7"
            ],
            [
             0.6,
             "#e6f5d0"
            ],
            [
             0.7,
             "#b8e186"
            ],
            [
             0.8,
             "#7fbc41"
            ],
            [
             0.9,
             "#4d9221"
            ],
            [
             1,
             "#276419"
            ]
           ],
           "sequential": [
            [
             0,
             "#0d0887"
            ],
            [
             0.1111111111111111,
             "#46039f"
            ],
            [
             0.2222222222222222,
             "#7201a8"
            ],
            [
             0.3333333333333333,
             "#9c179e"
            ],
            [
             0.4444444444444444,
             "#bd3786"
            ],
            [
             0.5555555555555556,
             "#d8576b"
            ],
            [
             0.6666666666666666,
             "#ed7953"
            ],
            [
             0.7777777777777778,
             "#fb9f3a"
            ],
            [
             0.8888888888888888,
             "#fdca26"
            ],
            [
             1,
             "#f0f921"
            ]
           ],
           "sequentialminus": [
            [
             0,
             "#0d0887"
            ],
            [
             0.1111111111111111,
             "#46039f"
            ],
            [
             0.2222222222222222,
             "#7201a8"
            ],
            [
             0.3333333333333333,
             "#9c179e"
            ],
            [
             0.4444444444444444,
             "#bd3786"
            ],
            [
             0.5555555555555556,
             "#d8576b"
            ],
            [
             0.6666666666666666,
             "#ed7953"
            ],
            [
             0.7777777777777778,
             "#fb9f3a"
            ],
            [
             0.8888888888888888,
             "#fdca26"
            ],
            [
             1,
             "#f0f921"
            ]
           ]
          },
          "colorway": [
           "#636efa",
           "#EF553B",
           "#00cc96",
           "#ab63fa",
           "#FFA15A",
           "#19d3f3",
           "#FF6692",
           "#B6E880",
           "#FF97FF",
           "#FECB52"
          ],
          "font": {
           "color": "#2a3f5f"
          },
          "geo": {
           "bgcolor": "white",
           "lakecolor": "white",
           "landcolor": "#E5ECF6",
           "showlakes": true,
           "showland": true,
           "subunitcolor": "white"
          },
          "hoverlabel": {
           "align": "left"
          },
          "hovermode": "closest",
          "mapbox": {
           "style": "light"
          },
          "paper_bgcolor": "white",
          "plot_bgcolor": "#E5ECF6",
          "polar": {
           "angularaxis": {
            "gridcolor": "white",
            "linecolor": "white",
            "ticks": ""
           },
           "bgcolor": "#E5ECF6",
           "radialaxis": {
            "gridcolor": "white",
            "linecolor": "white",
            "ticks": ""
           }
          },
          "scene": {
           "xaxis": {
            "backgroundcolor": "#E5ECF6",
            "gridcolor": "white",
            "gridwidth": 2,
            "linecolor": "white",
            "showbackground": true,
            "ticks": "",
            "zerolinecolor": "white"
           },
           "yaxis": {
            "backgroundcolor": "#E5ECF6",
            "gridcolor": "white",
            "gridwidth": 2,
            "linecolor": "white",
            "showbackground": true,
            "ticks": "",
            "zerolinecolor": "white"
           },
           "zaxis": {
            "backgroundcolor": "#E5ECF6",
            "gridcolor": "white",
            "gridwidth": 2,
            "linecolor": "white",
            "showbackground": true,
            "ticks": "",
            "zerolinecolor": "white"
           }
          },
          "shapedefaults": {
           "line": {
            "color": "#2a3f5f"
           }
          },
          "ternary": {
           "aaxis": {
            "gridcolor": "white",
            "linecolor": "white",
            "ticks": ""
           },
           "baxis": {
            "gridcolor": "white",
            "linecolor": "white",
            "ticks": ""
           },
           "bgcolor": "#E5ECF6",
           "caxis": {
            "gridcolor": "white",
            "linecolor": "white",
            "ticks": ""
           }
          },
          "title": {
           "x": 0.05
          },
          "xaxis": {
           "automargin": true,
           "gridcolor": "white",
           "linecolor": "white",
           "ticks": "",
           "title": {
            "standoff": 15
           },
           "zerolinecolor": "white",
           "zerolinewidth": 2
          },
          "yaxis": {
           "automargin": true,
           "gridcolor": "white",
           "linecolor": "white",
           "ticks": "",
           "title": {
            "standoff": 15
           },
           "zerolinecolor": "white",
           "zerolinewidth": 2
          }
         }
        },
        "title": {
         "text": "Dengue Outbreak Periods for Zamboanga City with Probability of Outbreak"
        },
        "xaxis": {
         "anchor": "y",
         "domain": [
          0,
          1
         ],
         "title": {
          "text": "Date"
         }
        },
        "yaxis": {
         "anchor": "x",
         "domain": [
          0,
          1
         ],
         "ticktext": [
          "2019"
         ],
         "tickvals": [
          4038,
          4038,
          4038,
          4038,
          4038,
          4038,
          4038,
          4038,
          4038,
          4038,
          4038,
          4038,
          4038,
          4038,
          4038,
          4038,
          4038,
          4038,
          4038,
          4038,
          4038,
          4038,
          4038,
          4038,
          4038,
          4038,
          4038,
          4038,
          4038,
          4038,
          4038,
          4038,
          4038,
          4038,
          4038,
          4038,
          4038,
          4038,
          4038,
          4038,
          4038,
          4038,
          4038,
          4038,
          4038,
          4038,
          4038,
          4038,
          4038,
          4038,
          4038,
          4038,
          4038,
          4038,
          4038,
          4038,
          4038,
          4038,
          4038,
          4038,
          4038,
          4038,
          4038,
          4038,
          4038,
          4038,
          4038,
          4038,
          4038,
          4038,
          4038,
          4038,
          4038,
          4038,
          4038,
          4038,
          4038,
          4038,
          4038,
          4038,
          4038,
          4038,
          4038,
          4038,
          4038,
          4038,
          4038,
          4038,
          4038,
          4038,
          4038
         ],
         "title": {
          "text": "Year"
         }
        }
       }
      },
      "text/html": [
       "<div>                            <div id=\"4c3c7c15-0d10-44b0-9426-e49b7c400442\" class=\"plotly-graph-div\" style=\"height:525px; width:100%;\"></div>            <script type=\"text/javascript\">                require([\"plotly\"], function(Plotly) {                    window.PLOTLYENV=window.PLOTLYENV || {};                                    if (document.getElementById(\"4c3c7c15-0d10-44b0-9426-e49b7c400442\")) {                    Plotly.newPlot(                        \"4c3c7c15-0d10-44b0-9426-e49b7c400442\",                        [{\"hovertemplate\":\"category=actual\\u003cbr\\u003evalue=%{x}\\u003cbr\\u003ey=%{y}\\u003cbr\\u003eactual_length_weeks=%{marker.size}\\u003cextra\\u003e\\u003c\\u002fextra\\u003e\",\"legendgroup\":\"actual\",\"marker\":{\"color\":\"#53bed0\",\"size\":[3,5,3,3,3,5,3,3],\"sizemode\":\"area\",\"sizeref\":0.0125,\"symbol\":\"circle\"},\"mode\":\"markers\",\"name\":\"actual\",\"orientation\":\"v\",\"showlegend\":true,\"x\":[\"2019-04-22T00:00:00\",\"2019-08-19T00:00:00\",\"2019-10-21T00:00:00\",\"2019-11-25T00:00:00\",\"2019-05-06T00:00:00\",\"2019-09-16T00:00:00\",\"2019-11-04T00:00:00\",\"2019-12-09T00:00:00\"],\"xaxis\":\"x\",\"y\":[2019,2019,2019,2019,2019,2019,2019,2019],\"yaxis\":\"y\",\"type\":\"scatter\"},{\"line\":{\"color\":\"#53bed0\",\"dash\":\"solid\",\"width\":3},\"mode\":\"lines\",\"showlegend\":false,\"x\":[\"2019-04-22T00:00:00\",\"2019-05-06T00:00:00\"],\"y\":[2019,2019],\"type\":\"scatter\"},{\"line\":{\"color\":\"#53bed0\",\"dash\":\"solid\",\"width\":3},\"mode\":\"lines\",\"showlegend\":false,\"x\":[\"2019-08-19T00:00:00\",\"2019-09-16T00:00:00\"],\"y\":[2019,2019],\"type\":\"scatter\"},{\"line\":{\"color\":\"#53bed0\",\"dash\":\"solid\",\"width\":3},\"mode\":\"lines\",\"showlegend\":false,\"x\":[\"2019-10-21T00:00:00\",\"2019-11-04T00:00:00\"],\"y\":[2019,2019],\"type\":\"scatter\"},{\"line\":{\"color\":\"#53bed0\",\"dash\":\"solid\",\"width\":3},\"mode\":\"lines\",\"showlegend\":false,\"x\":[\"2019-11-25T00:00:00\",\"2019-12-09T00:00:00\"],\"y\":[2019,2019],\"type\":\"scatter\"},{\"hoverinfo\":\"text\",\"marker\":{\"color\":\"pink\",\"line\":{\"color\":\"rgba(0,0,0,0.2)\",\"width\":0.5},\"opacity\":[0.14200000000000002,0.212,0.226,0.24,0.46399999999999997,0.43599999999999994,0.32399999999999995,0.394,0.254,0.254,0.40800000000000003,0.478,0.492,0.43599999999999994,0.478,0.366,0.46399999999999997,0.478,0.394,0.38,0.492,0.59,0.46399999999999997,0.506,0.44999999999999996,0.268,0.32399999999999995,0.268,0.24,0.29600000000000004,0.52,0.506,0.32399999999999995,0.28200000000000003,0.366,0.506,0.6599999999999999,0.716,0.40800000000000003,0.5619999999999999,0.59,0.40800000000000003,0.43599999999999994,0.576,0.492,0.43599999999999994,0.59,0.478,0.40800000000000003,0.268,0.24,0.268,0.226,0.268,0.226,0.184,0.212,0.29600000000000004,0.198,0.226,0.198,0.226,0.352,0.254,0.44999999999999996,0.46399999999999997,0.38,0.268,0.352,0.394,0.40800000000000003,0.33799999999999997,0.506,0.254,0.212,0.29600000000000004,0.38,0.32399999999999995,0.42200000000000004,0.38,0.40800000000000003,0.52,0.40800000000000003,0.268,0.198,0.198,0.394,0.366,0.198,0.42200000000000004,0.43599999999999994]},\"showlegend\":false,\"text\":[\"0.06\",\"0.16\",\"0.18\",\"0.20\",\"0.52\",\"0.48\",\"0.32\",\"0.42\",\"0.22\",\"0.22\",\"0.44\",\"0.54\",\"0.56\",\"0.48\",\"0.54\",\"0.38\",\"0.52\",\"0.54\",\"0.42\",\"0.40\",\"0.56\",\"0.70\",\"0.52\",\"0.58\",\"0.50\",\"0.24\",\"0.32\",\"0.24\",\"0.20\",\"0.28\",\"0.60\",\"0.58\",\"0.32\",\"0.26\",\"0.38\",\"0.58\",\"0.80\",\"0.88\",\"0.44\",\"0.66\",\"0.70\",\"0.44\",\"0.48\",\"0.68\",\"0.56\",\"0.48\",\"0.70\",\"0.54\",\"0.44\",\"0.24\",\"0.20\",\"0.24\",\"0.18\",\"0.24\",\"0.18\",\"0.12\",\"0.16\",\"0.28\",\"0.14\",\"0.18\",\"0.14\",\"0.18\",\"0.36\",\"0.22\",\"0.50\",\"0.52\",\"0.40\",\"0.24\",\"0.36\",\"0.42\",\"0.44\",\"0.34\",\"0.58\",\"0.22\",\"0.16\",\"0.28\",\"0.40\",\"0.32\",\"0.46\",\"0.40\",\"0.44\",\"0.60\",\"0.44\",\"0.24\",\"0.14\",\"0.14\",\"0.42\",\"0.38\",\"0.14\",\"0.46\",\"0.48\"],\"x\":[\"2019-04-01T00:00:00\",\"2019-04-08T00:00:00\",\"2019-04-15T00:00:00\",\"2019-04-22T00:00:00\",\"2019-04-29T00:00:00\",\"2019-05-06T00:00:00\",\"2019-05-13T00:00:00\",\"2019-05-20T00:00:00\",\"2019-05-27T00:00:00\",\"2019-06-03T00:00:00\",\"2019-06-10T00:00:00\",\"2019-06-17T00:00:00\",\"2019-06-24T00:00:00\",\"2019-07-01T00:00:00\",\"2019-07-08T00:00:00\",\"2019-07-15T00:00:00\",\"2019-07-22T00:00:00\",\"2019-07-29T00:00:00\",\"2019-08-05T00:00:00\",\"2019-08-12T00:00:00\",\"2019-08-19T00:00:00\",\"2019-08-26T00:00:00\",\"2019-09-02T00:00:00\",\"2019-09-09T00:00:00\",\"2019-09-16T00:00:00\",\"2019-09-23T00:00:00\",\"2019-09-30T00:00:00\",\"2019-10-07T00:00:00\",\"2019-10-14T00:00:00\",\"2019-10-21T00:00:00\",\"2019-10-28T00:00:00\",\"2019-11-04T00:00:00\",\"2019-11-11T00:00:00\",\"2019-11-18T00:00:00\",\"2019-11-25T00:00:00\",\"2019-12-02T00:00:00\",\"2019-12-09T00:00:00\",\"2019-12-16T00:00:00\",\"2019-12-23T00:00:00\",\"2020-01-06T00:00:00\",\"2020-01-06T00:00:00\",\"2020-01-13T00:00:00\",\"2020-01-20T00:00:00\",\"2020-01-27T00:00:00\",\"2020-02-03T00:00:00\",\"2020-02-10T00:00:00\",\"2020-02-17T00:00:00\",\"2020-02-24T00:00:00\",\"2020-03-02T00:00:00\",\"2020-03-09T00:00:00\",\"2020-03-16T00:00:00\",\"2020-03-23T00:00:00\",\"2020-03-30T00:00:00\",\"2020-04-06T00:00:00\",\"2020-04-13T00:00:00\",\"2020-04-20T00:00:00\",\"2020-04-27T00:00:00\",\"2020-05-04T00:00:00\",\"2020-05-11T00:00:00\",\"2020-05-18T00:00:00\",\"2020-05-25T00:00:00\",\"2020-06-01T00:00:00\",\"2020-06-08T00:00:00\",\"2020-06-15T00:00:00\",\"2020-06-22T00:00:00\",\"2020-06-29T00:00:00\",\"2020-07-06T00:00:00\",\"2020-07-13T00:00:00\",\"2020-07-20T00:00:00\",\"2020-07-27T00:00:00\",\"2020-08-03T00:00:00\",\"2020-08-10T00:00:00\",\"2020-08-17T00:00:00\",\"2020-08-24T00:00:00\",\"2020-08-31T00:00:00\",\"2020-09-07T00:00:00\",\"2020-09-14T00:00:00\",\"2020-09-21T00:00:00\",\"2020-09-28T00:00:00\",\"2020-10-05T00:00:00\",\"2020-10-12T00:00:00\",\"2020-10-19T00:00:00\",\"2020-10-26T00:00:00\",\"2020-11-02T00:00:00\",\"2020-11-09T00:00:00\",\"2020-11-16T00:00:00\",\"2020-11-23T00:00:00\",\"2020-11-30T00:00:00\",\"2020-12-07T00:00:00\",\"2020-12-14T00:00:00\",\"2020-12-21T00:00:00\"],\"y\":[4038,4038,4038,4038,4038,4038,4038,4038,4038,4038,4038,4038,4038,4038,4038,4038,4038,4038,4038,4038,4038,4038,4038,4038,4038,4038,4038,4038,4038,4038,4038,4038,4038,4038,4038,4038,4038,4038,4038,4038,4038,4038,4038,4038,4038,4038,4038,4038,4038,4038,4038,4038,4038,4038,4038,4038,4038,4038,4038,4038,4038,4038,4038,4038,4038,4038,4038,4038,4038,4038,4038,4038,4038,4038,4038,4038,4038,4038,4038,4038,4038,4038,4038,4038,4038,4038,4038,4038,4038,4038,4038],\"type\":\"bar\"}],                        {\"template\":{\"data\":{\"histogram2dcontour\":[{\"type\":\"histogram2dcontour\",\"colorbar\":{\"outlinewidth\":0,\"ticks\":\"\"},\"colorscale\":[[0.0,\"#0d0887\"],[0.1111111111111111,\"#46039f\"],[0.2222222222222222,\"#7201a8\"],[0.3333333333333333,\"#9c179e\"],[0.4444444444444444,\"#bd3786\"],[0.5555555555555556,\"#d8576b\"],[0.6666666666666666,\"#ed7953\"],[0.7777777777777778,\"#fb9f3a\"],[0.8888888888888888,\"#fdca26\"],[1.0,\"#f0f921\"]]}],\"choropleth\":[{\"type\":\"choropleth\",\"colorbar\":{\"outlinewidth\":0,\"ticks\":\"\"}}],\"histogram2d\":[{\"type\":\"histogram2d\",\"colorbar\":{\"outlinewidth\":0,\"ticks\":\"\"},\"colorscale\":[[0.0,\"#0d0887\"],[0.1111111111111111,\"#46039f\"],[0.2222222222222222,\"#7201a8\"],[0.3333333333333333,\"#9c179e\"],[0.4444444444444444,\"#bd3786\"],[0.5555555555555556,\"#d8576b\"],[0.6666666666666666,\"#ed7953\"],[0.7777777777777778,\"#fb9f3a\"],[0.8888888888888888,\"#fdca26\"],[1.0,\"#f0f921\"]]}],\"heatmap\":[{\"type\":\"heatmap\",\"colorbar\":{\"outlinewidth\":0,\"ticks\":\"\"},\"colorscale\":[[0.0,\"#0d0887\"],[0.1111111111111111,\"#46039f\"],[0.2222222222222222,\"#7201a8\"],[0.3333333333333333,\"#9c179e\"],[0.4444444444444444,\"#bd3786\"],[0.5555555555555556,\"#d8576b\"],[0.6666666666666666,\"#ed7953\"],[0.7777777777777778,\"#fb9f3a\"],[0.8888888888888888,\"#fdca26\"],[1.0,\"#f0f921\"]]}],\"heatmapgl\":[{\"type\":\"heatmapgl\",\"colorbar\":{\"outlinewidth\":0,\"ticks\":\"\"},\"colorscale\":[[0.0,\"#0d0887\"],[0.1111111111111111,\"#46039f\"],[0.2222222222222222,\"#7201a8\"],[0.3333333333333333,\"#9c179e\"],[0.4444444444444444,\"#bd3786\"],[0.5555555555555556,\"#d8576b\"],[0.6666666666666666,\"#ed7953\"],[0.7777777777777778,\"#fb9f3a\"],[0.8888888888888888,\"#fdca26\"],[1.0,\"#f0f921\"]]}],\"contourcarpet\":[{\"type\":\"contourcarpet\",\"colorbar\":{\"outlinewidth\":0,\"ticks\":\"\"}}],\"contour\":[{\"type\":\"contour\",\"colorbar\":{\"outlinewidth\":0,\"ticks\":\"\"},\"colorscale\":[[0.0,\"#0d0887\"],[0.1111111111111111,\"#46039f\"],[0.2222222222222222,\"#7201a8\"],[0.3333333333333333,\"#9c179e\"],[0.4444444444444444,\"#bd3786\"],[0.5555555555555556,\"#d8576b\"],[0.6666666666666666,\"#ed7953\"],[0.7777777777777778,\"#fb9f3a\"],[0.8888888888888888,\"#fdca26\"],[1.0,\"#f0f921\"]]}],\"surface\":[{\"type\":\"surface\",\"colorbar\":{\"outlinewidth\":0,\"ticks\":\"\"},\"colorscale\":[[0.0,\"#0d0887\"],[0.1111111111111111,\"#46039f\"],[0.2222222222222222,\"#7201a8\"],[0.3333333333333333,\"#9c179e\"],[0.4444444444444444,\"#bd3786\"],[0.5555555555555556,\"#d8576b\"],[0.6666666666666666,\"#ed7953\"],[0.7777777777777778,\"#fb9f3a\"],[0.8888888888888888,\"#fdca26\"],[1.0,\"#f0f921\"]]}],\"mesh3d\":[{\"type\":\"mesh3d\",\"colorbar\":{\"outlinewidth\":0,\"ticks\":\"\"}}],\"scatter\":[{\"fillpattern\":{\"fillmode\":\"overlay\",\"size\":10,\"solidity\":0.2},\"type\":\"scatter\"}],\"parcoords\":[{\"type\":\"parcoords\",\"line\":{\"colorbar\":{\"outlinewidth\":0,\"ticks\":\"\"}}}],\"scatterpolargl\":[{\"type\":\"scatterpolargl\",\"marker\":{\"colorbar\":{\"outlinewidth\":0,\"ticks\":\"\"}}}],\"bar\":[{\"error_x\":{\"color\":\"#2a3f5f\"},\"error_y\":{\"color\":\"#2a3f5f\"},\"marker\":{\"line\":{\"color\":\"#E5ECF6\",\"width\":0.5},\"pattern\":{\"fillmode\":\"overlay\",\"size\":10,\"solidity\":0.2}},\"type\":\"bar\"}],\"scattergeo\":[{\"type\":\"scattergeo\",\"marker\":{\"colorbar\":{\"outlinewidth\":0,\"ticks\":\"\"}}}],\"scatterpolar\":[{\"type\":\"scatterpolar\",\"marker\":{\"colorbar\":{\"outlinewidth\":0,\"ticks\":\"\"}}}],\"histogram\":[{\"marker\":{\"pattern\":{\"fillmode\":\"overlay\",\"size\":10,\"solidity\":0.2}},\"type\":\"histogram\"}],\"scattergl\":[{\"type\":\"scattergl\",\"marker\":{\"colorbar\":{\"outlinewidth\":0,\"ticks\":\"\"}}}],\"scatter3d\":[{\"type\":\"scatter3d\",\"line\":{\"colorbar\":{\"outlinewidth\":0,\"ticks\":\"\"}},\"marker\":{\"colorbar\":{\"outlinewidth\":0,\"ticks\":\"\"}}}],\"scattermapbox\":[{\"type\":\"scattermapbox\",\"marker\":{\"colorbar\":{\"outlinewidth\":0,\"ticks\":\"\"}}}],\"scatterternary\":[{\"type\":\"scatterternary\",\"marker\":{\"colorbar\":{\"outlinewidth\":0,\"ticks\":\"\"}}}],\"scattercarpet\":[{\"type\":\"scattercarpet\",\"marker\":{\"colorbar\":{\"outlinewidth\":0,\"ticks\":\"\"}}}],\"carpet\":[{\"aaxis\":{\"endlinecolor\":\"#2a3f5f\",\"gridcolor\":\"white\",\"linecolor\":\"white\",\"minorgridcolor\":\"white\",\"startlinecolor\":\"#2a3f5f\"},\"baxis\":{\"endlinecolor\":\"#2a3f5f\",\"gridcolor\":\"white\",\"linecolor\":\"white\",\"minorgridcolor\":\"white\",\"startlinecolor\":\"#2a3f5f\"},\"type\":\"carpet\"}],\"table\":[{\"cells\":{\"fill\":{\"color\":\"#EBF0F8\"},\"line\":{\"color\":\"white\"}},\"header\":{\"fill\":{\"color\":\"#C8D4E3\"},\"line\":{\"color\":\"white\"}},\"type\":\"table\"}],\"barpolar\":[{\"marker\":{\"line\":{\"color\":\"#E5ECF6\",\"width\":0.5},\"pattern\":{\"fillmode\":\"overlay\",\"size\":10,\"solidity\":0.2}},\"type\":\"barpolar\"}],\"pie\":[{\"automargin\":true,\"type\":\"pie\"}]},\"layout\":{\"autotypenumbers\":\"strict\",\"colorway\":[\"#636efa\",\"#EF553B\",\"#00cc96\",\"#ab63fa\",\"#FFA15A\",\"#19d3f3\",\"#FF6692\",\"#B6E880\",\"#FF97FF\",\"#FECB52\"],\"font\":{\"color\":\"#2a3f5f\"},\"hovermode\":\"closest\",\"hoverlabel\":{\"align\":\"left\"},\"paper_bgcolor\":\"white\",\"plot_bgcolor\":\"#E5ECF6\",\"polar\":{\"bgcolor\":\"#E5ECF6\",\"angularaxis\":{\"gridcolor\":\"white\",\"linecolor\":\"white\",\"ticks\":\"\"},\"radialaxis\":{\"gridcolor\":\"white\",\"linecolor\":\"white\",\"ticks\":\"\"}},\"ternary\":{\"bgcolor\":\"#E5ECF6\",\"aaxis\":{\"gridcolor\":\"white\",\"linecolor\":\"white\",\"ticks\":\"\"},\"baxis\":{\"gridcolor\":\"white\",\"linecolor\":\"white\",\"ticks\":\"\"},\"caxis\":{\"gridcolor\":\"white\",\"linecolor\":\"white\",\"ticks\":\"\"}},\"coloraxis\":{\"colorbar\":{\"outlinewidth\":0,\"ticks\":\"\"}},\"colorscale\":{\"sequential\":[[0.0,\"#0d0887\"],[0.1111111111111111,\"#46039f\"],[0.2222222222222222,\"#7201a8\"],[0.3333333333333333,\"#9c179e\"],[0.4444444444444444,\"#bd3786\"],[0.5555555555555556,\"#d8576b\"],[0.6666666666666666,\"#ed7953\"],[0.7777777777777778,\"#fb9f3a\"],[0.8888888888888888,\"#fdca26\"],[1.0,\"#f0f921\"]],\"sequentialminus\":[[0.0,\"#0d0887\"],[0.1111111111111111,\"#46039f\"],[0.2222222222222222,\"#7201a8\"],[0.3333333333333333,\"#9c179e\"],[0.4444444444444444,\"#bd3786\"],[0.5555555555555556,\"#d8576b\"],[0.6666666666666666,\"#ed7953\"],[0.7777777777777778,\"#fb9f3a\"],[0.8888888888888888,\"#fdca26\"],[1.0,\"#f0f921\"]],\"diverging\":[[0,\"#8e0152\"],[0.1,\"#c51b7d\"],[0.2,\"#de77ae\"],[0.3,\"#f1b6da\"],[0.4,\"#fde0ef\"],[0.5,\"#f7f7f7\"],[0.6,\"#e6f5d0\"],[0.7,\"#b8e186\"],[0.8,\"#7fbc41\"],[0.9,\"#4d9221\"],[1,\"#276419\"]]},\"xaxis\":{\"gridcolor\":\"white\",\"linecolor\":\"white\",\"ticks\":\"\",\"title\":{\"standoff\":15},\"zerolinecolor\":\"white\",\"automargin\":true,\"zerolinewidth\":2},\"yaxis\":{\"gridcolor\":\"white\",\"linecolor\":\"white\",\"ticks\":\"\",\"title\":{\"standoff\":15},\"zerolinecolor\":\"white\",\"automargin\":true,\"zerolinewidth\":2},\"scene\":{\"xaxis\":{\"backgroundcolor\":\"#E5ECF6\",\"gridcolor\":\"white\",\"linecolor\":\"white\",\"showbackground\":true,\"ticks\":\"\",\"zerolinecolor\":\"white\",\"gridwidth\":2},\"yaxis\":{\"backgroundcolor\":\"#E5ECF6\",\"gridcolor\":\"white\",\"linecolor\":\"white\",\"showbackground\":true,\"ticks\":\"\",\"zerolinecolor\":\"white\",\"gridwidth\":2},\"zaxis\":{\"backgroundcolor\":\"#E5ECF6\",\"gridcolor\":\"white\",\"linecolor\":\"white\",\"showbackground\":true,\"ticks\":\"\",\"zerolinecolor\":\"white\",\"gridwidth\":2}},\"shapedefaults\":{\"line\":{\"color\":\"#2a3f5f\"}},\"annotationdefaults\":{\"arrowcolor\":\"#2a3f5f\",\"arrowhead\":0,\"arrowwidth\":1},\"geo\":{\"bgcolor\":\"white\",\"landcolor\":\"#E5ECF6\",\"subunitcolor\":\"white\",\"showland\":true,\"showlakes\":true,\"lakecolor\":\"white\"},\"title\":{\"x\":0.05},\"mapbox\":{\"style\":\"light\"}}},\"xaxis\":{\"anchor\":\"y\",\"domain\":[0.0,1.0],\"title\":{\"text\":\"Date\"}},\"yaxis\":{\"anchor\":\"x\",\"domain\":[0.0,1.0],\"title\":{\"text\":\"Year\"},\"tickvals\":[4038,4038,4038,4038,4038,4038,4038,4038,4038,4038,4038,4038,4038,4038,4038,4038,4038,4038,4038,4038,4038,4038,4038,4038,4038,4038,4038,4038,4038,4038,4038,4038,4038,4038,4038,4038,4038,4038,4038,4038,4038,4038,4038,4038,4038,4038,4038,4038,4038,4038,4038,4038,4038,4038,4038,4038,4038,4038,4038,4038,4038,4038,4038,4038,4038,4038,4038,4038,4038,4038,4038,4038,4038,4038,4038,4038,4038,4038,4038,4038,4038,4038,4038,4038,4038,4038,4038,4038,4038,4038,4038],\"ticktext\":[\"2019\"]},\"legend\":{\"title\":{\"text\":\"category\"},\"tracegroupgap\":0,\"itemsizing\":\"constant\"},\"margin\":{\"t\":60},\"title\":{\"text\":\"Dengue Outbreak Periods for Zamboanga City with Probability of Outbreak\"},\"bargap\":0,\"barmode\":\"overlay\"},                        {\"responsive\": true}                    ).then(function(){\n",
       "                            \n",
       "var gd = document.getElementById('4c3c7c15-0d10-44b0-9426-e49b7c400442');\n",
       "var x = new MutationObserver(function (mutations, observer) {{\n",
       "        var display = window.getComputedStyle(gd).display;\n",
       "        if (!display || display === 'none') {{\n",
       "            console.log([gd, 'removed!']);\n",
       "            Plotly.purge(gd);\n",
       "            observer.disconnect();\n",
       "        }}\n",
       "}});\n",
       "\n",
       "// Listen for the removal of the full notebook cells\n",
       "var notebookContainer = gd.closest('#notebook-container');\n",
       "if (notebookContainer) {{\n",
       "    x.observe(notebookContainer, {childList: true});\n",
       "}}\n",
       "\n",
       "// Listen for the clearing of the current output cell\n",
       "var outputEl = gd.closest('.output');\n",
       "if (outputEl) {{\n",
       "    x.observe(outputEl, {childList: true});\n",
       "}}\n",
       "\n",
       "                        })                };                });            </script>        </div>"
      ]
     },
     "metadata": {},
     "output_type": "display_data"
    }
   ],
   "source": [
    "# Assuming sample_brgy contains the outbreak period data\n",
    "class_colors = {\"predicted\": \"#ee472f\", \"actual\": \"#53bed0\"}\n",
    "\n",
    "\n",
    "outbreak_actual = outbreak_lengths_results[\n",
    "    outbreak_lengths_results[\"category\"] == \"actual\"\n",
    "]\n",
    "\n",
    "num_years = analyze_df[\"Date\"].dt.year.nunique()\n",
    "\n",
    "fig = px.scatter(\n",
    "    outbreak_actual,\n",
    "    x=[\"start_date\", \"end_date\"],\n",
    "    y=outbreak_actual[\"start_date\"].dt.year,\n",
    "    color=\"category\",\n",
    "    size=\"actual_length_weeks\",\n",
    "    labels={\"x\": \"Date\"},\n",
    "    category_orders={\"category\": [\"actual\"]},\n",
    "    color_discrete_map=class_colors,\n",
    ")\n",
    "\n",
    "# Add dumbbell plot lines\n",
    "for i, row in outbreak_actual.iterrows():\n",
    "    fig.add_trace(\n",
    "        go.Scatter(\n",
    "            mode=\"lines\",\n",
    "            line=dict(\n",
    "                color=outbreak_actual[\"category\"].map(class_colors)[i],\n",
    "                width=3,\n",
    "                dash=\"solid\",\n",
    "            ),\n",
    "            x=[row[\"start_date\"], row[\"end_date\"]],\n",
    "            y=[row[\"start_date\"].year, row[\"start_date\"].year],\n",
    "            showlegend=False,\n",
    "        )\n",
    "    )\n",
    "\n",
    "# Multiply opacity based on predicted probability values\n",
    "opacity = 0.1 + 0.7 * analyze_df[\"predicted_proba_outbreak\"]\n",
    "\n",
    "# Set constant y-coordinate for the bars\n",
    "y_bar = []\n",
    "for year in outbreak_actual[\"start_date\"].dt.year.unique():\n",
    "    y_bar.extend([year * 2] * len(analyze_df))\n",
    "\n",
    "\n",
    "# Add probability of outbreak plot as a background\n",
    "fig.add_trace(\n",
    "    go.Bar(\n",
    "        x=analyze_df[\"Date\"],\n",
    "        y=y_bar,\n",
    "        marker=dict(\n",
    "            color=\"pink\", opacity=opacity, line=dict(color=\"rgba(0,0,0,0.2)\", width=0.5)\n",
    "        ),\n",
    "        hoverinfo=\"text\",\n",
    "        text=[f\"{prob:.2f}\" for prob in analyze_df[\"predicted_proba_outbreak\"]],\n",
    "        showlegend=False,\n",
    "    )\n",
    ")\n",
    "\n",
    "# Update layout with title and axis titles\n",
    "fig.update_layout(\n",
    "    title=\"Dengue Outbreak Periods for Zamboanga City with Probability of Outbreak\",\n",
    "    xaxis_title=\"Date\",\n",
    "    yaxis_title=\"Year\",\n",
    "    bargap=0,  # Remove gaps between bars\n",
    "    barmode=\"overlay\",  # Overlay the dumbbell plot\n",
    "    yaxis=dict(\n",
    "        tickvals=y_bar,  # Set y-tick values to the years\n",
    "        ticktext=[\n",
    "            f\"{year}\" for year in outbreak_actual[\"start_date\"].dt.year.unique()\n",
    "        ],  # Set y-tick labels to the year\n",
    "    ),\n",
    ")\n",
    "\n",
    "fig.show()"
   ]
  }
 ],
 "metadata": {
  "kernelspec": {
   "display_name": "lacuna-fund",
   "language": "python",
   "name": "python3"
  },
  "language_info": {
   "codemirror_mode": {
    "name": "ipython",
    "version": 3
   },
   "file_extension": ".py",
   "mimetype": "text/x-python",
   "name": "python",
   "nbconvert_exporter": "python",
   "pygments_lexer": "ipython3",
   "version": "3.9.18"
  },
  "orig_nbformat": 4
 },
 "nbformat": 4,
 "nbformat_minor": 2
}
