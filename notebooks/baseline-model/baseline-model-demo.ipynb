{
 "cells": [
  {
   "cell_type": "code",
   "execution_count": 149,
   "metadata": {},
   "outputs": [],
   "source": [
    "from pathlib import Path\n",
    "\n",
    "import numpy as np\n",
    "import pandas as pd\n",
    "from sklearn.model_selection import TimeSeriesSplit, GridSearchCV\n",
    "from sklearn.ensemble import RandomForestRegressor, RandomForestClassifier\n",
    "from sklearn.metrics import (\n",
    "    r2_score,\n",
    "    mean_absolute_error,\n",
    "    mean_squared_error,\n",
    "    confusion_matrix,\n",
    "    classification_report,\n",
    "    ConfusionMatrixDisplay,\n",
    ")\n",
    "import shap\n",
    "\n",
    "import matplotlib.pyplot as plt\n",
    "from matplotlib.colors import LinearSegmentedColormap\n",
    "\n",
    "import plotly.graph_objects as go\n",
    "import plotly.express as px"
   ]
  },
  {
   "cell_type": "code",
   "execution_count": 150,
   "metadata": {},
   "outputs": [],
   "source": [
    "import sys\n",
    "\n",
    "sys.path.append(\"../../\")\n",
    "from src.model_data_prep import create_outbreak_summary"
   ]
  },
  {
   "cell_type": "markdown",
   "metadata": {},
   "source": [
    "# Using the linked dataset in a baseline model for predicting disease outbreak periods\n",
    "\n",
    "This notebook demonstrates the use of the linked dataset in creating a baseline model for predicting disease outbreaks.\n",
    "We will create a model that covers the following:\n",
    "\n",
    "| Specifications     |                |\n",
    "|--------------------|----------------|\n",
    "| Location           | Zamboanga City |\n",
    "| Disease to predict | Dengue         |\n",
    "| Years covered      | 2014-2020      |\n",
    "| Model              | Random Forest  |\n",
    "\n",
    "We include the following as environmental factors:\n",
    "\n",
    "| Factor            | Variables                                                                              |\n",
    "|-------------------|----------------------------------------------------------------------------------------|\n",
    "| Climate           | temperature, humidity, rainfall, solar radiation, wind speed, vegetation, air quality  |\n",
    "| Demographics      | population, population density                                                         |\n",
    "| Facilities        | clinics, hospitals, sanitation, water source,                                          |\n",
    "| Economic activity | nightlights radiance                                                                   |\n",
    "\n",
    "\n",
    "For this model, we will use 6 years and 3 months (Jan 2014-Mar 2019) as training data and will find out if we can sufficiently predict disease outbreaks for the next 1 year and 8 months (Apr 2019- Dec 2020).\n",
    "\n"
   ]
  },
  {
   "cell_type": "code",
   "execution_count": 151,
   "metadata": {},
   "outputs": [],
   "source": [
    "PROCESSED_DIR = Path(\"../../data/03-processed/\")\n",
    "# LINKED_DATA = PROCESSED_DIR / \"linked_df_city_weekly_dengue.csv\"\n",
    "LINKED_DATA = (\n",
    "    PROCESSED_DIR / \"linked_training_data/linked_df_pidsr_city_weekly_dengue.csv\"\n",
    ")"
   ]
  },
  {
   "cell_type": "markdown",
   "metadata": {},
   "source": [
    "## Load the labeled linked dataset\n",
    "\n",
    "Generate the linked dataset using the [Linking Colaboratory Notebook](colab) and download locally. Specifications on the temporal coverage, tables, and columns needed are listed in the summary at the start of this notebook. "
   ]
  },
  {
   "cell_type": "code",
   "execution_count": 152,
   "metadata": {},
   "outputs": [
    {
     "data": {
      "text/html": [
       "<div>\n",
       "<style scoped>\n",
       "    .dataframe tbody tr th:only-of-type {\n",
       "        vertical-align: middle;\n",
       "    }\n",
       "\n",
       "    .dataframe tbody tr th {\n",
       "        vertical-align: top;\n",
       "    }\n",
       "\n",
       "    .dataframe thead th {\n",
       "        text-align: right;\n",
       "    }\n",
       "</style>\n",
       "<table border=\"1\" class=\"dataframe\">\n",
       "  <thead>\n",
       "    <tr style=\"text-align: right;\">\n",
       "      <th></th>\n",
       "      <th>Source</th>\n",
       "      <th>year</th>\n",
       "      <th>Month</th>\n",
       "      <th>Week</th>\n",
       "      <th>Date</th>\n",
       "      <th>Region</th>\n",
       "      <th>PSGC_Region</th>\n",
       "      <th>Municipality</th>\n",
       "      <th>ADM3_PCODE</th>\n",
       "      <th>ICD</th>\n",
       "      <th>...</th>\n",
       "      <th>google_bldgs_density_mean</th>\n",
       "      <th>google_bldgs_pct_built_up_area_sum</th>\n",
       "      <th>google_bldgs_pct_built_up_area_mean</th>\n",
       "      <th>travel_time</th>\n",
       "      <th>hospital_pop_reached_total</th>\n",
       "      <th>hospital_pct_population_reached</th>\n",
       "      <th>healthcenter_pop_reached_total</th>\n",
       "      <th>healthcenter_pct_population_reached</th>\n",
       "      <th>rhu_pop_reached_total</th>\n",
       "      <th>rhu_pct_population_reached</th>\n",
       "    </tr>\n",
       "  </thead>\n",
       "  <tbody>\n",
       "    <tr>\n",
       "      <th>0</th>\n",
       "      <td>PIDSR-DOH</td>\n",
       "      <td>2008.0</td>\n",
       "      <td>1.0</td>\n",
       "      <td>1</td>\n",
       "      <td>2008-01-07</td>\n",
       "      <td>Region IX</td>\n",
       "      <td>PH090000000</td>\n",
       "      <td>Zamboanga City</td>\n",
       "      <td>PH097332000</td>\n",
       "      <td>A90-A91</td>\n",
       "      <td>...</td>\n",
       "      <td>0.001116</td>\n",
       "      <td>908.037478</td>\n",
       "      <td>8.99047</td>\n",
       "      <td>5</td>\n",
       "      <td>124434.91</td>\n",
       "      <td>14.46</td>\n",
       "      <td>456862.05</td>\n",
       "      <td>53.09</td>\n",
       "      <td>301674.11</td>\n",
       "      <td>35.06</td>\n",
       "    </tr>\n",
       "    <tr>\n",
       "      <th>1</th>\n",
       "      <td>PIDSR-DOH</td>\n",
       "      <td>2008.0</td>\n",
       "      <td>1.0</td>\n",
       "      <td>2</td>\n",
       "      <td>2008-01-07</td>\n",
       "      <td>Region IX</td>\n",
       "      <td>PH090000000</td>\n",
       "      <td>Zamboanga City</td>\n",
       "      <td>PH097332000</td>\n",
       "      <td>A90-A91</td>\n",
       "      <td>...</td>\n",
       "      <td>0.001116</td>\n",
       "      <td>908.037478</td>\n",
       "      <td>8.99047</td>\n",
       "      <td>5</td>\n",
       "      <td>124434.91</td>\n",
       "      <td>14.46</td>\n",
       "      <td>456862.05</td>\n",
       "      <td>53.09</td>\n",
       "      <td>301674.11</td>\n",
       "      <td>35.06</td>\n",
       "    </tr>\n",
       "    <tr>\n",
       "      <th>2</th>\n",
       "      <td>PIDSR-DOH</td>\n",
       "      <td>2008.0</td>\n",
       "      <td>1.0</td>\n",
       "      <td>3</td>\n",
       "      <td>2008-01-14</td>\n",
       "      <td>Region IX</td>\n",
       "      <td>PH090000000</td>\n",
       "      <td>Zamboanga City</td>\n",
       "      <td>PH097332000</td>\n",
       "      <td>A90-A91</td>\n",
       "      <td>...</td>\n",
       "      <td>0.001116</td>\n",
       "      <td>908.037478</td>\n",
       "      <td>8.99047</td>\n",
       "      <td>5</td>\n",
       "      <td>124434.91</td>\n",
       "      <td>14.46</td>\n",
       "      <td>456862.05</td>\n",
       "      <td>53.09</td>\n",
       "      <td>301674.11</td>\n",
       "      <td>35.06</td>\n",
       "    </tr>\n",
       "    <tr>\n",
       "      <th>3</th>\n",
       "      <td>PIDSR-DOH</td>\n",
       "      <td>2008.0</td>\n",
       "      <td>1.0</td>\n",
       "      <td>4</td>\n",
       "      <td>2008-01-21</td>\n",
       "      <td>Region IX</td>\n",
       "      <td>PH090000000</td>\n",
       "      <td>Zamboanga City</td>\n",
       "      <td>PH097332000</td>\n",
       "      <td>A90-A91</td>\n",
       "      <td>...</td>\n",
       "      <td>0.001116</td>\n",
       "      <td>908.037478</td>\n",
       "      <td>8.99047</td>\n",
       "      <td>5</td>\n",
       "      <td>124434.91</td>\n",
       "      <td>14.46</td>\n",
       "      <td>456862.05</td>\n",
       "      <td>53.09</td>\n",
       "      <td>301674.11</td>\n",
       "      <td>35.06</td>\n",
       "    </tr>\n",
       "    <tr>\n",
       "      <th>4</th>\n",
       "      <td>PIDSR-DOH</td>\n",
       "      <td>2008.0</td>\n",
       "      <td>1.0</td>\n",
       "      <td>5</td>\n",
       "      <td>2008-01-28</td>\n",
       "      <td>Region IX</td>\n",
       "      <td>PH090000000</td>\n",
       "      <td>Zamboanga City</td>\n",
       "      <td>PH097332000</td>\n",
       "      <td>A90-A91</td>\n",
       "      <td>...</td>\n",
       "      <td>0.001116</td>\n",
       "      <td>908.037478</td>\n",
       "      <td>8.99047</td>\n",
       "      <td>5</td>\n",
       "      <td>124434.91</td>\n",
       "      <td>14.46</td>\n",
       "      <td>456862.05</td>\n",
       "      <td>53.09</td>\n",
       "      <td>301674.11</td>\n",
       "      <td>35.06</td>\n",
       "    </tr>\n",
       "  </tbody>\n",
       "</table>\n",
       "<p>5 rows × 255 columns</p>\n",
       "</div>"
      ],
      "text/plain": [
       "      Source    year  Month  Week        Date     Region  PSGC_Region  \\\n",
       "0  PIDSR-DOH  2008.0    1.0     1  2008-01-07  Region IX  PH090000000   \n",
       "1  PIDSR-DOH  2008.0    1.0     2  2008-01-07  Region IX  PH090000000   \n",
       "2  PIDSR-DOH  2008.0    1.0     3  2008-01-14  Region IX  PH090000000   \n",
       "3  PIDSR-DOH  2008.0    1.0     4  2008-01-21  Region IX  PH090000000   \n",
       "4  PIDSR-DOH  2008.0    1.0     5  2008-01-28  Region IX  PH090000000   \n",
       "\n",
       "     Municipality   ADM3_PCODE      ICD  ... google_bldgs_density_mean  \\\n",
       "0  Zamboanga City  PH097332000  A90-A91  ...                  0.001116   \n",
       "1  Zamboanga City  PH097332000  A90-A91  ...                  0.001116   \n",
       "2  Zamboanga City  PH097332000  A90-A91  ...                  0.001116   \n",
       "3  Zamboanga City  PH097332000  A90-A91  ...                  0.001116   \n",
       "4  Zamboanga City  PH097332000  A90-A91  ...                  0.001116   \n",
       "\n",
       "   google_bldgs_pct_built_up_area_sum  google_bldgs_pct_built_up_area_mean  \\\n",
       "0                          908.037478                              8.99047   \n",
       "1                          908.037478                              8.99047   \n",
       "2                          908.037478                              8.99047   \n",
       "3                          908.037478                              8.99047   \n",
       "4                          908.037478                              8.99047   \n",
       "\n",
       "   travel_time hospital_pop_reached_total hospital_pct_population_reached  \\\n",
       "0            5                  124434.91                           14.46   \n",
       "1            5                  124434.91                           14.46   \n",
       "2            5                  124434.91                           14.46   \n",
       "3            5                  124434.91                           14.46   \n",
       "4            5                  124434.91                           14.46   \n",
       "\n",
       "   healthcenter_pop_reached_total  healthcenter_pct_population_reached  \\\n",
       "0                       456862.05                                53.09   \n",
       "1                       456862.05                                53.09   \n",
       "2                       456862.05                                53.09   \n",
       "3                       456862.05                                53.09   \n",
       "4                       456862.05                                53.09   \n",
       "\n",
       "  rhu_pop_reached_total  rhu_pct_population_reached  \n",
       "0             301674.11                       35.06  \n",
       "1             301674.11                       35.06  \n",
       "2             301674.11                       35.06  \n",
       "3             301674.11                       35.06  \n",
       "4             301674.11                       35.06  \n",
       "\n",
       "[5 rows x 255 columns]"
      ]
     },
     "execution_count": 152,
     "metadata": {},
     "output_type": "execute_result"
    }
   ],
   "source": [
    "linked_data = pd.read_csv(LINKED_DATA)\n",
    "linked_data.head()"
   ]
  },
  {
   "cell_type": "markdown",
   "metadata": {},
   "source": [
    "> Remove once we replace with linked data from linking notebook\n",
    "\n",
    "Sort the dataframe by Date and place it at the left-most column."
   ]
  },
  {
   "cell_type": "code",
   "execution_count": 153,
   "metadata": {},
   "outputs": [],
   "source": [
    "linked_data[\"Date\"] = pd.to_datetime(linked_data[\"Date\"])\n",
    "linked_data = linked_data.sort_values(by=[\"Date\"])\n",
    "linked_data = linked_data.drop(columns=[\"start_of_week\"])\n",
    "linked_data.insert(0, \"Date\", linked_data.pop(\"Date\"))"
   ]
  },
  {
   "cell_type": "markdown",
   "metadata": {},
   "source": [
    "## Filter, select, and create features"
   ]
  },
  {
   "cell_type": "code",
   "execution_count": null,
   "metadata": {},
   "outputs": [],
   "source": [
    "# add labels to data"
   ]
  },
  {
   "cell_type": "markdown",
   "metadata": {},
   "source": [
    "> to remove this part after we get generated dataset from linked notebook\n",
    "\n",
    "### 1. Filter to year with existing OSM and population data\n",
    "\n",
    "OSM-related features are only available from year 2014 onwards and the population features are only availble until year 2020. "
   ]
  },
  {
   "cell_type": "code",
   "execution_count": 154,
   "metadata": {},
   "outputs": [],
   "source": [
    "linked_data = linked_data[(linked_data[\"year\"] >= 2014) & (linked_data[\"year\"] <= 2020)]"
   ]
  },
  {
   "cell_type": "code",
   "execution_count": 155,
   "metadata": {},
   "outputs": [
    {
     "data": {
      "text/plain": [
       "(364, 254)"
      ]
     },
     "execution_count": 155,
     "metadata": {},
     "output_type": "execute_result"
    }
   ],
   "source": [
    "linked_data.shape"
   ]
  },
  {
   "cell_type": "code",
   "execution_count": 156,
   "metadata": {},
   "outputs": [
    {
     "name": "stdout",
     "output_type": "stream",
     "text": [
      "['Date', 'Source', 'year', 'Month', 'Week', 'Region', 'PSGC_Region', 'Municipality', 'ADM3_PCODE', 'ICD', 'Disease', 'Cases', 'Claims', 'Deaths', 'Case_Type', 'Date_Type', 'outbreak', 'outbreak_group', 'CO_AVG_mean', 'CO_MIN_mean', 'CO_MAX_mean', 'CO_STD_mean', 'WEIGHTED_AVG_CO_mean', 'HI_AVG_mean', 'HI_MIN_mean', 'HI_MAX_mean', 'HI_STD_mean', 'WEIGHTED_AVG_HI_mean', 'NDVI_AVG_mean', 'NDVI_MIN_mean', 'NDVI_MAX_mean', 'NDVI_STD_mean', 'WEIGHTED_AVG_NDVI_mean', 'NO2_AVG_mean', 'NO2_MIN_mean', 'NO2_MAX_mean', 'NO2_STD_mean', 'WEIGHTED_AVG_NO2_mean', 'O3_AVG_mean', 'O3_MIN_mean', 'O3_MAX_mean', 'O3_STD_mean', 'WEIGHTED_AVG_O3_mean', 'PM10_AVG_mean', 'PM10_MIN_mean', 'PM10_MAX_mean', 'PM10_STD_mean', 'WEIGHTED_AVG_PM10_mean', 'PM25_AVG_mean', 'PM25_MIN_mean', 'PM25_MAX_mean', 'PM25_STD_mean', 'WEIGHTED_AVG_PM25_mean', 'PNP_AVG_mean', 'PNP_MIN_mean', 'PNP_MAX_mean', 'PNP_STD_mean', 'WEIGHTED_AVG_PNP_mean', 'PR_AVG_mean', 'PR_MIN_mean', 'PR_MAX_mean', 'PR_STD_mean', 'WEIGHTED_AVG_PR_mean', 'RH_AVG_mean', 'RH_MIN_mean', 'RH_MAX_mean', 'RH_STD_mean', 'WEIGHTED_AVG_RH_mean', 'SO2_AVG_mean', 'SO2_MIN_mean', 'SO2_MAX_mean', 'SO2_STD_mean', 'WEIGHTED_AVG_SO2_mean', 'SPI3_AVG_mean', 'SPI3_MIN_mean', 'SPI3_MAX_mean', 'SPI3_STD_mean', 'WEIGHTED_AVG_SPI3_mean', 'SPI6_AVG_mean', 'SPI6_MIN_mean', 'SPI6_MAX_mean', 'SPI6_STD_mean', 'WEIGHTED_AVG_SPI6_mean', 'SR_AVG_mean', 'SR_MIN_mean', 'SR_MAX_mean', 'SR_STD_mean', 'WEIGHTED_AVG_SR_mean', 'Tave_AVG_mean', 'Tave_MIN_mean', 'Tave_MAX_mean', 'Tave_STD_mean', 'WEIGHTED_AVG_Tave_mean', 'Tmax_AVG_mean', 'Tmax_MIN_mean', 'Tmax_MAX_mean', 'Tmax_STD_mean', 'WEIGHTED_AVG_Tmax_mean', 'Tmin_AVG_mean', 'Tmin_MIN_mean', 'Tmin_MAX_mean', 'Tmin_STD_mean', 'WEIGHTED_AVG_Tmin_mean', 'UVR_AVG_mean', 'UVR_MIN_mean', 'UVR_MAX_mean', 'UVR_STD_mean', 'WEIGHTED_AVG_UVR_mean', 'WS_AVG_mean', 'WS_MIN_mean', 'WS_MAX_mean', 'WS_STD_mean', 'WEIGHTED_AVG_WS_mean', 'poi_count_sum', 'poi_count_mean', 'clinic_count_sum', 'clinic_count_mean', 'dentist_count_sum', 'dentist_count_mean', 'doctors_count_sum', 'doctors_count_mean', 'hospital_count_sum', 'hospital_count_mean', 'optician_count_sum', 'optician_count_mean', 'pharmacy_count_sum', 'pharmacy_count_mean', 'drinking_water_count_sum', 'drinking_water_count_mean', 'water_mill_count_sum', 'water_mill_count_mean', 'water_tower_count_sum', 'water_tower_count_mean', 'water_works_count_sum', 'water_works_count_mean', 'water_well_count_sum', 'water_well_count_mean', 'sanitary_dump_station_count_sum', 'sanitary_dump_station_count_mean', 'toilet_count_sum', 'toilet_count_mean', 'recycling_count_sum', 'recycling_count_mean', 'waste_basket_count_sum', 'waste_basket_count_mean', 'wastewater_plant_count_sum', 'wastewater_plant_count_mean', 'waste_transfer_station_count_sum', 'waste_transfer_station_count_mean', 'weighted_avg_clinic_nearest_mean', 'weighted_avg_dentist_nearest_mean', 'weighted_avg_doctors_nearest_mean', 'weighted_avg_hospital_nearest_mean', 'weighted_avg_optician_nearest_mean', 'weighted_avg_pharmacy_nearest_mean', 'weighted_avg_drinking_water_nearest_mean', 'weighted_avg_water_mill_nearest_mean', 'weighted_avg_water_tower_nearest_mean', 'weighted_avg_water_works_nearest_mean', 'weighted_avg_water_well_nearest_mean', 'weighted_avg_sanitary_dump_station_nearest_mean', 'weighted_avg_toilet_nearest_mean', 'weighted_avg_recycling_nearest_mean', 'weighted_avg_waste_basket_nearest_mean', 'weighted_avg_wastewater_plant_nearest_mean', 'weighted_avg_waste_transfer_station_nearest_mean', 'weighted_avg_osm_river_nearest_mean', 'weighted_avg_osm_stream_nearest_mean', 'weighted_avg_osm_canal_nearest_mean', 'weighted_avg_osm_drain_nearest_mean', 'weighted_avg_osm_wetland_nearest_mean', 'weighted_avg_osm_reservoir_nearest_mean', 'weighted_avg_osm_water_nearest_mean', 'weighted_avg_osm_riverbank_nearest_mean', 'weighted_avg_osm_dock_nearest_mean', 'pop_count_total', 'pop_density_per_m2', 'brgy_pop_count_mean', 'brgy_total_area_mean', 'avg_rad_min_mean', 'avg_rad_max_mean', 'avg_rad_mean_mean', 'avg_rad_std_mean', 'avg_rad_median_mean', 'doh_pois_count_sum', 'doh_pois_count_mean', 'doh_brgy_health_station_count_sum', 'doh_brgy_health_station_count_mean', 'doh_rural_health_unit_count_sum', 'doh_rural_health_unit_count_mean', 'doh_hospital_count_sum', 'doh_hospital_count_mean', 'doh_birthing_home_lying_in_clinic_count_sum', 'doh_birthing_home_lying_in_clinic_count_mean', 'doh_infirmary_count_sum', 'doh_infirmary_count_mean', 'doh_drug_abuse_treatment_rehabilitation_center_count_sum', 'doh_drug_abuse_treatment_rehabilitation_center_count_mean', 'doh_social_hygiene_clinic_count_sum', 'doh_social_hygiene_clinic_count_mean', 'doh_medical_clinic_count_sum', 'doh_medical_clinic_count_mean', 'weighted_avg_doh_brgy_health_station_nearest_mean', 'weighted_avg_doh_rural_health_unit_nearest_mean', 'weighted_avg_doh_hospital_nearest_mean', 'weighted_avg_doh_birthing_home_lying_in_clinic_nearest_mean', 'weighted_avg_doh_infirmary_nearest_mean', 'weighted_avg_doh_drug_abuse_treatment_rehabilitation_center_nearest_mean', 'weighted_avg_doh_social_hygiene_clinic_nearest_mean', 'weighted_avg_doh_medical_clinic_nearest_mean', 'pct_area_flood_hazard_100yr_low_mean', 'pct_area_flood_hazard_100yr_med_mean', 'pct_area_flood_hazard_100yr_high_mean', 'pct_area_flood_hazard_25yr_low_mean', 'pct_area_flood_hazard_25yr_med_mean', 'pct_area_flood_hazard_25yr_high_mean', 'pct_area_flood_hazard_5yr_low_mean', 'pct_area_flood_hazard_5yr_med_mean', 'pct_area_flood_hazard_5yr_high_mean', 'pct_area_landslide_hazard_low_mean', 'pct_area_landslide_hazard_med_mean', 'pct_area_landslide_hazard_high_mean', 'pct_area_bare_sparse_vegetation_mean', 'pct_area_builtup_mean', 'pct_area_cropland_mean', 'pct_area_grassland_mean', 'pct_area_herbaceous_wetland_mean', 'pct_area_mangroves_mean', 'pct_area_permanent_water_bodies_mean', 'pct_area_shrubland_mean', 'pct_area_tree_cover_mean', 'google_bldgs_count_sum', 'google_bldgs_count_mean', 'google_bldgs_area_total_sum', 'google_bldgs_area_total_mean', 'google_bldgs_area_mean_sum', 'google_bldgs_area_mean_mean', 'google_bldgs_count_lt100_sqm_sum', 'google_bldgs_count_lt100_sqm_mean', 'google_bldgs_count_100_200_sqm_sum', 'google_bldgs_count_100_200_sqm_mean', 'google_bldgs_count_gt_200_sqm_sum', 'google_bldgs_count_gt_200_sqm_mean', 'google_bldgs_density_sum', 'google_bldgs_density_mean', 'google_bldgs_pct_built_up_area_sum', 'google_bldgs_pct_built_up_area_mean', 'travel_time', 'hospital_pop_reached_total', 'hospital_pct_population_reached', 'healthcenter_pop_reached_total', 'healthcenter_pct_population_reached', 'rhu_pop_reached_total', 'rhu_pct_population_reached']\n"
     ]
    }
   ],
   "source": [
    "print(linked_data.columns.tolist())"
   ]
  },
  {
   "cell_type": "markdown",
   "metadata": {},
   "source": [
    "### 2. Inspect missing data"
   ]
  },
  {
   "cell_type": "code",
   "execution_count": 157,
   "metadata": {},
   "outputs": [
    {
     "name": "stdout",
     "output_type": "stream",
     "text": [
      "['Claims', 'Deaths', 'PNP_AVG_mean', 'PNP_MIN_mean', 'PNP_MAX_mean', 'PNP_STD_mean', 'WEIGHTED_AVG_PNP_mean', 'SPI3_AVG_mean', 'SPI3_MIN_mean', 'SPI3_MAX_mean', 'SPI3_STD_mean', 'WEIGHTED_AVG_SPI3_mean', 'SPI6_AVG_mean', 'SPI6_MIN_mean', 'SPI6_MAX_mean', 'SPI6_STD_mean', 'WEIGHTED_AVG_SPI6_mean']\n"
     ]
    }
   ],
   "source": [
    "print(linked_data.columns[linked_data.isnull().any()].tolist())"
   ]
  },
  {
   "cell_type": "markdown",
   "metadata": {},
   "source": [
    "> to remove this part after we get generated dataset from linked notebook\n",
    "\n",
    "### 3. Remove columns that could cause the model confusion"
   ]
  },
  {
   "cell_type": "code",
   "execution_count": 158,
   "metadata": {},
   "outputs": [],
   "source": [
    "# remove ookla for now\n",
    "filtered_linked_df = linked_data.drop(\n",
    "    columns=[\n",
    "        \"Source\",\n",
    "        \"year\",\n",
    "        \"Month\",\n",
    "        \"Week\",\n",
    "        \"Region\",\n",
    "        \"PSGC_Region\",\n",
    "        \"Municipality\",\n",
    "        \"ICD\",\n",
    "        \"Disease\",\n",
    "        \"Claims\",\n",
    "        \"Deaths\",\n",
    "        \"Case_Type\",\n",
    "        \"Date_Type\",\n",
    "        \"outbreak_group\",\n",
    "        # remove climate features with nulls\n",
    "        \"PNP_AVG_mean\",\n",
    "        \"PNP_MIN_mean\",\n",
    "        \"PNP_MAX_mean\",\n",
    "        \"PNP_STD_mean\",\n",
    "        \"WEIGHTED_AVG_PNP_mean\",\n",
    "        \"SPI3_AVG_mean\",\n",
    "        \"SPI3_MIN_mean\",\n",
    "        \"SPI3_MAX_mean\",\n",
    "        \"SPI3_STD_mean\",\n",
    "        \"WEIGHTED_AVG_SPI3_mean\",\n",
    "        \"SPI6_AVG_mean\",\n",
    "        \"SPI6_MIN_mean\",\n",
    "        \"SPI6_MAX_mean\",\n",
    "        \"SPI6_STD_mean\",\n",
    "        \"WEIGHTED_AVG_SPI6_mean\",\n",
    "        # remove static columns\n",
    "        # health facility POIs that are static\n",
    "        \"doh_pois_count_sum\",\n",
    "        \"doh_pois_count_mean\",\n",
    "        \"doh_brgy_health_station_count_sum\",\n",
    "        \"doh_brgy_health_station_count_mean\",\n",
    "        \"doh_rural_health_unit_count_sum\",\n",
    "        \"doh_rural_health_unit_count_mean\",\n",
    "        \"doh_hospital_count_sum\",\n",
    "        \"doh_hospital_count_mean\",\n",
    "        \"doh_birthing_home_lying_in_clinic_count_sum\",\n",
    "        \"doh_birthing_home_lying_in_clinic_count_mean\",\n",
    "        \"doh_infirmary_count_sum\",\n",
    "        \"doh_infirmary_count_mean\",\n",
    "        \"doh_drug_abuse_treatment_rehabilitation_center_count_sum\",\n",
    "        \"doh_drug_abuse_treatment_rehabilitation_center_count_mean\",\n",
    "        \"doh_social_hygiene_clinic_count_sum\",\n",
    "        \"doh_social_hygiene_clinic_count_mean\",\n",
    "        \"doh_medical_clinic_count_sum\",\n",
    "        \"doh_medical_clinic_count_mean\",\n",
    "        \"weighted_avg_doh_brgy_health_station_nearest_mean\",\n",
    "        \"weighted_avg_doh_rural_health_unit_nearest_mean\",\n",
    "        \"weighted_avg_doh_hospital_nearest_mean\",\n",
    "        \"weighted_avg_doh_birthing_home_lying_in_clinic_nearest_mean\",\n",
    "        \"weighted_avg_doh_infirmary_nearest_mean\",\n",
    "        \"weighted_avg_doh_drug_abuse_treatment_rehabilitation_center_nearest_mean\",\n",
    "        \"weighted_avg_doh_social_hygiene_clinic_nearest_mean\",\n",
    "        \"weighted_avg_doh_medical_clinic_nearest_mean\",\n",
    "        # static flood hazard features\n",
    "        \"pct_area_flood_hazard_100yr_low_mean\",\n",
    "        \"pct_area_flood_hazard_100yr_med_mean\",\n",
    "        \"pct_area_flood_hazard_100yr_high_mean\",\n",
    "        \"pct_area_flood_hazard_25yr_low_mean\",\n",
    "        \"pct_area_flood_hazard_25yr_med_mean\",\n",
    "        \"pct_area_flood_hazard_25yr_high_mean\",\n",
    "        \"pct_area_flood_hazard_5yr_low_mean\",\n",
    "        \"pct_area_flood_hazard_5yr_med_mean\",\n",
    "        \"pct_area_flood_hazard_5yr_high_mean\",\n",
    "        \"pct_area_landslide_hazard_low_mean\",\n",
    "        \"pct_area_landslide_hazard_med_mean\",\n",
    "        \"pct_area_landslide_hazard_high_mean\",\n",
    "        # static landcover features\n",
    "        \"pct_area_bare_sparse_vegetation_mean\",\n",
    "        \"pct_area_builtup_mean\",\n",
    "        \"pct_area_cropland_mean\",\n",
    "        \"pct_area_grassland_mean\",\n",
    "        \"pct_area_herbaceous_wetland_mean\",\n",
    "        \"pct_area_mangroves_mean\",\n",
    "        \"pct_area_permanent_water_bodies_mean\",\n",
    "        \"pct_area_shrubland_mean\",\n",
    "        \"pct_area_tree_cover_mean\",\n",
    "        # static infrastructure features\n",
    "        \"google_bldgs_count_sum\",\n",
    "        \"google_bldgs_count_mean\",\n",
    "        \"google_bldgs_area_total_sum\",\n",
    "        \"google_bldgs_area_total_mean\",\n",
    "        \"google_bldgs_area_mean_sum\",\n",
    "        \"google_bldgs_area_mean_mean\",\n",
    "        \"google_bldgs_count_lt100_sqm_sum\",\n",
    "        \"google_bldgs_count_lt100_sqm_mean\",\n",
    "        \"google_bldgs_count_100_200_sqm_sum\",\n",
    "        \"google_bldgs_count_100_200_sqm_mean\",\n",
    "        \"google_bldgs_count_gt_200_sqm_sum\",\n",
    "        \"google_bldgs_count_gt_200_sqm_mean\",\n",
    "        \"google_bldgs_density_sum\",\n",
    "        \"google_bldgs_density_mean\",\n",
    "        \"google_bldgs_pct_built_up_area_sum\",\n",
    "        \"google_bldgs_pct_built_up_area_mean\",\n",
    "        # static isochrone features\n",
    "        \"travel_time\",\n",
    "        \"hospital_pop_reached_total\",\n",
    "        \"hospital_pct_population_reached\",\n",
    "        \"healthcenter_pop_reached_total\",\n",
    "        \"healthcenter_pct_population_reached\",\n",
    "        \"rhu_pop_reached_total\",\n",
    "        \"rhu_pct_population_reached\",\n",
    "    ]\n",
    ")"
   ]
  },
  {
   "cell_type": "markdown",
   "metadata": {},
   "source": [
    "> to remove this part after we get generated dataset from linked notebook\n",
    "\n",
    "### 4. Handle rows with null values\n",
    "\n",
    "- Replace null values for `Nightlight` features with 0"
   ]
  },
  {
   "cell_type": "code",
   "execution_count": 159,
   "metadata": {},
   "outputs": [],
   "source": [
    "ntl_features = [\n",
    "    \"avg_rad_min_mean\",\n",
    "    \"avg_rad_max_mean\",\n",
    "    \"avg_rad_mean_mean\",\n",
    "    \"avg_rad_std_mean\",\n",
    "    \"avg_rad_median_mean\",\n",
    "]\n",
    "filtered_linked_df[ntl_features] = filtered_linked_df[ntl_features].fillna(0)"
   ]
  },
  {
   "cell_type": "markdown",
   "metadata": {},
   "source": [
    "### 5. Create outbreak label\n",
    "\n",
    "We will now create another column indicating if that week is an outbreak week or not based on the number of cases. This is an important prerequisite step for our modeling. For this demonstration, we define an outbreak as follows:\n",
    "\n",
    "1. The **start** of an outbreak occurs when the week's cases equal to or higher than a threshold. \n",
    "\n",
    "    - The **threshold** is defined as the 75th percentile of weekly cases based on years when a substantial number of cases are recorded. \n",
    "\n",
    "2. The **end** of an outbreak occurs during the week when cases fall below the threshold for at least 2 weeks.\n",
    "\n",
    "We use this definition to create column `outbreak` containing 1 if the week is classified as an outbreak, and 0 if its a non-outbreak."
   ]
  },
  {
   "cell_type": "code",
   "execution_count": null,
   "metadata": {},
   "outputs": [],
   "source": [
    "## Add code here\n",
    "\n",
    "# get substantial years with high number of cases recorded\n",
    "agg_year = linked_data.groupby([\"Year\"])[\"Cases\"].sum().reset_index(name=\"Cases\")\n",
    "agg_year.linked_data(\"Cases\", ascending=False)"
   ]
  },
  {
   "cell_type": "markdown",
   "metadata": {},
   "source": [
    "After getting the years with the highest number of cases recorded, we will temporarily subset the data and get the distribution of the throughout those years only. Use the `.describe()` function to see the percentiles."
   ]
  },
  {
   "cell_type": "code",
   "execution_count": null,
   "metadata": {},
   "outputs": [],
   "source": [
    "top_years_list = [\n",
    "    2011.0,\n",
    "    2012.0,\n",
    "    2013.0,\n",
    "    2017.0,\n",
    "    2018.0,\n",
    "    2019.0,\n",
    "    2020.0,\n",
    "    2021.0,\n",
    "    2022.0,\n",
    "]\n",
    "subset_zamb = linked_data[linked_data[\"Year\"].isin(top_years_list)]\n",
    "subset_zamb[\"Cases\"].describe()"
   ]
  },
  {
   "cell_type": "markdown",
   "metadata": {},
   "source": [
    "Update the `OUTBREAK_THRESHOLD` to serve as the marker whether a week will be tagged as an outbreak or not."
   ]
  },
  {
   "cell_type": "code",
   "execution_count": null,
   "metadata": {},
   "outputs": [],
   "source": [
    "# Edit this value to your identified threshold\n",
    "# Set your threshold value\n",
    "OUTBREAK_THRESHOLD = 44"
   ]
  },
  {
   "cell_type": "markdown",
   "metadata": {},
   "source": [
    "After running the step below, you should be able to see an additional column `outbreak` at the rightmost part of the table containing 0s and 1s. This means that the health data has been labeled and now prepared for modeling."
   ]
  },
  {
   "cell_type": "code",
   "execution_count": null,
   "metadata": {},
   "outputs": [],
   "source": [
    "# Create a new column 'outbreak' initialized with zeros\n",
    "linked_data[\"outbreak\"] = 0\n",
    "\n",
    "# Track weeks satisfying the threshold, and count consecutive outbreak weeks\n",
    "consecutive_weeks_below_threshold = 0\n",
    "previous_outbreak = False\n",
    "\n",
    "for index, row in linked_data.iterrows():\n",
    "    if row[\"Cases\"] > OUTBREAK_THRESHOLD:\n",
    "        consecutive_weeks_below_threshold = 0\n",
    "        previous_outbreak = True\n",
    "        linked_data.at[index, \"outbreak\"] = 1\n",
    "    else:\n",
    "        # check if previous week was an outbreak\n",
    "        # if yes, continue to tag current week as outbreak\n",
    "        # part of observation period\n",
    "        if previous_outbreak and consecutive_weeks_below_threshold < 2:\n",
    "            linked_data.at[index, \"outbreak\"] = 1\n",
    "            consecutive_weeks_below_threshold += 1\n",
    "        elif consecutive_weeks_below_threshold == 2:\n",
    "            linked_data.at[index, \"outbreak\"] = 0\n",
    "            previous_outbreak = False\n",
    "        else:\n",
    "            linked_data.at[index, \"outbreak\"] = 0"
   ]
  },
  {
   "cell_type": "code",
   "execution_count": null,
   "metadata": {},
   "outputs": [],
   "source": [
    "# view data\n",
    "linked_data.head()"
   ]
  },
  {
   "cell_type": "markdown",
   "metadata": {},
   "source": [
    "### 5. Create lagged features for `Cases`\n",
    "\n",
    "Adding previous week's cases as features may help enhance the model's capability in predicting future cases. \n",
    "\n",
    "You can try experimenting with the lagged features by adding or removing them. "
   ]
  },
  {
   "cell_type": "code",
   "execution_count": 160,
   "metadata": {},
   "outputs": [
    {
     "data": {
      "text/plain": [
       "(364, 159)"
      ]
     },
     "execution_count": 160,
     "metadata": {},
     "output_type": "execute_result"
    }
   ],
   "source": [
    "# Group by barangay and return the date of the previous number of cases\n",
    "filtered_linked_df = filtered_linked_df.assign(\n",
    "    prev_1_wk_numcases=filtered_linked_df[\"Cases\"].shift(\n",
    "        1, fill_value=0\n",
    "    ),  # cases a week before\n",
    "    prev_2_wk_numcases=filtered_linked_df[\"Cases\"].shift(\n",
    "        2, fill_value=0\n",
    "    ),  # cases 2 weeks before\n",
    "    prev_3_wk_numcases=filtered_linked_df[\"Cases\"].shift(\n",
    "        3, fill_value=0\n",
    "    ),  # cases 3 weeks before\n",
    "    prev_1_mo_numcases=filtered_linked_df[\"Cases\"].shift(\n",
    "        4, fill_value=0\n",
    "    ),  # cases 1 month before\n",
    ")\n",
    "filtered_linked_df.shape"
   ]
  },
  {
   "cell_type": "code",
   "execution_count": 161,
   "metadata": {},
   "outputs": [
    {
     "name": "stdout",
     "output_type": "stream",
     "text": [
      "['Date', 'ADM3_PCODE', 'Cases', 'outbreak', 'CO_AVG_mean', 'CO_MIN_mean', 'CO_MAX_mean', 'CO_STD_mean', 'WEIGHTED_AVG_CO_mean', 'HI_AVG_mean', 'HI_MIN_mean', 'HI_MAX_mean', 'HI_STD_mean', 'WEIGHTED_AVG_HI_mean', 'NDVI_AVG_mean', 'NDVI_MIN_mean', 'NDVI_MAX_mean', 'NDVI_STD_mean', 'WEIGHTED_AVG_NDVI_mean', 'NO2_AVG_mean', 'NO2_MIN_mean', 'NO2_MAX_mean', 'NO2_STD_mean', 'WEIGHTED_AVG_NO2_mean', 'O3_AVG_mean', 'O3_MIN_mean', 'O3_MAX_mean', 'O3_STD_mean', 'WEIGHTED_AVG_O3_mean', 'PM10_AVG_mean', 'PM10_MIN_mean', 'PM10_MAX_mean', 'PM10_STD_mean', 'WEIGHTED_AVG_PM10_mean', 'PM25_AVG_mean', 'PM25_MIN_mean', 'PM25_MAX_mean', 'PM25_STD_mean', 'WEIGHTED_AVG_PM25_mean', 'PR_AVG_mean', 'PR_MIN_mean', 'PR_MAX_mean', 'PR_STD_mean', 'WEIGHTED_AVG_PR_mean', 'RH_AVG_mean', 'RH_MIN_mean', 'RH_MAX_mean', 'RH_STD_mean', 'WEIGHTED_AVG_RH_mean', 'SO2_AVG_mean', 'SO2_MIN_mean', 'SO2_MAX_mean', 'SO2_STD_mean', 'WEIGHTED_AVG_SO2_mean', 'SR_AVG_mean', 'SR_MIN_mean', 'SR_MAX_mean', 'SR_STD_mean', 'WEIGHTED_AVG_SR_mean', 'Tave_AVG_mean', 'Tave_MIN_mean', 'Tave_MAX_mean', 'Tave_STD_mean', 'WEIGHTED_AVG_Tave_mean', 'Tmax_AVG_mean', 'Tmax_MIN_mean', 'Tmax_MAX_mean', 'Tmax_STD_mean', 'WEIGHTED_AVG_Tmax_mean', 'Tmin_AVG_mean', 'Tmin_MIN_mean', 'Tmin_MAX_mean', 'Tmin_STD_mean', 'WEIGHTED_AVG_Tmin_mean', 'UVR_AVG_mean', 'UVR_MIN_mean', 'UVR_MAX_mean', 'UVR_STD_mean', 'WEIGHTED_AVG_UVR_mean', 'WS_AVG_mean', 'WS_MIN_mean', 'WS_MAX_mean', 'WS_STD_mean', 'WEIGHTED_AVG_WS_mean', 'poi_count_sum', 'poi_count_mean', 'clinic_count_sum', 'clinic_count_mean', 'dentist_count_sum', 'dentist_count_mean', 'doctors_count_sum', 'doctors_count_mean', 'hospital_count_sum', 'hospital_count_mean', 'optician_count_sum', 'optician_count_mean', 'pharmacy_count_sum', 'pharmacy_count_mean', 'drinking_water_count_sum', 'drinking_water_count_mean', 'water_mill_count_sum', 'water_mill_count_mean', 'water_tower_count_sum', 'water_tower_count_mean', 'water_works_count_sum', 'water_works_count_mean', 'water_well_count_sum', 'water_well_count_mean', 'sanitary_dump_station_count_sum', 'sanitary_dump_station_count_mean', 'toilet_count_sum', 'toilet_count_mean', 'recycling_count_sum', 'recycling_count_mean', 'waste_basket_count_sum', 'waste_basket_count_mean', 'wastewater_plant_count_sum', 'wastewater_plant_count_mean', 'waste_transfer_station_count_sum', 'waste_transfer_station_count_mean', 'weighted_avg_clinic_nearest_mean', 'weighted_avg_dentist_nearest_mean', 'weighted_avg_doctors_nearest_mean', 'weighted_avg_hospital_nearest_mean', 'weighted_avg_optician_nearest_mean', 'weighted_avg_pharmacy_nearest_mean', 'weighted_avg_drinking_water_nearest_mean', 'weighted_avg_water_mill_nearest_mean', 'weighted_avg_water_tower_nearest_mean', 'weighted_avg_water_works_nearest_mean', 'weighted_avg_water_well_nearest_mean', 'weighted_avg_sanitary_dump_station_nearest_mean', 'weighted_avg_toilet_nearest_mean', 'weighted_avg_recycling_nearest_mean', 'weighted_avg_waste_basket_nearest_mean', 'weighted_avg_wastewater_plant_nearest_mean', 'weighted_avg_waste_transfer_station_nearest_mean', 'weighted_avg_osm_river_nearest_mean', 'weighted_avg_osm_stream_nearest_mean', 'weighted_avg_osm_canal_nearest_mean', 'weighted_avg_osm_drain_nearest_mean', 'weighted_avg_osm_wetland_nearest_mean', 'weighted_avg_osm_reservoir_nearest_mean', 'weighted_avg_osm_water_nearest_mean', 'weighted_avg_osm_riverbank_nearest_mean', 'weighted_avg_osm_dock_nearest_mean', 'pop_count_total', 'pop_density_per_m2', 'brgy_pop_count_mean', 'brgy_total_area_mean', 'avg_rad_min_mean', 'avg_rad_max_mean', 'avg_rad_mean_mean', 'avg_rad_std_mean', 'avg_rad_median_mean', 'prev_1_wk_numcases', 'prev_2_wk_numcases', 'prev_3_wk_numcases', 'prev_1_mo_numcases']\n"
     ]
    }
   ],
   "source": [
    "# print out final columns\n",
    "print(list(filtered_linked_df.columns))"
   ]
  },
  {
   "cell_type": "code",
   "execution_count": 162,
   "metadata": {},
   "outputs": [
    {
     "data": {
      "text/html": [
       "<div>\n",
       "<style scoped>\n",
       "    .dataframe tbody tr th:only-of-type {\n",
       "        vertical-align: middle;\n",
       "    }\n",
       "\n",
       "    .dataframe tbody tr th {\n",
       "        vertical-align: top;\n",
       "    }\n",
       "\n",
       "    .dataframe thead th {\n",
       "        text-align: right;\n",
       "    }\n",
       "</style>\n",
       "<table border=\"1\" class=\"dataframe\">\n",
       "  <thead>\n",
       "    <tr style=\"text-align: right;\">\n",
       "      <th></th>\n",
       "      <th>Date</th>\n",
       "      <th>ADM3_PCODE</th>\n",
       "      <th>Cases</th>\n",
       "      <th>outbreak</th>\n",
       "      <th>CO_AVG_mean</th>\n",
       "      <th>CO_MIN_mean</th>\n",
       "      <th>CO_MAX_mean</th>\n",
       "      <th>CO_STD_mean</th>\n",
       "      <th>WEIGHTED_AVG_CO_mean</th>\n",
       "      <th>HI_AVG_mean</th>\n",
       "      <th>...</th>\n",
       "      <th>brgy_total_area_mean</th>\n",
       "      <th>avg_rad_min_mean</th>\n",
       "      <th>avg_rad_max_mean</th>\n",
       "      <th>avg_rad_mean_mean</th>\n",
       "      <th>avg_rad_std_mean</th>\n",
       "      <th>avg_rad_median_mean</th>\n",
       "      <th>prev_1_wk_numcases</th>\n",
       "      <th>prev_2_wk_numcases</th>\n",
       "      <th>prev_3_wk_numcases</th>\n",
       "      <th>prev_1_mo_numcases</th>\n",
       "    </tr>\n",
       "  </thead>\n",
       "  <tbody>\n",
       "    <tr>\n",
       "      <th>312</th>\n",
       "      <td>2014-01-06</td>\n",
       "      <td>PH097332000</td>\n",
       "      <td>0.0</td>\n",
       "      <td>0</td>\n",
       "      <td>0.071684</td>\n",
       "      <td>0.061561</td>\n",
       "      <td>0.081937</td>\n",
       "      <td>0.007905</td>\n",
       "      <td>0.071684</td>\n",
       "      <td>27.839929</td>\n",
       "      <td>...</td>\n",
       "      <td>1.515541e+07</td>\n",
       "      <td>1.738257</td>\n",
       "      <td>5.266028</td>\n",
       "      <td>2.946094</td>\n",
       "      <td>1.036254</td>\n",
       "      <td>2.805252</td>\n",
       "      <td>0.0</td>\n",
       "      <td>0.0</td>\n",
       "      <td>0.0</td>\n",
       "      <td>0.0</td>\n",
       "    </tr>\n",
       "    <tr>\n",
       "      <th>313</th>\n",
       "      <td>2014-01-06</td>\n",
       "      <td>PH097332000</td>\n",
       "      <td>0.0</td>\n",
       "      <td>0</td>\n",
       "      <td>0.071684</td>\n",
       "      <td>0.061561</td>\n",
       "      <td>0.081937</td>\n",
       "      <td>0.007905</td>\n",
       "      <td>0.071684</td>\n",
       "      <td>27.839929</td>\n",
       "      <td>...</td>\n",
       "      <td>1.515541e+07</td>\n",
       "      <td>1.738257</td>\n",
       "      <td>5.266028</td>\n",
       "      <td>2.946094</td>\n",
       "      <td>1.036254</td>\n",
       "      <td>2.805252</td>\n",
       "      <td>0.0</td>\n",
       "      <td>0.0</td>\n",
       "      <td>0.0</td>\n",
       "      <td>0.0</td>\n",
       "    </tr>\n",
       "    <tr>\n",
       "      <th>314</th>\n",
       "      <td>2014-01-13</td>\n",
       "      <td>PH097332000</td>\n",
       "      <td>0.0</td>\n",
       "      <td>0</td>\n",
       "      <td>0.080858</td>\n",
       "      <td>0.069232</td>\n",
       "      <td>0.093571</td>\n",
       "      <td>0.008738</td>\n",
       "      <td>0.080858</td>\n",
       "      <td>26.511542</td>\n",
       "      <td>...</td>\n",
       "      <td>1.515541e+07</td>\n",
       "      <td>1.738257</td>\n",
       "      <td>5.266028</td>\n",
       "      <td>2.946094</td>\n",
       "      <td>1.036254</td>\n",
       "      <td>2.805252</td>\n",
       "      <td>0.0</td>\n",
       "      <td>0.0</td>\n",
       "      <td>0.0</td>\n",
       "      <td>0.0</td>\n",
       "    </tr>\n",
       "    <tr>\n",
       "      <th>315</th>\n",
       "      <td>2014-01-20</td>\n",
       "      <td>PH097332000</td>\n",
       "      <td>0.0</td>\n",
       "      <td>0</td>\n",
       "      <td>0.081604</td>\n",
       "      <td>0.075696</td>\n",
       "      <td>0.091231</td>\n",
       "      <td>0.005616</td>\n",
       "      <td>0.081604</td>\n",
       "      <td>26.305700</td>\n",
       "      <td>...</td>\n",
       "      <td>1.515541e+07</td>\n",
       "      <td>1.738257</td>\n",
       "      <td>5.266028</td>\n",
       "      <td>2.946094</td>\n",
       "      <td>1.036254</td>\n",
       "      <td>2.805252</td>\n",
       "      <td>0.0</td>\n",
       "      <td>0.0</td>\n",
       "      <td>0.0</td>\n",
       "      <td>0.0</td>\n",
       "    </tr>\n",
       "    <tr>\n",
       "      <th>316</th>\n",
       "      <td>2014-01-27</td>\n",
       "      <td>PH097332000</td>\n",
       "      <td>0.0</td>\n",
       "      <td>0</td>\n",
       "      <td>0.074839</td>\n",
       "      <td>0.071346</td>\n",
       "      <td>0.081812</td>\n",
       "      <td>0.004384</td>\n",
       "      <td>0.074839</td>\n",
       "      <td>26.145516</td>\n",
       "      <td>...</td>\n",
       "      <td>1.515541e+07</td>\n",
       "      <td>1.738257</td>\n",
       "      <td>5.266028</td>\n",
       "      <td>2.946094</td>\n",
       "      <td>1.036254</td>\n",
       "      <td>2.805252</td>\n",
       "      <td>0.0</td>\n",
       "      <td>0.0</td>\n",
       "      <td>0.0</td>\n",
       "      <td>0.0</td>\n",
       "    </tr>\n",
       "  </tbody>\n",
       "</table>\n",
       "<p>5 rows × 159 columns</p>\n",
       "</div>"
      ],
      "text/plain": [
       "          Date   ADM3_PCODE  Cases  outbreak  CO_AVG_mean  CO_MIN_mean  \\\n",
       "312 2014-01-06  PH097332000    0.0         0     0.071684     0.061561   \n",
       "313 2014-01-06  PH097332000    0.0         0     0.071684     0.061561   \n",
       "314 2014-01-13  PH097332000    0.0         0     0.080858     0.069232   \n",
       "315 2014-01-20  PH097332000    0.0         0     0.081604     0.075696   \n",
       "316 2014-01-27  PH097332000    0.0         0     0.074839     0.071346   \n",
       "\n",
       "     CO_MAX_mean  CO_STD_mean  WEIGHTED_AVG_CO_mean  HI_AVG_mean  ...  \\\n",
       "312     0.081937     0.007905              0.071684    27.839929  ...   \n",
       "313     0.081937     0.007905              0.071684    27.839929  ...   \n",
       "314     0.093571     0.008738              0.080858    26.511542  ...   \n",
       "315     0.091231     0.005616              0.081604    26.305700  ...   \n",
       "316     0.081812     0.004384              0.074839    26.145516  ...   \n",
       "\n",
       "     brgy_total_area_mean  avg_rad_min_mean  avg_rad_max_mean  \\\n",
       "312          1.515541e+07          1.738257          5.266028   \n",
       "313          1.515541e+07          1.738257          5.266028   \n",
       "314          1.515541e+07          1.738257          5.266028   \n",
       "315          1.515541e+07          1.738257          5.266028   \n",
       "316          1.515541e+07          1.738257          5.266028   \n",
       "\n",
       "     avg_rad_mean_mean  avg_rad_std_mean  avg_rad_median_mean  \\\n",
       "312           2.946094          1.036254             2.805252   \n",
       "313           2.946094          1.036254             2.805252   \n",
       "314           2.946094          1.036254             2.805252   \n",
       "315           2.946094          1.036254             2.805252   \n",
       "316           2.946094          1.036254             2.805252   \n",
       "\n",
       "     prev_1_wk_numcases  prev_2_wk_numcases  prev_3_wk_numcases  \\\n",
       "312                 0.0                 0.0                 0.0   \n",
       "313                 0.0                 0.0                 0.0   \n",
       "314                 0.0                 0.0                 0.0   \n",
       "315                 0.0                 0.0                 0.0   \n",
       "316                 0.0                 0.0                 0.0   \n",
       "\n",
       "     prev_1_mo_numcases  \n",
       "312                 0.0  \n",
       "313                 0.0  \n",
       "314                 0.0  \n",
       "315                 0.0  \n",
       "316                 0.0  \n",
       "\n",
       "[5 rows x 159 columns]"
      ]
     },
     "execution_count": 162,
     "metadata": {},
     "output_type": "execute_result"
    }
   ],
   "source": [
    "filtered_linked_df.head()"
   ]
  },
  {
   "cell_type": "markdown",
   "metadata": {},
   "source": [
    "## Setup model training "
   ]
  },
  {
   "cell_type": "markdown",
   "metadata": {},
   "source": [
    "### 1. Split to train-test set\n",
    "\n",
    "We use `TimeSeriesSplit` to properly cross-validate the model. "
   ]
  },
  {
   "cell_type": "code",
   "execution_count": 163,
   "metadata": {},
   "outputs": [],
   "source": [
    "filtered_linked_df = filtered_linked_df.set_index(\"Date\")"
   ]
  },
  {
   "cell_type": "code",
   "execution_count": 164,
   "metadata": {},
   "outputs": [],
   "source": [
    "# split features and target label\n",
    "X = filtered_linked_df.drop(labels=[\"outbreak\"], axis=1)\n",
    "y = filtered_linked_df[\"outbreak\"]"
   ]
  },
  {
   "cell_type": "code",
   "execution_count": 165,
   "metadata": {},
   "outputs": [],
   "source": [
    "tss = TimeSeriesSplit(n_splits=3)\n",
    "for train_index, test_index in tss.split(X):\n",
    "    X_train, X_test = X.iloc[train_index, :], X.iloc[test_index, :]\n",
    "    y_train, y_test = y.iloc[train_index], y.iloc[test_index]"
   ]
  },
  {
   "cell_type": "code",
   "execution_count": 166,
   "metadata": {},
   "outputs": [],
   "source": [
    "# set these aside to link back later to the predictions for analysis\n",
    "brgy_tests = X_test[\"ADM3_PCODE\"]\n",
    "numcases_test = X_test[\"Cases\"]\n",
    "\n",
    "# drop the columns above\n",
    "X_train = X_train.drop(columns=[\"ADM3_PCODE\", \"Cases\"])\n",
    "X_test = X_test.drop(columns=[\"ADM3_PCODE\", \"Cases\"])"
   ]
  },
  {
   "cell_type": "markdown",
   "metadata": {},
   "source": [
    "### 2. Check train and test split\n",
    "\n",
    "Check the exact lengths of the train-test split. For our use case, having a test set consisting of a year and 6 months is enough. This may be changed depending on the disease chosen.\n",
    "\n",
    "You may experiment the splits by changing the `n_splits` parameter in the TimeSeriesSplit step above. Increasing the `n_splits` would give a narrower time period for the test set."
   ]
  },
  {
   "cell_type": "code",
   "execution_count": 167,
   "metadata": {},
   "outputs": [
    {
     "data": {
      "text/plain": [
       "(273, 91)"
      ]
     },
     "execution_count": 167,
     "metadata": {},
     "output_type": "execute_result"
    }
   ],
   "source": [
    "len(X_train), len(X_test)"
   ]
  },
  {
   "cell_type": "code",
   "execution_count": 168,
   "metadata": {},
   "outputs": [
    {
     "data": {
      "text/plain": [
       "(Timestamp('2014-01-06 00:00:00'), Timestamp('2019-03-25 00:00:00'))"
      ]
     },
     "execution_count": 168,
     "metadata": {},
     "output_type": "execute_result"
    }
   ],
   "source": [
    "# training data date coverage\n",
    "X_train.index.min(), X_train.index.max()"
   ]
  },
  {
   "cell_type": "code",
   "execution_count": 169,
   "metadata": {},
   "outputs": [
    {
     "data": {
      "text/plain": [
       "(Timestamp('2019-04-01 00:00:00'), Timestamp('2020-12-21 00:00:00'))"
      ]
     },
     "execution_count": 169,
     "metadata": {},
     "output_type": "execute_result"
    }
   ],
   "source": [
    "# testing data date coverage\n",
    "X_test.index.min(), X_test.index.max()"
   ]
  },
  {
   "cell_type": "markdown",
   "metadata": {},
   "source": [
    "## Train a RandomForest Classifier"
   ]
  },
  {
   "cell_type": "markdown",
   "metadata": {},
   "source": [
    "### 1. Optimize model parameters using `GridSearchCV`"
   ]
  },
  {
   "cell_type": "code",
   "execution_count": 170,
   "metadata": {},
   "outputs": [],
   "source": [
    "# Define model and parameter space to optimize\n",
    "classifier = RandomForestClassifier(random_state=42)\n",
    "\n",
    "param_grid = {\n",
    "    \"n_estimators\": [50, 100, 200, 300, 500],\n",
    "    \"max_depth\": [None, 5, 10, 15, 20],\n",
    "}"
   ]
  },
  {
   "cell_type": "code",
   "execution_count": 171,
   "metadata": {},
   "outputs": [
    {
     "name": "stdout",
     "output_type": "stream",
     "text": [
      "Fitting 5 folds for each of 25 candidates, totalling 125 fits\n"
     ]
    },
    {
     "data": {
      "text/html": [
       "<style>#sk-container-id-4 {color: black;background-color: white;}#sk-container-id-4 pre{padding: 0;}#sk-container-id-4 div.sk-toggleable {background-color: white;}#sk-container-id-4 label.sk-toggleable__label {cursor: pointer;display: block;width: 100%;margin-bottom: 0;padding: 0.3em;box-sizing: border-box;text-align: center;}#sk-container-id-4 label.sk-toggleable__label-arrow:before {content: \"▸\";float: left;margin-right: 0.25em;color: #696969;}#sk-container-id-4 label.sk-toggleable__label-arrow:hover:before {color: black;}#sk-container-id-4 div.sk-estimator:hover label.sk-toggleable__label-arrow:before {color: black;}#sk-container-id-4 div.sk-toggleable__content {max-height: 0;max-width: 0;overflow: hidden;text-align: left;background-color: #f0f8ff;}#sk-container-id-4 div.sk-toggleable__content pre {margin: 0.2em;color: black;border-radius: 0.25em;background-color: #f0f8ff;}#sk-container-id-4 input.sk-toggleable__control:checked~div.sk-toggleable__content {max-height: 200px;max-width: 100%;overflow: auto;}#sk-container-id-4 input.sk-toggleable__control:checked~label.sk-toggleable__label-arrow:before {content: \"▾\";}#sk-container-id-4 div.sk-estimator input.sk-toggleable__control:checked~label.sk-toggleable__label {background-color: #d4ebff;}#sk-container-id-4 div.sk-label input.sk-toggleable__control:checked~label.sk-toggleable__label {background-color: #d4ebff;}#sk-container-id-4 input.sk-hidden--visually {border: 0;clip: rect(1px 1px 1px 1px);clip: rect(1px, 1px, 1px, 1px);height: 1px;margin: -1px;overflow: hidden;padding: 0;position: absolute;width: 1px;}#sk-container-id-4 div.sk-estimator {font-family: monospace;background-color: #f0f8ff;border: 1px dotted black;border-radius: 0.25em;box-sizing: border-box;margin-bottom: 0.5em;}#sk-container-id-4 div.sk-estimator:hover {background-color: #d4ebff;}#sk-container-id-4 div.sk-parallel-item::after {content: \"\";width: 100%;border-bottom: 1px solid gray;flex-grow: 1;}#sk-container-id-4 div.sk-label:hover label.sk-toggleable__label {background-color: #d4ebff;}#sk-container-id-4 div.sk-serial::before {content: \"\";position: absolute;border-left: 1px solid gray;box-sizing: border-box;top: 0;bottom: 0;left: 50%;z-index: 0;}#sk-container-id-4 div.sk-serial {display: flex;flex-direction: column;align-items: center;background-color: white;padding-right: 0.2em;padding-left: 0.2em;position: relative;}#sk-container-id-4 div.sk-item {position: relative;z-index: 1;}#sk-container-id-4 div.sk-parallel {display: flex;align-items: stretch;justify-content: center;background-color: white;position: relative;}#sk-container-id-4 div.sk-item::before, #sk-container-id-4 div.sk-parallel-item::before {content: \"\";position: absolute;border-left: 1px solid gray;box-sizing: border-box;top: 0;bottom: 0;left: 50%;z-index: -1;}#sk-container-id-4 div.sk-parallel-item {display: flex;flex-direction: column;z-index: 1;position: relative;background-color: white;}#sk-container-id-4 div.sk-parallel-item:first-child::after {align-self: flex-end;width: 50%;}#sk-container-id-4 div.sk-parallel-item:last-child::after {align-self: flex-start;width: 50%;}#sk-container-id-4 div.sk-parallel-item:only-child::after {width: 0;}#sk-container-id-4 div.sk-dashed-wrapped {border: 1px dashed gray;margin: 0 0.4em 0.5em 0.4em;box-sizing: border-box;padding-bottom: 0.4em;background-color: white;}#sk-container-id-4 div.sk-label label {font-family: monospace;font-weight: bold;display: inline-block;line-height: 1.2em;}#sk-container-id-4 div.sk-label-container {text-align: center;}#sk-container-id-4 div.sk-container {/* jupyter's `normalize.less` sets `[hidden] { display: none; }` but bootstrap.min.css set `[hidden] { display: none !important; }` so we also need the `!important` here to be able to override the default hidden behavior on the sphinx rendered scikit-learn.org. See: https://github.com/scikit-learn/scikit-learn/issues/21755 */display: inline-block !important;position: relative;}#sk-container-id-4 div.sk-text-repr-fallback {display: none;}</style><div id=\"sk-container-id-4\" class=\"sk-top-container\"><div class=\"sk-text-repr-fallback\"><pre>GridSearchCV(cv=5, estimator=RandomForestClassifier(random_state=42),\n",
       "             param_grid={&#x27;max_depth&#x27;: [None, 5, 10, 15, 20],\n",
       "                         &#x27;n_estimators&#x27;: [50, 100, 200, 300, 500]},\n",
       "             verbose=1)</pre><b>In a Jupyter environment, please rerun this cell to show the HTML representation or trust the notebook. <br />On GitHub, the HTML representation is unable to render, please try loading this page with nbviewer.org.</b></div><div class=\"sk-container\" hidden><div class=\"sk-item sk-dashed-wrapped\"><div class=\"sk-label-container\"><div class=\"sk-label sk-toggleable\"><input class=\"sk-toggleable__control sk-hidden--visually\" id=\"sk-estimator-id-10\" type=\"checkbox\" ><label for=\"sk-estimator-id-10\" class=\"sk-toggleable__label sk-toggleable__label-arrow\">GridSearchCV</label><div class=\"sk-toggleable__content\"><pre>GridSearchCV(cv=5, estimator=RandomForestClassifier(random_state=42),\n",
       "             param_grid={&#x27;max_depth&#x27;: [None, 5, 10, 15, 20],\n",
       "                         &#x27;n_estimators&#x27;: [50, 100, 200, 300, 500]},\n",
       "             verbose=1)</pre></div></div></div><div class=\"sk-parallel\"><div class=\"sk-parallel-item\"><div class=\"sk-item\"><div class=\"sk-label-container\"><div class=\"sk-label sk-toggleable\"><input class=\"sk-toggleable__control sk-hidden--visually\" id=\"sk-estimator-id-11\" type=\"checkbox\" ><label for=\"sk-estimator-id-11\" class=\"sk-toggleable__label sk-toggleable__label-arrow\">estimator: RandomForestClassifier</label><div class=\"sk-toggleable__content\"><pre>RandomForestClassifier(random_state=42)</pre></div></div></div><div class=\"sk-serial\"><div class=\"sk-item\"><div class=\"sk-estimator sk-toggleable\"><input class=\"sk-toggleable__control sk-hidden--visually\" id=\"sk-estimator-id-12\" type=\"checkbox\" ><label for=\"sk-estimator-id-12\" class=\"sk-toggleable__label sk-toggleable__label-arrow\">RandomForestClassifier</label><div class=\"sk-toggleable__content\"><pre>RandomForestClassifier(random_state=42)</pre></div></div></div></div></div></div></div></div></div></div>"
      ],
      "text/plain": [
       "GridSearchCV(cv=5, estimator=RandomForestClassifier(random_state=42),\n",
       "             param_grid={'max_depth': [None, 5, 10, 15, 20],\n",
       "                         'n_estimators': [50, 100, 200, 300, 500]},\n",
       "             verbose=1)"
      ]
     },
     "execution_count": 171,
     "metadata": {},
     "output_type": "execute_result"
    }
   ],
   "source": [
    "model_grid_search = GridSearchCV(classifier, param_grid, verbose=1, cv=5)\n",
    "model_grid_search.fit(X_train, y_train)"
   ]
  },
  {
   "cell_type": "code",
   "execution_count": 172,
   "metadata": {},
   "outputs": [
    {
     "name": "stdout",
     "output_type": "stream",
     "text": [
      "Best hyperparameters: {'max_depth': None, 'n_estimators': 50}\n",
      "Train best score: 0.8706\n",
      "Train best score std: 0.003837\n"
     ]
    }
   ],
   "source": [
    "print(f\"Best hyperparameters: {model_grid_search.best_params_}\")\n",
    "print(f\"Train best score: {model_grid_search.best_score_:0.4}\")\n",
    "print(\n",
    "    f\"Train best score std: {np.std(model_grid_search.cv_results_['mean_test_score']):0.4}\"\n",
    ")"
   ]
  },
  {
   "cell_type": "markdown",
   "metadata": {},
   "source": [
    "### 2. Check model performance"
   ]
  },
  {
   "cell_type": "markdown",
   "metadata": {},
   "source": [
    "Apply the model with the best parameters to the test set to check its performance. The outputted score is the mean accuracy. "
   ]
  },
  {
   "cell_type": "code",
   "execution_count": 173,
   "metadata": {},
   "outputs": [
    {
     "name": "stdout",
     "output_type": "stream",
     "text": [
      "Test best score: 0.791209\n"
     ]
    }
   ],
   "source": [
    "test_score = model_grid_search.score(X_test, y_test)\n",
    "print(f\"Test best score: {test_score:0.6}\")"
   ]
  },
  {
   "cell_type": "code",
   "execution_count": 174,
   "metadata": {},
   "outputs": [
    {
     "name": "stdout",
     "output_type": "stream",
     "text": [
      "Test Accuracy: 0.7912087912087912\n"
     ]
    }
   ],
   "source": [
    "# Evaluate the model on test data\n",
    "best_rf_classifier_model = model_grid_search.best_estimator_\n",
    "test_accuracy = best_rf_classifier_model.score(X_test, y_test)\n",
    "print(\"Test Accuracy:\", test_accuracy)"
   ]
  },
  {
   "cell_type": "markdown",
   "metadata": {},
   "source": [
    "The best model predicts outbreaks with 79.12% accuracy"
   ]
  },
  {
   "cell_type": "markdown",
   "metadata": {},
   "source": [
    "## Inspect model results "
   ]
  },
  {
   "cell_type": "markdown",
   "metadata": {},
   "source": [
    "### 1. Make predictions on the test set"
   ]
  },
  {
   "cell_type": "markdown",
   "metadata": {},
   "source": [
    "Now that we have chosen the best model to use, we can now run the best RandomForest Classifier model on our test set and extract the predicted values. \n",
    "\n",
    "To get the discrete outbreak class prediction, outbreak (1) or not (0), run `.predict`. In this demonstration, we'd also like to include the predicted probabilities that comes along with the class predictions using the `predict_proba` function for analysis."
   ]
  },
  {
   "cell_type": "code",
   "execution_count": 175,
   "metadata": {},
   "outputs": [
    {
     "data": {
      "text/html": [
       "<div>\n",
       "<style scoped>\n",
       "    .dataframe tbody tr th:only-of-type {\n",
       "        vertical-align: middle;\n",
       "    }\n",
       "\n",
       "    .dataframe tbody tr th {\n",
       "        vertical-align: top;\n",
       "    }\n",
       "\n",
       "    .dataframe thead th {\n",
       "        text-align: right;\n",
       "    }\n",
       "</style>\n",
       "<table border=\"1\" class=\"dataframe\">\n",
       "  <thead>\n",
       "    <tr style=\"text-align: right;\">\n",
       "      <th></th>\n",
       "      <th>0</th>\n",
       "    </tr>\n",
       "  </thead>\n",
       "  <tbody>\n",
       "    <tr>\n",
       "      <th>count</th>\n",
       "      <td>91.000000</td>\n",
       "    </tr>\n",
       "    <tr>\n",
       "      <th>mean</th>\n",
       "      <td>0.252747</td>\n",
       "    </tr>\n",
       "    <tr>\n",
       "      <th>std</th>\n",
       "      <td>0.436995</td>\n",
       "    </tr>\n",
       "    <tr>\n",
       "      <th>min</th>\n",
       "      <td>0.000000</td>\n",
       "    </tr>\n",
       "    <tr>\n",
       "      <th>25%</th>\n",
       "      <td>0.000000</td>\n",
       "    </tr>\n",
       "    <tr>\n",
       "      <th>50%</th>\n",
       "      <td>0.000000</td>\n",
       "    </tr>\n",
       "    <tr>\n",
       "      <th>75%</th>\n",
       "      <td>0.500000</td>\n",
       "    </tr>\n",
       "    <tr>\n",
       "      <th>max</th>\n",
       "      <td>1.000000</td>\n",
       "    </tr>\n",
       "  </tbody>\n",
       "</table>\n",
       "</div>"
      ],
      "text/plain": [
       "               0\n",
       "count  91.000000\n",
       "mean    0.252747\n",
       "std     0.436995\n",
       "min     0.000000\n",
       "25%     0.000000\n",
       "50%     0.000000\n",
       "75%     0.500000\n",
       "max     1.000000"
      ]
     },
     "execution_count": 175,
     "metadata": {},
     "output_type": "execute_result"
    }
   ],
   "source": [
    "y_pred = best_rf_classifier_model.predict(X_test)\n",
    "y_pred_proba = best_rf_classifier_model.predict_proba(X_test)\n",
    "pred_results = pd.DataFrame(y_pred)\n",
    "pred_results.describe()"
   ]
  },
  {
   "cell_type": "markdown",
   "metadata": {},
   "source": [
    "### 2. Visualize results and metrics"
   ]
  },
  {
   "cell_type": "markdown",
   "metadata": {},
   "source": [
    "Review the results of the RF classification predictions using the `classification_report`. This summarizes on one table the accuracy, precision, recall, f1-score, and support (number of instances per class). \n",
    "\n",
    "Indicated in the classification report a mean accuracy of **79.12%** is achieved by the selected best model. Taking a look at other metrics, the model is able to correctly predict no outbreak weeks (0) more than outbreak weeks (1) with a recall of **81.82%** compared to predictions of outbreak with a recall of **64.39%**.\n",
    "\n",
    "Important to also look at the support column. Support simply refers to the number of instances that we have in our test set for each outbreak label. In our test set, we have 77 weeks that have no outbreaks and 14 weeks that have outbreaks. "
   ]
  },
  {
   "cell_type": "code",
   "execution_count": 176,
   "metadata": {},
   "outputs": [
    {
     "data": {
      "text/html": [
       "<div>\n",
       "<style scoped>\n",
       "    .dataframe tbody tr th:only-of-type {\n",
       "        vertical-align: middle;\n",
       "    }\n",
       "\n",
       "    .dataframe tbody tr th {\n",
       "        vertical-align: top;\n",
       "    }\n",
       "\n",
       "    .dataframe thead th {\n",
       "        text-align: right;\n",
       "    }\n",
       "</style>\n",
       "<table border=\"1\" class=\"dataframe\">\n",
       "  <thead>\n",
       "    <tr style=\"text-align: right;\">\n",
       "      <th></th>\n",
       "      <th>precision</th>\n",
       "      <th>recall</th>\n",
       "      <th>f1-score</th>\n",
       "      <th>support</th>\n",
       "    </tr>\n",
       "  </thead>\n",
       "  <tbody>\n",
       "    <tr>\n",
       "      <th>0</th>\n",
       "      <td>0.926471</td>\n",
       "      <td>0.818182</td>\n",
       "      <td>0.868966</td>\n",
       "      <td>77.000000</td>\n",
       "    </tr>\n",
       "    <tr>\n",
       "      <th>1</th>\n",
       "      <td>0.391304</td>\n",
       "      <td>0.642857</td>\n",
       "      <td>0.486486</td>\n",
       "      <td>14.000000</td>\n",
       "    </tr>\n",
       "    <tr>\n",
       "      <th>accuracy</th>\n",
       "      <td>0.791209</td>\n",
       "      <td>0.791209</td>\n",
       "      <td>0.791209</td>\n",
       "      <td>0.791209</td>\n",
       "    </tr>\n",
       "    <tr>\n",
       "      <th>macro avg</th>\n",
       "      <td>0.658887</td>\n",
       "      <td>0.730519</td>\n",
       "      <td>0.677726</td>\n",
       "      <td>91.000000</td>\n",
       "    </tr>\n",
       "    <tr>\n",
       "      <th>weighted avg</th>\n",
       "      <td>0.844137</td>\n",
       "      <td>0.791209</td>\n",
       "      <td>0.810123</td>\n",
       "      <td>91.000000</td>\n",
       "    </tr>\n",
       "  </tbody>\n",
       "</table>\n",
       "</div>"
      ],
      "text/plain": [
       "              precision    recall  f1-score    support\n",
       "0              0.926471  0.818182  0.868966  77.000000\n",
       "1              0.391304  0.642857  0.486486  14.000000\n",
       "accuracy       0.791209  0.791209  0.791209   0.791209\n",
       "macro avg      0.658887  0.730519  0.677726  91.000000\n",
       "weighted avg   0.844137  0.791209  0.810123  91.000000"
      ]
     },
     "execution_count": 176,
     "metadata": {},
     "output_type": "execute_result"
    }
   ],
   "source": [
    "report = classification_report(y_test, y_pred, output_dict=True)\n",
    "report_df = pd.DataFrame(report).transpose()\n",
    "report_df"
   ]
  },
  {
   "cell_type": "markdown",
   "metadata": {},
   "source": [
    "To view how many of our predictions are correct against the actual values, we can use a confusion matrix. After running the cell below, you should be able to see a 2x2 matrix of true labels and predicted labels. \n",
    "\n",
    "<img src=\"https://assets-global.website-files.com/6266b596eef18c1931f938f9/644aea65cefe35380f198a5a_class_guide_cm08.png\" width=\"40%\"> \n",
    "\n",
    "Based on the confusion matrix, we were able to correctly predict 63 no outbreak weeks out of 77 and for the outbreak weeks we were only able to predict 9 out of those 14 weeks from the test set. The  model still experiences certain confusion when it comes to predicting for outbreak weeks since there are 5 weeks that were mislabeled as no outbreak (False Negatives) which could indicate a limitation of our dataset."
   ]
  },
  {
   "cell_type": "code",
   "execution_count": 177,
   "metadata": {},
   "outputs": [
    {
     "data": {
      "image/png": "[encoded data removed]",
      "text/plain": [
       "<Figure size 640x480 with 2 Axes>"
      ]
     },
     "metadata": {},
     "output_type": "display_data"
    }
   ],
   "source": [
    "cm = confusion_matrix(y_test, y_pred, labels=best_rf_classifier_model.classes_)\n",
    "disp = ConfusionMatrixDisplay(\n",
    "    confusion_matrix=cm, display_labels=best_rf_classifier_model.classes_\n",
    ")\n",
    "disp.plot()\n",
    "plt.show()"
   ]
  },
  {
   "cell_type": "markdown",
   "metadata": {},
   "source": [
    "To understand analyze the results of the model more, let's visualize the predicted probabilities from the model through a colored histogram of the values. \n",
    "\n",
    "In the plot below, the predicted probabilities are on the x-axis and the y-axis is the number of those instances. The colors are based on the actual labels. The expectation is the bars colored as blue should skew to the left side and the red bars skew to the right indicating that the model is able to distinguish the presence of an outbreak based on the features we've given. \n",
    "\n",
    "Most of the outbreak weeks range from the 0.4 to 0.6 probabilities which indicates that the model finds difficulty in strongly distinguishing weeks with a dengue outbreak. "
   ]
  },
  {
   "cell_type": "code",
   "execution_count": 178,
   "metadata": {},
   "outputs": [
    {
     "data": {
      "image/png": "[encoded data removed]",
      "text/plain": [
       "<Figure size 1500x700 with 1 Axes>"
      ]
     },
     "metadata": {},
     "output_type": "display_data"
    }
   ],
   "source": [
    "prediction = y_pred_proba[:, 1]  # prediction for outbreak\n",
    "plt.figure(figsize=(15, 7))\n",
    "plt.hist(prediction[y_test == 0], bins=50, label=\"No Outbreak\")\n",
    "plt.hist(prediction[y_test == 1], bins=50, label=\"Outbreak\", alpha=0.7, color=\"r\")\n",
    "plt.xlabel(\"Probability of being Outbreak Class\", fontsize=10)\n",
    "plt.ylabel(\"Number of records in each bucket\", fontsize=10)\n",
    "plt.legend(fontsize=15, title=\"Actual Labels\")\n",
    "plt.tick_params(axis=\"both\", labelsize=8, pad=5)\n",
    "plt.show()"
   ]
  },
  {
   "cell_type": "markdown",
   "metadata": {},
   "source": [
    "### 3. Identify features that best explains outbreak prediction"
   ]
  },
  {
   "cell_type": "code",
   "execution_count": 179,
   "metadata": {},
   "outputs": [],
   "source": [
    "explainer = shap.Explainer(best_rf_classifier_model)\n",
    "shap_values = explainer.shap_values(X_test)"
   ]
  },
  {
   "cell_type": "markdown",
   "metadata": {},
   "source": [
    "From the SHAP, what impacted the predictions the most are the cases from the previous weeks, nighttime lights radiance, population, and distances to health facilities. \n",
    "\n",
    "It is interesting to observe that the nighttime lights features and presence of POIs impact the outbreak prediction. This indicates that how urbanized a city has a possible influence on determining an outbreak. "
   ]
  },
  {
   "cell_type": "code",
   "execution_count": 180,
   "metadata": {},
   "outputs": [
    {
     "data": {
      "image/png": "[encoded data removed]",
      "text/plain": [
       "<Figure size 800x950 with 2 Axes>"
      ]
     },
     "metadata": {},
     "output_type": "display_data"
    }
   ],
   "source": [
    "shap.summary_plot(shap_values[0], X_test)"
   ]
  },
  {
   "cell_type": "markdown",
   "metadata": {},
   "source": [
    "## Analyzing outbreak predictions"
   ]
  },
  {
   "cell_type": "markdown",
   "metadata": {},
   "source": [
    "Prepare the dataframe to include the actual number of cases and predictions on one table. "
   ]
  },
  {
   "cell_type": "code",
   "execution_count": 181,
   "metadata": {},
   "outputs": [],
   "source": [
    "# Join back the predictions to the features for analysis.\n",
    "analyze_df = X_test.copy()\n",
    "analyze_df[\"ADM3_PCODE\"] = brgy_tests\n",
    "analyze_df[\"Cases\"] = numcases_test\n",
    "analyze_df[\"actual_class\"] = y_test\n",
    "analyze_df[\"predicted_class\"] = y_pred\n",
    "analyze_df[\"predicted_proba_outbreak\"] = y_pred_proba[:, 1]\n",
    "analyze_df = analyze_df.reset_index()"
   ]
  },
  {
   "cell_type": "code",
   "execution_count": null,
   "metadata": {},
   "outputs": [],
   "source": [
    "analyize_df.head(2)"
   ]
  },
  {
   "cell_type": "markdown",
   "metadata": {},
   "source": [
    "### 1. Visualizing Actual vs. Predicted Outbreaks Periods "
   ]
  },
  {
   "cell_type": "code",
   "execution_count": 182,
   "metadata": {},
   "outputs": [],
   "source": [
    "actual_outbreaks_summary = create_outbreak_summary(analyze_df, \"actual_class\")\n",
    "actual_outbreaks_summary[\"category\"] = \"actual\"\n",
    "predicted_outbreaks_summary = create_outbreak_summary(analyze_df, \"predicted_class\")\n",
    "predicted_outbreaks_summary[\"category\"] = \"predicted\""
   ]
  },
  {
   "cell_type": "code",
   "execution_count": 183,
   "metadata": {},
   "outputs": [
    {
     "data": {
      "text/html": [
       "<div>\n",
       "<style scoped>\n",
       "    .dataframe tbody tr th:only-of-type {\n",
       "        vertical-align: middle;\n",
       "    }\n",
       "\n",
       "    .dataframe tbody tr th {\n",
       "        vertical-align: top;\n",
       "    }\n",
       "\n",
       "    .dataframe thead th {\n",
       "        text-align: right;\n",
       "    }\n",
       "</style>\n",
       "<table border=\"1\" class=\"dataframe\">\n",
       "  <thead>\n",
       "    <tr style=\"text-align: right;\">\n",
       "      <th></th>\n",
       "      <th>outbreak_group</th>\n",
       "      <th>start_date</th>\n",
       "      <th>end_date</th>\n",
       "      <th>actual_length_weeks</th>\n",
       "      <th>category</th>\n",
       "    </tr>\n",
       "  </thead>\n",
       "  <tbody>\n",
       "    <tr>\n",
       "      <th>0</th>\n",
       "      <td>1</td>\n",
       "      <td>2019-04-22</td>\n",
       "      <td>2019-05-06</td>\n",
       "      <td>3</td>\n",
       "      <td>actual</td>\n",
       "    </tr>\n",
       "    <tr>\n",
       "      <th>1</th>\n",
       "      <td>3</td>\n",
       "      <td>2019-08-19</td>\n",
       "      <td>2019-09-16</td>\n",
       "      <td>5</td>\n",
       "      <td>actual</td>\n",
       "    </tr>\n",
       "    <tr>\n",
       "      <th>2</th>\n",
       "      <td>5</td>\n",
       "      <td>2019-10-21</td>\n",
       "      <td>2019-11-04</td>\n",
       "      <td>3</td>\n",
       "      <td>actual</td>\n",
       "    </tr>\n",
       "    <tr>\n",
       "      <th>3</th>\n",
       "      <td>7</td>\n",
       "      <td>2019-11-25</td>\n",
       "      <td>2019-12-09</td>\n",
       "      <td>3</td>\n",
       "      <td>actual</td>\n",
       "    </tr>\n",
       "    <tr>\n",
       "      <th>0</th>\n",
       "      <td>1</td>\n",
       "      <td>2019-04-29</td>\n",
       "      <td>2019-04-29</td>\n",
       "      <td>1</td>\n",
       "      <td>predicted</td>\n",
       "    </tr>\n",
       "    <tr>\n",
       "      <th>1</th>\n",
       "      <td>3</td>\n",
       "      <td>2019-06-17</td>\n",
       "      <td>2019-06-24</td>\n",
       "      <td>2</td>\n",
       "      <td>predicted</td>\n",
       "    </tr>\n",
       "    <tr>\n",
       "      <th>2</th>\n",
       "      <td>5</td>\n",
       "      <td>2019-07-08</td>\n",
       "      <td>2019-07-08</td>\n",
       "      <td>1</td>\n",
       "      <td>predicted</td>\n",
       "    </tr>\n",
       "    <tr>\n",
       "      <th>3</th>\n",
       "      <td>7</td>\n",
       "      <td>2019-07-29</td>\n",
       "      <td>2019-07-29</td>\n",
       "      <td>1</td>\n",
       "      <td>predicted</td>\n",
       "    </tr>\n",
       "    <tr>\n",
       "      <th>4</th>\n",
       "      <td>9</td>\n",
       "      <td>2019-08-19</td>\n",
       "      <td>2019-09-09</td>\n",
       "      <td>4</td>\n",
       "      <td>predicted</td>\n",
       "    </tr>\n",
       "    <tr>\n",
       "      <th>5</th>\n",
       "      <td>11</td>\n",
       "      <td>2019-10-28</td>\n",
       "      <td>2019-11-04</td>\n",
       "      <td>2</td>\n",
       "      <td>predicted</td>\n",
       "    </tr>\n",
       "    <tr>\n",
       "      <th>6</th>\n",
       "      <td>13</td>\n",
       "      <td>2019-12-02</td>\n",
       "      <td>2019-12-16</td>\n",
       "      <td>3</td>\n",
       "      <td>predicted</td>\n",
       "    </tr>\n",
       "    <tr>\n",
       "      <th>7</th>\n",
       "      <td>15</td>\n",
       "      <td>2020-01-06</td>\n",
       "      <td>2020-01-06</td>\n",
       "      <td>2</td>\n",
       "      <td>predicted</td>\n",
       "    </tr>\n",
       "    <tr>\n",
       "      <th>8</th>\n",
       "      <td>17</td>\n",
       "      <td>2020-01-27</td>\n",
       "      <td>2020-02-03</td>\n",
       "      <td>2</td>\n",
       "      <td>predicted</td>\n",
       "    </tr>\n",
       "    <tr>\n",
       "      <th>9</th>\n",
       "      <td>19</td>\n",
       "      <td>2020-02-17</td>\n",
       "      <td>2020-02-24</td>\n",
       "      <td>2</td>\n",
       "      <td>predicted</td>\n",
       "    </tr>\n",
       "    <tr>\n",
       "      <th>10</th>\n",
       "      <td>21</td>\n",
       "      <td>2020-06-29</td>\n",
       "      <td>2020-06-29</td>\n",
       "      <td>1</td>\n",
       "      <td>predicted</td>\n",
       "    </tr>\n",
       "    <tr>\n",
       "      <th>11</th>\n",
       "      <td>23</td>\n",
       "      <td>2020-08-17</td>\n",
       "      <td>2020-08-17</td>\n",
       "      <td>1</td>\n",
       "      <td>predicted</td>\n",
       "    </tr>\n",
       "    <tr>\n",
       "      <th>12</th>\n",
       "      <td>25</td>\n",
       "      <td>2020-10-19</td>\n",
       "      <td>2020-10-19</td>\n",
       "      <td>1</td>\n",
       "      <td>predicted</td>\n",
       "    </tr>\n",
       "  </tbody>\n",
       "</table>\n",
       "</div>"
      ],
      "text/plain": [
       "    outbreak_group start_date   end_date  actual_length_weeks   category\n",
       "0                1 2019-04-22 2019-05-06                    3     actual\n",
       "1                3 2019-08-19 2019-09-16                    5     actual\n",
       "2                5 2019-10-21 2019-11-04                    3     actual\n",
       "3                7 2019-11-25 2019-12-09                    3     actual\n",
       "0                1 2019-04-29 2019-04-29                    1  predicted\n",
       "1                3 2019-06-17 2019-06-24                    2  predicted\n",
       "2                5 2019-07-08 2019-07-08                    1  predicted\n",
       "3                7 2019-07-29 2019-07-29                    1  predicted\n",
       "4                9 2019-08-19 2019-09-09                    4  predicted\n",
       "5               11 2019-10-28 2019-11-04                    2  predicted\n",
       "6               13 2019-12-02 2019-12-16                    3  predicted\n",
       "7               15 2020-01-06 2020-01-06                    2  predicted\n",
       "8               17 2020-01-27 2020-02-03                    2  predicted\n",
       "9               19 2020-02-17 2020-02-24                    2  predicted\n",
       "10              21 2020-06-29 2020-06-29                    1  predicted\n",
       "11              23 2020-08-17 2020-08-17                    1  predicted\n",
       "12              25 2020-10-19 2020-10-19                    1  predicted"
      ]
     },
     "execution_count": 183,
     "metadata": {},
     "output_type": "execute_result"
    }
   ],
   "source": [
    "outbreak_lengths_results = pd.concat(\n",
    "    [actual_outbreaks_summary, predicted_outbreaks_summary]\n",
    ")\n",
    "outbreak_lengths_results"
   ]
  },
  {
   "cell_type": "markdown",
   "metadata": {},
   "source": [
    "Running the cell below should produce a dumbbell plot that shows the actual outbreak periods from the health data versus the predicted outbreak periods.\n",
    "\n",
    "The resulting plot should look similar to this. The plot illustrates the outbreak periods from the dataframe prepared above. <br> <br>\n",
    "<img src=\"../../assets/outbreak_period_sample.png\" width=\"90%\"> \n",
    "\n",
    "*This is only a sample plot, the resulting plot will not be exactly the same dependeing on the range of the test set.*"
   ]
  },
  {
   "cell_type": "code",
   "execution_count": 184,
   "metadata": {},
   "outputs": [
    {
     "data": {
      "application/vnd.plotly.v1+json": {
       "config": {
        "plotlyServerURL": "https://plot.ly"
       },
       "data": [
        {
         "hovertemplate": "category=%{y}<br>value=%{x}<br>actual_length_weeks=%{marker.size}<extra></extra>",
         "legendgroup": "actual",
         "marker": {
          "color": "#53bed0",
          "size": [
           3,
           5,
           3,
           3,
           3,
           5,
           3,
           3
          ],
          "sizemode": "area",
          "sizeref": 0.0125,
          "symbol": "circle"
         },
         "mode": "markers",
         "name": "actual",
         "orientation": "v",
         "showlegend": true,
         "type": "scatter",
         "x": [
          "2019-04-22T00:00:00",
          "2019-08-19T00:00:00",
          "2019-10-21T00:00:00",
          "2019-11-25T00:00:00",
          "2019-05-06T00:00:00",
          "2019-09-16T00:00:00",
          "2019-11-04T00:00:00",
          "2019-12-09T00:00:00"
         ],
         "xaxis": "x",
         "y": [
          "actual",
          "actual",
          "actual",
          "actual",
          "actual",
          "actual",
          "actual",
          "actual"
         ],
         "yaxis": "y"
        },
        {
         "hovertemplate": "category=%{y}<br>value=%{x}<br>actual_length_weeks=%{marker.size}<extra></extra>",
         "legendgroup": "predicted",
         "marker": {
          "color": "#ee472f",
          "size": [
           1,
           2,
           1,
           1,
           4,
           2,
           3,
           2,
           2,
           2,
           1,
           1,
           1,
           1,
           2,
           1,
           1,
           4,
           2,
           3,
           2,
           2,
           2,
           1,
           1,
           1
          ],
          "sizemode": "area",
          "sizeref": 0.0125,
          "symbol": "circle"
         },
         "mode": "markers",
         "name": "predicted",
         "orientation": "v",
         "showlegend": true,
         "type": "scatter",
         "x": [
          "2019-04-29T00:00:00",
          "2019-06-17T00:00:00",
          "2019-07-08T00:00:00",
          "2019-07-29T00:00:00",
          "2019-08-19T00:00:00",
          "2019-10-28T00:00:00",
          "2019-12-02T00:00:00",
          "2020-01-06T00:00:00",
          "2020-01-27T00:00:00",
          "2020-02-17T00:00:00",
          "2020-06-29T00:00:00",
          "2020-08-17T00:00:00",
          "2020-10-19T00:00:00",
          "2019-04-29T00:00:00",
          "2019-06-24T00:00:00",
          "2019-07-08T00:00:00",
          "2019-07-29T00:00:00",
          "2019-09-09T00:00:00",
          "2019-11-04T00:00:00",
          "2019-12-16T00:00:00",
          "2020-01-06T00:00:00",
          "2020-02-03T00:00:00",
          "2020-02-24T00:00:00",
          "2020-06-29T00:00:00",
          "2020-08-17T00:00:00",
          "2020-10-19T00:00:00"
         ],
         "xaxis": "x",
         "y": [
          "predicted",
          "predicted",
          "predicted",
          "predicted",
          "predicted",
          "predicted",
          "predicted",
          "predicted",
          "predicted",
          "predicted",
          "predicted",
          "predicted",
          "predicted",
          "predicted",
          "predicted",
          "predicted",
          "predicted",
          "predicted",
          "predicted",
          "predicted",
          "predicted",
          "predicted",
          "predicted",
          "predicted",
          "predicted",
          "predicted"
         ],
         "yaxis": "y"
        },
        {
         "line": {
          "color": "#53bed0",
          "dash": "solid",
          "width": 3
         },
         "mode": "lines",
         "showlegend": false,
         "type": "scatter",
         "x": [
          "2019-04-22T00:00:00",
          "2019-05-06T00:00:00"
         ],
         "y": [
          "actual",
          "actual"
         ]
        },
        {
         "line": {
          "color": "#53bed0",
          "dash": "solid",
          "width": 3
         },
         "mode": "lines",
         "showlegend": false,
         "type": "scatter",
         "x": [
          "2019-08-19T00:00:00",
          "2019-09-16T00:00:00"
         ],
         "y": [
          "actual",
          "actual"
         ]
        },
        {
         "line": {
          "color": "#53bed0",
          "dash": "solid",
          "width": 3
         },
         "mode": "lines",
         "showlegend": false,
         "type": "scatter",
         "x": [
          "2019-10-21T00:00:00",
          "2019-11-04T00:00:00"
         ],
         "y": [
          "actual",
          "actual"
         ]
        },
        {
         "line": {
          "color": "#53bed0",
          "dash": "solid",
          "width": 3
         },
         "mode": "lines",
         "showlegend": false,
         "type": "scatter",
         "x": [
          "2019-11-25T00:00:00",
          "2019-12-09T00:00:00"
         ],
         "y": [
          "actual",
          "actual"
         ]
        },
        {
         "line": {
          "color": "#ee472f",
          "dash": "solid",
          "width": 3
         },
         "mode": "lines",
         "showlegend": false,
         "type": "scatter",
         "x": [
          "2019-04-29T00:00:00",
          "2019-04-29T00:00:00"
         ],
         "y": [
          "predicted",
          "predicted"
         ]
        },
        {
         "line": {
          "color": "#ee472f",
          "dash": "solid",
          "width": 3
         },
         "mode": "lines",
         "showlegend": false,
         "type": "scatter",
         "x": [
          "2019-06-17T00:00:00",
          "2019-06-24T00:00:00"
         ],
         "y": [
          "predicted",
          "predicted"
         ]
        },
        {
         "line": {
          "color": "#ee472f",
          "dash": "solid",
          "width": 3
         },
         "mode": "lines",
         "showlegend": false,
         "type": "scatter",
         "x": [
          "2019-07-08T00:00:00",
          "2019-07-08T00:00:00"
         ],
         "y": [
          "predicted",
          "predicted"
         ]
        },
        {
         "line": {
          "color": "#ee472f",
          "dash": "solid",
          "width": 3
         },
         "mode": "lines",
         "showlegend": false,
         "type": "scatter",
         "x": [
          "2019-07-29T00:00:00",
          "2019-07-29T00:00:00"
         ],
         "y": [
          "predicted",
          "predicted"
         ]
        },
        {
         "line": {
          "color": "#ee472f",
          "dash": "solid",
          "width": 3
         },
         "mode": "lines",
         "showlegend": false,
         "type": "scatter",
         "x": [
          "2019-08-19T00:00:00",
          "2019-09-09T00:00:00"
         ],
         "y": [
          "predicted",
          "predicted"
         ]
        },
        {
         "line": {
          "color": "#ee472f",
          "dash": "solid",
          "width": 3
         },
         "mode": "lines",
         "showlegend": false,
         "type": "scatter",
         "x": [
          "2019-10-28T00:00:00",
          "2019-11-04T00:00:00"
         ],
         "y": [
          "predicted",
          "predicted"
         ]
        },
        {
         "line": {
          "color": "#ee472f",
          "dash": "solid",
          "width": 3
         },
         "mode": "lines",
         "showlegend": false,
         "type": "scatter",
         "x": [
          "2019-12-02T00:00:00",
          "2019-12-16T00:00:00"
         ],
         "y": [
          "predicted",
          "predicted"
         ]
        },
        {
         "line": {
          "color": "#ee472f",
          "dash": "solid",
          "width": 3
         },
         "mode": "lines",
         "showlegend": false,
         "type": "scatter",
         "x": [
          "2020-01-06T00:00:00",
          "2020-01-06T00:00:00"
         ],
         "y": [
          "predicted",
          "predicted"
         ]
        },
        {
         "line": {
          "color": "#ee472f",
          "dash": "solid",
          "width": 3
         },
         "mode": "lines",
         "showlegend": false,
         "type": "scatter",
         "x": [
          "2020-01-27T00:00:00",
          "2020-02-03T00:00:00"
         ],
         "y": [
          "predicted",
          "predicted"
         ]
        },
        {
         "line": {
          "color": "#ee472f",
          "dash": "solid",
          "width": 3
         },
         "mode": "lines",
         "showlegend": false,
         "type": "scatter",
         "x": [
          "2020-02-17T00:00:00",
          "2020-02-24T00:00:00"
         ],
         "y": [
          "predicted",
          "predicted"
         ]
        },
        {
         "line": {
          "color": "#ee472f",
          "dash": "solid",
          "width": 3
         },
         "mode": "lines",
         "showlegend": false,
         "type": "scatter",
         "x": [
          "2020-06-29T00:00:00",
          "2020-06-29T00:00:00"
         ],
         "y": [
          "predicted",
          "predicted"
         ]
        },
        {
         "line": {
          "color": "#ee472f",
          "dash": "solid",
          "width": 3
         },
         "mode": "lines",
         "showlegend": false,
         "type": "scatter",
         "x": [
          "2020-08-17T00:00:00",
          "2020-08-17T00:00:00"
         ],
         "y": [
          "predicted",
          "predicted"
         ]
        },
        {
         "line": {
          "color": "#ee472f",
          "dash": "solid",
          "width": 3
         },
         "mode": "lines",
         "showlegend": false,
         "type": "scatter",
         "x": [
          "2020-10-19T00:00:00",
          "2020-10-19T00:00:00"
         ],
         "y": [
          "predicted",
          "predicted"
         ]
        }
       ],
       "layout": {
        "legend": {
         "itemsizing": "constant",
         "title": {
          "text": "category"
         },
         "tracegroupgap": 0
        },
        "margin": {
         "t": 60
        },
        "template": {
         "data": {
          "bar": [
           {
            "error_x": {
             "color": "#2a3f5f"
            },
            "error_y": {
             "color": "#2a3f5f"
            },
            "marker": {
             "line": {
              "color": "#E5ECF6",
              "width": 0.5
             },
             "pattern": {
              "fillmode": "overlay",
              "size": 10,
              "solidity": 0.2
             }
            },
            "type": "bar"
           }
          ],
          "barpolar": [
           {
            "marker": {
             "line": {
              "color": "#E5ECF6",
              "width": 0.5
             },
             "pattern": {
              "fillmode": "overlay",
              "size": 10,
              "solidity": 0.2
             }
            },
            "type": "barpolar"
           }
          ],
          "carpet": [
           {
            "aaxis": {
             "endlinecolor": "#2a3f5f",
             "gridcolor": "white",
             "linecolor": "white",
             "minorgridcolor": "white",
             "startlinecolor": "#2a3f5f"
            },
            "baxis": {
             "endlinecolor": "#2a3f5f",
             "gridcolor": "white",
             "linecolor": "white",
             "minorgridcolor": "white",
             "startlinecolor": "#2a3f5f"
            },
            "type": "carpet"
           }
          ],
          "choropleth": [
           {
            "colorbar": {
             "outlinewidth": 0,
             "ticks": ""
            },
            "type": "choropleth"
           }
          ],
          "contour": [
           {
            "colorbar": {
             "outlinewidth": 0,
             "ticks": ""
            },
            "colorscale": [
             [
              0,
              "#0d0887"
             ],
             [
              0.1111111111111111,
              "#46039f"
             ],
             [
              0.2222222222222222,
              "#7201a8"
             ],
             [
              0.3333333333333333,
              "#9c179e"
             ],
             [
              0.4444444444444444,
              "#bd3786"
             ],
             [
              0.5555555555555556,
              "#d8576b"
             ],
             [
              0.6666666666666666,
              "#ed7953"
             ],
             [
              0.7777777777777778,
              "#fb9f3a"
             ],
             [
              0.8888888888888888,
              "#fdca26"
             ],
             [
              1,
              "#f0f921"
             ]
            ],
            "type": "contour"
           }
          ],
          "contourcarpet": [
           {
            "colorbar": {
             "outlinewidth": 0,
             "ticks": ""
            },
            "type": "contourcarpet"
           }
          ],
          "heatmap": [
           {
            "colorbar": {
             "outlinewidth": 0,
             "ticks": ""
            },
            "colorscale": [
             [
              0,
              "#0d0887"
             ],
             [
              0.1111111111111111,
              "#46039f"
             ],
             [
              0.2222222222222222,
              "#7201a8"
             ],
             [
              0.3333333333333333,
              "#9c179e"
             ],
             [
              0.4444444444444444,
              "#bd3786"
             ],
             [
              0.5555555555555556,
              "#d8576b"
             ],
             [
              0.6666666666666666,
              "#ed7953"
             ],
             [
              0.7777777777777778,
              "#fb9f3a"
             ],
             [
              0.8888888888888888,
              "#fdca26"
             ],
             [
              1,
              "#f0f921"
             ]
            ],
            "type": "heatmap"
           }
          ],
          "heatmapgl": [
           {
            "colorbar": {
             "outlinewidth": 0,
             "ticks": ""
            },
            "colorscale": [
             [
              0,
              "#0d0887"
             ],
             [
              0.1111111111111111,
              "#46039f"
             ],
             [
              0.2222222222222222,
              "#7201a8"
             ],
             [
              0.3333333333333333,
              "#9c179e"
             ],
             [
              0.4444444444444444,
              "#bd3786"
             ],
             [
              0.5555555555555556,
              "#d8576b"
             ],
             [
              0.6666666666666666,
              "#ed7953"
             ],
             [
              0.7777777777777778,
              "#fb9f3a"
             ],
             [
              0.8888888888888888,
              "#fdca26"
             ],
             [
              1,
              "#f0f921"
             ]
            ],
            "type": "heatmapgl"
           }
          ],
          "histogram": [
           {
            "marker": {
             "pattern": {
              "fillmode": "overlay",
              "size": 10,
              "solidity": 0.2
             }
            },
            "type": "histogram"
           }
          ],
          "histogram2d": [
           {
            "colorbar": {
             "outlinewidth": 0,
             "ticks": ""
            },
            "colorscale": [
             [
              0,
              "#0d0887"
             ],
             [
              0.1111111111111111,
              "#46039f"
             ],
             [
              0.2222222222222222,
              "#7201a8"
             ],
             [
              0.3333333333333333,
              "#9c179e"
             ],
             [
              0.4444444444444444,
              "#bd3786"
             ],
             [
              0.5555555555555556,
              "#d8576b"
             ],
             [
              0.6666666666666666,
              "#ed7953"
             ],
             [
              0.7777777777777778,
              "#fb9f3a"
             ],
             [
              0.8888888888888888,
              "#fdca26"
             ],
             [
              1,
              "#f0f921"
             ]
            ],
            "type": "histogram2d"
           }
          ],
          "histogram2dcontour": [
           {
            "colorbar": {
             "outlinewidth": 0,
             "ticks": ""
            },
            "colorscale": [
             [
              0,
              "#0d0887"
             ],
             [
              0.1111111111111111,
              "#46039f"
             ],
             [
              0.2222222222222222,
              "#7201a8"
             ],
             [
              0.3333333333333333,
              "#9c179e"
             ],
             [
              0.4444444444444444,
              "#bd3786"
             ],
             [
              0.5555555555555556,
              "#d8576b"
             ],
             [
              0.6666666666666666,
              "#ed7953"
             ],
             [
              0.7777777777777778,
              "#fb9f3a"
             ],
             [
              0.8888888888888888,
              "#fdca26"
             ],
             [
              1,
              "#f0f921"
             ]
            ],
            "type": "histogram2dcontour"
           }
          ],
          "mesh3d": [
           {
            "colorbar": {
             "outlinewidth": 0,
             "ticks": ""
            },
            "type": "mesh3d"
           }
          ],
          "parcoords": [
           {
            "line": {
             "colorbar": {
              "outlinewidth": 0,
              "ticks": ""
             }
            },
            "type": "parcoords"
           }
          ],
          "pie": [
           {
            "automargin": true,
            "type": "pie"
           }
          ],
          "scatter": [
           {
            "fillpattern": {
             "fillmode": "overlay",
             "size": 10,
             "solidity": 0.2
            },
            "type": "scatter"
           }
          ],
          "scatter3d": [
           {
            "line": {
             "colorbar": {
              "outlinewidth": 0,
              "ticks": ""
             }
            },
            "marker": {
             "colorbar": {
              "outlinewidth": 0,
              "ticks": ""
             }
            },
            "type": "scatter3d"
           }
          ],
          "scattercarpet": [
           {
            "marker": {
             "colorbar": {
              "outlinewidth": 0,
              "ticks": ""
             }
            },
            "type": "scattercarpet"
           }
          ],
          "scattergeo": [
           {
            "marker": {
             "colorbar": {
              "outlinewidth": 0,
              "ticks": ""
             }
            },
            "type": "scattergeo"
           }
          ],
          "scattergl": [
           {
            "marker": {
             "colorbar": {
              "outlinewidth": 0,
              "ticks": ""
             }
            },
            "type": "scattergl"
           }
          ],
          "scattermapbox": [
           {
            "marker": {
             "colorbar": {
              "outlinewidth": 0,
              "ticks": ""
             }
            },
            "type": "scattermapbox"
           }
          ],
          "scatterpolar": [
           {
            "marker": {
             "colorbar": {
              "outlinewidth": 0,
              "ticks": ""
             }
            },
            "type": "scatterpolar"
           }
          ],
          "scatterpolargl": [
           {
            "marker": {
             "colorbar": {
              "outlinewidth": 0,
              "ticks": ""
             }
            },
            "type": "scatterpolargl"
           }
          ],
          "scatterternary": [
           {
            "marker": {
             "colorbar": {
              "outlinewidth": 0,
              "ticks": ""
             }
            },
            "type": "scatterternary"
           }
          ],
          "surface": [
           {
            "colorbar": {
             "outlinewidth": 0,
             "ticks": ""
            },
            "colorscale": [
             [
              0,
              "#0d0887"
             ],
             [
              0.1111111111111111,
              "#46039f"
             ],
             [
              0.2222222222222222,
              "#7201a8"
             ],
             [
              0.3333333333333333,
              "#9c179e"
             ],
             [
              0.4444444444444444,
              "#bd3786"
             ],
             [
              0.5555555555555556,
              "#d8576b"
             ],
             [
              0.6666666666666666,
              "#ed7953"
             ],
             [
              0.7777777777777778,
              "#fb9f3a"
             ],
             [
              0.8888888888888888,
              "#fdca26"
             ],
             [
              1,
              "#f0f921"
             ]
            ],
            "type": "surface"
           }
          ],
          "table": [
           {
            "cells": {
             "fill": {
              "color": "#EBF0F8"
             },
             "line": {
              "color": "white"
             }
            },
            "header": {
             "fill": {
              "color": "#C8D4E3"
             },
             "line": {
              "color": "white"
             }
            },
            "type": "table"
           }
          ]
         },
         "layout": {
          "annotationdefaults": {
           "arrowcolor": "#2a3f5f",
           "arrowhead": 0,
           "arrowwidth": 1
          },
          "autotypenumbers": "strict",
          "coloraxis": {
           "colorbar": {
            "outlinewidth": 0,
            "ticks": ""
           }
          },
          "colorscale": {
           "diverging": [
            [
             0,
             "#8e0152"
            ],
            [
             0.1,
             "#c51b7d"
            ],
            [
             0.2,
             "#de77ae"
            ],
            [
             0.3,
             "#f1b6da"
            ],
            [
             0.4,
             "#fde0ef"
            ],
            [
             0.5,
             "#f7f7f7"
            ],
            [
             0.6,
             "#e6f5d0"
            ],
            [
             0.7,
             "#b8e186"
            ],
            [
             0.8,
             "#7fbc41"
            ],
            [
             0.9,
             "#4d9221"
            ],
            [
             1,
             "#276419"
            ]
           ],
           "sequential": [
            [
             0,
             "#0d0887"
            ],
            [
             0.1111111111111111,
             "#46039f"
            ],
            [
             0.2222222222222222,
             "#7201a8"
            ],
            [
             0.3333333333333333,
             "#9c179e"
            ],
            [
             0.4444444444444444,
             "#bd3786"
            ],
            [
             0.5555555555555556,
             "#d8576b"
            ],
            [
             0.6666666666666666,
             "#ed7953"
            ],
            [
             0.7777777777777778,
             "#fb9f3a"
            ],
            [
             0.8888888888888888,
             "#fdca26"
            ],
            [
             1,
             "#f0f921"
            ]
           ],
           "sequentialminus": [
            [
             0,
             "#0d0887"
            ],
            [
             0.1111111111111111,
             "#46039f"
            ],
            [
             0.2222222222222222,
             "#7201a8"
            ],
            [
             0.3333333333333333,
             "#9c179e"
            ],
            [
             0.4444444444444444,
             "#bd3786"
            ],
            [
             0.5555555555555556,
             "#d8576b"
            ],
            [
             0.6666666666666666,
             "#ed7953"
            ],
            [
             0.7777777777777778,
             "#fb9f3a"
            ],
            [
             0.8888888888888888,
             "#fdca26"
            ],
            [
             1,
             "#f0f921"
            ]
           ]
          },
          "colorway": [
           "#636efa",
           "#EF553B",
           "#00cc96",
           "#ab63fa",
           "#FFA15A",
           "#19d3f3",
           "#FF6692",
           "#B6E880",
           "#FF97FF",
           "#FECB52"
          ],
          "font": {
           "color": "#2a3f5f"
          },
          "geo": {
           "bgcolor": "white",
           "lakecolor": "white",
           "landcolor": "#E5ECF6",
           "showlakes": true,
           "showland": true,
           "subunitcolor": "white"
          },
          "hoverlabel": {
           "align": "left"
          },
          "hovermode": "closest",
          "mapbox": {
           "style": "light"
          },
          "paper_bgcolor": "white",
          "plot_bgcolor": "#E5ECF6",
          "polar": {
           "angularaxis": {
            "gridcolor": "white",
            "linecolor": "white",
            "ticks": ""
           },
           "bgcolor": "#E5ECF6",
           "radialaxis": {
            "gridcolor": "white",
            "linecolor": "white",
            "ticks": ""
           }
          },
          "scene": {
           "xaxis": {
            "backgroundcolor": "#E5ECF6",
            "gridcolor": "white",
            "gridwidth": 2,
            "linecolor": "white",
            "showbackground": true,
            "ticks": "",
            "zerolinecolor": "white"
           },
           "yaxis": {
            "backgroundcolor": "#E5ECF6",
            "gridcolor": "white",
            "gridwidth": 2,
            "linecolor": "white",
            "showbackground": true,
            "ticks": "",
            "zerolinecolor": "white"
           },
           "zaxis": {
            "backgroundcolor": "#E5ECF6",
            "gridcolor": "white",
            "gridwidth": 2,
            "linecolor": "white",
            "showbackground": true,
            "ticks": "",
            "zerolinecolor": "white"
           }
          },
          "shapedefaults": {
           "line": {
            "color": "#2a3f5f"
           }
          },
          "ternary": {
           "aaxis": {
            "gridcolor": "white",
            "linecolor": "white",
            "ticks": ""
           },
           "baxis": {
            "gridcolor": "white",
            "linecolor": "white",
            "ticks": ""
           },
           "bgcolor": "#E5ECF6",
           "caxis": {
            "gridcolor": "white",
            "linecolor": "white",
            "ticks": ""
           }
          },
          "title": {
           "x": 0.05
          },
          "xaxis": {
           "automargin": true,
           "gridcolor": "white",
           "linecolor": "white",
           "ticks": "",
           "title": {
            "standoff": 15
           },
           "zerolinecolor": "white",
           "zerolinewidth": 2
          },
          "yaxis": {
           "automargin": true,
           "gridcolor": "white",
           "linecolor": "white",
           "ticks": "",
           "title": {
            "standoff": 15
           },
           "zerolinecolor": "white",
           "zerolinewidth": 2
          }
         }
        },
        "title": {
         "text": "Dengue Outbreak Periods for Zamboanga City"
        },
        "xaxis": {
         "anchor": "y",
         "domain": [
          0,
          1
         ],
         "title": {
          "text": "Date"
         }
        },
        "yaxis": {
         "anchor": "x",
         "categoryarray": [
          "predicted",
          "actual"
         ],
         "categoryorder": "array",
         "domain": [
          0,
          1
         ],
         "title": {
          "text": "Category"
         }
        }
       }
      },
      "text/html": [
       "<div>                            <div id=\"c8a1def0-947c-4669-b69e-30513bec0c86\" class=\"plotly-graph-div\" style=\"height:525px; width:100%;\"></div>            <script type=\"text/javascript\">                require([\"plotly\"], function(Plotly) {                    window.PLOTLYENV=window.PLOTLYENV || {};                                    if (document.getElementById(\"c8a1def0-947c-4669-b69e-30513bec0c86\")) {                    Plotly.newPlot(                        \"c8a1def0-947c-4669-b69e-30513bec0c86\",                        [{\"hovertemplate\":\"category=%{y}\\u003cbr\\u003evalue=%{x}\\u003cbr\\u003eactual_length_weeks=%{marker.size}\\u003cextra\\u003e\\u003c\\u002fextra\\u003e\",\"legendgroup\":\"actual\",\"marker\":{\"color\":\"#53bed0\",\"size\":[3,5,3,3,3,5,3,3],\"sizemode\":\"area\",\"sizeref\":0.0125,\"symbol\":\"circle\"},\"mode\":\"markers\",\"name\":\"actual\",\"orientation\":\"v\",\"showlegend\":true,\"x\":[\"2019-04-22T00:00:00\",\"2019-08-19T00:00:00\",\"2019-10-21T00:00:00\",\"2019-11-25T00:00:00\",\"2019-05-06T00:00:00\",\"2019-09-16T00:00:00\",\"2019-11-04T00:00:00\",\"2019-12-09T00:00:00\"],\"xaxis\":\"x\",\"y\":[\"actual\",\"actual\",\"actual\",\"actual\",\"actual\",\"actual\",\"actual\",\"actual\"],\"yaxis\":\"y\",\"type\":\"scatter\"},{\"hovertemplate\":\"category=%{y}\\u003cbr\\u003evalue=%{x}\\u003cbr\\u003eactual_length_weeks=%{marker.size}\\u003cextra\\u003e\\u003c\\u002fextra\\u003e\",\"legendgroup\":\"predicted\",\"marker\":{\"color\":\"#ee472f\",\"size\":[1,2,1,1,4,2,3,2,2,2,1,1,1,1,2,1,1,4,2,3,2,2,2,1,1,1],\"sizemode\":\"area\",\"sizeref\":0.0125,\"symbol\":\"circle\"},\"mode\":\"markers\",\"name\":\"predicted\",\"orientation\":\"v\",\"showlegend\":true,\"x\":[\"2019-04-29T00:00:00\",\"2019-06-17T00:00:00\",\"2019-07-08T00:00:00\",\"2019-07-29T00:00:00\",\"2019-08-19T00:00:00\",\"2019-10-28T00:00:00\",\"2019-12-02T00:00:00\",\"2020-01-06T00:00:00\",\"2020-01-27T00:00:00\",\"2020-02-17T00:00:00\",\"2020-06-29T00:00:00\",\"2020-08-17T00:00:00\",\"2020-10-19T00:00:00\",\"2019-04-29T00:00:00\",\"2019-06-24T00:00:00\",\"2019-07-08T00:00:00\",\"2019-07-29T00:00:00\",\"2019-09-09T00:00:00\",\"2019-11-04T00:00:00\",\"2019-12-16T00:00:00\",\"2020-01-06T00:00:00\",\"2020-02-03T00:00:00\",\"2020-02-24T00:00:00\",\"2020-06-29T00:00:00\",\"2020-08-17T00:00:00\",\"2020-10-19T00:00:00\"],\"xaxis\":\"x\",\"y\":[\"predicted\",\"predicted\",\"predicted\",\"predicted\",\"predicted\",\"predicted\",\"predicted\",\"predicted\",\"predicted\",\"predicted\",\"predicted\",\"predicted\",\"predicted\",\"predicted\",\"predicted\",\"predicted\",\"predicted\",\"predicted\",\"predicted\",\"predicted\",\"predicted\",\"predicted\",\"predicted\",\"predicted\",\"predicted\",\"predicted\"],\"yaxis\":\"y\",\"type\":\"scatter\"},{\"line\":{\"color\":\"#53bed0\",\"dash\":\"solid\",\"width\":3},\"mode\":\"lines\",\"showlegend\":false,\"x\":[\"2019-04-22T00:00:00\",\"2019-05-06T00:00:00\"],\"y\":[\"actual\",\"actual\"],\"type\":\"scatter\"},{\"line\":{\"color\":\"#53bed0\",\"dash\":\"solid\",\"width\":3},\"mode\":\"lines\",\"showlegend\":false,\"x\":[\"2019-08-19T00:00:00\",\"2019-09-16T00:00:00\"],\"y\":[\"actual\",\"actual\"],\"type\":\"scatter\"},{\"line\":{\"color\":\"#53bed0\",\"dash\":\"solid\",\"width\":3},\"mode\":\"lines\",\"showlegend\":false,\"x\":[\"2019-10-21T00:00:00\",\"2019-11-04T00:00:00\"],\"y\":[\"actual\",\"actual\"],\"type\":\"scatter\"},{\"line\":{\"color\":\"#53bed0\",\"dash\":\"solid\",\"width\":3},\"mode\":\"lines\",\"showlegend\":false,\"x\":[\"2019-11-25T00:00:00\",\"2019-12-09T00:00:00\"],\"y\":[\"actual\",\"actual\"],\"type\":\"scatter\"},{\"line\":{\"color\":\"#ee472f\",\"dash\":\"solid\",\"width\":3},\"mode\":\"lines\",\"showlegend\":false,\"x\":[\"2019-04-29T00:00:00\",\"2019-04-29T00:00:00\"],\"y\":[\"predicted\",\"predicted\"],\"type\":\"scatter\"},{\"line\":{\"color\":\"#ee472f\",\"dash\":\"solid\",\"width\":3},\"mode\":\"lines\",\"showlegend\":false,\"x\":[\"2019-06-17T00:00:00\",\"2019-06-24T00:00:00\"],\"y\":[\"predicted\",\"predicted\"],\"type\":\"scatter\"},{\"line\":{\"color\":\"#ee472f\",\"dash\":\"solid\",\"width\":3},\"mode\":\"lines\",\"showlegend\":false,\"x\":[\"2019-07-08T00:00:00\",\"2019-07-08T00:00:00\"],\"y\":[\"predicted\",\"predicted\"],\"type\":\"scatter\"},{\"line\":{\"color\":\"#ee472f\",\"dash\":\"solid\",\"width\":3},\"mode\":\"lines\",\"showlegend\":false,\"x\":[\"2019-07-29T00:00:00\",\"2019-07-29T00:00:00\"],\"y\":[\"predicted\",\"predicted\"],\"type\":\"scatter\"},{\"line\":{\"color\":\"#ee472f\",\"dash\":\"solid\",\"width\":3},\"mode\":\"lines\",\"showlegend\":false,\"x\":[\"2019-08-19T00:00:00\",\"2019-09-09T00:00:00\"],\"y\":[\"predicted\",\"predicted\"],\"type\":\"scatter\"},{\"line\":{\"color\":\"#ee472f\",\"dash\":\"solid\",\"width\":3},\"mode\":\"lines\",\"showlegend\":false,\"x\":[\"2019-10-28T00:00:00\",\"2019-11-04T00:00:00\"],\"y\":[\"predicted\",\"predicted\"],\"type\":\"scatter\"},{\"line\":{\"color\":\"#ee472f\",\"dash\":\"solid\",\"width\":3},\"mode\":\"lines\",\"showlegend\":false,\"x\":[\"2019-12-02T00:00:00\",\"2019-12-16T00:00:00\"],\"y\":[\"predicted\",\"predicted\"],\"type\":\"scatter\"},{\"line\":{\"color\":\"#ee472f\",\"dash\":\"solid\",\"width\":3},\"mode\":\"lines\",\"showlegend\":false,\"x\":[\"2020-01-06T00:00:00\",\"2020-01-06T00:00:00\"],\"y\":[\"predicted\",\"predicted\"],\"type\":\"scatter\"},{\"line\":{\"color\":\"#ee472f\",\"dash\":\"solid\",\"width\":3},\"mode\":\"lines\",\"showlegend\":false,\"x\":[\"2020-01-27T00:00:00\",\"2020-02-03T00:00:00\"],\"y\":[\"predicted\",\"predicted\"],\"type\":\"scatter\"},{\"line\":{\"color\":\"#ee472f\",\"dash\":\"solid\",\"width\":3},\"mode\":\"lines\",\"showlegend\":false,\"x\":[\"2020-02-17T00:00:00\",\"2020-02-24T00:00:00\"],\"y\":[\"predicted\",\"predicted\"],\"type\":\"scatter\"},{\"line\":{\"color\":\"#ee472f\",\"dash\":\"solid\",\"width\":3},\"mode\":\"lines\",\"showlegend\":false,\"x\":[\"2020-06-29T00:00:00\",\"2020-06-29T00:00:00\"],\"y\":[\"predicted\",\"predicted\"],\"type\":\"scatter\"},{\"line\":{\"color\":\"#ee472f\",\"dash\":\"solid\",\"width\":3},\"mode\":\"lines\",\"showlegend\":false,\"x\":[\"2020-08-17T00:00:00\",\"2020-08-17T00:00:00\"],\"y\":[\"predicted\",\"predicted\"],\"type\":\"scatter\"},{\"line\":{\"color\":\"#ee472f\",\"dash\":\"solid\",\"width\":3},\"mode\":\"lines\",\"showlegend\":false,\"x\":[\"2020-10-19T00:00:00\",\"2020-10-19T00:00:00\"],\"y\":[\"predicted\",\"predicted\"],\"type\":\"scatter\"}],                        {\"template\":{\"data\":{\"histogram2dcontour\":[{\"type\":\"histogram2dcontour\",\"colorbar\":{\"outlinewidth\":0,\"ticks\":\"\"},\"colorscale\":[[0.0,\"#0d0887\"],[0.1111111111111111,\"#46039f\"],[0.2222222222222222,\"#7201a8\"],[0.3333333333333333,\"#9c179e\"],[0.4444444444444444,\"#bd3786\"],[0.5555555555555556,\"#d8576b\"],[0.6666666666666666,\"#ed7953\"],[0.7777777777777778,\"#fb9f3a\"],[0.8888888888888888,\"#fdca26\"],[1.0,\"#f0f921\"]]}],\"choropleth\":[{\"type\":\"choropleth\",\"colorbar\":{\"outlinewidth\":0,\"ticks\":\"\"}}],\"histogram2d\":[{\"type\":\"histogram2d\",\"colorbar\":{\"outlinewidth\":0,\"ticks\":\"\"},\"colorscale\":[[0.0,\"#0d0887\"],[0.1111111111111111,\"#46039f\"],[0.2222222222222222,\"#7201a8\"],[0.3333333333333333,\"#9c179e\"],[0.4444444444444444,\"#bd3786\"],[0.5555555555555556,\"#d8576b\"],[0.6666666666666666,\"#ed7953\"],[0.7777777777777778,\"#fb9f3a\"],[0.8888888888888888,\"#fdca26\"],[1.0,\"#f0f921\"]]}],\"heatmap\":[{\"type\":\"heatmap\",\"colorbar\":{\"outlinewidth\":0,\"ticks\":\"\"},\"colorscale\":[[0.0,\"#0d0887\"],[0.1111111111111111,\"#46039f\"],[0.2222222222222222,\"#7201a8\"],[0.3333333333333333,\"#9c179e\"],[0.4444444444444444,\"#bd3786\"],[0.5555555555555556,\"#d8576b\"],[0.6666666666666666,\"#ed7953\"],[0.7777777777777778,\"#fb9f3a\"],[0.8888888888888888,\"#fdca26\"],[1.0,\"#f0f921\"]]}],\"heatmapgl\":[{\"type\":\"heatmapgl\",\"colorbar\":{\"outlinewidth\":0,\"ticks\":\"\"},\"colorscale\":[[0.0,\"#0d0887\"],[0.1111111111111111,\"#46039f\"],[0.2222222222222222,\"#7201a8\"],[0.3333333333333333,\"#9c179e\"],[0.4444444444444444,\"#bd3786\"],[0.5555555555555556,\"#d8576b\"],[0.6666666666666666,\"#ed7953\"],[0.7777777777777778,\"#fb9f3a\"],[0.8888888888888888,\"#fdca26\"],[1.0,\"#f0f921\"]]}],\"contourcarpet\":[{\"type\":\"contourcarpet\",\"colorbar\":{\"outlinewidth\":0,\"ticks\":\"\"}}],\"contour\":[{\"type\":\"contour\",\"colorbar\":{\"outlinewidth\":0,\"ticks\":\"\"},\"colorscale\":[[0.0,\"#0d0887\"],[0.1111111111111111,\"#46039f\"],[0.2222222222222222,\"#7201a8\"],[0.3333333333333333,\"#9c179e\"],[0.4444444444444444,\"#bd3786\"],[0.5555555555555556,\"#d8576b\"],[0.6666666666666666,\"#ed7953\"],[0.7777777777777778,\"#fb9f3a\"],[0.8888888888888888,\"#fdca26\"],[1.0,\"#f0f921\"]]}],\"surface\":[{\"type\":\"surface\",\"colorbar\":{\"outlinewidth\":0,\"ticks\":\"\"},\"colorscale\":[[0.0,\"#0d0887\"],[0.1111111111111111,\"#46039f\"],[0.2222222222222222,\"#7201a8\"],[0.3333333333333333,\"#9c179e\"],[0.4444444444444444,\"#bd3786\"],[0.5555555555555556,\"#d8576b\"],[0.6666666666666666,\"#ed7953\"],[0.7777777777777778,\"#fb9f3a\"],[0.8888888888888888,\"#fdca26\"],[1.0,\"#f0f921\"]]}],\"mesh3d\":[{\"type\":\"mesh3d\",\"colorbar\":{\"outlinewidth\":0,\"ticks\":\"\"}}],\"scatter\":[{\"fillpattern\":{\"fillmode\":\"overlay\",\"size\":10,\"solidity\":0.2},\"type\":\"scatter\"}],\"parcoords\":[{\"type\":\"parcoords\",\"line\":{\"colorbar\":{\"outlinewidth\":0,\"ticks\":\"\"}}}],\"scatterpolargl\":[{\"type\":\"scatterpolargl\",\"marker\":{\"colorbar\":{\"outlinewidth\":0,\"ticks\":\"\"}}}],\"bar\":[{\"error_x\":{\"color\":\"#2a3f5f\"},\"error_y\":{\"color\":\"#2a3f5f\"},\"marker\":{\"line\":{\"color\":\"#E5ECF6\",\"width\":0.5},\"pattern\":{\"fillmode\":\"overlay\",\"size\":10,\"solidity\":0.2}},\"type\":\"bar\"}],\"scattergeo\":[{\"type\":\"scattergeo\",\"marker\":{\"colorbar\":{\"outlinewidth\":0,\"ticks\":\"\"}}}],\"scatterpolar\":[{\"type\":\"scatterpolar\",\"marker\":{\"colorbar\":{\"outlinewidth\":0,\"ticks\":\"\"}}}],\"histogram\":[{\"marker\":{\"pattern\":{\"fillmode\":\"overlay\",\"size\":10,\"solidity\":0.2}},\"type\":\"histogram\"}],\"scattergl\":[{\"type\":\"scattergl\",\"marker\":{\"colorbar\":{\"outlinewidth\":0,\"ticks\":\"\"}}}],\"scatter3d\":[{\"type\":\"scatter3d\",\"line\":{\"colorbar\":{\"outlinewidth\":0,\"ticks\":\"\"}},\"marker\":{\"colorbar\":{\"outlinewidth\":0,\"ticks\":\"\"}}}],\"scattermapbox\":[{\"type\":\"scattermapbox\",\"marker\":{\"colorbar\":{\"outlinewidth\":0,\"ticks\":\"\"}}}],\"scatterternary\":[{\"type\":\"scatterternary\",\"marker\":{\"colorbar\":{\"outlinewidth\":0,\"ticks\":\"\"}}}],\"scattercarpet\":[{\"type\":\"scattercarpet\",\"marker\":{\"colorbar\":{\"outlinewidth\":0,\"ticks\":\"\"}}}],\"carpet\":[{\"aaxis\":{\"endlinecolor\":\"#2a3f5f\",\"gridcolor\":\"white\",\"linecolor\":\"white\",\"minorgridcolor\":\"white\",\"startlinecolor\":\"#2a3f5f\"},\"baxis\":{\"endlinecolor\":\"#2a3f5f\",\"gridcolor\":\"white\",\"linecolor\":\"white\",\"minorgridcolor\":\"white\",\"startlinecolor\":\"#2a3f5f\"},\"type\":\"carpet\"}],\"table\":[{\"cells\":{\"fill\":{\"color\":\"#EBF0F8\"},\"line\":{\"color\":\"white\"}},\"header\":{\"fill\":{\"color\":\"#C8D4E3\"},\"line\":{\"color\":\"white\"}},\"type\":\"table\"}],\"barpolar\":[{\"marker\":{\"line\":{\"color\":\"#E5ECF6\",\"width\":0.5},\"pattern\":{\"fillmode\":\"overlay\",\"size\":10,\"solidity\":0.2}},\"type\":\"barpolar\"}],\"pie\":[{\"automargin\":true,\"type\":\"pie\"}]},\"layout\":{\"autotypenumbers\":\"strict\",\"colorway\":[\"#636efa\",\"#EF553B\",\"#00cc96\",\"#ab63fa\",\"#FFA15A\",\"#19d3f3\",\"#FF6692\",\"#B6E880\",\"#FF97FF\",\"#FECB52\"],\"font\":{\"color\":\"#2a3f5f\"},\"hovermode\":\"closest\",\"hoverlabel\":{\"align\":\"left\"},\"paper_bgcolor\":\"white\",\"plot_bgcolor\":\"#E5ECF6\",\"polar\":{\"bgcolor\":\"#E5ECF6\",\"angularaxis\":{\"gridcolor\":\"white\",\"linecolor\":\"white\",\"ticks\":\"\"},\"radialaxis\":{\"gridcolor\":\"white\",\"linecolor\":\"white\",\"ticks\":\"\"}},\"ternary\":{\"bgcolor\":\"#E5ECF6\",\"aaxis\":{\"gridcolor\":\"white\",\"linecolor\":\"white\",\"ticks\":\"\"},\"baxis\":{\"gridcolor\":\"white\",\"linecolor\":\"white\",\"ticks\":\"\"},\"caxis\":{\"gridcolor\":\"white\",\"linecolor\":\"white\",\"ticks\":\"\"}},\"coloraxis\":{\"colorbar\":{\"outlinewidth\":0,\"ticks\":\"\"}},\"colorscale\":{\"sequential\":[[0.0,\"#0d0887\"],[0.1111111111111111,\"#46039f\"],[0.2222222222222222,\"#7201a8\"],[0.3333333333333333,\"#9c179e\"],[0.4444444444444444,\"#bd3786\"],[0.5555555555555556,\"#d8576b\"],[0.6666666666666666,\"#ed7953\"],[0.7777777777777778,\"#fb9f3a\"],[0.8888888888888888,\"#fdca26\"],[1.0,\"#f0f921\"]],\"sequentialminus\":[[0.0,\"#0d0887\"],[0.1111111111111111,\"#46039f\"],[0.2222222222222222,\"#7201a8\"],[0.3333333333333333,\"#9c179e\"],[0.4444444444444444,\"#bd3786\"],[0.5555555555555556,\"#d8576b\"],[0.6666666666666666,\"#ed7953\"],[0.7777777777777778,\"#fb9f3a\"],[0.8888888888888888,\"#fdca26\"],[1.0,\"#f0f921\"]],\"diverging\":[[0,\"#8e0152\"],[0.1,\"#c51b7d\"],[0.2,\"#de77ae\"],[0.3,\"#f1b6da\"],[0.4,\"#fde0ef\"],[0.5,\"#f7f7f7\"],[0.6,\"#e6f5d0\"],[0.7,\"#b8e186\"],[0.8,\"#7fbc41\"],[0.9,\"#4d9221\"],[1,\"#276419\"]]},\"xaxis\":{\"gridcolor\":\"white\",\"linecolor\":\"white\",\"ticks\":\"\",\"title\":{\"standoff\":15},\"zerolinecolor\":\"white\",\"automargin\":true,\"zerolinewidth\":2},\"yaxis\":{\"gridcolor\":\"white\",\"linecolor\":\"white\",\"ticks\":\"\",\"title\":{\"standoff\":15},\"zerolinecolor\":\"white\",\"automargin\":true,\"zerolinewidth\":2},\"scene\":{\"xaxis\":{\"backgroundcolor\":\"#E5ECF6\",\"gridcolor\":\"white\",\"linecolor\":\"white\",\"showbackground\":true,\"ticks\":\"\",\"zerolinecolor\":\"white\",\"gridwidth\":2},\"yaxis\":{\"backgroundcolor\":\"#E5ECF6\",\"gridcolor\":\"white\",\"linecolor\":\"white\",\"showbackground\":true,\"ticks\":\"\",\"zerolinecolor\":\"white\",\"gridwidth\":2},\"zaxis\":{\"backgroundcolor\":\"#E5ECF6\",\"gridcolor\":\"white\",\"linecolor\":\"white\",\"showbackground\":true,\"ticks\":\"\",\"zerolinecolor\":\"white\",\"gridwidth\":2}},\"shapedefaults\":{\"line\":{\"color\":\"#2a3f5f\"}},\"annotationdefaults\":{\"arrowcolor\":\"#2a3f5f\",\"arrowhead\":0,\"arrowwidth\":1},\"geo\":{\"bgcolor\":\"white\",\"landcolor\":\"#E5ECF6\",\"subunitcolor\":\"white\",\"showland\":true,\"showlakes\":true,\"lakecolor\":\"white\"},\"title\":{\"x\":0.05},\"mapbox\":{\"style\":\"light\"}}},\"xaxis\":{\"anchor\":\"y\",\"domain\":[0.0,1.0],\"title\":{\"text\":\"Date\"}},\"yaxis\":{\"anchor\":\"x\",\"domain\":[0.0,1.0],\"title\":{\"text\":\"Category\"},\"categoryorder\":\"array\",\"categoryarray\":[\"predicted\",\"actual\"]},\"legend\":{\"title\":{\"text\":\"category\"},\"tracegroupgap\":0,\"itemsizing\":\"constant\"},\"margin\":{\"t\":60},\"title\":{\"text\":\"Dengue Outbreak Periods for Zamboanga City\"}},                        {\"responsive\": true}                    ).then(function(){\n",
       "                            \n",
       "var gd = document.getElementById('c8a1def0-947c-4669-b69e-30513bec0c86');\n",
       "var x = new MutationObserver(function (mutations, observer) {{\n",
       "        var display = window.getComputedStyle(gd).display;\n",
       "        if (!display || display === 'none') {{\n",
       "            console.log([gd, 'removed!']);\n",
       "            Plotly.purge(gd);\n",
       "            observer.disconnect();\n",
       "        }}\n",
       "}});\n",
       "\n",
       "// Listen for the removal of the full notebook cells\n",
       "var notebookContainer = gd.closest('#notebook-container');\n",
       "if (notebookContainer) {{\n",
       "    x.observe(notebookContainer, {childList: true});\n",
       "}}\n",
       "\n",
       "// Listen for the clearing of the current output cell\n",
       "var outputEl = gd.closest('.output');\n",
       "if (outputEl) {{\n",
       "    x.observe(outputEl, {childList: true});\n",
       "}}\n",
       "\n",
       "                        })                };                });            </script>        </div>"
      ]
     },
     "metadata": {},
     "output_type": "display_data"
    }
   ],
   "source": [
    "# Set custom colors\n",
    "class_colors = {\"predicted\": \"#ee472f\", \"actual\": \"#53bed0\"}\n",
    "\n",
    "# Plot start and end outbreak points\n",
    "fig = px.scatter(\n",
    "    outbreak_lengths_results,\n",
    "    x=[\"start_date\", \"end_date\"],\n",
    "    y=\"category\",\n",
    "    color=\"category\",\n",
    "    size=\"actual_length_weeks\",\n",
    "    labels={\"x\": \"Date\"},\n",
    "    category_orders={\"category\": [\"actual\", \"predicted\"]},\n",
    "    color_discrete_map=class_colors,\n",
    ")\n",
    "\n",
    "for i, row in outbreak_lengths_results.iterrows():\n",
    "    fig.add_trace(\n",
    "        go.Scatter(\n",
    "            mode=\"lines\",\n",
    "            # layer=\"below\",\n",
    "            line=dict(\n",
    "                color=class_colors[row[\"category\"]],\n",
    "                width=3,\n",
    "                dash=\"solid\",\n",
    "            ),\n",
    "            # connect the two markers\n",
    "            x=[row[\"start_date\"], row[\"end_date\"]],\n",
    "            y=[row[\"category\"], row[\"category\"]],\n",
    "            showlegend=False,\n",
    "        )\n",
    "    )\n",
    "\n",
    "# Update layout with title and axis titles\n",
    "fig.update_layout(\n",
    "    title=\"Dengue Outbreak Periods for Zamboanga City\",\n",
    "    xaxis_title=\"Date\",\n",
    "    yaxis_title=\"Category\",\n",
    ")\n",
    "fig.show()"
   ]
  },
  {
   "cell_type": "markdown",
   "metadata": {},
   "source": [
    "The actual outbreak periods are only 4 in total, however, the predicted outbreak periods are 13. Many of which look to be one week outbreak periods only. \n",
    "\n",
    "The outbreak periods predicted in 2019 coincides with the actual outbreak periods by only being off by a week or two. The one week outbreaks during 2019 also occur near the actual date of the outbreak. Meanwhile, for 2020 there should have been no outbreaks for that year, however, sparse 1-2 week outbreak periods were predicted. It is possible that training on the year 2019 where the dengue cases peaked the most could have influenced the model into continuously predicting outbreaks for 2020 in single weeks that have a high number of cases."
   ]
  },
  {
   "cell_type": "markdown",
   "metadata": {},
   "source": [
    "### 2. Visualize actual Number of Cases with Predicted label"
   ]
  },
  {
   "cell_type": "markdown",
   "metadata": {},
   "source": [
    "Let's take a look now at the actual number of cases for the test set and what was the predicted outbreak label for them are."
   ]
  },
  {
   "cell_type": "code",
   "execution_count": 185,
   "metadata": {},
   "outputs": [
    {
     "data": {
      "image/png": "[encoded data removed]",
      "text/plain": [
       "<Figure size 1600x600 with 1 Axes>"
      ]
     },
     "metadata": {},
     "output_type": "display_data"
    }
   ],
   "source": [
    "fig, ax = plt.subplots(figsize=(16, 6))\n",
    "\n",
    "# Define colors for each class\n",
    "class_colors = {0: \"#53bed0\", 1: \"#ee472f\"}\n",
    "\n",
    "# Plot the bar plot\n",
    "ax.bar(\n",
    "    analyze_df[\"Date\"],\n",
    "    analyze_df[\"Cases\"],\n",
    "    alpha=0.5,\n",
    "    label=\"Bar Plot\",\n",
    "    width=8,\n",
    "    color=[class_colors[c] for c in analyze_df[\"predicted_class\"]],\n",
    ")\n",
    "\n",
    "# Rotate x-axis labels\n",
    "plt.xticks(rotation=30)\n",
    "\n",
    "# Create legend handles and labels for bar plot\n",
    "legend_handles = [\n",
    "    plt.Rectangle((0, 0), 1, 1, color=color) for color in class_colors.values()\n",
    "]\n",
    "legend_labels = list(class_colors.keys())\n",
    "\n",
    "# Add legend for bar plot\n",
    "ax.legend(legend_handles, legend_labels, fontsize=\"large\", title=\"Predicted Outbreak\")\n",
    "# Add title and axis labels\n",
    "ax.set_title(\"Dengue Outbreak Periods for Brgy. Tetuan in Zamboanga\")\n",
    "ax.set_xlabel(\"Date\")\n",
    "ax.set_ylabel(\"Number of Cases\")\n",
    "plt.show()"
   ]
  },
  {
   "cell_type": "markdown",
   "metadata": {},
   "source": [
    "The model was able to determine outbreaks for the weeks in 2019 and 2020 with the highest number of cases for those years. For the rest of 2020, the number of cases are consistently low, however, for the weeks that seem to have a slight increase were labeled as an outbreak. \n",
    "\n",
    "To understand this more, let's try to plot the probabilities along with the number of cases through a time series plot. "
   ]
  },
  {
   "cell_type": "code",
   "execution_count": 186,
   "metadata": {},
   "outputs": [
    {
     "data": {
      "image/png": "[encoded data removed]",
      "text/plain": [
       "<Figure size 1000x600 with 1 Axes>"
      ]
     },
     "metadata": {},
     "output_type": "display_data"
    }
   ],
   "source": [
    "plt.figure(figsize=(10, 6))\n",
    "\n",
    "# Plotting the line plot for actual cases with a different color\n",
    "plt.plot(\n",
    "    analyze_df[\"Date\"],\n",
    "    analyze_df[\"Cases\"],\n",
    "    color=\"#ff5733\",  # Reddish color for better visibility\n",
    "    label=\"Actual Cases\",\n",
    ")\n",
    "\n",
    "# Define your own gradient color\n",
    "gradient_color = \"#53bed0\"  # Blueish color for the gradient\n",
    "\n",
    "# Define the number of points for the gradient\n",
    "num_points = len(analyze_df)\n",
    "\n",
    "# Create a custom colormap with the gradient color\n",
    "colors = [(0, gradient_color), (1, gradient_color)]\n",
    "cmap = LinearSegmentedColormap.from_list(\"custom_gradient\", colors)\n",
    "\n",
    "# Creating a background gradient for predicted probabilities\n",
    "for i in range(len(analyze_df) - 1):\n",
    "    start_date = analyze_df[\"Date\"].iloc[i]\n",
    "    end_date = analyze_df[\"Date\"].iloc[i + 1]\n",
    "    alpha = analyze_df[\"predicted_proba_outbreak\"].iloc[\n",
    "        i\n",
    "    ]  # Use predicted probability as alpha\n",
    "    plt.fill_between(\n",
    "        analyze_df[\"Date\"],  # x-values (dates)\n",
    "        analyze_df[\"Cases\"].min(),  # Bottom y-value (minimum of actual cases)\n",
    "        analyze_df[\"Cases\"].max(),  # Top y-value (maximum of actual cases)\n",
    "        where=(\n",
    "            (analyze_df[\"Date\"] >= start_date) & (analyze_df[\"Date\"] <= end_date)\n",
    "        ),  # Condition for filling the area\n",
    "        color=cmap(i / num_points),  # Use colormap to set gradient color\n",
    "        alpha=alpha,  # Set alpha based on predicted probability\n",
    "        label=\"Predicted Probabilities\"\n",
    "        if i == 0\n",
    "        else None,  # Include legend only for the first fill_between\n",
    "    )\n",
    "\n",
    "# Add legend for the line plot and the gradient\n",
    "plt.legend()\n",
    "\n",
    "# Setting labels and title\n",
    "plt.xlabel(\"Time\")\n",
    "plt.ylabel(\"Cases\")\n",
    "plt.title(\"Actual Cases with Predicted Probabilities\")\n",
    "\n",
    "# Displaying the plot\n",
    "plt.grid(True)\n",
    "plt.tight_layout()\n",
    "plt.show()"
   ]
  },
  {
   "cell_type": "markdown",
   "metadata": {},
   "source": [
    "In this plot, the line plot represents the number of cases over time and the gradient in the background represents the predicted probablity of an outbreak for that week. The darker the color the more likely it is to be classified as an outbreak.\n",
    "\n",
    "Weeks with sudden spikes are able to identified by the model, howeever, these are not exact. For sudden spikes, the model seems to consider the weeks after to be the outbreak.\n",
    "\n"
   ]
  }
 ],
 "metadata": {
  "kernelspec": {
   "display_name": "lacuna-fund",
   "language": "python",
   "name": "python3"
  },
  "language_info": {
   "codemirror_mode": {
    "name": "ipython",
    "version": 3
   },
   "file_extension": ".py",
   "mimetype": "text/x-python",
   "name": "python",
   "nbconvert_exporter": "python",
   "pygments_lexer": "ipython3",
   "version": "3.9.18"
  },
  "orig_nbformat": 4
 },
 "nbformat": 4,
 "nbformat_minor": 2
}
