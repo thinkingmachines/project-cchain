{
 "cells": [
  {
   "cell_type": "code",
   "execution_count": null,
   "metadata": {},
   "outputs": [],
   "source": [
    "import pandas as pd\n",
    "import geopandas as gpd\n",
    "import tqdm\n",
    "from google.cloud import bigquery\n",
    "from shapely import wkt\n",
    "from pathlib import Path"
   ]
  },
  {
   "cell_type": "code",
   "execution_count": null,
   "metadata": {},
   "outputs": [],
   "source": [
    "PROJECT_ID = \"tm-geodata-warehouse\"\n",
    "DATA_DIR = Path(\"../../data/01-admin-bounds/\")"
   ]
  },
  {
   "attachments": {},
   "cell_type": "markdown",
   "metadata": {},
   "source": [
    "## GCP Authentication\n",
    "If necessary, authenticate GCP using this command `gcloud auth login --update-adc`"
   ]
  },
  {
   "cell_type": "code",
   "execution_count": null,
   "metadata": {},
   "outputs": [],
   "source": [
    "bq_client = bigquery.Client(project=PROJECT_ID)"
   ]
  },
  {
   "attachments": {},
   "cell_type": "markdown",
   "metadata": {},
   "source": [
    "## Extract target areas' admin boundaries"
   ]
  },
  {
   "cell_type": "code",
   "execution_count": null,
   "metadata": {},
   "outputs": [],
   "source": [
    "%%time\n",
    "query = \"\"\"\n",
    "SELECT ADM1_EN,\n",
    "       ADM1_PCODE,\n",
    "       ADM2_EN,\n",
    "       ADM2_PCODE,\n",
    "       ADM3_EN,\n",
    "       ADM3_PCODE,\n",
    "       ADM4_EN,\n",
    "       ADM4_PCODE,\n",
    "       ST_GEOGFROMTEXT(geometry) AS geometry\n",
    "FROM  tm-geodata-warehouse.ph_admin_boundary_dec2017.level4_barangay \n",
    "WHERE ADM3_EN = 'City of Navotas' OR \n",
    "      ADM3_EN = 'City of Mandaluyong' OR\n",
    "      ADM3_EN = 'City of Muntinlupa' OR \n",
    "      ADM3_EN = 'Dagupan City' OR\n",
    "      ADM3_EN = 'Palayan City' OR\n",
    "      ADM3_EN = 'Legazpi City' OR\n",
    "      ADM3_EN = 'Iloilo City' OR\n",
    "      ADM3_EN = 'Mandaue City' OR\n",
    "      ADM3_EN = 'Tacloban City' OR\n",
    "      ADM3_EN = 'Zamboanga City' OR\n",
    "      ADM3_EN = 'Cagayan de Oro City' OR\n",
    "      ADM3_EN = 'Davao City'\n",
    "\"\"\"\n",
    "admin_bound_targets = pd.read_gbq(query, PROJECT_ID, progress_bar_type=\"tqdm\")\n",
    "admin_bound_targets.head()"
   ]
  },
  {
   "cell_type": "code",
   "execution_count": null,
   "metadata": {},
   "outputs": [],
   "source": [
    "admin_bound_targets[\"ADM3_EN\"].unique()"
   ]
  },
  {
   "cell_type": "code",
   "execution_count": null,
   "metadata": {},
   "outputs": [],
   "source": [
    "admin_bound_targets.groupby(\"ADM3_EN\")[\"ADM4_EN\"].count()"
   ]
  },
  {
   "cell_type": "code",
   "execution_count": null,
   "metadata": {},
   "outputs": [],
   "source": [
    "admin_bound_targets[\"geometry\"] = admin_bound_targets[\"geometry\"].apply(wkt.loads)\n",
    "gdf = gpd.GeoDataFrame(admin_bound_targets, crs=\"epsg:4326\")"
   ]
  },
  {
   "cell_type": "code",
   "execution_count": null,
   "metadata": {},
   "outputs": [],
   "source": [
    "gdf.to_file(DATA_DIR / \"target_admin_bounds.shp\")"
   ]
  },
  {
   "cell_type": "code",
   "execution_count": null,
   "metadata": {},
   "outputs": [],
   "source": [
    "admin_bounds_gdf = gpd.read_file(DATA_DIR / \"target_admin_bounds.shp\")\n",
    "admin_bounds_gdf = admin_bounds_gdf.rename(\n",
    "    columns={\n",
    "        \"ADM1_EN\": \"region_name\",\n",
    "        \"ADM1_PCODE\": \"region_code\",\n",
    "        \"ADM2_EN\": \"province_name\",\n",
    "        \"ADM2_PCODE\": \"province_code\",\n",
    "        \"ADM3_EN\": \"city_name\",\n",
    "        \"ADM3_PCODE\": \"city_code\",\n",
    "        \"ADM4_EN\": \"barangay_name\",\n",
    "        \"ADM4_PCODE\": \"barangay_psgc_code\",\n",
    "    }\n",
    ")"
   ]
  },
  {
   "cell_type": "code",
   "execution_count": null,
   "metadata": {},
   "outputs": [],
   "source": [
    "admin_bounds_gdf.to_file(DATA_DIR / \"renamed_target_admin_bounds.gpkg\", driver=\"GPKG\")"
   ]
  }
 ],
 "metadata": {
  "kernelspec": {
   "display_name": "lacuna-fund",
   "language": "python",
   "name": "python3"
  },
  "language_info": {
   "codemirror_mode": {
    "name": "ipython",
    "version": 3
   },
   "file_extension": ".py",
   "mimetype": "text/x-python",
   "name": "python",
   "nbconvert_exporter": "python",
   "pygments_lexer": "ipython3",
   "version": "3.9.18"
  },
  "orig_nbformat": 4
 },
 "nbformat": 4,
 "nbformat_minor": 2
}
