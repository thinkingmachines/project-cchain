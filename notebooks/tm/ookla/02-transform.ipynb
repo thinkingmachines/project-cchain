{
 "cells": [
  {
   "cell_type": "code",
   "execution_count": 30,
   "metadata": {},
   "outputs": [],
   "source": [
    "%reload_ext autoreload\n",
    "%autoreload 2"
   ]
  },
  {
   "cell_type": "code",
   "execution_count": 31,
   "metadata": {},
   "outputs": [],
   "source": [
    "from pathlib import Path\n",
    "\n",
    "# custom module\n",
    "import sys\n",
    "\n",
    "sys.path.append(\"../../../\")  # include parent directory\n",
    "from src.ookla import *"
   ]
  },
  {
   "cell_type": "code",
   "execution_count": 32,
   "metadata": {},
   "outputs": [],
   "source": [
    "ADMIN_FPATH = Path(\"../../../data/01-admin-bounds/\")\n",
    "OUTPUT_DIR = Path(\"../../../data/04-output/ookla/\")\n",
    "RAW_DIR = Path(\"../../../data/02-raw/\")\n",
    "OOKLA_DIR = Path(\"../../../data/02-raw/ookla/\")\n",
    "\n",
    "OOKLA_YEARS = [\"2022\", \"2021\", \"2020\", \"2019\"]"
   ]
  },
  {
   "attachments": {},
   "cell_type": "markdown",
   "metadata": {},
   "source": [
    "### Load AOI"
   ]
  },
  {
   "cell_type": "code",
   "execution_count": 33,
   "metadata": {},
   "outputs": [
    {
     "data": {
      "text/html": [
       "<div>\n",
       "<style scoped>\n",
       "    .dataframe tbody tr th:only-of-type {\n",
       "        vertical-align: middle;\n",
       "    }\n",
       "\n",
       "    .dataframe tbody tr th {\n",
       "        vertical-align: top;\n",
       "    }\n",
       "\n",
       "    .dataframe thead th {\n",
       "        text-align: right;\n",
       "    }\n",
       "</style>\n",
       "<table border=\"1\" class=\"dataframe\">\n",
       "  <thead>\n",
       "    <tr style=\"text-align: right;\">\n",
       "      <th></th>\n",
       "      <th>ADM1_EN</th>\n",
       "      <th>ADM1_PCODE</th>\n",
       "      <th>ADM2_EN</th>\n",
       "      <th>ADM2_PCODE</th>\n",
       "      <th>ADM3_EN</th>\n",
       "      <th>ADM3_PCODE</th>\n",
       "      <th>ADM4_EN</th>\n",
       "      <th>ADM4_PCODE</th>\n",
       "      <th>geometry</th>\n",
       "    </tr>\n",
       "  </thead>\n",
       "  <tbody>\n",
       "    <tr>\n",
       "      <th>0</th>\n",
       "      <td>Region I</td>\n",
       "      <td>PH010000000</td>\n",
       "      <td>Pangasinan</td>\n",
       "      <td>PH015500000</td>\n",
       "      <td>Dagupan City</td>\n",
       "      <td>PH015518000</td>\n",
       "      <td>Lomboy</td>\n",
       "      <td>PH015518016</td>\n",
       "      <td>POLYGON ((120.32742 16.05423, 120.32719 16.053...</td>\n",
       "    </tr>\n",
       "    <tr>\n",
       "      <th>1</th>\n",
       "      <td>Region I</td>\n",
       "      <td>PH010000000</td>\n",
       "      <td>Pangasinan</td>\n",
       "      <td>PH015500000</td>\n",
       "      <td>Dagupan City</td>\n",
       "      <td>PH015518000</td>\n",
       "      <td>Tapuac</td>\n",
       "      <td>PH015518031</td>\n",
       "      <td>POLYGON ((120.33380 16.03974, 120.33389 16.039...</td>\n",
       "    </tr>\n",
       "  </tbody>\n",
       "</table>\n",
       "</div>"
      ],
      "text/plain": [
       "    ADM1_EN   ADM1_PCODE     ADM2_EN   ADM2_PCODE       ADM3_EN   ADM3_PCODE  \\\n",
       "0  Region I  PH010000000  Pangasinan  PH015500000  Dagupan City  PH015518000   \n",
       "1  Region I  PH010000000  Pangasinan  PH015500000  Dagupan City  PH015518000   \n",
       "\n",
       "  ADM4_EN   ADM4_PCODE                                           geometry  \n",
       "0  Lomboy  PH015518016  POLYGON ((120.32742 16.05423, 120.32719 16.053...  \n",
       "1  Tapuac  PH015518031  POLYGON ((120.33380 16.03974, 120.33389 16.039...  "
      ]
     },
     "execution_count": 33,
     "metadata": {},
     "output_type": "execute_result"
    }
   ],
   "source": [
    "# Load the administrative boundaries for the 12 cities\n",
    "aoi = gpd.read_file(ADMIN_FPATH / \"target_admin_bounds.shp\")\n",
    "aoi.head(2)"
   ]
  },
  {
   "attachments": {},
   "cell_type": "markdown",
   "metadata": {},
   "source": [
    "# Align Ookla data to AOI\n",
    "\n",
    "`OOKLA_DIR` contains the downloaded raw ookla files from the previous notebook."
   ]
  },
  {
   "cell_type": "code",
   "execution_count": 34,
   "metadata": {},
   "outputs": [],
   "source": [
    "def align_ookla(year=\"2022\"):\n",
    "    ookla_data_manager = OoklaDataManager(cache_dir=RAW_DIR)\n",
    "    ookla_features = add_ookla_features(aoi, \"fixed\", year, ookla_data_manager)\n",
    "    ookla_features_mobile = add_ookla_features(aoi, \"mobile\", year, ookla_data_manager)\n",
    "    drop_cols = [\n",
    "        \"ADM1_EN\",\n",
    "        \"ADM1_PCODE\",\n",
    "        \"ADM2_EN\",\n",
    "        \"ADM2_PCODE\",\n",
    "        \"ADM3_EN\",\n",
    "        \"ADM3_PCODE\",\n",
    "        \"ADM4_EN\",\n",
    "        \"geometry\",\n",
    "    ]\n",
    "    ookla_features = ookla_features.drop(columns=drop_cols)\n",
    "    ookla_features_mobile = ookla_features_mobile.drop(columns=drop_cols)\n",
    "\n",
    "    ookla_df = ookla_features.merge(ookla_features_mobile, on=\"ADM4_PCODE\")\n",
    "    ookla_df.insert(1, \"date\", f\"{year}-10-01\")\n",
    "    ookla_df.insert(1, \"freq\", \"Y\")\n",
    "\n",
    "    ookla_df.to_csv(OUTPUT_DIR / f\"ookla_features_{year}.csv\")\n",
    "    return ookla_df"
   ]
  },
  {
   "cell_type": "code",
   "execution_count": 35,
   "metadata": {},
   "outputs": [
    {
     "name": "stderr",
     "output_type": "stream",
     "text": [
      "2024-02-01 11:57:20.406 | DEBUG    | src.ookla:load_type_year_data:76 - Contents of data cache: []\n",
      "2024-02-01 11:57:20.409 | INFO     | src.ookla:load_type_year_data:91 - Cached data available at ../../../data/02-raw/ookla/processed/afc08259ba9585cdf5ee4494d1e49fbd.csv? True\n",
      "2024-02-01 11:57:20.410 | DEBUG    | src.ookla:load_type_year_data:96 - Processed Ookla data for aoi, fixed 2022 (key: afc08259ba9585cdf5ee4494d1e49fbd) found in filesystem. Loading in cache.\n"
     ]
    },
    {
     "name": "stderr",
     "output_type": "stream",
     "text": [
      "2024-02-01 11:57:21.277 | DEBUG    | src.ookla:load_type_year_data:76 - Contents of data cache: ['afc08259ba9585cdf5ee4494d1e49fbd']\n",
      "2024-02-01 11:57:21.278 | INFO     | src.ookla:load_type_year_data:91 - Cached data available at ../../../data/02-raw/ookla/processed/588422765f080d117cc64adbde2a3582.csv? True\n",
      "2024-02-01 11:57:21.279 | DEBUG    | src.ookla:load_type_year_data:96 - Processed Ookla data for aoi, mobile 2022 (key: 588422765f080d117cc64adbde2a3582) found in filesystem. Loading in cache.\n",
      "2024-02-01 11:57:22.216 | DEBUG    | src.ookla:load_type_year_data:76 - Contents of data cache: []\n",
      "2024-02-01 11:57:22.218 | INFO     | src.ookla:load_type_year_data:91 - Cached data available at ../../../data/02-raw/ookla/processed/b79316ea94d6c1e846ac36e032567763.csv? True\n",
      "2024-02-01 11:57:22.218 | DEBUG    | src.ookla:load_type_year_data:96 - Processed Ookla data for aoi, fixed 2021 (key: b79316ea94d6c1e846ac36e032567763) found in filesystem. Loading in cache.\n",
      "2024-02-01 11:57:23.179 | DEBUG    | src.ookla:load_type_year_data:76 - Contents of data cache: ['b79316ea94d6c1e846ac36e032567763']\n",
      "2024-02-01 11:57:23.180 | INFO     | src.ookla:load_type_year_data:91 - Cached data available at ../../../data/02-raw/ookla/processed/c6f8ff809db0af2fdd6037fc25fbf686.csv? False\n",
      "2024-02-01 11:57:23.181 | DEBUG    | src.ookla:load_type_year_data:108 - No cached data found. Processing Ookla data from scratch.\n",
      "2024-02-01 11:57:23.182 | INFO     | src.ookla:download_ookla_year_data:221 - Ookla Data: Number of available files for mobile and 2021: 4\n",
      "2024-02-01 11:57:23.182 | INFO     | src.ookla:download_ookla_year_data:234 - Ookla Data: Cached data available for mobile and 2021 at ../../../data/02-raw/ookla/mobile/2021? False\n",
      "2024-02-01 11:57:23.183 | INFO     | src.ookla:download_ookla_year_data:240 - Ookla Data: Re-initializing Ookla type/year cache dir at ../../../data/02-raw/ookla/mobile/2021...\n",
      "2024-02-01 11:57:23.184 | INFO     | src.ookla:download_ookla_year_data:249 - Ookla Data: Downloading Ookla parquet file for quarter 1...\n",
      "2024-02-01 11:57:24.244 | INFO     | geowrangler.datasets.utils:urlretrieve:26 - Retrieving https://ookla-open-data.s3.us-west-2.amazonaws.com/parquet/performance/type=mobile/year=2021/quarter=1/2021-01-01_performance_mobile_tiles.parquet into ../../../data/02-raw/ookla/mobile/2021/2021-01-01_performance_mobile_tiles.parquet\n"
     ]
    },
    {
     "data": {
      "text/html": [
       "\n",
       "<style>\n",
       "    /* Turns off some styling */\n",
       "    progress {\n",
       "        /* gets rid of default border in Firefox and Opera. */\n",
       "        border: none;\n",
       "        /* Needs to be in here for Safari polyfill so background images work as expected. */\n",
       "        background-size: auto;\n",
       "    }\n",
       "    progress:not([value]), progress:not([value])::-webkit-progress-bar {\n",
       "        background: repeating-linear-gradient(45deg, #7e7e7e, #7e7e7e 10px, #5c5c5c 10px, #5c5c5c 20px);\n",
       "    }\n",
       "    .progress-bar-interrupted, .progress-bar-interrupted::-webkit-progress-bar {\n",
       "        background: #F44336;\n",
       "    }\n",
       "</style>\n"
      ],
      "text/plain": [
       "<IPython.core.display.HTML object>"
      ]
     },
     "metadata": {},
     "output_type": "display_data"
    },
    {
     "data": {
      "text/html": [
       "\n",
       "    <div>\n",
       "      <progress value='193757184' class='' max='193752123' style='width:300px; height:20px; vertical-align: middle;'></progress>\n",
       "      100.00% [193757184/193752123 01:34&lt;00:00]\n",
       "    </div>\n",
       "    "
      ],
      "text/plain": [
       "<IPython.core.display.HTML object>"
      ]
     },
     "metadata": {},
     "output_type": "display_data"
    },
    {
     "name": "stderr",
     "output_type": "stream",
     "text": [
      "2024-02-01 11:58:58.411 | INFO     | src.ookla:download_ookla_year_data:249 - Ookla Data: Downloading Ookla parquet file for quarter 2...\n",
      "2024-02-01 11:58:59.524 | INFO     | geowrangler.datasets.utils:urlretrieve:26 - Retrieving https://ookla-open-data.s3.us-west-2.amazonaws.com/parquet/performance/type=mobile/year=2021/quarter=2/2021-04-01_performance_mobile_tiles.parquet into ../../../data/02-raw/ookla/mobile/2021/2021-04-01_performance_mobile_tiles.parquet\n"
     ]
    },
    {
     "data": {
      "text/html": [
       "\n",
       "<style>\n",
       "    /* Turns off some styling */\n",
       "    progress {\n",
       "        /* gets rid of default border in Firefox and Opera. */\n",
       "        border: none;\n",
       "        /* Needs to be in here for Safari polyfill so background images work as expected. */\n",
       "        background-size: auto;\n",
       "    }\n",
       "    progress:not([value]), progress:not([value])::-webkit-progress-bar {\n",
       "        background: repeating-linear-gradient(45deg, #7e7e7e, #7e7e7e 10px, #5c5c5c 10px, #5c5c5c 20px);\n",
       "    }\n",
       "    .progress-bar-interrupted, .progress-bar-interrupted::-webkit-progress-bar {\n",
       "        background: #F44336;\n",
       "    }\n",
       "</style>\n"
      ],
      "text/plain": [
       "<IPython.core.display.HTML object>"
      ]
     },
     "metadata": {},
     "output_type": "display_data"
    },
    {
     "data": {
      "text/html": [
       "\n",
       "    <div>\n",
       "      <progress value='197427200' class='' max='197424983' style='width:300px; height:20px; vertical-align: middle;'></progress>\n",
       "      100.00% [197427200/197424983 01:34&lt;00:00]\n",
       "    </div>\n",
       "    "
      ],
      "text/plain": [
       "<IPython.core.display.HTML object>"
      ]
     },
     "metadata": {},
     "output_type": "display_data"
    },
    {
     "name": "stderr",
     "output_type": "stream",
     "text": [
      "2024-02-01 12:00:34.417 | INFO     | src.ookla:download_ookla_year_data:249 - Ookla Data: Downloading Ookla parquet file for quarter 3...\n",
      "2024-02-01 12:00:35.497 | INFO     | geowrangler.datasets.utils:urlretrieve:26 - Retrieving https://ookla-open-data.s3.us-west-2.amazonaws.com/parquet/performance/type=mobile/year=2021/quarter=3/2021-07-01_performance_mobile_tiles.parquet into ../../../data/02-raw/ookla/mobile/2021/2021-07-01_performance_mobile_tiles.parquet\n"
     ]
    },
    {
     "data": {
      "text/html": [
       "\n",
       "<style>\n",
       "    /* Turns off some styling */\n",
       "    progress {\n",
       "        /* gets rid of default border in Firefox and Opera. */\n",
       "        border: none;\n",
       "        /* Needs to be in here for Safari polyfill so background images work as expected. */\n",
       "        background-size: auto;\n",
       "    }\n",
       "    progress:not([value]), progress:not([value])::-webkit-progress-bar {\n",
       "        background: repeating-linear-gradient(45deg, #7e7e7e, #7e7e7e 10px, #5c5c5c 10px, #5c5c5c 20px);\n",
       "    }\n",
       "    .progress-bar-interrupted, .progress-bar-interrupted::-webkit-progress-bar {\n",
       "        background: #F44336;\n",
       "    }\n",
       "</style>\n"
      ],
      "text/plain": [
       "<IPython.core.display.HTML object>"
      ]
     },
     "metadata": {},
     "output_type": "display_data"
    },
    {
     "data": {
      "text/html": [
       "\n",
       "    <div>\n",
       "      <progress value='204447744' class='' max='204447354' style='width:300px; height:20px; vertical-align: middle;'></progress>\n",
       "      100.00% [204447744/204447354 01:28&lt;00:00]\n",
       "    </div>\n",
       "    "
      ],
      "text/plain": [
       "<IPython.core.display.HTML object>"
      ]
     },
     "metadata": {},
     "output_type": "display_data"
    },
    {
     "name": "stderr",
     "output_type": "stream",
     "text": [
      "2024-02-01 12:02:03.825 | INFO     | src.ookla:download_ookla_year_data:249 - Ookla Data: Downloading Ookla parquet file for quarter 4...\n",
      "2024-02-01 12:02:04.857 | INFO     | geowrangler.datasets.utils:urlretrieve:26 - Retrieving https://ookla-open-data.s3.us-west-2.amazonaws.com/parquet/performance/type=mobile/year=2021/quarter=4/2021-10-01_performance_mobile_tiles.parquet into ../../../data/02-raw/ookla/mobile/2021/2021-10-01_performance_mobile_tiles.parquet\n"
     ]
    },
    {
     "data": {
      "text/html": [
       "\n",
       "<style>\n",
       "    /* Turns off some styling */\n",
       "    progress {\n",
       "        /* gets rid of default border in Firefox and Opera. */\n",
       "        border: none;\n",
       "        /* Needs to be in here for Safari polyfill so background images work as expected. */\n",
       "        background-size: auto;\n",
       "    }\n",
       "    progress:not([value]), progress:not([value])::-webkit-progress-bar {\n",
       "        background: repeating-linear-gradient(45deg, #7e7e7e, #7e7e7e 10px, #5c5c5c 10px, #5c5c5c 20px);\n",
       "    }\n",
       "    .progress-bar-interrupted, .progress-bar-interrupted::-webkit-progress-bar {\n",
       "        background: #F44336;\n",
       "    }\n",
       "</style>\n"
      ],
      "text/plain": [
       "<IPython.core.display.HTML object>"
      ]
     },
     "metadata": {},
     "output_type": "display_data"
    },
    {
     "data": {
      "text/html": [
       "\n",
       "    <div>\n",
       "      <progress value='192561152' class='' max='192560112' style='width:300px; height:20px; vertical-align: middle;'></progress>\n",
       "      100.00% [192561152/192560112 01:20&lt;00:00]\n",
       "    </div>\n",
       "    "
      ],
      "text/plain": [
       "<IPython.core.display.HTML object>"
      ]
     },
     "metadata": {},
     "output_type": "display_data"
    },
    {
     "name": "stderr",
     "output_type": "stream",
     "text": [
      "2024-02-01 12:03:24.913 | INFO     | src.ookla:download_ookla_year_data:259 - Ookla Data: Successfully downloaded and cached Ookla data for mobile and 2021 at ../../../data/02-raw/ookla/mobile/2021!\n",
      "2024-02-01 12:03:24.914 | DEBUG    | src.ookla:load_type_year_data:143 - Generating quadkeys based on input aoi geometry to pull intersecting Ookla data.\n",
      "2024-02-01 12:03:56.502 | DEBUG    | src.ookla:load_type_year_data:160 - Ookla data for aoi, mobile 2021 1 being loaded from ../../../data/02-raw/ookla/mobile/2021/2021-01-01_performance_mobile_tiles.parquet\n",
      "2024-02-01 12:04:08.136 | DEBUG    | src.ookla:load_type_year_data:160 - Ookla data for aoi, mobile 2021 2 being loaded from ../../../data/02-raw/ookla/mobile/2021/2021-04-01_performance_mobile_tiles.parquet\n",
      "2024-02-01 12:04:16.904 | DEBUG    | src.ookla:load_type_year_data:160 - Ookla data for aoi, mobile 2021 3 being loaded from ../../../data/02-raw/ookla/mobile/2021/2021-07-01_performance_mobile_tiles.parquet\n",
      "2024-02-01 12:04:22.700 | DEBUG    | src.ookla:load_type_year_data:160 - Ookla data for aoi, mobile 2021 4 being loaded from ../../../data/02-raw/ookla/mobile/2021/2021-10-01_performance_mobile_tiles.parquet\n",
      "2024-02-01 12:04:25.875 | DEBUG    | src.ookla:load_type_year_data:181 - Concatenating quarterly Ookla data for mobile and 2021 into one dataframe\n",
      "2024-02-01 12:04:26.779 | DEBUG    | src.ookla:load_type_year_data:76 - Contents of data cache: []\n",
      "2024-02-01 12:04:26.780 | INFO     | src.ookla:load_type_year_data:91 - Cached data available at ../../../data/02-raw/ookla/processed/8f328863105acedf6f13c09d17ddb35d.csv? True\n",
      "2024-02-01 12:04:26.780 | DEBUG    | src.ookla:load_type_year_data:96 - Processed Ookla data for aoi, fixed 2020 (key: 8f328863105acedf6f13c09d17ddb35d) found in filesystem. Loading in cache.\n",
      "2024-02-01 12:04:27.564 | DEBUG    | src.ookla:load_type_year_data:76 - Contents of data cache: ['8f328863105acedf6f13c09d17ddb35d']\n",
      "2024-02-01 12:04:27.565 | INFO     | src.ookla:load_type_year_data:91 - Cached data available at ../../../data/02-raw/ookla/processed/eafbadc9db3341eb55b3747b3f29123c.csv? False\n",
      "2024-02-01 12:04:27.566 | DEBUG    | src.ookla:load_type_year_data:108 - No cached data found. Processing Ookla data from scratch.\n",
      "2024-02-01 12:04:27.566 | INFO     | src.ookla:download_ookla_year_data:221 - Ookla Data: Number of available files for mobile and 2020: 4\n",
      "2024-02-01 12:04:27.567 | INFO     | src.ookla:download_ookla_year_data:234 - Ookla Data: Cached data available for mobile and 2020 at ../../../data/02-raw/ookla/mobile/2020? False\n",
      "2024-02-01 12:04:27.567 | INFO     | src.ookla:download_ookla_year_data:240 - Ookla Data: Re-initializing Ookla type/year cache dir at ../../../data/02-raw/ookla/mobile/2020...\n",
      "2024-02-01 12:04:27.568 | INFO     | src.ookla:download_ookla_year_data:249 - Ookla Data: Downloading Ookla parquet file for quarter 1...\n",
      "2024-02-01 12:04:28.676 | INFO     | geowrangler.datasets.utils:urlretrieve:26 - Retrieving https://ookla-open-data.s3.us-west-2.amazonaws.com/parquet/performance/type=mobile/year=2020/quarter=1/2020-01-01_performance_mobile_tiles.parquet into ../../../data/02-raw/ookla/mobile/2020/2020-01-01_performance_mobile_tiles.parquet\n"
     ]
    },
    {
     "data": {
      "text/html": [
       "\n",
       "<style>\n",
       "    /* Turns off some styling */\n",
       "    progress {\n",
       "        /* gets rid of default border in Firefox and Opera. */\n",
       "        border: none;\n",
       "        /* Needs to be in here for Safari polyfill so background images work as expected. */\n",
       "        background-size: auto;\n",
       "    }\n",
       "    progress:not([value]), progress:not([value])::-webkit-progress-bar {\n",
       "        background: repeating-linear-gradient(45deg, #7e7e7e, #7e7e7e 10px, #5c5c5c 10px, #5c5c5c 20px);\n",
       "    }\n",
       "    .progress-bar-interrupted, .progress-bar-interrupted::-webkit-progress-bar {\n",
       "        background: #F44336;\n",
       "    }\n",
       "</style>\n"
      ],
      "text/plain": [
       "<IPython.core.display.HTML object>"
      ]
     },
     "metadata": {},
     "output_type": "display_data"
    },
    {
     "data": {
      "text/html": [
       "\n",
       "    <div>\n",
       "      <progress value='180396032' class='' max='180392642' style='width:300px; height:20px; vertical-align: middle;'></progress>\n",
       "      100.00% [180396032/180392642 00:48&lt;00:00]\n",
       "    </div>\n",
       "    "
      ],
      "text/plain": [
       "<IPython.core.display.HTML object>"
      ]
     },
     "metadata": {},
     "output_type": "display_data"
    },
    {
     "name": "stderr",
     "output_type": "stream",
     "text": [
      "2024-02-01 12:05:16.878 | INFO     | src.ookla:download_ookla_year_data:249 - Ookla Data: Downloading Ookla parquet file for quarter 2...\n",
      "2024-02-01 12:05:17.993 | INFO     | geowrangler.datasets.utils:urlretrieve:26 - Retrieving https://ookla-open-data.s3.us-west-2.amazonaws.com/parquet/performance/type=mobile/year=2020/quarter=2/2020-04-01_performance_mobile_tiles.parquet into ../../../data/02-raw/ookla/mobile/2020/2020-04-01_performance_mobile_tiles.parquet\n"
     ]
    },
    {
     "data": {
      "text/html": [
       "\n",
       "<style>\n",
       "    /* Turns off some styling */\n",
       "    progress {\n",
       "        /* gets rid of default border in Firefox and Opera. */\n",
       "        border: none;\n",
       "        /* Needs to be in here for Safari polyfill so background images work as expected. */\n",
       "        background-size: auto;\n",
       "    }\n",
       "    progress:not([value]), progress:not([value])::-webkit-progress-bar {\n",
       "        background: repeating-linear-gradient(45deg, #7e7e7e, #7e7e7e 10px, #5c5c5c 10px, #5c5c5c 20px);\n",
       "    }\n",
       "    .progress-bar-interrupted, .progress-bar-interrupted::-webkit-progress-bar {\n",
       "        background: #F44336;\n",
       "    }\n",
       "</style>\n"
      ],
      "text/plain": [
       "<IPython.core.display.HTML object>"
      ]
     },
     "metadata": {},
     "output_type": "display_data"
    },
    {
     "data": {
      "text/html": [
       "\n",
       "    <div>\n",
       "      <progress value='188710912' class='' max='188709524' style='width:300px; height:20px; vertical-align: middle;'></progress>\n",
       "      100.00% [188710912/188709524 01:13&lt;00:00]\n",
       "    </div>\n",
       "    "
      ],
      "text/plain": [
       "<IPython.core.display.HTML object>"
      ]
     },
     "metadata": {},
     "output_type": "display_data"
    },
    {
     "name": "stderr",
     "output_type": "stream",
     "text": [
      "2024-02-01 12:06:31.992 | INFO     | src.ookla:download_ookla_year_data:249 - Ookla Data: Downloading Ookla parquet file for quarter 3...\n",
      "2024-02-01 12:06:33.197 | INFO     | geowrangler.datasets.utils:urlretrieve:26 - Retrieving https://ookla-open-data.s3.us-west-2.amazonaws.com/parquet/performance/type=mobile/year=2020/quarter=3/2020-07-01_performance_mobile_tiles.parquet into ../../../data/02-raw/ookla/mobile/2020/2020-07-01_performance_mobile_tiles.parquet\n"
     ]
    },
    {
     "data": {
      "text/html": [
       "\n",
       "<style>\n",
       "    /* Turns off some styling */\n",
       "    progress {\n",
       "        /* gets rid of default border in Firefox and Opera. */\n",
       "        border: none;\n",
       "        /* Needs to be in here for Safari polyfill so background images work as expected. */\n",
       "        background-size: auto;\n",
       "    }\n",
       "    progress:not([value]), progress:not([value])::-webkit-progress-bar {\n",
       "        background: repeating-linear-gradient(45deg, #7e7e7e, #7e7e7e 10px, #5c5c5c 10px, #5c5c5c 20px);\n",
       "    }\n",
       "    .progress-bar-interrupted, .progress-bar-interrupted::-webkit-progress-bar {\n",
       "        background: #F44336;\n",
       "    }\n",
       "</style>\n"
      ],
      "text/plain": [
       "<IPython.core.display.HTML object>"
      ]
     },
     "metadata": {},
     "output_type": "display_data"
    },
    {
     "data": {
      "text/html": [
       "\n",
       "    <div>\n",
       "      <progress value='200925184' class='' max='200919773' style='width:300px; height:20px; vertical-align: middle;'></progress>\n",
       "      100.00% [200925184/200919773 01:19&lt;00:00]\n",
       "    </div>\n",
       "    "
      ],
      "text/plain": [
       "<IPython.core.display.HTML object>"
      ]
     },
     "metadata": {},
     "output_type": "display_data"
    },
    {
     "name": "stderr",
     "output_type": "stream",
     "text": [
      "2024-02-01 12:07:52.489 | INFO     | src.ookla:download_ookla_year_data:249 - Ookla Data: Downloading Ookla parquet file for quarter 4...\n",
      "2024-02-01 12:07:53.615 | INFO     | geowrangler.datasets.utils:urlretrieve:26 - Retrieving https://ookla-open-data.s3.us-west-2.amazonaws.com/parquet/performance/type=mobile/year=2020/quarter=4/2020-10-01_performance_mobile_tiles.parquet into ../../../data/02-raw/ookla/mobile/2020/2020-10-01_performance_mobile_tiles.parquet\n"
     ]
    },
    {
     "data": {
      "text/html": [
       "\n",
       "<style>\n",
       "    /* Turns off some styling */\n",
       "    progress {\n",
       "        /* gets rid of default border in Firefox and Opera. */\n",
       "        border: none;\n",
       "        /* Needs to be in here for Safari polyfill so background images work as expected. */\n",
       "        background-size: auto;\n",
       "    }\n",
       "    progress:not([value]), progress:not([value])::-webkit-progress-bar {\n",
       "        background: repeating-linear-gradient(45deg, #7e7e7e, #7e7e7e 10px, #5c5c5c 10px, #5c5c5c 20px);\n",
       "    }\n",
       "    .progress-bar-interrupted, .progress-bar-interrupted::-webkit-progress-bar {\n",
       "        background: #F44336;\n",
       "    }\n",
       "</style>\n"
      ],
      "text/plain": [
       "<IPython.core.display.HTML object>"
      ]
     },
     "metadata": {},
     "output_type": "display_data"
    },
    {
     "data": {
      "text/html": [
       "\n",
       "    <div>\n",
       "      <progress value='194461696' class='' max='194458960' style='width:300px; height:20px; vertical-align: middle;'></progress>\n",
       "      100.00% [194461696/194458960 01:08&lt;00:00]\n",
       "    </div>\n",
       "    "
      ],
      "text/plain": [
       "<IPython.core.display.HTML object>"
      ]
     },
     "metadata": {},
     "output_type": "display_data"
    },
    {
     "name": "stderr",
     "output_type": "stream",
     "text": [
      "2024-02-01 12:09:02.523 | INFO     | src.ookla:download_ookla_year_data:259 - Ookla Data: Successfully downloaded and cached Ookla data for mobile and 2020 at ../../../data/02-raw/ookla/mobile/2020!\n",
      "2024-02-01 12:09:02.524 | DEBUG    | src.ookla:load_type_year_data:143 - Generating quadkeys based on input aoi geometry to pull intersecting Ookla data.\n",
      "2024-02-01 12:09:32.861 | DEBUG    | src.ookla:load_type_year_data:160 - Ookla data for aoi, mobile 2020 1 being loaded from ../../../data/02-raw/ookla/mobile/2020/2020-01-01_performance_mobile_tiles.parquet\n",
      "2024-02-01 12:09:35.883 | DEBUG    | src.ookla:load_type_year_data:160 - Ookla data for aoi, mobile 2020 2 being loaded from ../../../data/02-raw/ookla/mobile/2020/2020-04-01_performance_mobile_tiles.parquet\n",
      "2024-02-01 12:09:38.825 | DEBUG    | src.ookla:load_type_year_data:160 - Ookla data for aoi, mobile 2020 3 being loaded from ../../../data/02-raw/ookla/mobile/2020/2020-07-01_performance_mobile_tiles.parquet\n",
      "2024-02-01 12:09:42.717 | DEBUG    | src.ookla:load_type_year_data:160 - Ookla data for aoi, mobile 2020 4 being loaded from ../../../data/02-raw/ookla/mobile/2020/2020-10-01_performance_mobile_tiles.parquet\n",
      "2024-02-01 12:09:46.412 | DEBUG    | src.ookla:load_type_year_data:181 - Concatenating quarterly Ookla data for mobile and 2020 into one dataframe\n",
      "2024-02-01 12:09:47.276 | DEBUG    | src.ookla:load_type_year_data:76 - Contents of data cache: []\n",
      "2024-02-01 12:09:47.276 | INFO     | src.ookla:load_type_year_data:91 - Cached data available at ../../../data/02-raw/ookla/processed/9da6b592bf1c638b5460b9d95cfbd1f9.csv? True\n",
      "2024-02-01 12:09:47.277 | DEBUG    | src.ookla:load_type_year_data:96 - Processed Ookla data for aoi, fixed 2019 (key: 9da6b592bf1c638b5460b9d95cfbd1f9) found in filesystem. Loading in cache.\n",
      "2024-02-01 12:09:47.964 | DEBUG    | src.ookla:load_type_year_data:76 - Contents of data cache: ['9da6b592bf1c638b5460b9d95cfbd1f9']\n",
      "2024-02-01 12:09:47.965 | INFO     | src.ookla:load_type_year_data:91 - Cached data available at ../../../data/02-raw/ookla/processed/e83bab8b7a6fb80a64ac0e0b3ff0c30b.csv? False\n",
      "2024-02-01 12:09:47.966 | DEBUG    | src.ookla:load_type_year_data:108 - No cached data found. Processing Ookla data from scratch.\n",
      "2024-02-01 12:09:47.967 | INFO     | src.ookla:download_ookla_year_data:221 - Ookla Data: Number of available files for mobile and 2019: 4\n",
      "2024-02-01 12:09:47.968 | INFO     | src.ookla:download_ookla_year_data:234 - Ookla Data: Cached data available for mobile and 2019 at ../../../data/02-raw/ookla/mobile/2019? False\n",
      "2024-02-01 12:09:47.968 | INFO     | src.ookla:download_ookla_year_data:240 - Ookla Data: Re-initializing Ookla type/year cache dir at ../../../data/02-raw/ookla/mobile/2019...\n",
      "2024-02-01 12:09:47.969 | INFO     | src.ookla:download_ookla_year_data:249 - Ookla Data: Downloading Ookla parquet file for quarter 1...\n",
      "2024-02-01 12:09:49.088 | INFO     | geowrangler.datasets.utils:urlretrieve:26 - Retrieving https://ookla-open-data.s3.us-west-2.amazonaws.com/parquet/performance/type=mobile/year=2019/quarter=1/2019-01-01_performance_mobile_tiles.parquet into ../../../data/02-raw/ookla/mobile/2019/2019-01-01_performance_mobile_tiles.parquet\n"
     ]
    },
    {
     "data": {
      "text/html": [
       "\n",
       "<style>\n",
       "    /* Turns off some styling */\n",
       "    progress {\n",
       "        /* gets rid of default border in Firefox and Opera. */\n",
       "        border: none;\n",
       "        /* Needs to be in here for Safari polyfill so background images work as expected. */\n",
       "        background-size: auto;\n",
       "    }\n",
       "    progress:not([value]), progress:not([value])::-webkit-progress-bar {\n",
       "        background: repeating-linear-gradient(45deg, #7e7e7e, #7e7e7e 10px, #5c5c5c 10px, #5c5c5c 20px);\n",
       "    }\n",
       "    .progress-bar-interrupted, .progress-bar-interrupted::-webkit-progress-bar {\n",
       "        background: #F44336;\n",
       "    }\n",
       "</style>\n"
      ],
      "text/plain": [
       "<IPython.core.display.HTML object>"
      ]
     },
     "metadata": {},
     "output_type": "display_data"
    },
    {
     "data": {
      "text/html": [
       "\n",
       "    <div>\n",
       "      <progress value='148619264' class='' max='148611294' style='width:300px; height:20px; vertical-align: middle;'></progress>\n",
       "      100.01% [148619264/148611294 01:14&lt;00:00]\n",
       "    </div>\n",
       "    "
      ],
      "text/plain": [
       "<IPython.core.display.HTML object>"
      ]
     },
     "metadata": {},
     "output_type": "display_data"
    },
    {
     "name": "stderr",
     "output_type": "stream",
     "text": [
      "2024-02-01 12:11:03.980 | INFO     | src.ookla:download_ookla_year_data:249 - Ookla Data: Downloading Ookla parquet file for quarter 2...\n",
      "2024-02-01 12:11:05.122 | INFO     | geowrangler.datasets.utils:urlretrieve:26 - Retrieving https://ookla-open-data.s3.us-west-2.amazonaws.com/parquet/performance/type=mobile/year=2019/quarter=2/2019-04-01_performance_mobile_tiles.parquet into ../../../data/02-raw/ookla/mobile/2019/2019-04-01_performance_mobile_tiles.parquet\n"
     ]
    },
    {
     "data": {
      "text/html": [
       "\n",
       "<style>\n",
       "    /* Turns off some styling */\n",
       "    progress {\n",
       "        /* gets rid of default border in Firefox and Opera. */\n",
       "        border: none;\n",
       "        /* Needs to be in here for Safari polyfill so background images work as expected. */\n",
       "        background-size: auto;\n",
       "    }\n",
       "    progress:not([value]), progress:not([value])::-webkit-progress-bar {\n",
       "        background: repeating-linear-gradient(45deg, #7e7e7e, #7e7e7e 10px, #5c5c5c 10px, #5c5c5c 20px);\n",
       "    }\n",
       "    .progress-bar-interrupted, .progress-bar-interrupted::-webkit-progress-bar {\n",
       "        background: #F44336;\n",
       "    }\n",
       "</style>\n"
      ],
      "text/plain": [
       "<IPython.core.display.HTML object>"
      ]
     },
     "metadata": {},
     "output_type": "display_data"
    },
    {
     "data": {
      "text/html": [
       "\n",
       "    <div>\n",
       "      <progress value='154042368' class='' max='154034407' style='width:300px; height:20px; vertical-align: middle;'></progress>\n",
       "      100.01% [154042368/154034407 01:04&lt;00:00]\n",
       "    </div>\n",
       "    "
      ],
      "text/plain": [
       "<IPython.core.display.HTML object>"
      ]
     },
     "metadata": {},
     "output_type": "display_data"
    },
    {
     "name": "stderr",
     "output_type": "stream",
     "text": [
      "2024-02-01 12:12:09.495 | INFO     | src.ookla:download_ookla_year_data:249 - Ookla Data: Downloading Ookla parquet file for quarter 3...\n",
      "2024-02-01 12:12:10.544 | INFO     | geowrangler.datasets.utils:urlretrieve:26 - Retrieving https://ookla-open-data.s3.us-west-2.amazonaws.com/parquet/performance/type=mobile/year=2019/quarter=3/2019-07-01_performance_mobile_tiles.parquet into ../../../data/02-raw/ookla/mobile/2019/2019-07-01_performance_mobile_tiles.parquet\n"
     ]
    },
    {
     "data": {
      "text/html": [
       "\n",
       "<style>\n",
       "    /* Turns off some styling */\n",
       "    progress {\n",
       "        /* gets rid of default border in Firefox and Opera. */\n",
       "        border: none;\n",
       "        /* Needs to be in here for Safari polyfill so background images work as expected. */\n",
       "        background-size: auto;\n",
       "    }\n",
       "    progress:not([value]), progress:not([value])::-webkit-progress-bar {\n",
       "        background: repeating-linear-gradient(45deg, #7e7e7e, #7e7e7e 10px, #5c5c5c 10px, #5c5c5c 20px);\n",
       "    }\n",
       "    .progress-bar-interrupted, .progress-bar-interrupted::-webkit-progress-bar {\n",
       "        background: #F44336;\n",
       "    }\n",
       "</style>\n"
      ],
      "text/plain": [
       "<IPython.core.display.HTML object>"
      ]
     },
     "metadata": {},
     "output_type": "display_data"
    },
    {
     "data": {
      "text/html": [
       "\n",
       "    <div>\n",
       "      <progress value='184827904' class='' max='184820230' style='width:300px; height:20px; vertical-align: middle;'></progress>\n",
       "      100.00% [184827904/184820230 01:11&lt;00:00]\n",
       "    </div>\n",
       "    "
      ],
      "text/plain": [
       "<IPython.core.display.HTML object>"
      ]
     },
     "metadata": {},
     "output_type": "display_data"
    },
    {
     "name": "stderr",
     "output_type": "stream",
     "text": [
      "2024-02-01 12:13:22.262 | INFO     | src.ookla:download_ookla_year_data:249 - Ookla Data: Downloading Ookla parquet file for quarter 4...\n",
      "2024-02-01 12:13:23.441 | INFO     | geowrangler.datasets.utils:urlretrieve:26 - Retrieving https://ookla-open-data.s3.us-west-2.amazonaws.com/parquet/performance/type=mobile/year=2019/quarter=4/2019-10-01_performance_mobile_tiles.parquet into ../../../data/02-raw/ookla/mobile/2019/2019-10-01_performance_mobile_tiles.parquet\n"
     ]
    },
    {
     "data": {
      "text/html": [
       "\n",
       "<style>\n",
       "    /* Turns off some styling */\n",
       "    progress {\n",
       "        /* gets rid of default border in Firefox and Opera. */\n",
       "        border: none;\n",
       "        /* Needs to be in here for Safari polyfill so background images work as expected. */\n",
       "        background-size: auto;\n",
       "    }\n",
       "    progress:not([value]), progress:not([value])::-webkit-progress-bar {\n",
       "        background: repeating-linear-gradient(45deg, #7e7e7e, #7e7e7e 10px, #5c5c5c 10px, #5c5c5c 20px);\n",
       "    }\n",
       "    .progress-bar-interrupted, .progress-bar-interrupted::-webkit-progress-bar {\n",
       "        background: #F44336;\n",
       "    }\n",
       "</style>\n"
      ],
      "text/plain": [
       "<IPython.core.display.HTML object>"
      ]
     },
     "metadata": {},
     "output_type": "display_data"
    },
    {
     "data": {
      "text/html": [
       "\n",
       "    <div>\n",
       "      <progress value='175341568' class='' max='175335646' style='width:300px; height:20px; vertical-align: middle;'></progress>\n",
       "      100.00% [175341568/175335646 01:31&lt;00:00]\n",
       "    </div>\n",
       "    "
      ],
      "text/plain": [
       "<IPython.core.display.HTML object>"
      ]
     },
     "metadata": {},
     "output_type": "display_data"
    },
    {
     "name": "stderr",
     "output_type": "stream",
     "text": [
      "2024-02-01 12:14:55.395 | INFO     | src.ookla:download_ookla_year_data:259 - Ookla Data: Successfully downloaded and cached Ookla data for mobile and 2019 at ../../../data/02-raw/ookla/mobile/2019!\n",
      "2024-02-01 12:14:55.398 | DEBUG    | src.ookla:load_type_year_data:143 - Generating quadkeys based on input aoi geometry to pull intersecting Ookla data.\n",
      "2024-02-01 12:15:25.908 | DEBUG    | src.ookla:load_type_year_data:160 - Ookla data for aoi, mobile 2019 1 being loaded from ../../../data/02-raw/ookla/mobile/2019/2019-01-01_performance_mobile_tiles.parquet\n",
      "2024-02-01 12:15:28.355 | DEBUG    | src.ookla:load_type_year_data:160 - Ookla data for aoi, mobile 2019 2 being loaded from ../../../data/02-raw/ookla/mobile/2019/2019-04-01_performance_mobile_tiles.parquet\n",
      "2024-02-01 12:15:30.732 | DEBUG    | src.ookla:load_type_year_data:160 - Ookla data for aoi, mobile 2019 3 being loaded from ../../../data/02-raw/ookla/mobile/2019/2019-07-01_performance_mobile_tiles.parquet\n",
      "2024-02-01 12:15:33.729 | DEBUG    | src.ookla:load_type_year_data:160 - Ookla data for aoi, mobile 2019 4 being loaded from ../../../data/02-raw/ookla/mobile/2019/2019-10-01_performance_mobile_tiles.parquet\n",
      "2024-02-01 12:15:36.505 | DEBUG    | src.ookla:load_type_year_data:181 - Concatenating quarterly Ookla data for mobile and 2019 into one dataframe\n"
     ]
    }
   ],
   "source": [
    "for year in OOKLA_YEARS:\n",
    "    align_ookla(year)"
   ]
  },
  {
   "cell_type": "code",
   "execution_count": null,
   "metadata": {},
   "outputs": [],
   "source": []
  }
 ],
 "metadata": {
  "kernelspec": {
   "display_name": "lacuna-fund2",
   "language": "python",
   "name": "python3"
  },
  "language_info": {
   "codemirror_mode": {
    "name": "ipython",
    "version": 3
   },
   "file_extension": ".py",
   "mimetype": "text/x-python",
   "name": "python",
   "nbconvert_exporter": "python",
   "pygments_lexer": "ipython3",
   "version": "3.9.18"
  },
  "orig_nbformat": 4
 },
 "nbformat": 4,
 "nbformat_minor": 2
}
